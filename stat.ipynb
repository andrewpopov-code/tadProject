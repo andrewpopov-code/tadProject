{
 "cells": [
  {
   "cell_type": "code",
   "execution_count": 1,
   "id": "initial_id",
   "metadata": {
    "collapsed": true,
    "ExecuteTime": {
     "end_time": "2024-03-22T10:41:42.159910Z",
     "start_time": "2024-03-22T10:41:41.236105Z"
    }
   },
   "source": [
    "import numpy as np\n",
    "import matplotlib.pyplot as plt"
   ],
   "outputs": []
  },
  {
   "cell_type": "code",
   "execution_count": 2,
   "source": [
    "x = np.array(list(map(float, \"3 3.5 4 5 6 6.5 7 8 8.5 9\".split())))\n",
    "y = np.array(list(map(float, \"9.1 5.5 12.3 9.2 14.2 16.8 22.0 18.3 24.5 22.7\".split())))\n",
    "\n",
    "plt.scatter(x, y)\n",
    "plt.xlabel('Dosage')\n",
    "plt.ylabel('Relief Hours')\n",
    "plt.savefig('task2.png')"
   ],
   "metadata": {
    "collapsed": false,
    "ExecuteTime": {
     "end_time": "2024-03-22T10:42:01.670753Z",
     "start_time": "2024-03-22T10:42:01.205716Z"
    }
   },
   "id": "988ea5de044a7014",
   "outputs": []
  },
  {
   "cell_type": "code",
   "execution_count": 3,
   "source": [
    "np.corrcoef(x, y)"
   ],
   "metadata": {
    "collapsed": false,
    "ExecuteTime": {
     "end_time": "2024-03-22T10:42:47.122408Z",
     "start_time": "2024-03-22T10:42:47.107694Z"
    }
   },
   "id": "14a5e0efad108dda",
   "outputs": []
  },
  {
   "cell_type": "code",
   "execution_count": 5,
   "source": [
    "b1 = ((x*y).sum() - x.size*x.mean()*y.mean()) / ((x*x).sum() - x.size*x.mean()*x.mean())\n",
    "b0 = y.mean() - b1*x.mean()\n",
    "\n",
    "plt.scatter(x, y)\n",
    "plt.plot(x, b0 + b1*x, c='r')\n",
    "plt.xlabel('Dosage')\n",
    "plt.ylabel('Relief Hours')\n",
    "plt.savefig('task22.png')"
   ],
   "metadata": {
    "collapsed": false,
    "ExecuteTime": {
     "end_time": "2024-03-22T10:53:45.956407Z",
     "start_time": "2024-03-22T10:53:45.593698Z"
    }
   },
   "id": "456dbb786a41e56c",
   "outputs": []
  },
  {
   "cell_type": "code",
   "execution_count": 6,
   "source": [
    "b0, b1"
   ],
   "metadata": {
    "collapsed": false,
    "ExecuteTime": {
     "end_time": "2024-03-22T10:56:03.640813Z",
     "start_time": "2024-03-22T10:56:03.632356Z"
    }
   },
   "id": "64aca2e727394d06",
   "outputs": []
  },
  {
   "cell_type": "code",
   "execution_count": 7,
   "source": [
    "b0 + 11*b1"
   ],
   "metadata": {
    "collapsed": false,
    "ExecuteTime": {
     "end_time": "2024-03-22T10:58:31.609540Z",
     "start_time": "2024-03-22T10:58:31.597301Z"
    }
   },
   "id": "80069ab9fa120a86",
   "outputs": []
  },
  {
   "cell_type": "code",
   "execution_count": 8,
   "source": [
    "ir = np.array(list(map(float, \"2.8 3.7 4.4 3.6 4.7 3.5 4.1 3.2 4.9 4.2 3.8 3.3\".split())))\n",
    "eg = np.array(list(map(float, \"2.6 2.9 3.3 3.2 3.1 2.8 2.7 2.4 3.5 3.0 3.4 2.5\".split())))\n",
    "\n",
    "rho = np.corrcoef(ir, eg)[0, 1]\n",
    "rho"
   ],
   "metadata": {
    "collapsed": false,
    "ExecuteTime": {
     "end_time": "2024-03-22T11:05:05.841881Z",
     "start_time": "2024-03-22T11:05:05.833235Z"
    }
   },
   "id": "b07bb8992769ddec",
   "outputs": []
  },
  {
   "cell_type": "code",
   "execution_count": 9,
   "source": [
    "rho*np.sqrt((ir.size - 2) / (1 - rho*rho)), ir.size"
   ],
   "metadata": {
    "collapsed": false,
    "ExecuteTime": {
     "end_time": "2024-03-22T11:08:18.334544Z",
     "start_time": "2024-03-22T11:08:18.317119Z"
    }
   },
   "id": "a1b277bcb58d3f47",
   "outputs": []
  },
  {
   "cell_type": "code",
   "execution_count": 11,
   "source": [
    "# P(t > t_10) = 0.00403"
   ],
   "metadata": {
    "collapsed": false,
    "ExecuteTime": {
     "end_time": "2024-03-19T07:35:14.145353Z",
     "start_time": "2024-03-19T07:35:14.137029Z"
    }
   },
   "id": "921befd7aace3d01",
   "outputs": []
  },
  {
   "cell_type": "code",
   "execution_count": 12,
   "source": [
    "rho"
   ],
   "metadata": {
    "collapsed": false,
    "ExecuteTime": {
     "end_time": "2024-03-19T07:35:45.219576Z",
     "start_time": "2024-03-19T07:35:45.213100Z"
    }
   },
   "id": "52d4e81331eb3010",
   "outputs": []
  },
  {
   "cell_type": "code",
   "execution_count": 10,
   "source": [
    "def solve(n, sx, sy, ssx, ssy, sxy):\n",
    "    xbar = sx / n\n",
    "    ybar = sy / n\n",
    "    b1 = (sxy - n*xbar*ybar) / (ssx - n*xbar*xbar)\n",
    "    b0 = ybar - b1*xbar\n",
    "    \n",
    "    ssr = b1*b1*(ssx - 2*sx*sx/n + sx*sx/n/n)\n",
    "    sst = ssy - 2*sy*sy/n + sy*sy/n/n\n",
    "    r2 = ssr/sst\n",
    "    \n",
    "    return b0, b1, r2"
   ],
   "metadata": {
    "collapsed": false,
    "ExecuteTime": {
     "end_time": "2024-03-22T11:19:40.740805Z",
     "start_time": "2024-03-22T11:19:40.735724Z"
    }
   },
   "id": "3bed572588058457",
   "outputs": []
  },
  {
   "cell_type": "code",
   "execution_count": 11,
   "source": [
    "solve(20, sx=0.46, sy=15.77, ssx=15.05, ssy=32.24, sxy=-0.298)"
   ],
   "metadata": {
    "collapsed": false,
    "ExecuteTime": {
     "end_time": "2024-03-22T11:19:56.965695Z",
     "start_time": "2024-03-22T11:19:56.956463Z"
    }
   },
   "id": "2309db96dcb7b20f",
   "outputs": []
  },
  {
   "cell_type": "code",
   "execution_count": 12,
   "source": [
    "solve(20, sy=0.46, sx=15.77, ssy=15.05, ssx=32.24, sxy=-0.298)"
   ],
   "metadata": {
    "collapsed": false,
    "ExecuteTime": {
     "end_time": "2024-03-22T11:21:49.992357Z",
     "start_time": "2024-03-22T11:21:49.984013Z"
    }
   },
   "id": "e237d39ada5b086f",
   "outputs": []
  },
  {
   "cell_type": "code",
   "execution_count": 13,
   "source": [
    "def solve2(ssx, sxy):\n",
    "    return sxy / ssx"
   ],
   "metadata": {
    "collapsed": false,
    "ExecuteTime": {
     "end_time": "2024-03-22T11:25:41.537868Z",
     "start_time": "2024-03-22T11:25:41.529498Z"
    }
   },
   "id": "66d1d790a730b370",
   "outputs": []
  },
  {
   "cell_type": "code",
   "execution_count": 14,
   "source": [
    "solve2(15.05, -0.298), 1 / solve2(32.24, -0.298)"
   ],
   "metadata": {
    "collapsed": false,
    "ExecuteTime": {
     "end_time": "2024-03-22T11:26:09.937828Z",
     "start_time": "2024-03-22T11:26:09.930214Z"
    }
   },
   "id": "8691d1ad31395276",
   "outputs": []
  },
  {
   "cell_type": "code",
   "execution_count": 15,
   "source": [
    "x = np.array(list(map(float, \"55 60 85 75 80 85 65 60\".split())))\n",
    "y = np.array(list(map(float, \"10 12 28 24 18 16 15 12\".split())))\n",
    "\n",
    "b1 = ((x*y).sum() - x.size*x.mean()*y.mean()) / ((x*x).sum() - x.size*x.mean()*x.mean())\n",
    "b0 = y.mean() - b1*x.mean()\n",
    "print(b0, b1)\n",
    "\n",
    "plt.scatter(x, y)\n",
    "plt.plot(x, b0 + b1*x, c='r')\n",
    "plt.xlabel('Test Score')\n",
    "plt.ylabel('Weekly Sales')\n",
    "plt.savefig('task6.png')"
   ],
   "metadata": {
    "collapsed": false,
    "ExecuteTime": {
     "end_time": "2024-03-22T12:08:07.055632Z",
     "start_time": "2024-03-22T12:08:06.739029Z"
    }
   },
   "id": "1bad643bc1ebea82",
   "outputs": []
  },
  {
   "cell_type": "code",
   "execution_count": 16,
   "source": [
    "x.size"
   ],
   "metadata": {
    "collapsed": false,
    "ExecuteTime": {
     "end_time": "2024-03-22T12:16:53.538958Z",
     "start_time": "2024-03-22T12:16:53.531445Z"
    }
   },
   "id": "761fac5ac837702b",
   "outputs": []
  },
  {
   "cell_type": "code",
   "execution_count": 18,
   "source": [
    "MSE = ((y - b0 - b1*x)*(y - b0 - b1*x)).sum() / (x.size - 2)\n",
    "print(b1, '\\pm', 2.44691*np.sqrt(MSE / ((x*x).sum() - x.size*x.mean()*x.mean())))"
   ],
   "metadata": {
    "collapsed": false,
    "ExecuteTime": {
     "end_time": "2024-03-22T12:25:05.491283Z",
     "start_time": "2024-03-22T12:25:05.484319Z"
    }
   },
   "id": "6c4660bd9d42c992",
   "outputs": []
  },
  {
   "cell_type": "code",
   "execution_count": 19,
   "source": [
    "x0 = 70\n",
    "print('80%:', b0 + b1*x0, '\\pm', 1.43976*np.sqrt(MSE * (1 + ((x - x0)*(x - x0)).sum() / x.size / ((x*x).sum() - x.size*x.mean()*x.mean()))))\n",
    "print('90%:', b0 + b1*x0, '\\pm', 1.94318*np.sqrt(MSE * (1 + ((x - x0)*(x - x0)).sum() / x.size / ((x*x).sum() - x.size*x.mean()*x.mean()))))"
   ],
   "metadata": {
    "collapsed": false,
    "ExecuteTime": {
     "end_time": "2024-03-22T12:25:07.188616Z",
     "start_time": "2024-03-22T12:25:07.182101Z"
    }
   },
   "id": "f811f194c932181",
   "outputs": []
  },
  {
   "cell_type": "code",
   "execution_count": 21,
   "source": [
    "n = 25\n",
    "b0 = 15.6\n",
    "b1 = 1.3\n",
    "TSS, SSE = 268, 204\n",
    "r2 = 1 - SSE/TSS\n",
    "r2"
   ],
   "metadata": {
    "collapsed": false,
    "ExecuteTime": {
     "end_time": "2024-03-22T12:57:55.089851Z",
     "start_time": "2024-03-22T12:57:55.082811Z"
    }
   },
   "id": "b196110ae8896508",
   "outputs": []
  },
  {
   "cell_type": "code",
   "execution_count": 22,
   "source": [
    "MSE = SSE / (n - 2)\n",
    "(TSS - SSE) / MSE"
   ],
   "metadata": {
    "collapsed": false,
    "ExecuteTime": {
     "end_time": "2024-03-22T12:57:56.473145Z",
     "start_time": "2024-03-22T12:57:56.465159Z"
    }
   },
   "id": "cb29aa27e30ec848",
   "outputs": []
  },
  {
   "cell_type": "code",
   "execution_count": 26,
   "source": [
    "MSE = SSE / (n - 2)\n",
    "SSxx = (TSS - SSE) / b1 / b1\n",
    "b1 / np.sqrt(MSE / SSxx)"
   ],
   "metadata": {
    "collapsed": false,
    "ExecuteTime": {
     "end_time": "2024-03-19T12:24:42.858623Z",
     "start_time": "2024-03-19T12:24:42.833016Z"
    }
   },
   "id": "6475a30aebe2eb21",
   "outputs": []
  },
  {
   "cell_type": "code",
   "execution_count": 27,
   "source": [
    "print(b1, '\\pm', 2.06866*np.sqrt(MSE / SSxx))"
   ],
   "metadata": {
    "collapsed": false,
    "ExecuteTime": {
     "end_time": "2024-03-19T12:26:10.021613Z",
     "start_time": "2024-03-19T12:26:10.004783Z"
    }
   },
   "id": "550b94eef6772681",
   "outputs": []
  },
  {
   "cell_type": "code",
   "execution_count": 17,
   "source": [
    "import numpy as np"
   ],
   "metadata": {
    "collapsed": false,
    "ExecuteTime": {
     "end_time": "2024-04-23T11:52:35.236086Z",
     "start_time": "2024-04-23T11:52:35.176283Z"
    }
   },
   "id": "4a4f0c61ded2828c",
   "outputs": []
  },
  {
   "cell_type": "code",
   "execution_count": 18,
   "source": [
    "X = np.array([\n",
    "    [10, 15, 18, 15],\n",
    "    [15, 14, 22, 18],\n",
    "    [13, 13, 16, 14]\n",
    "])"
   ],
   "metadata": {
    "collapsed": false,
    "ExecuteTime": {
     "end_time": "2024-04-23T11:52:44.648367Z",
     "start_time": "2024-04-23T11:52:44.603960Z"
    }
   },
   "id": "e7a6a75ebccbfe2c",
   "outputs": []
  },
  {
   "cell_type": "code",
   "execution_count": 19,
   "source": [
    "ssb_col = X.shape[0] * (X.mean(axis=0)*X.mean(axis=0)).sum() - X.size * X.mean()*X.mean()\n",
    "ssb_row = X.shape[1] * (X.mean(axis=1)*X.mean(axis=1)).sum() - X.size * X.mean()*X.mean()\n",
    "sse = (X*X).sum() - X.shape[0]*(X.mean(axis=0)*X.mean(axis=0)).sum() - X.shape[1]*(X.mean(axis=1)*X.mean(axis=1)).sum() + X.size * X.mean()*X.mean()\n",
    "df_row, df_col = X.shape[0] - 1, X.shape[1] - 1\n",
    "df_err = df_col * df_row\n",
    "\n",
    "f_row = df_col * ssb_row / sse\n",
    "f_col = df_row * ssb_col / sse\n",
    "\n",
    "print(f'ssb_col = {ssb_col}', f'ssb_row = {ssb_row}', f'sse = {sse}', f'sst = {ssb_col + ssb_row + sse}')\n",
    "print(f'F_({df_row};{df_err}) = {f_row}')\n",
    "print(f'F_({df_col};{df_err}) = {f_col}')"
   ],
   "metadata": {
    "collapsed": false,
    "ExecuteTime": {
     "end_time": "2024-04-23T11:52:48.262527Z",
     "start_time": "2024-04-23T11:52:48.225301Z"
    }
   },
   "id": "99dfb13b400ff833",
   "outputs": []
  },
  {
   "cell_type": "code",
   "execution_count": 20,
   "source": [
    "mse = sse / df_row / df_col\n",
    "df_err"
   ],
   "metadata": {
    "collapsed": false,
    "ExecuteTime": {
     "end_time": "2024-04-23T12:00:05.838675Z",
     "start_time": "2024-04-23T12:00:05.820676Z"
    }
   },
   "id": "b9c76c821607c041",
   "outputs": []
  },
  {
   "cell_type": "code",
   "execution_count": 21,
   "source": [
    "Xj = X.mean(axis=0)\n",
    "print(f'CI_0.95(\\mu_A - \\mu_B) = {Xj[0] - Xj[1]} \\pm {2.44691 * np.sqrt(2*mse/X.shape[0])}')\n",
    "print(f'CI_0.95(\\mu_A - \\mu_C) = {Xj[0] - Xj[2]} \\pm {2.44691 * np.sqrt(2*mse/X.shape[0])}')\n",
    "print(f'CI_0.95(\\mu_B - \\mu_C) = {Xj[1] - Xj[2]} \\pm {2.44691 * np.sqrt(2*mse/X.shape[0])}')"
   ],
   "metadata": {
    "collapsed": false,
    "ExecuteTime": {
     "end_time": "2024-04-23T12:00:08.024211Z",
     "start_time": "2024-04-23T12:00:08.007543Z"
    }
   },
   "id": "65120cd957ad7423",
   "outputs": []
  },
  {
   "cell_type": "code",
   "execution_count": 28,
   "source": [
    "import numpy as np\n",
    "s = \"\"\"\n",
    "15.2 15.6 14.6 10.5 13.7 10.6 13.9 14.7 13.9 10.6 10.3 10.6 12.1 12.8 14.9 15.2 13.8 14.5 15.0 11.7 10.9 18.4 14.1 14.9 10.2 13.9 11.6 13.9 12.5 11.1 15.1 14.9 15.0 12.6 10.9 13.7 12.9 12.1 14.0 13.5 15.3 13.8 14.9 10.6 15.1 11.6 11.0 14.8 13.8 10.3\n",
    "\"\"\"\n",
    "arr = np.array(list(map(float, s.split())))\n",
    "arr"
   ],
   "metadata": {
    "collapsed": false,
    "ExecuteTime": {
     "end_time": "2024-04-24T06:15:11.700102Z",
     "start_time": "2024-04-24T06:15:11.660713Z"
    }
   },
   "id": "f19c0a0a56b826e5",
   "outputs": []
  },
  {
   "cell_type": "code",
   "execution_count": 35,
   "source": [
    "pd.Series(arr)"
   ],
   "metadata": {
    "collapsed": false,
    "ExecuteTime": {
     "end_time": "2024-04-24T06:22:55.066814Z",
     "start_time": "2024-04-24T06:22:54.978339Z"
    }
   },
   "id": "4fc3da2cc76512a5",
   "outputs": []
  },
  {
   "cell_type": "code",
   "execution_count": 36,
   "source": [
    "import pandas as pd\n",
    "pd.Series(arr).plot.hist()"
   ],
   "metadata": {
    "collapsed": false,
    "ExecuteTime": {
     "end_time": "2024-04-24T06:23:02.703194Z",
     "start_time": "2024-04-24T06:23:02.482707Z"
    }
   },
   "id": "ac94ad34370ffcf0",
   "outputs": []
  },
  {
   "cell_type": "code",
   "execution_count": 33,
   "source": [
    "pd.Series(arr).plot.hist(bins=7)"
   ],
   "metadata": {
    "collapsed": false,
    "ExecuteTime": {
     "end_time": "2024-04-24T06:17:57.100832Z",
     "start_time": "2024-04-24T06:17:56.882046Z"
    }
   },
   "id": "4c7965f30346a90c",
   "outputs": []
  },
  {
   "cell_type": "code",
   "execution_count": 59,
   "source": [
    "import seaborn as sns\n",
    "import matplotlib.ticker as ticker\n",
    "\n",
    "ax = sns.histplot(pd.Series(arr), bins=7)\n",
    "ax.xaxis.set_major_locator(ticker.MultipleLocator(1.2, arr.min()))\n",
    "ax.xaxis.set_major_formatter(ticker.ScalarFormatter())\n",
    "# plt.savefig('task14.png')"
   ],
   "metadata": {
    "collapsed": false,
    "ExecuteTime": {
     "end_time": "2024-04-24T06:42:53.219813Z",
     "start_time": "2024-04-24T06:42:52.974262Z"
    }
   },
   "id": "b849da46da6ff483",
   "outputs": []
  },
  {
   "cell_type": "code",
   "execution_count": 43,
   "source": [
    "pd.Series(arr).describe()"
   ],
   "metadata": {
    "collapsed": false,
    "ExecuteTime": {
     "end_time": "2024-04-24T06:32:29.893954Z",
     "start_time": "2024-04-24T06:32:29.878621Z"
    }
   },
   "id": "1b7450f4113bdd60",
   "outputs": []
  },
  {
   "cell_type": "code",
   "execution_count": 44,
   "source": [
    "np.quantile(arr, 0.25), np.quantile(arr, 0.5), np.quantile(arr, 0.75)"
   ],
   "metadata": {
    "collapsed": false,
    "ExecuteTime": {
     "end_time": "2024-04-24T06:35:25.764523Z",
     "start_time": "2024-04-24T06:35:25.714011Z"
    }
   },
   "id": "6ea05f9d7f831e0",
   "outputs": []
  },
  {
   "cell_type": "code",
   "execution_count": 48,
   "source": [
    "(arr <= 14.9).sum() / arr.size"
   ],
   "metadata": {
    "collapsed": false,
    "ExecuteTime": {
     "end_time": "2024-04-24T06:37:15.398177Z",
     "start_time": "2024-04-24T06:37:15.370942Z"
    }
   },
   "id": "eea4c5b86b46093f",
   "outputs": []
  },
  {
   "cell_type": "code",
   "execution_count": 9,
   "source": [
    "nx, ny = 62, 73\n",
    "mux, muy = 6.29, 8.53\n",
    "sx, sy = 2.07, 1.95\n",
    "\n",
    "sp = np.sqrt(((nx - 1)*sx*sx + (ny - 1)*sy*sy) / (nx + ny - 2))\n",
    "z = (mux - muy) / sp / np.sqrt(1/nx + 1/ny)\n",
    "z"
   ],
   "metadata": {
    "collapsed": false,
    "ExecuteTime": {
     "end_time": "2024-04-20T07:10:54.384314Z",
     "start_time": "2024-04-20T07:10:54.372517Z"
    }
   },
   "id": "f3a15623a6c4ce9",
   "outputs": []
  },
  {
   "cell_type": "code",
   "execution_count": 1,
   "source": [
    "import numpy as np"
   ],
   "metadata": {
    "collapsed": false,
    "ExecuteTime": {
     "end_time": "2024-04-26T10:42:25.154120Z",
     "start_time": "2024-04-26T10:42:25.143608Z"
    }
   },
   "id": "d4386937235e75a3",
   "outputs": []
  },
  {
   "cell_type": "code",
   "execution_count": 55,
   "source": [
    "xy = np.array([(-5, -2), (-3, 1), (0, 4), (2, 6), (1, 3)])\n",
    "xy"
   ],
   "metadata": {
    "collapsed": false,
    "ExecuteTime": {
     "end_time": "2024-04-26T13:44:14.294706Z",
     "start_time": "2024-04-26T13:44:14.212778Z"
    }
   },
   "id": "34f7c828abd8ce7",
   "outputs": []
  },
  {
   "cell_type": "code",
   "execution_count": 56,
   "source": [
    "x, y = xy[:, 0], xy[:, 1]\n",
    "ss_xx, ss_xy = ((x - x.mean())*(x - x.mean())).sum(), ((x - x.mean())*(y - y.mean())).sum()\n",
    "b1 = ss_xy / ss_xx\n",
    "b0 = y.mean() - b1*x.mean()"
   ],
   "metadata": {
    "collapsed": false,
    "ExecuteTime": {
     "end_time": "2024-04-26T13:44:15.404291Z",
     "start_time": "2024-04-26T13:44:15.339469Z"
    }
   },
   "id": "7e206f58c5aa165e",
   "outputs": []
  },
  {
   "cell_type": "code",
   "execution_count": 57,
   "source": [
    "import matplotlib.pyplot as plt\n",
    "\n",
    "plt.scatter(x, y, c='r')\n",
    "plt.plot(x, b0 + b1 * x, c='b')"
   ],
   "metadata": {
    "collapsed": false,
    "ExecuteTime": {
     "end_time": "2024-04-26T13:44:16.616313Z",
     "start_time": "2024-04-26T13:44:16.234941Z"
    }
   },
   "id": "bc8deff0b5522114",
   "outputs": []
  },
  {
   "cell_type": "code",
   "execution_count": 58,
   "source": [
    "b0, b1"
   ],
   "metadata": {
    "collapsed": false,
    "ExecuteTime": {
     "end_time": "2024-04-26T13:44:18.730350Z",
     "start_time": "2024-04-26T13:44:18.656192Z"
    }
   },
   "id": "89abc5757242cd14",
   "outputs": []
  },
  {
   "cell_type": "code",
   "execution_count": 59,
   "source": [
    "y - (b0 + b1 * x)"
   ],
   "metadata": {
    "collapsed": false,
    "ExecuteTime": {
     "end_time": "2024-04-26T13:44:20.672231Z",
     "start_time": "2024-04-26T13:44:20.605512Z"
    }
   },
   "id": "df739b04ef20d12a",
   "outputs": []
  },
  {
   "cell_type": "code",
   "execution_count": 60,
   "source": [
    "ss_yy = ((y - y.mean())*(y - y.mean())).sum()\n",
    "\n",
    "print(f'R^2 = {ss_xy*ss_xy / ss_xx / ss_yy}')"
   ],
   "metadata": {
    "collapsed": false,
    "ExecuteTime": {
     "end_time": "2024-04-26T13:44:37.434939Z",
     "start_time": "2024-04-26T13:44:37.413015Z"
    }
   },
   "id": "9f7bf4a349853a61",
   "outputs": []
  },
  {
   "cell_type": "code",
   "execution_count": 68,
   "source": [
    "X = np.array([\n",
    "    [117, 60, 50],\n",
    "    [130, 30, 91]\n",
    "])"
   ],
   "metadata": {
    "collapsed": false,
    "ExecuteTime": {
     "end_time": "2024-04-26T13:51:15.322548Z",
     "start_time": "2024-04-26T13:51:15.251550Z"
    }
   },
   "id": "cb3c0ebe168009d9",
   "outputs": []
  },
  {
   "cell_type": "code",
   "execution_count": 69,
   "source": [
    "E = X.sum(axis=1).reshape(-1, 1) @ X.sum(axis=0).reshape(1, -1) / X.sum()\n",
    "E"
   ],
   "metadata": {
    "collapsed": false,
    "ExecuteTime": {
     "end_time": "2024-04-26T13:51:16.161922Z",
     "start_time": "2024-04-26T13:51:16.067385Z"
    }
   },
   "id": "7b8d4a8c217ee532",
   "outputs": []
  },
  {
   "cell_type": "code",
   "execution_count": 71,
   "source": [
    "chi = ((X - E) * (X - E) / E).sum()\n",
    "chi, f'df = {(X.shape[0] - 1) * (X.shape[1] - 1)}'"
   ],
   "metadata": {
    "collapsed": false,
    "ExecuteTime": {
     "end_time": "2024-04-26T13:55:24.632197Z",
     "start_time": "2024-04-26T13:55:24.608036Z"
    }
   },
   "id": "a016eb5640652ac8",
   "outputs": []
  },
  {
   "cell_type": "code",
   "execution_count": 65,
   "source": [
    "X.sum(axis=1).reshape(-1, 1), X.sum(axis=0).reshape(1, -1)"
   ],
   "metadata": {
    "collapsed": false,
    "ExecuteTime": {
     "end_time": "2024-04-26T13:50:05.413395Z",
     "start_time": "2024-04-26T13:50:05.360875Z"
    }
   },
   "id": "a99947ede07a0a3b",
   "outputs": []
  },
  {
   "cell_type": "code",
   "execution_count": 18,
   "source": [
    "E"
   ],
   "metadata": {
    "collapsed": false,
    "ExecuteTime": {
     "end_time": "2024-04-26T10:51:44.850120Z",
     "start_time": "2024-04-26T10:51:44.804331Z"
    }
   },
   "id": "dcf2c0f48e4342f8",
   "outputs": []
  },
  {
   "cell_type": "code",
   "execution_count": 20,
   "source": [
    "s = \"\"\"\n",
    "43\n",
    "52\n",
    "59\n",
    "76\n",
    "61\n",
    "81\n",
    "\"\"\"\n",
    "xA = np.array(list(map(int, s.split())))\n",
    "xA"
   ],
   "metadata": {
    "collapsed": false,
    "ExecuteTime": {
     "end_time": "2024-04-26T11:14:28.372335Z",
     "start_time": "2024-04-26T11:14:28.353465Z"
    }
   },
   "id": "e44c0fed4e1672c2",
   "outputs": []
  },
  {
   "cell_type": "code",
   "execution_count": 21,
   "source": [
    "t = \"\"\"\n",
    "52     61\n",
    "37     29\n",
    "38     38\n",
    "64     53\n",
    "74     79\n",
    "\"\"\"\n",
    "tmp = np.array(list(map(int, t.split())))\n",
    "xB, xC = tmp[::2], tmp[1::2]\n",
    "xB, xC"
   ],
   "metadata": {
    "collapsed": false,
    "ExecuteTime": {
     "end_time": "2024-04-26T11:14:31.447322Z",
     "start_time": "2024-04-26T11:14:31.424597Z"
    }
   },
   "id": "ec5fa2763e5f8af1",
   "outputs": []
  },
  {
   "cell_type": "code",
   "execution_count": 11,
   "source": [
    "print(xA)"
   ],
   "metadata": {
    "collapsed": false,
    "ExecuteTime": {
     "end_time": "2024-04-26T10:49:45.497060Z",
     "start_time": "2024-04-26T10:49:45.401257Z"
    }
   },
   "id": "7aa2bdf5ed706691",
   "outputs": []
  },
  {
   "cell_type": "code",
   "execution_count": 28,
   "source": [
    "Xj = np.array([xA.mean(), xB.mean(), xC.mean()])\n",
    "Xm = (xA.sum() + xB.sum() + xC.sum()) / 16\n",
    "df_btw = 2\n",
    "df_err = 16 - 3\n",
    "ssb = 6*Xj[0]*Xj[0] + 5*Xj[1]*Xj[1] + 5*Xj[2]*Xj[2] - 16*Xm*Xm\n",
    "sse = (xA*xA).sum() + (xB*xB).sum() + (xC*xC).sum() - 6*Xj[0]*Xj[0] - 5*Xj[1]*Xj[1] - 5*Xj[2]*Xj[2]\n",
    "\n",
    "print(f'F_({df_btw};{df_err}) = {(ssb / df_btw) / (sse / df_err)}')"
   ],
   "metadata": {
    "collapsed": false,
    "ExecuteTime": {
     "end_time": "2024-04-26T12:28:15.713128Z",
     "start_time": "2024-04-26T12:28:15.672782Z"
    }
   },
   "id": "7cf9d865aa1b15cd",
   "outputs": []
  },
  {
   "cell_type": "code",
   "execution_count": 29,
   "source": [
    "ssb / df_btw, sse / df_err"
   ],
   "metadata": {
    "collapsed": false,
    "ExecuteTime": {
     "end_time": "2024-04-26T12:28:18.486782Z",
     "start_time": "2024-04-26T12:28:18.469509Z"
    }
   },
   "id": "7b9220186819cc4f",
   "outputs": []
  },
  {
   "cell_type": "code",
   "execution_count": 30,
   "source": [
    "ssb, sse, ssb + sse"
   ],
   "metadata": {
    "collapsed": false,
    "ExecuteTime": {
     "end_time": "2024-04-26T12:28:20.488149Z",
     "start_time": "2024-04-26T12:28:20.470380Z"
    }
   },
   "id": "bcf86c9c0224036e",
   "outputs": []
  },
  {
   "cell_type": "code",
   "execution_count": 32,
   "source": [
    "import pandas as pd"
   ],
   "metadata": {
    "collapsed": false,
    "ExecuteTime": {
     "end_time": "2024-04-26T12:36:45.536649Z",
     "start_time": "2024-04-26T12:36:45.490175Z"
    }
   },
   "id": "6654f95f2386f3b7",
   "outputs": []
  },
  {
   "cell_type": "code",
   "execution_count": 33,
   "source": [
    "s = \"\"\"\n",
    "Vasilyev\n",
    "Kuznetsov Kuznetsov\n",
    "Kuznetsov\n",
    "Vasilyev\n",
    "Ivanov\n",
    "Popov\n",
    "Ivanov\n",
    "Smirnov\n",
    "Ivanov\n",
    "Petrov\n",
    "Ivanov\n",
    "Vasilyev\n",
    "Kuznetsov\n",
    "Smirnov\n",
    "Smirnov\n",
    "Ivanov\n",
    "Ivanov\n",
    "Ivanov\n",
    "Vasilyev\n",
    "Kuznetsov\n",
    "Petrov\n",
    "Smirnov\n",
    "Kuznetsov\n",
    "Smirnov\n",
    "Kuznetsov\n",
    "Smirnov\n",
    "Popov\n",
    "Ivanov\n",
    "Vasilyev\n",
    "Smirnov\n",
    "Ivanov\n",
    "Ivanov\n",
    "Vasilyev\n",
    "Popov\n",
    "Popov\n",
    "Popov\n",
    "Ivanov\n",
    "Ivanov\n",
    "Petrov\n",
    "Petrov\n",
    "Popov\n",
    "Kuznetsov\n",
    "Petrov\n",
    "Ivanov\n",
    "Popov\n",
    "Smirnov\n",
    "Vasilyev\n",
    "Smirnov\n",
    "Petrov\"\"\"\n",
    "\n",
    "ln = s.split()\n",
    "s = pd.Series(ln)\n",
    "s.count()"
   ],
   "metadata": {
    "collapsed": false,
    "ExecuteTime": {
     "end_time": "2024-04-26T12:36:47.804671Z",
     "start_time": "2024-04-26T12:36:47.776238Z"
    }
   },
   "id": "29ba30659f65e5c5",
   "outputs": []
  },
  {
   "cell_type": "code",
   "execution_count": 34,
   "source": [
    "s.value_counts()"
   ],
   "metadata": {
    "collapsed": false,
    "ExecuteTime": {
     "end_time": "2024-04-26T12:58:04.232061Z",
     "start_time": "2024-04-26T12:58:04.145445Z"
    }
   },
   "id": "a5cc0ec4e463df95",
   "outputs": []
  },
  {
   "cell_type": "code",
   "execution_count": 43,
   "source": [
    "s.value_counts().plot.bar()\n",
    "plt.savefig('surnames_bar.png')"
   ],
   "metadata": {
    "collapsed": false,
    "ExecuteTime": {
     "end_time": "2024-04-26T13:02:50.820636Z",
     "start_time": "2024-04-26T13:02:50.466031Z"
    }
   },
   "id": "31ae5c1608da93c4",
   "outputs": []
  },
  {
   "cell_type": "code",
   "execution_count": 44,
   "source": [
    "fig, ax = plt.subplots()\n",
    "s.value_counts().plot.pie(autopct='%1.1f%%')\n",
    "ax.set_ylabel('')\n",
    "plt.savefig('surnames_pie.png')"
   ],
   "metadata": {
    "collapsed": false,
    "ExecuteTime": {
     "end_time": "2024-04-26T13:03:04.206899Z",
     "start_time": "2024-04-26T13:03:03.972434Z"
    }
   },
   "id": "35752b44bddc2e14",
   "outputs": []
  },
  {
   "cell_type": "code",
   "execution_count": 52,
   "source": [
    "arr = s.value_counts().array.to_numpy()\n",
    "e = np.full(arr.shape, arr.sum() / arr.size)\n",
    "print(arr)\n",
    "print(e)"
   ],
   "metadata": {
    "collapsed": false,
    "ExecuteTime": {
     "end_time": "2024-04-26T13:08:13.271100Z",
     "start_time": "2024-04-26T13:08:13.167065Z"
    }
   },
   "id": "93a1432bd1d5f9c7",
   "outputs": []
  },
  {
   "cell_type": "code",
   "execution_count": 54,
   "source": [
    "arr.size, arr.sum()"
   ],
   "metadata": {
    "collapsed": false,
    "ExecuteTime": {
     "end_time": "2024-04-26T13:09:43.761810Z",
     "start_time": "2024-04-26T13:09:43.691454Z"
    }
   },
   "id": "bfff9bfbdf7f86a3",
   "outputs": []
  },
  {
   "cell_type": "code",
   "execution_count": 53,
   "source": [
    "chi = ((arr - e)*(arr - e)/e).sum()\n",
    "chi, arr.size - 1"
   ],
   "metadata": {
    "collapsed": false,
    "ExecuteTime": {
     "end_time": "2024-04-26T13:08:47.166565Z",
     "start_time": "2024-04-26T13:08:47.087305Z"
    }
   },
   "id": "337983ee1c929f44",
   "outputs": []
  },
  {
   "cell_type": "code",
   "execution_count": 51,
   "source": [
    "arr.sum() / arr.size"
   ],
   "metadata": {
    "collapsed": false,
    "ExecuteTime": {
     "end_time": "2024-04-26T13:07:52.725890Z",
     "start_time": "2024-04-26T13:07:52.693670Z"
    }
   },
   "id": "948fd73e1b42afe6",
   "outputs": []
  },
  {
   "cell_type": "code",
   "execution_count": 49,
   "source": [
    "o = s.value_counts().array.to_numpy()\n",
    "e = o.sum() / o.size\n",
    "chi = ((o - e)*(o - e) / e).sum()\n",
    "chi"
   ],
   "metadata": {
    "collapsed": false,
    "ExecuteTime": {
     "end_time": "2024-04-20T07:42:20.390610Z",
     "start_time": "2024-04-20T07:42:20.339061Z"
    }
   },
   "id": "ab2a09578f52be3a",
   "outputs": []
  },
  {
   "cell_type": "code",
   "execution_count": 72,
   "source": [
    "X = np.array([list(map(int, \"71 84 49 15\".split())), list(map(int, \"12 25 7 12\".split()))])\n",
    "X"
   ],
   "metadata": {
    "collapsed": false,
    "ExecuteTime": {
     "end_time": "2024-04-26T13:59:35.384500Z",
     "start_time": "2024-04-26T13:59:35.307971Z"
    }
   },
   "id": "9f36d6d7211d5870",
   "outputs": []
  },
  {
   "cell_type": "code",
   "execution_count": 73,
   "source": [
    "E = X.sum(axis=1).reshape(-1, 1) @ X.sum(axis=0).reshape(1, -1) / X.sum()\n",
    "chi = ((X - E) * (X - E) / E).sum()\n",
    "chi, f'df = {(X.shape[0] - 1) * (X.shape[1] - 1)}'"
   ],
   "metadata": {
    "collapsed": false,
    "ExecuteTime": {
     "end_time": "2024-04-26T13:59:44.536853Z",
     "start_time": "2024-04-26T13:59:44.488722Z"
    }
   },
   "id": "8cdee7c18d056bb5",
   "outputs": []
  },
  {
   "cell_type": "code",
   "execution_count": 74,
   "source": [
    "E"
   ],
   "metadata": {
    "collapsed": false,
    "ExecuteTime": {
     "end_time": "2024-04-26T14:00:06.393766Z",
     "start_time": "2024-04-26T14:00:06.323685Z"
    }
   },
   "id": "b09fc940c6cbf45b",
   "outputs": []
  },
  {
   "cell_type": "code",
   "execution_count": 75,
   "source": [
    "X = np.array([list(map(int, \"30 40 26 35 33 51\".split())), list(map(int, \"33 41 34 32 31 54\".split()))])\n",
    "X"
   ],
   "metadata": {
    "collapsed": false,
    "ExecuteTime": {
     "end_time": "2024-04-27T08:13:16.298069Z",
     "start_time": "2024-04-27T08:13:16.238264Z"
    }
   },
   "id": "e4e8eb47ebf79d9f",
   "outputs": []
  },
  {
   "cell_type": "code",
   "execution_count": 76,
   "source": [
    "D = X[0] - X[1]\n",
    "print(f'CI_(0.95)(mu0 - mu1) = {D.mean()} \\pm {2.44691 * D.std(ddof=1) / np.sqrt(6)}')"
   ],
   "metadata": {
    "collapsed": false,
    "ExecuteTime": {
     "end_time": "2024-04-27T08:19:25.778293Z",
     "start_time": "2024-04-27T08:19:25.706708Z"
    }
   },
   "id": "f7e04477c6ad3fc2",
   "outputs": []
  },
  {
   "cell_type": "code",
   "execution_count": 79,
   "source": [
    "X = np.array([2.1, 4, 2.4, 6.4, 4.9, 8.1, 4.3, 10])\n",
    "chi_l, chi_r = 16.01276, 1.68987\n",
    "np.sqrt((X.size - 1) * X.var(ddof=1) / np.array([chi_l, chi_r]))"
   ],
   "metadata": {
    "collapsed": false,
    "ExecuteTime": {
     "end_time": "2024-04-27T08:24:12.148834Z",
     "start_time": "2024-04-27T08:24:12.090905Z"
    }
   },
   "id": "a446846d052486e6",
   "outputs": []
  },
  {
   "cell_type": "code",
   "execution_count": 85,
   "source": [
    "np.exp(-3.6) * 3.2, np.exp(-3.6) * 20"
   ],
   "metadata": {
    "collapsed": false,
    "ExecuteTime": {
     "end_time": "2024-04-27T10:00:26.982233Z",
     "start_time": "2024-04-27T10:00:26.834448Z"
    }
   },
   "id": "fa0a424c5ef07308",
   "outputs": []
  },
  {
   "cell_type": "code",
   "execution_count": 86,
   "source": [
    "n = 100\n",
    "p = 0.57\n",
    "np.sqrt(n*p*(1 - p))"
   ],
   "metadata": {
    "collapsed": false,
    "ExecuteTime": {
     "end_time": "2024-04-27T10:08:09.009151Z",
     "start_time": "2024-04-27T10:08:08.942632Z"
    }
   },
   "id": "9da9793c01028b1d",
   "outputs": []
  },
  {
   "cell_type": "code",
   "execution_count": 89,
   "source": [
    "(50.5 - n*p) / np.sqrt(n*p*(1 - p))"
   ],
   "metadata": {
    "collapsed": false,
    "ExecuteTime": {
     "end_time": "2024-04-27T10:23:28.721989Z",
     "start_time": "2024-04-27T10:23:28.653560Z"
    }
   },
   "id": "7ae3f15383349309",
   "outputs": []
  },
  {
   "cell_type": "code",
   "execution_count": 90,
   "source": [
    "-1 / np.sqrt(0.57*0.43 + 0.47*0.53)"
   ],
   "metadata": {
    "collapsed": false,
    "ExecuteTime": {
     "end_time": "2024-04-27T10:24:59.174851Z",
     "start_time": "2024-04-27T10:24:59.102394Z"
    }
   },
   "id": "a57c583d6eeec681",
   "outputs": []
  },
  {
   "cell_type": "code",
   "execution_count": 1,
   "source": [
    "\"\"\"\n",
    "Less than 66 in.\n",
    "Between 66 and 67.5 in. Between 67.5 and 68.5 in. Between 68.5 and 70 in. Greater than 70 in.\n",
    "Number of men 21\n",
    "169\n",
    "202\n",
    "109\n",
    "9\n",
    "\"\"\"\n",
    "from scipy.stats import norm\n",
    "norm.cdf(66, 68, 1), norm.cdf(67.5, 68, 1) - norm.cdf(66, 68, 1), norm.cdf(68.5, 68, 1) - norm.cdf(67.5, 68, 1), norm.cdf(70, 68, 1) - norm.cdf(68.5, 68, 1), 1 - norm.cdf(70, 68, 1)"
   ],
   "metadata": {
    "collapsed": false,
    "ExecuteTime": {
     "end_time": "2024-04-23T09:52:11.969765Z",
     "start_time": "2024-04-23T09:52:10.628327Z"
    }
   },
   "id": "e87f2eb08ce925b9",
   "outputs": []
  },
  {
   "cell_type": "code",
   "execution_count": 3,
   "source": [
    "import numpy as np\n",
    "np.array([norm.cdf(66, 68, 1), norm.cdf(67.5, 68, 1) - norm.cdf(66, 68, 1), norm.cdf(68.5, 68, 1) - norm.cdf(67.5, 68, 1), norm.cdf(70, 68, 1) - norm.cdf(68.5, 68, 1), 1 - norm.cdf(70, 68, 1)]) * 510"
   ],
   "metadata": {
    "collapsed": false,
    "ExecuteTime": {
     "end_time": "2024-04-23T09:52:40.135085Z",
     "start_time": "2024-04-23T09:52:40.112761Z"
    }
   },
   "id": "5b478adc21f98903",
   "outputs": []
  },
  {
   "cell_type": "code",
   "execution_count": 6,
   "source": [
    "e = np.array([norm.cdf(66, 68, 1), norm.cdf(67.5, 68, 1) - norm.cdf(66, 68, 1), norm.cdf(68.5, 68, 1) - norm.cdf(67.5, 68, 1), norm.cdf(70, 68, 1) - norm.cdf(68.5, 68, 1), 1 - norm.cdf(70, 68, 1)]) * 510\n",
    "o = np.array(list(map(int, \"21 & 169 & 202 & 109 & 9\".split(\" &\" ))))\n",
    "((o - e)*(o - e) / e).sum()"
   ],
   "metadata": {
    "collapsed": false,
    "ExecuteTime": {
     "end_time": "2024-04-23T09:56:55.791676Z",
     "start_time": "2024-04-23T09:56:55.769194Z"
    }
   },
   "id": "82a505536e6f48ff",
   "outputs": []
  },
  {
   "cell_type": "code",
   "execution_count": 7,
   "source": [
    "from scipy.stats import geom\n",
    "import matplotlib.pyplot as plt\n",
    "\n",
    "p = 0.6\n",
    "\n",
    "fig, ax = plt.subplots()\n",
    "x = np.arange(geom.ppf(0.01, p), geom.ppf(0.99, p))\n",
    "rv = geom(p)\n",
    "ax.vlines(x, 0, rv.pmf(x), colors='k', linestyles='-', lw=1)"
   ],
   "metadata": {
    "collapsed": false,
    "ExecuteTime": {
     "end_time": "2024-04-23T10:14:54.290242Z",
     "start_time": "2024-04-23T10:14:52.949595Z"
    }
   },
   "id": "a5875aa2c44664d2",
   "outputs": []
  },
  {
   "cell_type": "code",
   "execution_count": 13,
   "source": [
    "geom.cdf(4, p)"
   ],
   "metadata": {
    "collapsed": false,
    "ExecuteTime": {
     "end_time": "2024-04-23T10:17:10.491363Z",
     "start_time": "2024-04-23T10:17:10.473983Z"
    }
   },
   "id": "449f4adf589c2350",
   "outputs": []
  },
  {
   "cell_type": "code",
   "execution_count": 14,
   "source": [
    "p = 0.2\n",
    "\n",
    "fig, ax = plt.subplots()\n",
    "x = np.arange(geom.ppf(0.01, p), geom.ppf(0.99, p))\n",
    "rv = geom(p)\n",
    "ax.vlines(x, 0, rv.pmf(x), colors='k', linestyles='-', lw=1)"
   ],
   "metadata": {
    "collapsed": false,
    "ExecuteTime": {
     "end_time": "2024-04-23T10:19:03.787382Z",
     "start_time": "2024-04-23T10:19:03.437328Z"
    }
   },
   "id": "c1e2b4f025611e1c",
   "outputs": []
  },
  {
   "cell_type": "code",
   "execution_count": 15,
   "source": [
    "geom.cdf(4, p)"
   ],
   "metadata": {
    "collapsed": false,
    "ExecuteTime": {
     "end_time": "2024-04-23T10:19:27.153061Z",
     "start_time": "2024-04-23T10:19:27.126975Z"
    }
   },
   "id": "935e95168ec8b5d7",
   "outputs": []
  },
  {
   "cell_type": "code",
   "execution_count": 16,
   "source": [
    "(np.array([2.82, 2.71, 3.22, 2.67]).mean() - 2)*2"
   ],
   "metadata": {
    "collapsed": false,
    "ExecuteTime": {
     "end_time": "2024-04-23T10:47:51.813320Z",
     "start_time": "2024-04-23T10:47:51.788178Z"
    }
   },
   "id": "e5069e2359419ffe",
   "outputs": []
  },
  {
   "cell_type": "code",
   "execution_count": 23,
   "source": [
    "(39.5 - 0.02*1000)/0.0196/1000"
   ],
   "metadata": {
    "collapsed": false,
    "ExecuteTime": {
     "end_time": "2024-04-23T12:35:32.477902Z",
     "start_time": "2024-04-23T12:35:32.450559Z"
    }
   },
   "id": "e4ed8529c3f46797",
   "outputs": []
  },
  {
   "cell_type": "code",
   "execution_count": 24,
   "source": [
    "n = 361\n",
    "p0 = 105 / n\n",
    "p = 0.25\n",
    "(p0 - p)/np.sqrt(p*(1-p)/n), np.sqrt(p0*(1-p0)/n)"
   ],
   "metadata": {
    "collapsed": false,
    "ExecuteTime": {
     "end_time": "2024-04-23T13:17:04.459907Z",
     "start_time": "2024-04-23T13:17:04.401047Z"
    }
   },
   "id": "8beb121589de0d90",
   "outputs": []
  },
  {
   "cell_type": "code",
   "execution_count": 25,
   "source": [
    "p0, np.sqrt(p0*(1-p0)/n) * 1.96"
   ],
   "metadata": {
    "collapsed": false,
    "ExecuteTime": {
     "end_time": "2024-04-23T13:25:03.777556Z",
     "start_time": "2024-04-23T13:25:03.749064Z"
    }
   },
   "id": "57ff1ac093684030",
   "outputs": []
  },
  {
   "cell_type": "code",
   "execution_count": 26,
   "source": [
    "x = np.array(list(map(float, \"7.72 9.58 12.38 7.77 11.27 8.80 11.10 7.80 10.17 6.00\".split())))\n",
    "x.size"
   ],
   "metadata": {
    "collapsed": false,
    "ExecuteTime": {
     "end_time": "2024-04-23T13:27:29.152022Z",
     "start_time": "2024-04-23T13:27:29.105076Z"
    }
   },
   "id": "314658c5b8222020",
   "outputs": []
  },
  {
   "cell_type": "code",
   "execution_count": 27,
   "source": [
    "t, chi_l, chi_r = 2.26216, 2.7, 19.02277\n",
    "print(f'CI(\\mu) = {x.mean()} \\pm {t*x.std(ddof=1)/np.sqrt(x.size)}')\n",
    "print(f'CI(\\sigma) = ({(x.size - 1)*x.var(ddof=1)/chi_r}, {(x.size - 1)*x.var(ddof=1)/chi_l})')"
   ],
   "metadata": {
    "collapsed": false,
    "ExecuteTime": {
     "end_time": "2024-04-23T13:31:38.766666Z",
     "start_time": "2024-04-23T13:31:38.698273Z"
    }
   },
   "id": "3577caf5bd839da8",
   "outputs": []
  },
  {
   "cell_type": "code",
   "execution_count": null,
   "source": [
    "e1 = \"30 40 2635335\""
   ],
   "metadata": {
    "collapsed": false
   },
   "id": "3cd19d02b378dbb",
   "outputs": []
  }
 ],
 "metadata": {
  "kernelspec": {
   "display_name": "Python 3",
   "language": "python",
   "name": "python3"
  },
  "language_info": {
   "codemirror_mode": {
    "name": "ipython",
    "version": 2
   },
   "file_extension": ".py",
   "mimetype": "text/x-python",
   "name": "python",
   "nbconvert_exporter": "python",
   "pygments_lexer": "ipython2",
   "version": "2.7.6"
  }
 },
 "nbformat": 4,
 "nbformat_minor": 5
}
