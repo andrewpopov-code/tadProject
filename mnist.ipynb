{
 "cells": [
  {
   "cell_type": "code",
   "execution_count": 1,
   "id": "initial_id",
   "metadata": {
    "collapsed": true,
    "ExecuteTime": {
     "end_time": "2024-03-26T15:07:33.933262Z",
     "start_time": "2024-03-26T15:07:27.219439Z"
    }
   },
   "outputs": [
    {
     "name": "stderr",
     "output_type": "stream",
     "text": [
      "<frozen importlib._bootstrap>:228: ReducedFunctionalityWarning: WARNING: module 'pandas' not found, some functionality will be restricted\n"
     ]
    },
    {
     "data": {
      "text/html": "\n\t\t\t<script type=\"text/javascript\">\n\t\t\t<!--\n\t\t\t\t\n\t\t\t{\n\t\t\t\tvar element = document.getElementById('NetworKit_script');\n\t\t\t\tif (element) {\n\t\t\t\t\telement.parentNode.removeChild(element);\n\t\t\t\t}\n\t\t\t\telement = document.createElement('script');\n\t\t\t\telement.type = 'text/javascript';\n\t\t\t\telement.innerHTML = 'function NetworKit_pageEmbed(id) { var i, j; var elements; elements = document.getElementById(id).getElementsByClassName(\"Plot\"); for (i=0; i<elements.length; i++) { elements[i].id = id + \"_Plot_\" + i; var data = elements[i].getAttribute(\"data-image\").split(\"|\"); elements[i].removeAttribute(\"data-image\"); var content = \"<div class=\\\\\"Image\\\\\" id=\\\\\"\" + elements[i].id + \"_Image\\\\\" />\"; elements[i].innerHTML = content; elements[i].setAttribute(\"data-image-index\", 0); elements[i].setAttribute(\"data-image-length\", data.length); for (j=0; j<data.length; j++) { elements[i].setAttribute(\"data-image-\" + j, data[j]); } NetworKit_plotUpdate(elements[i]); elements[i].onclick = function (e) { NetworKit_overlayShow((e.target) ? e.target : e.srcElement); } } elements = document.getElementById(id).getElementsByClassName(\"HeatCell\"); for (i=0; i<elements.length; i++) { var data = parseFloat(elements[i].getAttribute(\"data-heat\")); var color = \"#00FF00\"; if (data <= 1 && data > 0) { color = \"hsla(0, 100%, 75%, \" + (data) + \")\"; } else if (data <= 0 && data >= -1) { color = \"hsla(240, 100%, 75%, \" + (-data) + \")\"; } elements[i].style.backgroundColor = color; } elements = document.getElementById(id).getElementsByClassName(\"Details\"); for (i=0; i<elements.length; i++) { elements[i].setAttribute(\"data-title\", \"-\"); NetworKit_toggleDetails(elements[i]); elements[i].onclick = function (e) { NetworKit_toggleDetails((e.target) ? e.target : e.srcElement); } } elements = document.getElementById(id).getElementsByClassName(\"MathValue\"); for (i=elements.length-1; i>=0; i--) { value = elements[i].innerHTML.trim(); if (value === \"nan\") { elements[i].parentNode.innerHTML = \"\" } } elements = document.getElementById(id).getElementsByClassName(\"SubCategory\"); for (i=elements.length-1; i>=0; i--) { value = elements[i].innerHTML.trim(); if (value === \"\") { elements[i].parentNode.removeChild(elements[i]) } } elements = document.getElementById(id).getElementsByClassName(\"Category\"); for (i=elements.length-1; i>=0; i--) { value = elements[i].innerHTML.trim(); if (value === \"\") { elements[i].parentNode.removeChild(elements[i]) } } var isFirefox = false; try { isFirefox = typeof InstallTrigger !== \"undefined\"; } catch (e) {} if (!isFirefox) { alert(\"Currently the function\\'s output is only fully supported by Firefox.\"); } } function NetworKit_plotUpdate(source) { var index = source.getAttribute(\"data-image-index\"); var data = source.getAttribute(\"data-image-\" + index); var image = document.getElementById(source.id + \"_Image\"); image.style.backgroundImage = \"url(\" + data + \")\"; } function NetworKit_showElement(id, show) { var element = document.getElementById(id); element.style.display = (show) ? \"block\" : \"none\"; } function NetworKit_overlayShow(source) { NetworKit_overlayUpdate(source); NetworKit_showElement(\"NetworKit_Overlay\", true); } function NetworKit_overlayUpdate(source) { document.getElementById(\"NetworKit_Overlay_Title\").innerHTML = source.title; var index = source.getAttribute(\"data-image-index\"); var data = source.getAttribute(\"data-image-\" + index); var image = document.getElementById(\"NetworKit_Overlay_Image\"); image.setAttribute(\"data-id\", source.id); image.style.backgroundImage = \"url(\" + data + \")\"; var link = document.getElementById(\"NetworKit_Overlay_Toolbar_Bottom_Save\"); link.href = data; link.download = source.title + \".svg\"; } function NetworKit_overlayImageShift(delta) { var image = document.getElementById(\"NetworKit_Overlay_Image\"); var source = document.getElementById(image.getAttribute(\"data-id\")); var index = parseInt(source.getAttribute(\"data-image-index\")); var length = parseInt(source.getAttribute(\"data-image-length\")); var index = (index+delta) % length; if (index < 0) { index = length + index; } source.setAttribute(\"data-image-index\", index); NetworKit_overlayUpdate(source); } function NetworKit_toggleDetails(source) { var childs = source.children; var show = false; if (source.getAttribute(\"data-title\") == \"-\") { source.setAttribute(\"data-title\", \"+\"); show = false; } else { source.setAttribute(\"data-title\", \"-\"); show = true; } for (i=0; i<childs.length; i++) { if (show) { childs[i].style.display = \"block\"; } else { childs[i].style.display = \"none\"; } } }';\n\t\t\t\telement.setAttribute('id', 'NetworKit_script');\n\t\t\t\tdocument.head.appendChild(element);\n\t\t\t}\n\t\t\n\t\t\t\t\n\t\t\t{\n\t\t\t\tvar element = document.getElementById('NetworKit_style');\n\t\t\t\tif (element) {\n\t\t\t\t\telement.parentNode.removeChild(element);\n\t\t\t\t}\n\t\t\t\telement = document.createElement('style');\n\t\t\t\telement.type = 'text/css';\n\t\t\t\telement.innerHTML = '.NetworKit_Page { font-family: Arial, Helvetica, sans-serif; font-size: 14px; } .NetworKit_Page .Value:before { font-family: Arial, Helvetica, sans-serif; font-size: 1.05em; content: attr(data-title) \":\"; margin-left: -2.5em; padding-right: 0.5em; } .NetworKit_Page .Details .Value:before { display: block; } .NetworKit_Page .Value { font-family: monospace; white-space: pre; padding-left: 2.5em; white-space: -moz-pre-wrap !important; white-space: -pre-wrap; white-space: -o-pre-wrap; white-space: pre-wrap; word-wrap: break-word; tab-size: 4; -moz-tab-size: 4; } .NetworKit_Page .Category { clear: both; padding-left: 1em; margin-bottom: 1.5em; } .NetworKit_Page .Category:before { content: attr(data-title); font-size: 1.75em; display: block; margin-left: -0.8em; margin-bottom: 0.5em; } .NetworKit_Page .SubCategory { margin-bottom: 1.5em; padding-left: 1em; } .NetworKit_Page .SubCategory:before { font-size: 1.6em; display: block; margin-left: -0.8em; margin-bottom: 0.5em; } .NetworKit_Page .SubCategory[data-title]:before { content: attr(data-title); } .NetworKit_Page .Block { display: block; } .NetworKit_Page .Block:after { content: \".\"; visibility: hidden; display: block; height: 0; clear: both; } .NetworKit_Page .Block .Thumbnail_Overview, .NetworKit_Page .Block .Thumbnail_ScatterPlot { width: 260px; float: left; } .NetworKit_Page .Block .Thumbnail_Overview img, .NetworKit_Page .Block .Thumbnail_ScatterPlot img { width: 260px; } .NetworKit_Page .Block .Thumbnail_Overview:before, .NetworKit_Page .Block .Thumbnail_ScatterPlot:before { display: block; text-align: center; font-weight: bold; } .NetworKit_Page .Block .Thumbnail_Overview:before { content: attr(data-title); } .NetworKit_Page .HeatCell { font-family: \"Courier New\", Courier, monospace; cursor: pointer; } .NetworKit_Page .HeatCell, .NetworKit_Page .HeatCellName { display: inline; padding: 0.1em; margin-right: 2px; background-color: #FFFFFF } .NetworKit_Page .HeatCellName { margin-left: 0.25em; } .NetworKit_Page .HeatCell:before { content: attr(data-heat); display: inline-block; color: #000000; width: 4em; text-align: center; } .NetworKit_Page .Measure { clear: both; } .NetworKit_Page .Measure .Details { cursor: pointer; } .NetworKit_Page .Measure .Details:before { content: \"[\" attr(data-title) \"]\"; display: block; } .NetworKit_Page .Measure .Details .Value { border-left: 1px dotted black; margin-left: 0.4em; padding-left: 3.5em; pointer-events: none; } .NetworKit_Page .Measure .Details .Spacer:before { content: \".\"; opacity: 0.0; pointer-events: none; } .NetworKit_Page .Measure .Plot { width: 440px; height: 440px; cursor: pointer; float: left; margin-left: -0.9em; margin-right: 20px; } .NetworKit_Page .Measure .Plot .Image { background-repeat: no-repeat; background-position: center center; background-size: contain; height: 100%; pointer-events: none; } .NetworKit_Page .Measure .Stat { width: 500px; float: left; } .NetworKit_Page .Measure .Stat .Group { padding-left: 1.25em; margin-bottom: 0.75em; } .NetworKit_Page .Measure .Stat .Group .Title { font-size: 1.1em; display: block; margin-bottom: 0.3em; margin-left: -0.75em; border-right-style: dotted; border-right-width: 1px; border-bottom-style: dotted; border-bottom-width: 1px; background-color: #D0D0D0; padding-left: 0.2em; } .NetworKit_Page .Measure .Stat .Group .List { -webkit-column-count: 3; -moz-column-count: 3; column-count: 3; } .NetworKit_Page .Measure .Stat .Group .List .Entry { position: relative; line-height: 1.75em; } .NetworKit_Page .Measure .Stat .Group .List .Entry[data-tooltip]:before { position: absolute; left: 0; top: -40px; background-color: #808080; color: #ffffff; height: 30px; line-height: 30px; border-radius: 5px; padding: 0 15px; content: attr(data-tooltip); white-space: nowrap; display: none; } .NetworKit_Page .Measure .Stat .Group .List .Entry[data-tooltip]:after { position: absolute; left: 15px; top: -10px; border-top: 7px solid #808080; border-left: 7px solid transparent; border-right: 7px solid transparent; content: \"\"; display: none; } .NetworKit_Page .Measure .Stat .Group .List .Entry[data-tooltip]:hover:after, .NetworKit_Page .Measure .Stat .Group .List .Entry[data-tooltip]:hover:before { display: block; } .NetworKit_Page .Measure .Stat .Group .List .Entry .MathValue { font-family: \"Courier New\", Courier, monospace; } .NetworKit_Page .Measure:after { content: \".\"; visibility: hidden; display: block; height: 0; clear: both; } .NetworKit_Page .PartitionPie { clear: both; } .NetworKit_Page .PartitionPie img { width: 600px; } #NetworKit_Overlay { left: 0px; top: 0px; display: none; position: absolute; width: 100%; height: 100%; background-color: rgba(0,0,0,0.6); z-index: 1000; } #NetworKit_Overlay_Title { position: absolute; color: white; transform: rotate(-90deg); width: 32em; height: 32em; padding-right: 0.5em; padding-top: 0.5em; text-align: right; font-size: 40px; } #NetworKit_Overlay .button { background: white; cursor: pointer; } #NetworKit_Overlay .button:before { size: 13px; display: inline-block; text-align: center; margin-top: 0.5em; margin-bottom: 0.5em; width: 1.5em; height: 1.5em; } #NetworKit_Overlay .icon-close:before { content: \"X\"; } #NetworKit_Overlay .icon-previous:before { content: \"P\"; } #NetworKit_Overlay .icon-next:before { content: \"N\"; } #NetworKit_Overlay .icon-save:before { content: \"S\"; } #NetworKit_Overlay_Toolbar_Top, #NetworKit_Overlay_Toolbar_Bottom { position: absolute; width: 40px; right: 13px; text-align: right; z-index: 1100; } #NetworKit_Overlay_Toolbar_Top { top: 0.5em; } #NetworKit_Overlay_Toolbar_Bottom { Bottom: 0.5em; } #NetworKit_Overlay_ImageContainer { position: absolute; top: 5%; left: 5%; height: 90%; width: 90%; background-repeat: no-repeat; background-position: center center; background-size: contain; } #NetworKit_Overlay_Image { height: 100%; width: 100%; background-repeat: no-repeat; background-position: center center; background-size: contain; }';\n\t\t\t\telement.setAttribute('id', 'NetworKit_style');\n\t\t\t\tdocument.head.appendChild(element);\n\t\t\t}\n\t\t\n\t\t\t\t\n\t\t\t{\n\t\t\t\tvar element = document.getElementById('NetworKit_Overlay');\n\t\t\t\tif (element) {\n\t\t\t\t\telement.parentNode.removeChild(element);\n\t\t\t\t}\n\t\t\t\telement = document.createElement('div');\n\t\t\t\telement.innerHTML = '<div id=\"NetworKit_Overlay_Toolbar_Top\"><div class=\"button icon-close\" id=\"NetworKit_Overlay_Close\" /></div><div id=\"NetworKit_Overlay_Title\" /> <div id=\"NetworKit_Overlay_ImageContainer\"> <div id=\"NetworKit_Overlay_Image\" /> </div> <div id=\"NetworKit_Overlay_Toolbar_Bottom\"> <div class=\"button icon-previous\" onclick=\"NetworKit_overlayImageShift(-1)\" /> <div class=\"button icon-next\" onclick=\"NetworKit_overlayImageShift(1)\" /> <a id=\"NetworKit_Overlay_Toolbar_Bottom_Save\"><div class=\"button icon-save\" /></a> </div>';\n\t\t\t\telement.setAttribute('id', 'NetworKit_Overlay');\n\t\t\t\tdocument.body.appendChild(element);\n\t\t\t\tdocument.getElementById('NetworKit_Overlay_Close').onclick = function (e) {\n\t\t\t\t\tdocument.getElementById('NetworKit_Overlay').style.display = 'none';\n\t\t\t\t}\n\t\t\t}\n\t\t\n\t\t\t-->\n\t\t\t</script>\n\t\t"
     },
     "metadata": {},
     "output_type": "display_data"
    }
   ],
   "source": [
    "from nn import TopologyMixin\n",
    "\n",
    "# PyTorch model and training necessities\n",
    "import torch\n",
    "import torch.nn as nn\n",
    "import torch.nn.functional as F\n",
    "import torch.optim as optim\n",
    "\n",
    "# Image datasets and image manipulation\n",
    "import torchvision\n",
    "import torchvision.transforms as transforms\n",
    "\n",
    "# Image display\n",
    "import matplotlib.pyplot as plt\n",
    "import numpy as np\n",
    "\n",
    "# PyTorch TensorBoard support\n",
    "from torch.utils.tensorboard import SummaryWriter"
   ]
  },
  {
   "cell_type": "code",
   "execution_count": 2,
   "outputs": [
    {
     "data": {
      "text/plain": "<Figure size 640x480 with 1 Axes>",
      "image/png": "[encoded data removed]"
     },
     "metadata": {},
     "output_type": "display_data"
    }
   ],
   "source": [
    "# Gather datasets and prepare them for consumption\n",
    "transform = transforms.Compose(\n",
    "    [transforms.ToTensor(),\n",
    "    transforms.Normalize((0.5,), (0.5,))])\n",
    "\n",
    "# Store separate training and validations splits in ./data\n",
    "training_set = torchvision.datasets.FashionMNIST('./data',\n",
    "    download=True,\n",
    "    train=True,\n",
    "    transform=transform)\n",
    "validation_set = torchvision.datasets.FashionMNIST('./data',\n",
    "    download=True,\n",
    "    train=False,\n",
    "    transform=transform)\n",
    "\n",
    "training_loader = torch.utils.data.DataLoader(training_set,\n",
    "                                              batch_size=4,\n",
    "                                              shuffle=True,\n",
    "                                              num_workers=2)\n",
    "\n",
    "\n",
    "validation_loader = torch.utils.data.DataLoader(validation_set,\n",
    "                                                batch_size=4,\n",
    "                                                shuffle=False,\n",
    "                                                num_workers=2)\n",
    "\n",
    "# Class labels\n",
    "classes = ('T-shirt/top', 'Trouser', 'Pullover', 'Dress', 'Coat',\n",
    "        'Sandal', 'Shirt', 'Sneaker', 'Bag', 'Ankle Boot')\n",
    "\n",
    "# Helper function for inline image display\n",
    "def matplotlib_imshow(img, one_channel=False):\n",
    "    if one_channel:\n",
    "        img = img.mean(dim=0)\n",
    "    img = img / 2 + 0.5     # unnormalize\n",
    "    npimg = img.numpy()\n",
    "    if one_channel:\n",
    "        plt.imshow(npimg, cmap=\"Greys\")\n",
    "    else:\n",
    "        plt.imshow(np.transpose(npimg, (1, 2, 0)))\n",
    "\n",
    "# Extract a batch of 4 images\n",
    "dataiter = iter(training_loader)\n",
    "images, labels = next(dataiter)\n",
    "\n",
    "# Create a grid from the images and show them\n",
    "img_grid = torchvision.utils.make_grid(images)\n",
    "matplotlib_imshow(img_grid, one_channel=True)"
   ],
   "metadata": {
    "collapsed": false,
    "ExecuteTime": {
     "end_time": "2024-03-26T15:07:38.027944Z",
     "start_time": "2024-03-26T15:07:33.941928Z"
    }
   },
   "id": "1b3170ae70a9e3a1"
  },
  {
   "cell_type": "code",
   "execution_count": 8,
   "outputs": [],
   "source": [
    "# Default log_dir argument is \"runs\" - but it's good to be specific\n",
    "# torch.utils.tensorboard.SummaryWriter is imported above\n",
    "writer = SummaryWriter('runs/fashion_mnist_experiment_6')\n",
    "\n",
    "# Write image data to TensorBoard log dir\n",
    "writer.add_image('Four Fashion-MNIST Images', img_grid)\n",
    "writer.flush()\n",
    "\n",
    "# To view, start TensorBoard on the command line with:\n",
    "#   tensorboard --logdir=runs\n",
    "# ...and open a browser tab to http://localhost:6006/"
   ],
   "metadata": {
    "collapsed": false,
    "ExecuteTime": {
     "end_time": "2024-03-26T15:11:08.487227Z",
     "start_time": "2024-03-26T15:11:08.476114Z"
    }
   },
   "id": "8580e29bad3914e2"
  },
  {
   "cell_type": "code",
   "execution_count": 9,
   "outputs": [],
   "source": [
    "class Net(TopologyMixin):\n",
    "    def __init__(self):\n",
    "        super().__init__(writer=writer)\n",
    "        self.conv1 = nn.Conv2d(1, 6, 5)\n",
    "        self.pool = nn.MaxPool2d(2, 2)\n",
    "        self.conv2 = nn.Conv2d(6, 16, 5)\n",
    "        self.fc1 = nn.Linear(16 * 4 * 4, 120)\n",
    "        self.fc2 = nn.Linear(120, 84)\n",
    "        self.fc3 = nn.Linear(84, 10)\n",
    "\n",
    "    def forward(self, x, topology: bool = False):\n",
    "        if topology:\n",
    "            self.Filtration(x.transpose(0, 1).transpose(1, 2), label='Input', distances=False, batches=True)\n",
    "            self.Dimension(x.transpose(0, 1).transpose(1, 2), label='Dimension Analysis', distances=False, batches=True)\n",
    "            self.DeltaHyperbolicity(x.transpose(0, 1).transpose(1, 2), label='Hyperbolicity Analysis', distances=False, batches=True)\n",
    "            \n",
    "            x = self.pool(F.relu(self.conv1(x)))\n",
    "            x = self.pool(F.relu(self.conv2(x)))\n",
    "            self.Filtration(x.transpose(0, 1).transpose(1, 2), label='Hidden', distances=False, batches=True)\n",
    "            self.Dimension(x.transpose(0, 1).transpose(1, 2), label='Dimension Analysis', distances=False, batches=True)\n",
    "            self.DeltaHyperbolicity(x.transpose(0, 1).transpose(1, 2), label='Hyperbolicity Analysis', distances=False, batches=True)\n",
    "            \n",
    "            x = x.view(-1, 16 * 4 * 4)\n",
    "            x = F.relu(self.fc1(x))\n",
    "            x = F.relu(self.fc2(x))\n",
    "            x = self.fc3(x)\n",
    "            \n",
    "            return x\n",
    "        \n",
    "        x = self.pool(F.relu(self.conv1(x)))\n",
    "        x = self.pool(F.relu(self.conv2(x)))\n",
    "        x = x.view(-1, 16 * 4 * 4)\n",
    "        x = F.relu(self.fc1(x))\n",
    "        x = F.relu(self.fc2(x))\n",
    "        x = self.fc3(x)\n",
    "        return x\n",
    "\n",
    "\n",
    "net = Net()\n",
    "criterion = nn.CrossEntropyLoss()\n",
    "optimizer = optim.SGD(net.parameters(), lr=0.001, momentum=0.9)"
   ],
   "metadata": {
    "collapsed": false,
    "ExecuteTime": {
     "end_time": "2024-03-26T15:11:11.007472Z",
     "start_time": "2024-03-26T15:11:10.998392Z"
    }
   },
   "id": "8244d6c68915ddd1"
  },
  {
   "cell_type": "code",
   "execution_count": 18,
   "outputs": [
    {
     "data": {
      "text/plain": "[Persistence(),\n IntrinsicDimension(),\n Entropy(),\n DeltaHyperbolicity(),\n Conv2d(1, 6, kernel_size=(5, 5), stride=(1, 1)),\n MaxPool2d(kernel_size=2, stride=2, padding=0, dilation=1, ceil_mode=False),\n Conv2d(6, 16, kernel_size=(5, 5), stride=(1, 1)),\n Linear(in_features=256, out_features=120, bias=True),\n Linear(in_features=120, out_features=84, bias=True),\n Linear(in_features=84, out_features=10, bias=True)]"
     },
     "execution_count": 18,
     "metadata": {},
     "output_type": "execute_result"
    }
   ],
   "source": [
    "list(net.children())"
   ],
   "metadata": {
    "collapsed": false,
    "ExecuteTime": {
     "end_time": "2024-03-26T12:38:50.309245Z",
     "start_time": "2024-03-26T12:38:50.299396Z"
    }
   },
   "id": "bb701b31df137aa"
  },
  {
   "cell_type": "code",
   "execution_count": 15,
   "outputs": [
    {
     "ename": "RecursionError",
     "evalue": "maximum recursion depth exceeded",
     "output_type": "error",
     "traceback": [
      "\u001B[0;31m---------------------------------------------------------------------------\u001B[0m",
      "\u001B[0;31mRecursionError\u001B[0m                            Traceback (most recent call last)",
      "File \u001B[0;32m~/PycharmProjects/tadProject/.venv/lib/python3.9/site-packages/IPython/core/formatters.py:708\u001B[0m, in \u001B[0;36mPlainTextFormatter.__call__\u001B[0;34m(self, obj)\u001B[0m\n\u001B[1;32m    701\u001B[0m stream \u001B[38;5;241m=\u001B[39m StringIO()\n\u001B[1;32m    702\u001B[0m printer \u001B[38;5;241m=\u001B[39m pretty\u001B[38;5;241m.\u001B[39mRepresentationPrinter(stream, \u001B[38;5;28mself\u001B[39m\u001B[38;5;241m.\u001B[39mverbose,\n\u001B[1;32m    703\u001B[0m     \u001B[38;5;28mself\u001B[39m\u001B[38;5;241m.\u001B[39mmax_width, \u001B[38;5;28mself\u001B[39m\u001B[38;5;241m.\u001B[39mnewline,\n\u001B[1;32m    704\u001B[0m     max_seq_length\u001B[38;5;241m=\u001B[39m\u001B[38;5;28mself\u001B[39m\u001B[38;5;241m.\u001B[39mmax_seq_length,\n\u001B[1;32m    705\u001B[0m     singleton_pprinters\u001B[38;5;241m=\u001B[39m\u001B[38;5;28mself\u001B[39m\u001B[38;5;241m.\u001B[39msingleton_printers,\n\u001B[1;32m    706\u001B[0m     type_pprinters\u001B[38;5;241m=\u001B[39m\u001B[38;5;28mself\u001B[39m\u001B[38;5;241m.\u001B[39mtype_printers,\n\u001B[1;32m    707\u001B[0m     deferred_pprinters\u001B[38;5;241m=\u001B[39m\u001B[38;5;28mself\u001B[39m\u001B[38;5;241m.\u001B[39mdeferred_printers)\n\u001B[0;32m--> 708\u001B[0m \u001B[43mprinter\u001B[49m\u001B[38;5;241;43m.\u001B[39;49m\u001B[43mpretty\u001B[49m\u001B[43m(\u001B[49m\u001B[43mobj\u001B[49m\u001B[43m)\u001B[49m\n\u001B[1;32m    709\u001B[0m printer\u001B[38;5;241m.\u001B[39mflush()\n\u001B[1;32m    710\u001B[0m \u001B[38;5;28;01mreturn\u001B[39;00m stream\u001B[38;5;241m.\u001B[39mgetvalue()\n",
      "File \u001B[0;32m~/PycharmProjects/tadProject/.venv/lib/python3.9/site-packages/IPython/lib/pretty.py:393\u001B[0m, in \u001B[0;36mRepresentationPrinter.pretty\u001B[0;34m(self, obj)\u001B[0m\n\u001B[1;32m    390\u001B[0m \u001B[38;5;28;01mfor\u001B[39;00m \u001B[38;5;28mcls\u001B[39m \u001B[38;5;129;01min\u001B[39;00m _get_mro(obj_class):\n\u001B[1;32m    391\u001B[0m     \u001B[38;5;28;01mif\u001B[39;00m \u001B[38;5;28mcls\u001B[39m \u001B[38;5;129;01min\u001B[39;00m \u001B[38;5;28mself\u001B[39m\u001B[38;5;241m.\u001B[39mtype_pprinters:\n\u001B[1;32m    392\u001B[0m         \u001B[38;5;66;03m# printer registered in self.type_pprinters\u001B[39;00m\n\u001B[0;32m--> 393\u001B[0m         \u001B[38;5;28;01mreturn\u001B[39;00m \u001B[38;5;28;43mself\u001B[39;49m\u001B[38;5;241;43m.\u001B[39;49m\u001B[43mtype_pprinters\u001B[49m\u001B[43m[\u001B[49m\u001B[38;5;28;43mcls\u001B[39;49m\u001B[43m]\u001B[49m\u001B[43m(\u001B[49m\u001B[43mobj\u001B[49m\u001B[43m,\u001B[49m\u001B[43m \u001B[49m\u001B[38;5;28;43mself\u001B[39;49m\u001B[43m,\u001B[49m\u001B[43m \u001B[49m\u001B[43mcycle\u001B[49m\u001B[43m)\u001B[49m\n\u001B[1;32m    394\u001B[0m     \u001B[38;5;28;01melse\u001B[39;00m:\n\u001B[1;32m    395\u001B[0m         \u001B[38;5;66;03m# deferred printer\u001B[39;00m\n\u001B[1;32m    396\u001B[0m         printer \u001B[38;5;241m=\u001B[39m \u001B[38;5;28mself\u001B[39m\u001B[38;5;241m.\u001B[39m_in_deferred_types(\u001B[38;5;28mcls\u001B[39m)\n",
      "File \u001B[0;32m~/PycharmProjects/tadProject/.venv/lib/python3.9/site-packages/IPython/lib/pretty.py:894\u001B[0m, in \u001B[0;36m_ordereddict_pprint\u001B[0;34m(obj, p, cycle)\u001B[0m\n\u001B[1;32m    892\u001B[0m     p\u001B[38;5;241m.\u001B[39mpretty(cls_ctor(RawText(\u001B[38;5;124m\"\u001B[39m\u001B[38;5;124m...\u001B[39m\u001B[38;5;124m\"\u001B[39m)))\n\u001B[1;32m    893\u001B[0m \u001B[38;5;28;01melif\u001B[39;00m \u001B[38;5;28mlen\u001B[39m(obj):\n\u001B[0;32m--> 894\u001B[0m     \u001B[43mp\u001B[49m\u001B[38;5;241;43m.\u001B[39;49m\u001B[43mpretty\u001B[49m\u001B[43m(\u001B[49m\u001B[43mcls_ctor\u001B[49m\u001B[43m(\u001B[49m\u001B[38;5;28;43mlist\u001B[39;49m\u001B[43m(\u001B[49m\u001B[43mobj\u001B[49m\u001B[38;5;241;43m.\u001B[39;49m\u001B[43mitems\u001B[49m\u001B[43m(\u001B[49m\u001B[43m)\u001B[49m\u001B[43m)\u001B[49m\u001B[43m)\u001B[49m\u001B[43m)\u001B[49m\n\u001B[1;32m    895\u001B[0m \u001B[38;5;28;01melse\u001B[39;00m:\n\u001B[1;32m    896\u001B[0m     p\u001B[38;5;241m.\u001B[39mpretty(cls_ctor())\n",
      "File \u001B[0;32m~/PycharmProjects/tadProject/.venv/lib/python3.9/site-packages/IPython/lib/pretty.py:407\u001B[0m, in \u001B[0;36mRepresentationPrinter.pretty\u001B[0;34m(self, obj)\u001B[0m\n\u001B[1;32m    405\u001B[0m     meth \u001B[38;5;241m=\u001B[39m \u001B[38;5;28mcls\u001B[39m\u001B[38;5;241m.\u001B[39m_repr_pretty_\n\u001B[1;32m    406\u001B[0m     \u001B[38;5;28;01mif\u001B[39;00m \u001B[38;5;28mcallable\u001B[39m(meth):\n\u001B[0;32m--> 407\u001B[0m         \u001B[38;5;28;01mreturn\u001B[39;00m \u001B[43mmeth\u001B[49m\u001B[43m(\u001B[49m\u001B[43mobj\u001B[49m\u001B[43m,\u001B[49m\u001B[43m \u001B[49m\u001B[38;5;28;43mself\u001B[39;49m\u001B[43m,\u001B[49m\u001B[43m \u001B[49m\u001B[43mcycle\u001B[49m\u001B[43m)\u001B[49m\n\u001B[1;32m    408\u001B[0m \u001B[38;5;28;01mif\u001B[39;00m \u001B[38;5;28mcls\u001B[39m \u001B[38;5;129;01mis\u001B[39;00m \u001B[38;5;129;01mnot\u001B[39;00m \u001B[38;5;28mobject\u001B[39m \\\n\u001B[1;32m    409\u001B[0m         \u001B[38;5;129;01mand\u001B[39;00m \u001B[38;5;28mcallable\u001B[39m(\u001B[38;5;28mcls\u001B[39m\u001B[38;5;241m.\u001B[39m\u001B[38;5;18m__dict__\u001B[39m\u001B[38;5;241m.\u001B[39mget(\u001B[38;5;124m'\u001B[39m\u001B[38;5;124m__repr__\u001B[39m\u001B[38;5;124m'\u001B[39m)):\n\u001B[1;32m    410\u001B[0m     \u001B[38;5;28;01mreturn\u001B[39;00m _repr_pprint(obj, \u001B[38;5;28mself\u001B[39m, cycle)\n",
      "File \u001B[0;32m~/PycharmProjects/tadProject/.venv/lib/python3.9/site-packages/IPython/lib/pretty.py:564\u001B[0m, in \u001B[0;36mCallExpression._repr_pretty_\u001B[0;34m(self, p, cycle)\u001B[0m\n\u001B[1;32m    562\u001B[0m \u001B[38;5;28;01mfor\u001B[39;00m arg \u001B[38;5;129;01min\u001B[39;00m \u001B[38;5;28mself\u001B[39m\u001B[38;5;241m.\u001B[39margs:\n\u001B[1;32m    563\u001B[0m     new_item()\n\u001B[0;32m--> 564\u001B[0m     \u001B[43mp\u001B[49m\u001B[38;5;241;43m.\u001B[39;49m\u001B[43mpretty\u001B[49m\u001B[43m(\u001B[49m\u001B[43marg\u001B[49m\u001B[43m)\u001B[49m\n\u001B[1;32m    565\u001B[0m \u001B[38;5;28;01mfor\u001B[39;00m arg_name, arg \u001B[38;5;129;01min\u001B[39;00m \u001B[38;5;28mself\u001B[39m\u001B[38;5;241m.\u001B[39mkwargs\u001B[38;5;241m.\u001B[39mitems():\n\u001B[1;32m    566\u001B[0m     new_item()\n",
      "File \u001B[0;32m~/PycharmProjects/tadProject/.venv/lib/python3.9/site-packages/IPython/lib/pretty.py:393\u001B[0m, in \u001B[0;36mRepresentationPrinter.pretty\u001B[0;34m(self, obj)\u001B[0m\n\u001B[1;32m    390\u001B[0m \u001B[38;5;28;01mfor\u001B[39;00m \u001B[38;5;28mcls\u001B[39m \u001B[38;5;129;01min\u001B[39;00m _get_mro(obj_class):\n\u001B[1;32m    391\u001B[0m     \u001B[38;5;28;01mif\u001B[39;00m \u001B[38;5;28mcls\u001B[39m \u001B[38;5;129;01min\u001B[39;00m \u001B[38;5;28mself\u001B[39m\u001B[38;5;241m.\u001B[39mtype_pprinters:\n\u001B[1;32m    392\u001B[0m         \u001B[38;5;66;03m# printer registered in self.type_pprinters\u001B[39;00m\n\u001B[0;32m--> 393\u001B[0m         \u001B[38;5;28;01mreturn\u001B[39;00m \u001B[38;5;28;43mself\u001B[39;49m\u001B[38;5;241;43m.\u001B[39;49m\u001B[43mtype_pprinters\u001B[49m\u001B[43m[\u001B[49m\u001B[38;5;28;43mcls\u001B[39;49m\u001B[43m]\u001B[49m\u001B[43m(\u001B[49m\u001B[43mobj\u001B[49m\u001B[43m,\u001B[49m\u001B[43m \u001B[49m\u001B[38;5;28;43mself\u001B[39;49m\u001B[43m,\u001B[49m\u001B[43m \u001B[49m\u001B[43mcycle\u001B[49m\u001B[43m)\u001B[49m\n\u001B[1;32m    394\u001B[0m     \u001B[38;5;28;01melse\u001B[39;00m:\n\u001B[1;32m    395\u001B[0m         \u001B[38;5;66;03m# deferred printer\u001B[39;00m\n\u001B[1;32m    396\u001B[0m         printer \u001B[38;5;241m=\u001B[39m \u001B[38;5;28mself\u001B[39m\u001B[38;5;241m.\u001B[39m_in_deferred_types(\u001B[38;5;28mcls\u001B[39m)\n",
      "File \u001B[0;32m~/PycharmProjects/tadProject/.venv/lib/python3.9/site-packages/IPython/lib/pretty.py:640\u001B[0m, in \u001B[0;36m_seq_pprinter_factory.<locals>.inner\u001B[0;34m(obj, p, cycle)\u001B[0m\n\u001B[1;32m    638\u001B[0m         p\u001B[38;5;241m.\u001B[39mtext(\u001B[38;5;124m'\u001B[39m\u001B[38;5;124m,\u001B[39m\u001B[38;5;124m'\u001B[39m)\n\u001B[1;32m    639\u001B[0m         p\u001B[38;5;241m.\u001B[39mbreakable()\n\u001B[0;32m--> 640\u001B[0m     \u001B[43mp\u001B[49m\u001B[38;5;241;43m.\u001B[39;49m\u001B[43mpretty\u001B[49m\u001B[43m(\u001B[49m\u001B[43mx\u001B[49m\u001B[43m)\u001B[49m\n\u001B[1;32m    641\u001B[0m \u001B[38;5;28;01mif\u001B[39;00m \u001B[38;5;28mlen\u001B[39m(obj) \u001B[38;5;241m==\u001B[39m \u001B[38;5;241m1\u001B[39m \u001B[38;5;129;01mand\u001B[39;00m \u001B[38;5;28misinstance\u001B[39m(obj, \u001B[38;5;28mtuple\u001B[39m):\n\u001B[1;32m    642\u001B[0m     \u001B[38;5;66;03m# Special case for 1-item tuples.\u001B[39;00m\n\u001B[1;32m    643\u001B[0m     p\u001B[38;5;241m.\u001B[39mtext(\u001B[38;5;124m'\u001B[39m\u001B[38;5;124m,\u001B[39m\u001B[38;5;124m'\u001B[39m)\n",
      "File \u001B[0;32m~/PycharmProjects/tadProject/.venv/lib/python3.9/site-packages/IPython/lib/pretty.py:393\u001B[0m, in \u001B[0;36mRepresentationPrinter.pretty\u001B[0;34m(self, obj)\u001B[0m\n\u001B[1;32m    390\u001B[0m \u001B[38;5;28;01mfor\u001B[39;00m \u001B[38;5;28mcls\u001B[39m \u001B[38;5;129;01min\u001B[39;00m _get_mro(obj_class):\n\u001B[1;32m    391\u001B[0m     \u001B[38;5;28;01mif\u001B[39;00m \u001B[38;5;28mcls\u001B[39m \u001B[38;5;129;01min\u001B[39;00m \u001B[38;5;28mself\u001B[39m\u001B[38;5;241m.\u001B[39mtype_pprinters:\n\u001B[1;32m    392\u001B[0m         \u001B[38;5;66;03m# printer registered in self.type_pprinters\u001B[39;00m\n\u001B[0;32m--> 393\u001B[0m         \u001B[38;5;28;01mreturn\u001B[39;00m \u001B[38;5;28;43mself\u001B[39;49m\u001B[38;5;241;43m.\u001B[39;49m\u001B[43mtype_pprinters\u001B[49m\u001B[43m[\u001B[49m\u001B[38;5;28;43mcls\u001B[39;49m\u001B[43m]\u001B[49m\u001B[43m(\u001B[49m\u001B[43mobj\u001B[49m\u001B[43m,\u001B[49m\u001B[43m \u001B[49m\u001B[38;5;28;43mself\u001B[39;49m\u001B[43m,\u001B[49m\u001B[43m \u001B[49m\u001B[43mcycle\u001B[49m\u001B[43m)\u001B[49m\n\u001B[1;32m    394\u001B[0m     \u001B[38;5;28;01melse\u001B[39;00m:\n\u001B[1;32m    395\u001B[0m         \u001B[38;5;66;03m# deferred printer\u001B[39;00m\n\u001B[1;32m    396\u001B[0m         printer \u001B[38;5;241m=\u001B[39m \u001B[38;5;28mself\u001B[39m\u001B[38;5;241m.\u001B[39m_in_deferred_types(\u001B[38;5;28mcls\u001B[39m)\n",
      "File \u001B[0;32m~/PycharmProjects/tadProject/.venv/lib/python3.9/site-packages/IPython/lib/pretty.py:640\u001B[0m, in \u001B[0;36m_seq_pprinter_factory.<locals>.inner\u001B[0;34m(obj, p, cycle)\u001B[0m\n\u001B[1;32m    638\u001B[0m         p\u001B[38;5;241m.\u001B[39mtext(\u001B[38;5;124m'\u001B[39m\u001B[38;5;124m,\u001B[39m\u001B[38;5;124m'\u001B[39m)\n\u001B[1;32m    639\u001B[0m         p\u001B[38;5;241m.\u001B[39mbreakable()\n\u001B[0;32m--> 640\u001B[0m     \u001B[43mp\u001B[49m\u001B[38;5;241;43m.\u001B[39;49m\u001B[43mpretty\u001B[49m\u001B[43m(\u001B[49m\u001B[43mx\u001B[49m\u001B[43m)\u001B[49m\n\u001B[1;32m    641\u001B[0m \u001B[38;5;28;01mif\u001B[39;00m \u001B[38;5;28mlen\u001B[39m(obj) \u001B[38;5;241m==\u001B[39m \u001B[38;5;241m1\u001B[39m \u001B[38;5;129;01mand\u001B[39;00m \u001B[38;5;28misinstance\u001B[39m(obj, \u001B[38;5;28mtuple\u001B[39m):\n\u001B[1;32m    642\u001B[0m     \u001B[38;5;66;03m# Special case for 1-item tuples.\u001B[39;00m\n\u001B[1;32m    643\u001B[0m     p\u001B[38;5;241m.\u001B[39mtext(\u001B[38;5;124m'\u001B[39m\u001B[38;5;124m,\u001B[39m\u001B[38;5;124m'\u001B[39m)\n",
      "File \u001B[0;32m~/PycharmProjects/tadProject/.venv/lib/python3.9/site-packages/IPython/lib/pretty.py:410\u001B[0m, in \u001B[0;36mRepresentationPrinter.pretty\u001B[0;34m(self, obj)\u001B[0m\n\u001B[1;32m    407\u001B[0m                         \u001B[38;5;28;01mreturn\u001B[39;00m meth(obj, \u001B[38;5;28mself\u001B[39m, cycle)\n\u001B[1;32m    408\u001B[0m                 \u001B[38;5;28;01mif\u001B[39;00m \u001B[38;5;28mcls\u001B[39m \u001B[38;5;129;01mis\u001B[39;00m \u001B[38;5;129;01mnot\u001B[39;00m \u001B[38;5;28mobject\u001B[39m \\\n\u001B[1;32m    409\u001B[0m                         \u001B[38;5;129;01mand\u001B[39;00m \u001B[38;5;28mcallable\u001B[39m(\u001B[38;5;28mcls\u001B[39m\u001B[38;5;241m.\u001B[39m\u001B[38;5;18m__dict__\u001B[39m\u001B[38;5;241m.\u001B[39mget(\u001B[38;5;124m'\u001B[39m\u001B[38;5;124m__repr__\u001B[39m\u001B[38;5;124m'\u001B[39m)):\n\u001B[0;32m--> 410\u001B[0m                     \u001B[38;5;28;01mreturn\u001B[39;00m \u001B[43m_repr_pprint\u001B[49m\u001B[43m(\u001B[49m\u001B[43mobj\u001B[49m\u001B[43m,\u001B[49m\u001B[43m \u001B[49m\u001B[38;5;28;43mself\u001B[39;49m\u001B[43m,\u001B[49m\u001B[43m \u001B[49m\u001B[43mcycle\u001B[49m\u001B[43m)\u001B[49m\n\u001B[1;32m    412\u001B[0m     \u001B[38;5;28;01mreturn\u001B[39;00m _default_pprint(obj, \u001B[38;5;28mself\u001B[39m, cycle)\n\u001B[1;32m    413\u001B[0m \u001B[38;5;28;01mfinally\u001B[39;00m:\n",
      "File \u001B[0;32m~/PycharmProjects/tadProject/.venv/lib/python3.9/site-packages/IPython/lib/pretty.py:778\u001B[0m, in \u001B[0;36m_repr_pprint\u001B[0;34m(obj, p, cycle)\u001B[0m\n\u001B[1;32m    776\u001B[0m \u001B[38;5;250m\u001B[39m\u001B[38;5;124;03m\"\"\"A pprint that just redirects to the normal repr function.\"\"\"\u001B[39;00m\n\u001B[1;32m    777\u001B[0m \u001B[38;5;66;03m# Find newlines and replace them with p.break_()\u001B[39;00m\n\u001B[0;32m--> 778\u001B[0m output \u001B[38;5;241m=\u001B[39m \u001B[38;5;28;43mrepr\u001B[39;49m\u001B[43m(\u001B[49m\u001B[43mobj\u001B[49m\u001B[43m)\u001B[49m\n\u001B[1;32m    779\u001B[0m lines \u001B[38;5;241m=\u001B[39m output\u001B[38;5;241m.\u001B[39msplitlines()\n\u001B[1;32m    780\u001B[0m \u001B[38;5;28;01mwith\u001B[39;00m p\u001B[38;5;241m.\u001B[39mgroup():\n",
      "File \u001B[0;32m~/PycharmProjects/tadProject/.venv/lib/python3.9/site-packages/torch/nn/modules/module.py:2490\u001B[0m, in \u001B[0;36mModule.__repr__\u001B[0;34m(self)\u001B[0m\n\u001B[1;32m   2488\u001B[0m child_lines \u001B[38;5;241m=\u001B[39m []\n\u001B[1;32m   2489\u001B[0m \u001B[38;5;28;01mfor\u001B[39;00m key, module \u001B[38;5;129;01min\u001B[39;00m \u001B[38;5;28mself\u001B[39m\u001B[38;5;241m.\u001B[39m_modules\u001B[38;5;241m.\u001B[39mitems():\n\u001B[0;32m-> 2490\u001B[0m     mod_str \u001B[38;5;241m=\u001B[39m \u001B[38;5;28;43mrepr\u001B[39;49m\u001B[43m(\u001B[49m\u001B[43mmodule\u001B[49m\u001B[43m)\u001B[49m\n\u001B[1;32m   2491\u001B[0m     mod_str \u001B[38;5;241m=\u001B[39m _addindent(mod_str, \u001B[38;5;241m2\u001B[39m)\n\u001B[1;32m   2492\u001B[0m     child_lines\u001B[38;5;241m.\u001B[39mappend(\u001B[38;5;124m'\u001B[39m\u001B[38;5;124m(\u001B[39m\u001B[38;5;124m'\u001B[39m \u001B[38;5;241m+\u001B[39m key \u001B[38;5;241m+\u001B[39m \u001B[38;5;124m'\u001B[39m\u001B[38;5;124m): \u001B[39m\u001B[38;5;124m'\u001B[39m \u001B[38;5;241m+\u001B[39m mod_str)\n",
      "File \u001B[0;32m~/PycharmProjects/tadProject/.venv/lib/python3.9/site-packages/torch/nn/modules/module.py:2490\u001B[0m, in \u001B[0;36mModule.__repr__\u001B[0;34m(self)\u001B[0m\n\u001B[1;32m   2488\u001B[0m child_lines \u001B[38;5;241m=\u001B[39m []\n\u001B[1;32m   2489\u001B[0m \u001B[38;5;28;01mfor\u001B[39;00m key, module \u001B[38;5;129;01min\u001B[39;00m \u001B[38;5;28mself\u001B[39m\u001B[38;5;241m.\u001B[39m_modules\u001B[38;5;241m.\u001B[39mitems():\n\u001B[0;32m-> 2490\u001B[0m     mod_str \u001B[38;5;241m=\u001B[39m \u001B[38;5;28;43mrepr\u001B[39;49m\u001B[43m(\u001B[49m\u001B[43mmodule\u001B[49m\u001B[43m)\u001B[49m\n\u001B[1;32m   2491\u001B[0m     mod_str \u001B[38;5;241m=\u001B[39m _addindent(mod_str, \u001B[38;5;241m2\u001B[39m)\n\u001B[1;32m   2492\u001B[0m     child_lines\u001B[38;5;241m.\u001B[39mappend(\u001B[38;5;124m'\u001B[39m\u001B[38;5;124m(\u001B[39m\u001B[38;5;124m'\u001B[39m \u001B[38;5;241m+\u001B[39m key \u001B[38;5;241m+\u001B[39m \u001B[38;5;124m'\u001B[39m\u001B[38;5;124m): \u001B[39m\u001B[38;5;124m'\u001B[39m \u001B[38;5;241m+\u001B[39m mod_str)\n",
      "    \u001B[0;31m[... skipping similar frames: Module.__repr__ at line 2490 (981 times)]\u001B[0m\n",
      "File \u001B[0;32m~/PycharmProjects/tadProject/.venv/lib/python3.9/site-packages/torch/nn/modules/module.py:2490\u001B[0m, in \u001B[0;36mModule.__repr__\u001B[0;34m(self)\u001B[0m\n\u001B[1;32m   2488\u001B[0m child_lines \u001B[38;5;241m=\u001B[39m []\n\u001B[1;32m   2489\u001B[0m \u001B[38;5;28;01mfor\u001B[39;00m key, module \u001B[38;5;129;01min\u001B[39;00m \u001B[38;5;28mself\u001B[39m\u001B[38;5;241m.\u001B[39m_modules\u001B[38;5;241m.\u001B[39mitems():\n\u001B[0;32m-> 2490\u001B[0m     mod_str \u001B[38;5;241m=\u001B[39m \u001B[38;5;28;43mrepr\u001B[39;49m\u001B[43m(\u001B[49m\u001B[43mmodule\u001B[49m\u001B[43m)\u001B[49m\n\u001B[1;32m   2491\u001B[0m     mod_str \u001B[38;5;241m=\u001B[39m _addindent(mod_str, \u001B[38;5;241m2\u001B[39m)\n\u001B[1;32m   2492\u001B[0m     child_lines\u001B[38;5;241m.\u001B[39mappend(\u001B[38;5;124m'\u001B[39m\u001B[38;5;124m(\u001B[39m\u001B[38;5;124m'\u001B[39m \u001B[38;5;241m+\u001B[39m key \u001B[38;5;241m+\u001B[39m \u001B[38;5;124m'\u001B[39m\u001B[38;5;124m): \u001B[39m\u001B[38;5;124m'\u001B[39m \u001B[38;5;241m+\u001B[39m mod_str)\n",
      "\u001B[0;31mRecursionError\u001B[0m: maximum recursion depth exceeded"
     ]
    }
   ],
   "source": [
    "net._modules"
   ],
   "metadata": {
    "collapsed": false,
    "ExecuteTime": {
     "end_time": "2024-03-26T12:37:25.645995Z",
     "start_time": "2024-03-26T12:37:25.373300Z"
    }
   },
   "id": "68baff361ae001bf"
  },
  {
   "cell_type": "code",
   "execution_count": 11,
   "outputs": [
    {
     "ename": "RecursionError",
     "evalue": "maximum recursion depth exceeded while calling a Python object",
     "output_type": "error",
     "traceback": [
      "\u001B[0;31m---------------------------------------------------------------------------\u001B[0m",
      "\u001B[0;31mRecursionError\u001B[0m                            Traceback (most recent call last)",
      "Cell \u001B[0;32mIn[11], line 1\u001B[0m\n\u001B[0;32m----> 1\u001B[0m \u001B[43mnet\u001B[49m\u001B[38;5;241;43m.\u001B[39;49m\u001B[43mtrain\u001B[49m\u001B[43m(\u001B[49m\u001B[38;5;28;43;01mTrue\u001B[39;49;00m\u001B[43m)\u001B[49m\n",
      "File \u001B[0;32m~/PycharmProjects/tadProject/.venv/lib/python3.9/site-packages/torch/nn/modules/module.py:2394\u001B[0m, in \u001B[0;36mModule.train\u001B[0;34m(self, mode)\u001B[0m\n\u001B[1;32m   2392\u001B[0m \u001B[38;5;28mself\u001B[39m\u001B[38;5;241m.\u001B[39mtraining \u001B[38;5;241m=\u001B[39m mode\n\u001B[1;32m   2393\u001B[0m \u001B[38;5;28;01mfor\u001B[39;00m module \u001B[38;5;129;01min\u001B[39;00m \u001B[38;5;28mself\u001B[39m\u001B[38;5;241m.\u001B[39mchildren():\n\u001B[0;32m-> 2394\u001B[0m     \u001B[43mmodule\u001B[49m\u001B[38;5;241;43m.\u001B[39;49m\u001B[43mtrain\u001B[49m\u001B[43m(\u001B[49m\u001B[43mmode\u001B[49m\u001B[43m)\u001B[49m\n\u001B[1;32m   2395\u001B[0m \u001B[38;5;28;01mreturn\u001B[39;00m \u001B[38;5;28mself\u001B[39m\n",
      "File \u001B[0;32m~/PycharmProjects/tadProject/.venv/lib/python3.9/site-packages/torch/nn/modules/module.py:2394\u001B[0m, in \u001B[0;36mModule.train\u001B[0;34m(self, mode)\u001B[0m\n\u001B[1;32m   2392\u001B[0m \u001B[38;5;28mself\u001B[39m\u001B[38;5;241m.\u001B[39mtraining \u001B[38;5;241m=\u001B[39m mode\n\u001B[1;32m   2393\u001B[0m \u001B[38;5;28;01mfor\u001B[39;00m module \u001B[38;5;129;01min\u001B[39;00m \u001B[38;5;28mself\u001B[39m\u001B[38;5;241m.\u001B[39mchildren():\n\u001B[0;32m-> 2394\u001B[0m     \u001B[43mmodule\u001B[49m\u001B[38;5;241;43m.\u001B[39;49m\u001B[43mtrain\u001B[49m\u001B[43m(\u001B[49m\u001B[43mmode\u001B[49m\u001B[43m)\u001B[49m\n\u001B[1;32m   2395\u001B[0m \u001B[38;5;28;01mreturn\u001B[39;00m \u001B[38;5;28mself\u001B[39m\n",
      "    \u001B[0;31m[... skipping similar frames: Module.train at line 2394 (2962 times)]\u001B[0m\n",
      "File \u001B[0;32m~/PycharmProjects/tadProject/.venv/lib/python3.9/site-packages/torch/nn/modules/module.py:2394\u001B[0m, in \u001B[0;36mModule.train\u001B[0;34m(self, mode)\u001B[0m\n\u001B[1;32m   2392\u001B[0m \u001B[38;5;28mself\u001B[39m\u001B[38;5;241m.\u001B[39mtraining \u001B[38;5;241m=\u001B[39m mode\n\u001B[1;32m   2393\u001B[0m \u001B[38;5;28;01mfor\u001B[39;00m module \u001B[38;5;129;01min\u001B[39;00m \u001B[38;5;28mself\u001B[39m\u001B[38;5;241m.\u001B[39mchildren():\n\u001B[0;32m-> 2394\u001B[0m     \u001B[43mmodule\u001B[49m\u001B[38;5;241;43m.\u001B[39;49m\u001B[43mtrain\u001B[49m\u001B[43m(\u001B[49m\u001B[43mmode\u001B[49m\u001B[43m)\u001B[49m\n\u001B[1;32m   2395\u001B[0m \u001B[38;5;28;01mreturn\u001B[39;00m \u001B[38;5;28mself\u001B[39m\n",
      "File \u001B[0;32m~/PycharmProjects/tadProject/.venv/lib/python3.9/site-packages/torch/nn/modules/module.py:2392\u001B[0m, in \u001B[0;36mModule.train\u001B[0;34m(self, mode)\u001B[0m\n\u001B[1;32m   2390\u001B[0m \u001B[38;5;28;01mif\u001B[39;00m \u001B[38;5;129;01mnot\u001B[39;00m \u001B[38;5;28misinstance\u001B[39m(mode, \u001B[38;5;28mbool\u001B[39m):\n\u001B[1;32m   2391\u001B[0m     \u001B[38;5;28;01mraise\u001B[39;00m \u001B[38;5;167;01mValueError\u001B[39;00m(\u001B[38;5;124m\"\u001B[39m\u001B[38;5;124mtraining mode is expected to be boolean\u001B[39m\u001B[38;5;124m\"\u001B[39m)\n\u001B[0;32m-> 2392\u001B[0m \u001B[38;5;28;43mself\u001B[39;49m\u001B[38;5;241;43m.\u001B[39;49m\u001B[43mtraining\u001B[49m \u001B[38;5;241m=\u001B[39m mode\n\u001B[1;32m   2393\u001B[0m \u001B[38;5;28;01mfor\u001B[39;00m module \u001B[38;5;129;01min\u001B[39;00m \u001B[38;5;28mself\u001B[39m\u001B[38;5;241m.\u001B[39mchildren():\n\u001B[1;32m   2394\u001B[0m     module\u001B[38;5;241m.\u001B[39mtrain(mode)\n",
      "File \u001B[0;32m~/PycharmProjects/tadProject/.venv/lib/python3.9/site-packages/torch/nn/modules/module.py:1700\u001B[0m, in \u001B[0;36mModule.__setattr__\u001B[0;34m(self, name, value)\u001B[0m\n\u001B[1;32m   1697\u001B[0m                 d\u001B[38;5;241m.\u001B[39mdiscard(name)\n\u001B[1;32m   1699\u001B[0m params \u001B[38;5;241m=\u001B[39m \u001B[38;5;28mself\u001B[39m\u001B[38;5;241m.\u001B[39m\u001B[38;5;18m__dict__\u001B[39m\u001B[38;5;241m.\u001B[39mget(\u001B[38;5;124m'\u001B[39m\u001B[38;5;124m_parameters\u001B[39m\u001B[38;5;124m'\u001B[39m)\n\u001B[0;32m-> 1700\u001B[0m \u001B[38;5;28;01mif\u001B[39;00m \u001B[38;5;28;43misinstance\u001B[39;49m\u001B[43m(\u001B[49m\u001B[43mvalue\u001B[49m\u001B[43m,\u001B[49m\u001B[43m \u001B[49m\u001B[43mParameter\u001B[49m\u001B[43m)\u001B[49m:\n\u001B[1;32m   1701\u001B[0m     \u001B[38;5;28;01mif\u001B[39;00m params \u001B[38;5;129;01mis\u001B[39;00m \u001B[38;5;28;01mNone\u001B[39;00m:\n\u001B[1;32m   1702\u001B[0m         \u001B[38;5;28;01mraise\u001B[39;00m \u001B[38;5;167;01mAttributeError\u001B[39;00m(\n\u001B[1;32m   1703\u001B[0m             \u001B[38;5;124m\"\u001B[39m\u001B[38;5;124mcannot assign parameters before Module.__init__() call\u001B[39m\u001B[38;5;124m\"\u001B[39m)\n",
      "File \u001B[0;32m~/PycharmProjects/tadProject/.venv/lib/python3.9/site-packages/torch/nn/parameter.py:10\u001B[0m, in \u001B[0;36m_ParameterMeta.__instancecheck__\u001B[0;34m(self, instance)\u001B[0m\n\u001B[1;32m      8\u001B[0m \u001B[38;5;28;01mdef\u001B[39;00m \u001B[38;5;21m__instancecheck__\u001B[39m(\u001B[38;5;28mself\u001B[39m, instance):\n\u001B[1;32m      9\u001B[0m     \u001B[38;5;28;01mreturn\u001B[39;00m \u001B[38;5;28msuper\u001B[39m()\u001B[38;5;241m.\u001B[39m\u001B[38;5;21m__instancecheck__\u001B[39m(instance) \u001B[38;5;129;01mor\u001B[39;00m (\n\u001B[0;32m---> 10\u001B[0m         \u001B[38;5;28;43misinstance\u001B[39;49m\u001B[43m(\u001B[49m\u001B[43minstance\u001B[49m\u001B[43m,\u001B[49m\u001B[43m \u001B[49m\u001B[43mtorch\u001B[49m\u001B[38;5;241;43m.\u001B[39;49m\u001B[43mTensor\u001B[49m\u001B[43m)\u001B[49m \u001B[38;5;129;01mand\u001B[39;00m \u001B[38;5;28mgetattr\u001B[39m(instance, \u001B[38;5;124m'\u001B[39m\u001B[38;5;124m_is_param\u001B[39m\u001B[38;5;124m'\u001B[39m, \u001B[38;5;28;01mFalse\u001B[39;00m))\n",
      "\u001B[0;31mRecursionError\u001B[0m: maximum recursion depth exceeded while calling a Python object"
     ]
    }
   ],
   "source": [
    "net.train(True)"
   ],
   "metadata": {
    "collapsed": false,
    "ExecuteTime": {
     "end_time": "2024-03-26T14:20:28.966768Z",
     "start_time": "2024-03-26T14:20:28.713311Z"
    }
   },
   "id": "77811661cfb83108"
  },
  {
   "cell_type": "code",
   "execution_count": 10,
   "outputs": [],
   "source": [
    "# Log Validation Results\n",
    "net.eval()\n",
    "vdata = next(iter(validation_loader))\n",
    "vinputs, vlabels = vdata\n",
    "voutputs = net(vinputs, topology=True)\n",
    "vloss = criterion(voutputs, vlabels)"
   ],
   "metadata": {
    "collapsed": false,
    "ExecuteTime": {
     "end_time": "2024-03-26T15:11:28.959229Z",
     "start_time": "2024-03-26T15:11:24.412706Z"
    }
   },
   "id": "8d742bcb86ed5712"
  },
  {
   "cell_type": "code",
   "execution_count": 10,
   "outputs": [
    {
     "data": {
      "text/plain": "tensor([[[0.0000],\n         [0.0000],\n         [0.0000],\n         [0.0000],\n         [0.0000],\n         [0.0000],\n         [0.0000],\n         [0.0000],\n         [0.0000],\n         [0.0000],\n         [0.0000],\n         [0.0000],\n         [0.0000],\n         [0.0000],\n         [0.0000],\n         [0.0000],\n         [0.0000],\n         [0.0000],\n         [0.0000],\n         [0.0000],\n         [0.0000],\n         [0.0000],\n         [0.0000],\n         [0.0000],\n         [0.0000],\n         [0.0000],\n         [0.0000],\n         [0.0000]],\n\n        [[0.0000],\n         [0.0000],\n         [0.0000],\n         [0.0000],\n         [0.0000],\n         [0.0000],\n         [0.0000],\n         [0.0000],\n         [0.0000],\n         [0.0000],\n         [0.0000],\n         [0.0000],\n         [0.0000],\n         [0.0000],\n         [0.0000],\n         [0.0000],\n         [0.0000],\n         [0.0000],\n         [0.0000],\n         [0.0000],\n         [0.0000],\n         [0.0000],\n         [0.0000],\n         [0.0000],\n         [0.0000],\n         [0.0000],\n         [0.0000],\n         [0.0000]],\n\n        [[0.0000],\n         [0.0000],\n         [0.0000],\n         [0.0000],\n         [0.0000],\n         [0.0000],\n         [0.0000],\n         [0.0000],\n         [0.0000],\n         [0.0000],\n         [0.0000],\n         [0.0000],\n         [0.0000],\n         [0.0000],\n         [0.0000],\n         [0.0000],\n         [0.0000],\n         [0.0000],\n         [0.0000],\n         [0.0000],\n         [0.0000],\n         [0.0000],\n         [0.0000],\n         [0.0000],\n         [0.0000],\n         [0.0000],\n         [0.0000],\n         [0.0000]],\n\n        [[0.0000],\n         [0.0000],\n         [0.0000],\n         [0.0000],\n         [0.0000],\n         [0.0000],\n         [0.0000],\n         [0.0000],\n         [0.0000],\n         [0.0000],\n         [0.0000],\n         [0.0000],\n         [0.0000],\n         [0.0000],\n         [0.0000],\n         [0.0000],\n         [0.0000],\n         [0.0000],\n         [0.0000],\n         [0.0000],\n         [0.0000],\n         [0.0000],\n         [0.0000],\n         [0.0000],\n         [0.0000],\n         [0.0000],\n         [0.0000],\n         [0.0000]],\n\n        [[0.0000],\n         [0.0000],\n         [0.0000],\n         [0.0000],\n         [0.0000],\n         [0.0000],\n         [0.0000],\n         [0.0000],\n         [0.0000],\n         [0.0000],\n         [0.0000],\n         [0.0000],\n         [0.0000],\n         [0.0000],\n         [0.0000],\n         [0.0000],\n         [0.0000],\n         [0.0000],\n         [0.0000],\n         [0.0000],\n         [0.0000],\n         [0.0000],\n         [0.0000],\n         [0.0000],\n         [0.0000],\n         [0.0000],\n         [0.0000],\n         [0.0000]],\n\n        [[0.0000],\n         [0.0000],\n         [0.0000],\n         [0.0000],\n         [0.0000],\n         [0.0000],\n         [0.0000],\n         [0.0000],\n         [0.0000],\n         [0.0000],\n         [0.0000],\n         [0.0000],\n         [0.0000],\n         [0.0000],\n         [0.0000],\n         [0.0000],\n         [0.0000],\n         [0.0000],\n         [0.0000],\n         [0.0000],\n         [0.0000],\n         [0.0000],\n         [0.0000],\n         [0.0000],\n         [0.0000],\n         [0.0000],\n         [0.0000],\n         [0.0000]],\n\n        [[0.0000],\n         [0.0000],\n         [0.0000],\n         [0.0000],\n         [0.0000],\n         [0.0000],\n         [0.0000],\n         [0.0000],\n         [0.0000],\n         [0.0000],\n         [0.0000],\n         [0.0000],\n         [0.0000],\n         [0.0000],\n         [0.0000],\n         [0.0000],\n         [0.0000],\n         [0.0000],\n         [0.0000],\n         [0.0000],\n         [0.0000],\n         [0.0000],\n         [0.0000],\n         [0.0000],\n         [0.0000],\n         [0.0000],\n         [0.0000],\n         [0.0000]],\n\n        [[0.0000],\n         [0.0000],\n         [0.0000],\n         [0.0000],\n         [0.0000],\n         [0.0000],\n         [0.0000],\n         [0.0000],\n         [0.0000],\n         [0.0000],\n         [0.0000],\n         [0.0000],\n         [0.0000],\n         [0.0000],\n         [0.0000],\n         [0.0000],\n         [0.0000],\n         [0.0000],\n         [0.0000],\n         [0.0118],\n         [0.0039],\n         [0.0000],\n         [0.0000],\n         [0.0275],\n         [0.0000],\n         [0.1451],\n         [0.0000],\n         [0.0000]],\n\n        [[0.0000],\n         [0.0000],\n         [0.0000],\n         [0.0000],\n         [0.0000],\n         [0.0000],\n         [0.0000],\n         [0.0000],\n         [0.0000],\n         [0.0000],\n         [0.0000],\n         [0.0000],\n         [0.0000],\n         [0.0039],\n         [0.0078],\n         [0.0000],\n         [0.1059],\n         [0.3294],\n         [0.0431],\n         [0.0000],\n         [0.0000],\n         [0.0000],\n         [0.0000],\n         [0.0000],\n         [0.0000],\n         [0.4667],\n         [0.0000],\n         [0.0000]],\n\n        [[0.0000],\n         [0.0000],\n         [0.0000],\n         [0.0000],\n         [0.0000],\n         [0.0000],\n         [0.0000],\n         [0.0000],\n         [0.0000],\n         [0.0000],\n         [0.0000],\n         [0.0000],\n         [0.0000],\n         [0.0039],\n         [0.0000],\n         [0.0000],\n         [0.3451],\n         [0.5608],\n         [0.4314],\n         [0.0000],\n         [0.0000],\n         [0.0000],\n         [0.0000],\n         [0.0863],\n         [0.3647],\n         [0.4157],\n         [0.0000],\n         [0.0000]],\n\n        [[0.0000],\n         [0.0000],\n         [0.0000],\n         [0.0000],\n         [0.0000],\n         [0.0000],\n         [0.0000],\n         [0.0000],\n         [0.0000],\n         [0.0000],\n         [0.0000],\n         [0.0000],\n         [0.0000],\n         [0.0157],\n         [0.0000],\n         [0.2078],\n         [0.5059],\n         [0.4706],\n         [0.5765],\n         [0.6863],\n         [0.6157],\n         [0.6510],\n         [0.5294],\n         [0.6039],\n         [0.6588],\n         [0.5490],\n         [0.0000],\n         [0.0000]],\n\n        [[0.0000],\n         [0.0000],\n         [0.0000],\n         [0.0000],\n         [0.0000],\n         [0.0000],\n         [0.0000],\n         [0.0000],\n         [0.0000],\n         [0.0000],\n         [0.0000],\n         [0.0000],\n         [0.0078],\n         [0.0000],\n         [0.0431],\n         [0.5373],\n         [0.5098],\n         [0.5020],\n         [0.6275],\n         [0.6902],\n         [0.6235],\n         [0.6549],\n         [0.6980],\n         [0.5843],\n         [0.5922],\n         [0.5647],\n         [0.0000],\n         [0.0000]],\n\n        [[0.0000],\n         [0.0000],\n         [0.0000],\n         [0.0000],\n         [0.0000],\n         [0.0000],\n         [0.0039],\n         [0.0000],\n         [0.0078],\n         [0.0039],\n         [0.0000],\n         [0.0118],\n         [0.0000],\n         [0.0000],\n         [0.4510],\n         [0.4471],\n         [0.4157],\n         [0.5373],\n         [0.6588],\n         [0.6000],\n         [0.6118],\n         [0.6471],\n         [0.6549],\n         [0.5608],\n         [0.6157],\n         [0.6196],\n         [0.0431],\n         [0.0000]],\n\n        [[0.0000],\n         [0.0000],\n         [0.0000],\n         [0.0000],\n         [0.0039],\n         [0.0000],\n         [0.0000],\n         [0.0000],\n         [0.0000],\n         [0.0000],\n         [0.0118],\n         [0.0000],\n         [0.0000],\n         [0.3490],\n         [0.5451],\n         [0.3529],\n         [0.3686],\n         [0.6000],\n         [0.5843],\n         [0.5137],\n         [0.5922],\n         [0.6627],\n         [0.6745],\n         [0.5608],\n         [0.6235],\n         [0.6627],\n         [0.1882],\n         [0.0000]],\n\n        [[0.0000],\n         [0.0000],\n         [0.0000],\n         [0.0000],\n         [0.0000],\n         [0.0000],\n         [0.0078],\n         [0.0157],\n         [0.0039],\n         [0.0000],\n         [0.0000],\n         [0.0000],\n         [0.3843],\n         [0.5333],\n         [0.4314],\n         [0.4275],\n         [0.4314],\n         [0.6353],\n         [0.5294],\n         [0.5647],\n         [0.5843],\n         [0.6235],\n         [0.6549],\n         [0.5647],\n         [0.6196],\n         [0.6627],\n         [0.4667],\n         [0.0000]],\n\n        [[0.0000],\n         [0.0000],\n         [0.0078],\n         [0.0078],\n         [0.0039],\n         [0.0078],\n         [0.0000],\n         [0.0000],\n         [0.0000],\n         [0.0000],\n         [0.1020],\n         [0.4235],\n         [0.4588],\n         [0.3882],\n         [0.4353],\n         [0.4588],\n         [0.5333],\n         [0.6118],\n         [0.5255],\n         [0.6039],\n         [0.6039],\n         [0.6118],\n         [0.6275],\n         [0.5529],\n         [0.5765],\n         [0.6118],\n         [0.6980],\n         [0.0000]],\n\n        [[0.0118],\n         [0.0000],\n         [0.0000],\n         [0.0000],\n         [0.0000],\n         [0.0000],\n         [0.0000],\n         [0.0824],\n         [0.2078],\n         [0.3608],\n         [0.4588],\n         [0.4353],\n         [0.4039],\n         [0.4510],\n         [0.5059],\n         [0.5255],\n         [0.5608],\n         [0.6039],\n         [0.6471],\n         [0.6667],\n         [0.6039],\n         [0.5922],\n         [0.6039],\n         [0.5608],\n         [0.5412],\n         [0.5882],\n         [0.6471],\n         [0.1686]],\n\n        [[0.0000],\n         [0.0000],\n         [0.0902],\n         [0.2118],\n         [0.2549],\n         [0.2980],\n         [0.3333],\n         [0.4627],\n         [0.5020],\n         [0.4824],\n         [0.4353],\n         [0.4431],\n         [0.4627],\n         [0.4980],\n         [0.4902],\n         [0.5451],\n         [0.5216],\n         [0.5333],\n         [0.6275],\n         [0.5490],\n         [0.6078],\n         [0.6314],\n         [0.5647],\n         [0.6078],\n         [0.6745],\n         [0.6314],\n         [0.7412],\n         [0.2431]],\n\n        [[0.0000],\n         [0.2667],\n         [0.3686],\n         [0.3529],\n         [0.4353],\n         [0.4471],\n         [0.4353],\n         [0.4471],\n         [0.4510],\n         [0.4980],\n         [0.5294],\n         [0.5333],\n         [0.5608],\n         [0.4941],\n         [0.4980],\n         [0.5922],\n         [0.6039],\n         [0.5608],\n         [0.5804],\n         [0.4902],\n         [0.6353],\n         [0.6353],\n         [0.5647],\n         [0.5412],\n         [0.6000],\n         [0.6353],\n         [0.7686],\n         [0.2275]],\n\n        [[0.2745],\n         [0.6627],\n         [0.5059],\n         [0.4078],\n         [0.3843],\n         [0.3922],\n         [0.3686],\n         [0.3804],\n         [0.3843],\n         [0.4000],\n         [0.4235],\n         [0.4157],\n         [0.4667],\n         [0.4706],\n         [0.5059],\n         [0.5843],\n         [0.6118],\n         [0.6549],\n         [0.7451],\n         [0.7451],\n         [0.7686],\n         [0.7765],\n         [0.7765],\n         [0.7333],\n         [0.7725],\n         [0.7412],\n         [0.7216],\n         [0.1412]],\n\n        [[0.0627],\n         [0.4941],\n         [0.6706],\n         [0.7373],\n         [0.7373],\n         [0.7216],\n         [0.6706],\n         [0.6000],\n         [0.5294],\n         [0.4706],\n         [0.4941],\n         [0.4980],\n         [0.5725],\n         [0.7255],\n         [0.7647],\n         [0.8196],\n         [0.8157],\n         [1.0000],\n         [0.8196],\n         [0.6941],\n         [0.9608],\n         [0.9882],\n         [0.9843],\n         [0.9843],\n         [0.9686],\n         [0.8627],\n         [0.8078],\n         [0.1922]],\n\n        [[0.0000],\n         [0.0000],\n         [0.0000],\n         [0.0471],\n         [0.2627],\n         [0.4157],\n         [0.6431],\n         [0.7255],\n         [0.7804],\n         [0.8235],\n         [0.8275],\n         [0.8235],\n         [0.8157],\n         [0.7451],\n         [0.5882],\n         [0.3216],\n         [0.0314],\n         [0.0000],\n         [0.0000],\n         [0.0000],\n         [0.6980],\n         [0.8157],\n         [0.7373],\n         [0.6863],\n         [0.6353],\n         [0.6196],\n         [0.5922],\n         [0.0431]],\n\n        [[0.0000],\n         [0.0000],\n         [0.0000],\n         [0.0000],\n         [0.0000],\n         [0.0000],\n         [0.0000],\n         [0.0000],\n         [0.0000],\n         [0.0000],\n         [0.0000],\n         [0.0000],\n         [0.0000],\n         [0.0000],\n         [0.0000],\n         [0.0000],\n         [0.0000],\n         [0.0000],\n         [0.0000],\n         [0.0000],\n         [0.0000],\n         [0.0000],\n         [0.0000],\n         [0.0000],\n         [0.0000],\n         [0.0000],\n         [0.0000],\n         [0.0000]],\n\n        [[0.0000],\n         [0.0000],\n         [0.0000],\n         [0.0000],\n         [0.0000],\n         [0.0000],\n         [0.0000],\n         [0.0000],\n         [0.0000],\n         [0.0000],\n         [0.0000],\n         [0.0000],\n         [0.0000],\n         [0.0000],\n         [0.0000],\n         [0.0000],\n         [0.0000],\n         [0.0000],\n         [0.0000],\n         [0.0000],\n         [0.0000],\n         [0.0000],\n         [0.0000],\n         [0.0000],\n         [0.0000],\n         [0.0000],\n         [0.0000],\n         [0.0000]],\n\n        [[0.0000],\n         [0.0000],\n         [0.0000],\n         [0.0000],\n         [0.0000],\n         [0.0000],\n         [0.0000],\n         [0.0000],\n         [0.0000],\n         [0.0000],\n         [0.0000],\n         [0.0000],\n         [0.0000],\n         [0.0000],\n         [0.0000],\n         [0.0000],\n         [0.0000],\n         [0.0000],\n         [0.0000],\n         [0.0000],\n         [0.0000],\n         [0.0000],\n         [0.0000],\n         [0.0000],\n         [0.0000],\n         [0.0000],\n         [0.0000],\n         [0.0000]],\n\n        [[0.0000],\n         [0.0000],\n         [0.0000],\n         [0.0000],\n         [0.0000],\n         [0.0000],\n         [0.0000],\n         [0.0000],\n         [0.0000],\n         [0.0000],\n         [0.0000],\n         [0.0000],\n         [0.0000],\n         [0.0000],\n         [0.0000],\n         [0.0000],\n         [0.0000],\n         [0.0000],\n         [0.0000],\n         [0.0000],\n         [0.0000],\n         [0.0000],\n         [0.0000],\n         [0.0000],\n         [0.0000],\n         [0.0000],\n         [0.0000],\n         [0.0000]],\n\n        [[0.0000],\n         [0.0000],\n         [0.0000],\n         [0.0000],\n         [0.0000],\n         [0.0000],\n         [0.0000],\n         [0.0000],\n         [0.0000],\n         [0.0000],\n         [0.0000],\n         [0.0000],\n         [0.0000],\n         [0.0000],\n         [0.0000],\n         [0.0000],\n         [0.0000],\n         [0.0000],\n         [0.0000],\n         [0.0000],\n         [0.0000],\n         [0.0000],\n         [0.0000],\n         [0.0000],\n         [0.0000],\n         [0.0000],\n         [0.0000],\n         [0.0000]],\n\n        [[0.0000],\n         [0.0000],\n         [0.0000],\n         [0.0000],\n         [0.0000],\n         [0.0000],\n         [0.0000],\n         [0.0000],\n         [0.0000],\n         [0.0000],\n         [0.0000],\n         [0.0000],\n         [0.0000],\n         [0.0000],\n         [0.0000],\n         [0.0000],\n         [0.0000],\n         [0.0000],\n         [0.0000],\n         [0.0000],\n         [0.0000],\n         [0.0000],\n         [0.0000],\n         [0.0000],\n         [0.0000],\n         [0.0000],\n         [0.0000],\n         [0.0000]]])"
     },
     "execution_count": 10,
     "metadata": {},
     "output_type": "execute_result"
    }
   ],
   "source": [
    "(vinputs[0] / 2 + 0.5).transpose(0, 1).transpose(1, 2)"
   ],
   "metadata": {
    "collapsed": false,
    "ExecuteTime": {
     "end_time": "2024-03-26T11:16:40.277243Z",
     "start_time": "2024-03-26T11:16:40.249287Z"
    }
   },
   "id": "7997b6edfffcbcf5"
  },
  {
   "cell_type": "code",
   "execution_count": 5,
   "outputs": [
    {
     "name": "stdout",
     "output_type": "stream",
     "text": [
      "2500\n",
      "Batch 1000\n"
     ]
    },
    {
     "ename": "RecursionError",
     "evalue": "maximum recursion depth exceeded while calling a Python object",
     "output_type": "error",
     "traceback": [
      "\u001B[0;31m---------------------------------------------------------------------------\u001B[0m",
      "\u001B[0;31mRecursionError\u001B[0m                            Traceback (most recent call last)",
      "Cell \u001B[0;32mIn[5], line 21\u001B[0m\n\u001B[1;32m     18\u001B[0m running_vloss \u001B[38;5;241m=\u001B[39m \u001B[38;5;241m0.0\u001B[39m\n\u001B[1;32m     20\u001B[0m \u001B[38;5;66;03m# In evaluation mode some model specific operations can be omitted eg. dropout layer\u001B[39;00m\n\u001B[0;32m---> 21\u001B[0m \u001B[43mnet\u001B[49m\u001B[38;5;241;43m.\u001B[39;49m\u001B[43mtrain\u001B[49m\u001B[43m(\u001B[49m\u001B[38;5;28;43;01mFalse\u001B[39;49;00m\u001B[43m)\u001B[49m \u001B[38;5;66;03m# Switching to evaluation mode, eg. turning off regularisation\u001B[39;00m\n\u001B[1;32m     23\u001B[0m \u001B[38;5;66;03m# Log Validation Results\u001B[39;00m\n\u001B[1;32m     24\u001B[0m vdata \u001B[38;5;241m=\u001B[39m \u001B[38;5;28mnext\u001B[39m(\u001B[38;5;28miter\u001B[39m(validation_loader))\n",
      "File \u001B[0;32m~/PycharmProjects/tadProject/.venv/lib/python3.9/site-packages/torch/nn/modules/module.py:2394\u001B[0m, in \u001B[0;36mModule.train\u001B[0;34m(self, mode)\u001B[0m\n\u001B[1;32m   2392\u001B[0m \u001B[38;5;28mself\u001B[39m\u001B[38;5;241m.\u001B[39mtraining \u001B[38;5;241m=\u001B[39m mode\n\u001B[1;32m   2393\u001B[0m \u001B[38;5;28;01mfor\u001B[39;00m module \u001B[38;5;129;01min\u001B[39;00m \u001B[38;5;28mself\u001B[39m\u001B[38;5;241m.\u001B[39mchildren():\n\u001B[0;32m-> 2394\u001B[0m     \u001B[43mmodule\u001B[49m\u001B[38;5;241;43m.\u001B[39;49m\u001B[43mtrain\u001B[49m\u001B[43m(\u001B[49m\u001B[43mmode\u001B[49m\u001B[43m)\u001B[49m\n\u001B[1;32m   2395\u001B[0m \u001B[38;5;28;01mreturn\u001B[39;00m \u001B[38;5;28mself\u001B[39m\n",
      "File \u001B[0;32m~/PycharmProjects/tadProject/.venv/lib/python3.9/site-packages/torch/nn/modules/module.py:2394\u001B[0m, in \u001B[0;36mModule.train\u001B[0;34m(self, mode)\u001B[0m\n\u001B[1;32m   2392\u001B[0m \u001B[38;5;28mself\u001B[39m\u001B[38;5;241m.\u001B[39mtraining \u001B[38;5;241m=\u001B[39m mode\n\u001B[1;32m   2393\u001B[0m \u001B[38;5;28;01mfor\u001B[39;00m module \u001B[38;5;129;01min\u001B[39;00m \u001B[38;5;28mself\u001B[39m\u001B[38;5;241m.\u001B[39mchildren():\n\u001B[0;32m-> 2394\u001B[0m     \u001B[43mmodule\u001B[49m\u001B[38;5;241;43m.\u001B[39;49m\u001B[43mtrain\u001B[49m\u001B[43m(\u001B[49m\u001B[43mmode\u001B[49m\u001B[43m)\u001B[49m\n\u001B[1;32m   2395\u001B[0m \u001B[38;5;28;01mreturn\u001B[39;00m \u001B[38;5;28mself\u001B[39m\n",
      "    \u001B[0;31m[... skipping similar frames: Module.train at line 2394 (2962 times)]\u001B[0m\n",
      "File \u001B[0;32m~/PycharmProjects/tadProject/.venv/lib/python3.9/site-packages/torch/nn/modules/module.py:2394\u001B[0m, in \u001B[0;36mModule.train\u001B[0;34m(self, mode)\u001B[0m\n\u001B[1;32m   2392\u001B[0m \u001B[38;5;28mself\u001B[39m\u001B[38;5;241m.\u001B[39mtraining \u001B[38;5;241m=\u001B[39m mode\n\u001B[1;32m   2393\u001B[0m \u001B[38;5;28;01mfor\u001B[39;00m module \u001B[38;5;129;01min\u001B[39;00m \u001B[38;5;28mself\u001B[39m\u001B[38;5;241m.\u001B[39mchildren():\n\u001B[0;32m-> 2394\u001B[0m     \u001B[43mmodule\u001B[49m\u001B[38;5;241;43m.\u001B[39;49m\u001B[43mtrain\u001B[49m\u001B[43m(\u001B[49m\u001B[43mmode\u001B[49m\u001B[43m)\u001B[49m\n\u001B[1;32m   2395\u001B[0m \u001B[38;5;28;01mreturn\u001B[39;00m \u001B[38;5;28mself\u001B[39m\n",
      "File \u001B[0;32m~/PycharmProjects/tadProject/.venv/lib/python3.9/site-packages/torch/nn/modules/module.py:2392\u001B[0m, in \u001B[0;36mModule.train\u001B[0;34m(self, mode)\u001B[0m\n\u001B[1;32m   2390\u001B[0m \u001B[38;5;28;01mif\u001B[39;00m \u001B[38;5;129;01mnot\u001B[39;00m \u001B[38;5;28misinstance\u001B[39m(mode, \u001B[38;5;28mbool\u001B[39m):\n\u001B[1;32m   2391\u001B[0m     \u001B[38;5;28;01mraise\u001B[39;00m \u001B[38;5;167;01mValueError\u001B[39;00m(\u001B[38;5;124m\"\u001B[39m\u001B[38;5;124mtraining mode is expected to be boolean\u001B[39m\u001B[38;5;124m\"\u001B[39m)\n\u001B[0;32m-> 2392\u001B[0m \u001B[38;5;28;43mself\u001B[39;49m\u001B[38;5;241;43m.\u001B[39;49m\u001B[43mtraining\u001B[49m \u001B[38;5;241m=\u001B[39m mode\n\u001B[1;32m   2393\u001B[0m \u001B[38;5;28;01mfor\u001B[39;00m module \u001B[38;5;129;01min\u001B[39;00m \u001B[38;5;28mself\u001B[39m\u001B[38;5;241m.\u001B[39mchildren():\n\u001B[1;32m   2394\u001B[0m     module\u001B[38;5;241m.\u001B[39mtrain(mode)\n",
      "File \u001B[0;32m~/PycharmProjects/tadProject/.venv/lib/python3.9/site-packages/torch/nn/modules/module.py:1700\u001B[0m, in \u001B[0;36mModule.__setattr__\u001B[0;34m(self, name, value)\u001B[0m\n\u001B[1;32m   1697\u001B[0m                 d\u001B[38;5;241m.\u001B[39mdiscard(name)\n\u001B[1;32m   1699\u001B[0m params \u001B[38;5;241m=\u001B[39m \u001B[38;5;28mself\u001B[39m\u001B[38;5;241m.\u001B[39m\u001B[38;5;18m__dict__\u001B[39m\u001B[38;5;241m.\u001B[39mget(\u001B[38;5;124m'\u001B[39m\u001B[38;5;124m_parameters\u001B[39m\u001B[38;5;124m'\u001B[39m)\n\u001B[0;32m-> 1700\u001B[0m \u001B[38;5;28;01mif\u001B[39;00m \u001B[38;5;28;43misinstance\u001B[39;49m\u001B[43m(\u001B[49m\u001B[43mvalue\u001B[49m\u001B[43m,\u001B[49m\u001B[43m \u001B[49m\u001B[43mParameter\u001B[49m\u001B[43m)\u001B[49m:\n\u001B[1;32m   1701\u001B[0m     \u001B[38;5;28;01mif\u001B[39;00m params \u001B[38;5;129;01mis\u001B[39;00m \u001B[38;5;28;01mNone\u001B[39;00m:\n\u001B[1;32m   1702\u001B[0m         \u001B[38;5;28;01mraise\u001B[39;00m \u001B[38;5;167;01mAttributeError\u001B[39;00m(\n\u001B[1;32m   1703\u001B[0m             \u001B[38;5;124m\"\u001B[39m\u001B[38;5;124mcannot assign parameters before Module.__init__() call\u001B[39m\u001B[38;5;124m\"\u001B[39m)\n",
      "File \u001B[0;32m~/PycharmProjects/tadProject/.venv/lib/python3.9/site-packages/torch/nn/parameter.py:10\u001B[0m, in \u001B[0;36m_ParameterMeta.__instancecheck__\u001B[0;34m(self, instance)\u001B[0m\n\u001B[1;32m      8\u001B[0m \u001B[38;5;28;01mdef\u001B[39;00m \u001B[38;5;21m__instancecheck__\u001B[39m(\u001B[38;5;28mself\u001B[39m, instance):\n\u001B[1;32m      9\u001B[0m     \u001B[38;5;28;01mreturn\u001B[39;00m \u001B[38;5;28msuper\u001B[39m()\u001B[38;5;241m.\u001B[39m\u001B[38;5;21m__instancecheck__\u001B[39m(instance) \u001B[38;5;129;01mor\u001B[39;00m (\n\u001B[0;32m---> 10\u001B[0m         \u001B[38;5;28;43misinstance\u001B[39;49m\u001B[43m(\u001B[49m\u001B[43minstance\u001B[49m\u001B[43m,\u001B[49m\u001B[43m \u001B[49m\u001B[43mtorch\u001B[49m\u001B[38;5;241;43m.\u001B[39;49m\u001B[43mTensor\u001B[49m\u001B[43m)\u001B[49m \u001B[38;5;129;01mand\u001B[39;00m \u001B[38;5;28mgetattr\u001B[39m(instance, \u001B[38;5;124m'\u001B[39m\u001B[38;5;124m_is_param\u001B[39m\u001B[38;5;124m'\u001B[39m, \u001B[38;5;28;01mFalse\u001B[39;00m))\n",
      "\u001B[0;31mRecursionError\u001B[0m: maximum recursion depth exceeded while calling a Python object"
     ]
    }
   ],
   "source": [
    "print(len(validation_loader))\n",
    "for epoch in range(1):  # loop over the dataset multiple times\n",
    "    running_loss = 0.0\n",
    "\n",
    "    for i, data in enumerate(training_loader, 0):\n",
    "        # basic training loop\n",
    "        inputs, labels = data\n",
    "        optimizer.zero_grad()\n",
    "        outputs = net(inputs)\n",
    "        loss = criterion(outputs, labels)\n",
    "        loss.backward()\n",
    "        optimizer.step()\n",
    "\n",
    "        running_loss += loss.item()\n",
    "        if i % 1000 == 999:    # Every 1000 mini-batches...\n",
    "            print('Batch {}'.format(i + 1))\n",
    "            # Check against the validation set\n",
    "            running_vloss = 0.0\n",
    "\n",
    "            # In evaluation mode some model specific operations can be omitted eg. dropout layer\n",
    "            net.train(False) # Switching to evaluation mode, eg. turning off regularisation\n",
    "            \n",
    "            # Log Validation Results\n",
    "            vdata = next(iter(validation_loader))\n",
    "            vinputs, vlabels = vdata\n",
    "            voutputs = net(vinputs, topology=True)\n",
    "            vloss = criterion(voutputs, vlabels)\n",
    "            running_vloss += vloss.item()\n",
    "            \n",
    "            for j, vdata in enumerate(validation_loader, 0):\n",
    "                vinputs, vlabels = vdata\n",
    "                voutputs = net(vinputs)\n",
    "                vloss = criterion(voutputs, vlabels)\n",
    "                running_vloss += vloss.item()\n",
    "            net.train(True) # Switching back to training mode, eg. turning on regularisation\n",
    "\n",
    "            avg_loss = running_loss / 1000\n",
    "            avg_vloss = running_vloss / len(validation_loader)\n",
    "\n",
    "            # Log the running loss averaged per batch\n",
    "            writer.add_scalars('Training vs. Validation Loss',\n",
    "                            { 'Training' : avg_loss, 'Validation' : avg_vloss },\n",
    "                            epoch * len(training_loader) + i)\n",
    "\n",
    "            running_loss = 0.0\n",
    "print('Finished Training')\n",
    "\n",
    "writer.flush()"
   ],
   "metadata": {
    "collapsed": false,
    "ExecuteTime": {
     "end_time": "2024-03-26T11:03:32.568594Z",
     "start_time": "2024-03-26T11:03:23.988252Z"
    }
   },
   "id": "b55605c01813edd3"
  },
  {
   "cell_type": "code",
   "execution_count": 7,
   "outputs": [
    {
     "ename": "RecursionError",
     "evalue": "maximum recursion depth exceeded while getting the repr of an object",
     "output_type": "error",
     "traceback": [
      "\u001B[0;31m---------------------------------------------------------------------------\u001B[0m",
      "\u001B[0;31mRecursionError\u001B[0m                            Traceback (most recent call last)",
      "File \u001B[0;32m~/PycharmProjects/tadProject/.venv/lib/python3.9/site-packages/IPython/core/formatters.py:708\u001B[0m, in \u001B[0;36mPlainTextFormatter.__call__\u001B[0;34m(self, obj)\u001B[0m\n\u001B[1;32m    701\u001B[0m stream \u001B[38;5;241m=\u001B[39m StringIO()\n\u001B[1;32m    702\u001B[0m printer \u001B[38;5;241m=\u001B[39m pretty\u001B[38;5;241m.\u001B[39mRepresentationPrinter(stream, \u001B[38;5;28mself\u001B[39m\u001B[38;5;241m.\u001B[39mverbose,\n\u001B[1;32m    703\u001B[0m     \u001B[38;5;28mself\u001B[39m\u001B[38;5;241m.\u001B[39mmax_width, \u001B[38;5;28mself\u001B[39m\u001B[38;5;241m.\u001B[39mnewline,\n\u001B[1;32m    704\u001B[0m     max_seq_length\u001B[38;5;241m=\u001B[39m\u001B[38;5;28mself\u001B[39m\u001B[38;5;241m.\u001B[39mmax_seq_length,\n\u001B[1;32m    705\u001B[0m     singleton_pprinters\u001B[38;5;241m=\u001B[39m\u001B[38;5;28mself\u001B[39m\u001B[38;5;241m.\u001B[39msingleton_printers,\n\u001B[1;32m    706\u001B[0m     type_pprinters\u001B[38;5;241m=\u001B[39m\u001B[38;5;28mself\u001B[39m\u001B[38;5;241m.\u001B[39mtype_printers,\n\u001B[1;32m    707\u001B[0m     deferred_pprinters\u001B[38;5;241m=\u001B[39m\u001B[38;5;28mself\u001B[39m\u001B[38;5;241m.\u001B[39mdeferred_printers)\n\u001B[0;32m--> 708\u001B[0m \u001B[43mprinter\u001B[49m\u001B[38;5;241;43m.\u001B[39;49m\u001B[43mpretty\u001B[49m\u001B[43m(\u001B[49m\u001B[43mobj\u001B[49m\u001B[43m)\u001B[49m\n\u001B[1;32m    709\u001B[0m printer\u001B[38;5;241m.\u001B[39mflush()\n\u001B[1;32m    710\u001B[0m \u001B[38;5;28;01mreturn\u001B[39;00m stream\u001B[38;5;241m.\u001B[39mgetvalue()\n",
      "File \u001B[0;32m~/PycharmProjects/tadProject/.venv/lib/python3.9/site-packages/IPython/lib/pretty.py:410\u001B[0m, in \u001B[0;36mRepresentationPrinter.pretty\u001B[0;34m(self, obj)\u001B[0m\n\u001B[1;32m    407\u001B[0m                         \u001B[38;5;28;01mreturn\u001B[39;00m meth(obj, \u001B[38;5;28mself\u001B[39m, cycle)\n\u001B[1;32m    408\u001B[0m                 \u001B[38;5;28;01mif\u001B[39;00m \u001B[38;5;28mcls\u001B[39m \u001B[38;5;129;01mis\u001B[39;00m \u001B[38;5;129;01mnot\u001B[39;00m \u001B[38;5;28mobject\u001B[39m \\\n\u001B[1;32m    409\u001B[0m                         \u001B[38;5;129;01mand\u001B[39;00m \u001B[38;5;28mcallable\u001B[39m(\u001B[38;5;28mcls\u001B[39m\u001B[38;5;241m.\u001B[39m\u001B[38;5;18m__dict__\u001B[39m\u001B[38;5;241m.\u001B[39mget(\u001B[38;5;124m'\u001B[39m\u001B[38;5;124m__repr__\u001B[39m\u001B[38;5;124m'\u001B[39m)):\n\u001B[0;32m--> 410\u001B[0m                     \u001B[38;5;28;01mreturn\u001B[39;00m \u001B[43m_repr_pprint\u001B[49m\u001B[43m(\u001B[49m\u001B[43mobj\u001B[49m\u001B[43m,\u001B[49m\u001B[43m \u001B[49m\u001B[38;5;28;43mself\u001B[39;49m\u001B[43m,\u001B[49m\u001B[43m \u001B[49m\u001B[43mcycle\u001B[49m\u001B[43m)\u001B[49m\n\u001B[1;32m    412\u001B[0m     \u001B[38;5;28;01mreturn\u001B[39;00m _default_pprint(obj, \u001B[38;5;28mself\u001B[39m, cycle)\n\u001B[1;32m    413\u001B[0m \u001B[38;5;28;01mfinally\u001B[39;00m:\n",
      "File \u001B[0;32m~/PycharmProjects/tadProject/.venv/lib/python3.9/site-packages/IPython/lib/pretty.py:778\u001B[0m, in \u001B[0;36m_repr_pprint\u001B[0;34m(obj, p, cycle)\u001B[0m\n\u001B[1;32m    776\u001B[0m \u001B[38;5;250m\u001B[39m\u001B[38;5;124;03m\"\"\"A pprint that just redirects to the normal repr function.\"\"\"\u001B[39;00m\n\u001B[1;32m    777\u001B[0m \u001B[38;5;66;03m# Find newlines and replace them with p.break_()\u001B[39;00m\n\u001B[0;32m--> 778\u001B[0m output \u001B[38;5;241m=\u001B[39m \u001B[38;5;28;43mrepr\u001B[39;49m\u001B[43m(\u001B[49m\u001B[43mobj\u001B[49m\u001B[43m)\u001B[49m\n\u001B[1;32m    779\u001B[0m lines \u001B[38;5;241m=\u001B[39m output\u001B[38;5;241m.\u001B[39msplitlines()\n\u001B[1;32m    780\u001B[0m \u001B[38;5;28;01mwith\u001B[39;00m p\u001B[38;5;241m.\u001B[39mgroup():\n",
      "File \u001B[0;32m~/PycharmProjects/tadProject/.venv/lib/python3.9/site-packages/torch/nn/modules/module.py:2490\u001B[0m, in \u001B[0;36mModule.__repr__\u001B[0;34m(self)\u001B[0m\n\u001B[1;32m   2488\u001B[0m child_lines \u001B[38;5;241m=\u001B[39m []\n\u001B[1;32m   2489\u001B[0m \u001B[38;5;28;01mfor\u001B[39;00m key, module \u001B[38;5;129;01min\u001B[39;00m \u001B[38;5;28mself\u001B[39m\u001B[38;5;241m.\u001B[39m_modules\u001B[38;5;241m.\u001B[39mitems():\n\u001B[0;32m-> 2490\u001B[0m     mod_str \u001B[38;5;241m=\u001B[39m \u001B[38;5;28;43mrepr\u001B[39;49m\u001B[43m(\u001B[49m\u001B[43mmodule\u001B[49m\u001B[43m)\u001B[49m\n\u001B[1;32m   2491\u001B[0m     mod_str \u001B[38;5;241m=\u001B[39m _addindent(mod_str, \u001B[38;5;241m2\u001B[39m)\n\u001B[1;32m   2492\u001B[0m     child_lines\u001B[38;5;241m.\u001B[39mappend(\u001B[38;5;124m'\u001B[39m\u001B[38;5;124m(\u001B[39m\u001B[38;5;124m'\u001B[39m \u001B[38;5;241m+\u001B[39m key \u001B[38;5;241m+\u001B[39m \u001B[38;5;124m'\u001B[39m\u001B[38;5;124m): \u001B[39m\u001B[38;5;124m'\u001B[39m \u001B[38;5;241m+\u001B[39m mod_str)\n",
      "File \u001B[0;32m~/PycharmProjects/tadProject/.venv/lib/python3.9/site-packages/torch/nn/modules/module.py:2490\u001B[0m, in \u001B[0;36mModule.__repr__\u001B[0;34m(self)\u001B[0m\n\u001B[1;32m   2488\u001B[0m child_lines \u001B[38;5;241m=\u001B[39m []\n\u001B[1;32m   2489\u001B[0m \u001B[38;5;28;01mfor\u001B[39;00m key, module \u001B[38;5;129;01min\u001B[39;00m \u001B[38;5;28mself\u001B[39m\u001B[38;5;241m.\u001B[39m_modules\u001B[38;5;241m.\u001B[39mitems():\n\u001B[0;32m-> 2490\u001B[0m     mod_str \u001B[38;5;241m=\u001B[39m \u001B[38;5;28;43mrepr\u001B[39;49m\u001B[43m(\u001B[49m\u001B[43mmodule\u001B[49m\u001B[43m)\u001B[49m\n\u001B[1;32m   2491\u001B[0m     mod_str \u001B[38;5;241m=\u001B[39m _addindent(mod_str, \u001B[38;5;241m2\u001B[39m)\n\u001B[1;32m   2492\u001B[0m     child_lines\u001B[38;5;241m.\u001B[39mappend(\u001B[38;5;124m'\u001B[39m\u001B[38;5;124m(\u001B[39m\u001B[38;5;124m'\u001B[39m \u001B[38;5;241m+\u001B[39m key \u001B[38;5;241m+\u001B[39m \u001B[38;5;124m'\u001B[39m\u001B[38;5;124m): \u001B[39m\u001B[38;5;124m'\u001B[39m \u001B[38;5;241m+\u001B[39m mod_str)\n",
      "    \u001B[0;31m[... skipping similar frames: Module.__repr__ at line 2490 (984 times)]\u001B[0m\n",
      "File \u001B[0;32m~/PycharmProjects/tadProject/.venv/lib/python3.9/site-packages/torch/nn/modules/module.py:2490\u001B[0m, in \u001B[0;36mModule.__repr__\u001B[0;34m(self)\u001B[0m\n\u001B[1;32m   2488\u001B[0m child_lines \u001B[38;5;241m=\u001B[39m []\n\u001B[1;32m   2489\u001B[0m \u001B[38;5;28;01mfor\u001B[39;00m key, module \u001B[38;5;129;01min\u001B[39;00m \u001B[38;5;28mself\u001B[39m\u001B[38;5;241m.\u001B[39m_modules\u001B[38;5;241m.\u001B[39mitems():\n\u001B[0;32m-> 2490\u001B[0m     mod_str \u001B[38;5;241m=\u001B[39m \u001B[38;5;28;43mrepr\u001B[39;49m\u001B[43m(\u001B[49m\u001B[43mmodule\u001B[49m\u001B[43m)\u001B[49m\n\u001B[1;32m   2491\u001B[0m     mod_str \u001B[38;5;241m=\u001B[39m _addindent(mod_str, \u001B[38;5;241m2\u001B[39m)\n\u001B[1;32m   2492\u001B[0m     child_lines\u001B[38;5;241m.\u001B[39mappend(\u001B[38;5;124m'\u001B[39m\u001B[38;5;124m(\u001B[39m\u001B[38;5;124m'\u001B[39m \u001B[38;5;241m+\u001B[39m key \u001B[38;5;241m+\u001B[39m \u001B[38;5;124m'\u001B[39m\u001B[38;5;124m): \u001B[39m\u001B[38;5;124m'\u001B[39m \u001B[38;5;241m+\u001B[39m mod_str)\n",
      "\u001B[0;31mRecursionError\u001B[0m: maximum recursion depth exceeded while getting the repr of an object"
     ]
    }
   ],
   "source": [
    "net.Filtration.parent"
   ],
   "metadata": {
    "collapsed": false,
    "ExecuteTime": {
     "end_time": "2024-03-26T11:07:29.231235Z",
     "start_time": "2024-03-26T11:07:29.114732Z"
    }
   },
   "id": "67183400ee64f8c5"
  },
  {
   "cell_type": "code",
   "execution_count": 19,
   "outputs": [
    {
     "data": {
      "text/plain": "tensor([[[0.0000e+00, 0.0000e+00, 0.0000e+00, 0.0000e+00, 0.0000e+00,\n          0.0000e+00, 0.0000e+00, 2.9638e-01, 1.1652e+00, 1.9318e+00,\n          3.7456e+00, 3.9942e+00, 3.9800e+00, 4.0337e+00, 4.2469e+00,\n          4.4195e+00, 4.6912e+00, 5.1273e+00, 5.4278e+00, 6.0498e+00,\n          7.8098e+00, 5.9371e+00, 0.0000e+00, 0.0000e+00, 0.0000e+00,\n          0.0000e+00, 0.0000e+00, 0.0000e+00],\n         [0.0000e+00, 0.0000e+00, 0.0000e+00, 0.0000e+00, 0.0000e+00,\n          0.0000e+00, 0.0000e+00, 2.9638e-01, 1.1652e+00, 1.9318e+00,\n          3.7456e+00, 3.9942e+00, 3.9800e+00, 4.0337e+00, 4.2469e+00,\n          4.4195e+00, 4.6912e+00, 5.1273e+00, 5.4278e+00, 6.0498e+00,\n          7.8098e+00, 5.9371e+00, 0.0000e+00, 0.0000e+00, 0.0000e+00,\n          0.0000e+00, 0.0000e+00, 0.0000e+00],\n         [0.0000e+00, 0.0000e+00, 0.0000e+00, 0.0000e+00, 0.0000e+00,\n          0.0000e+00, 0.0000e+00, 2.9638e-01, 1.1652e+00, 1.9318e+00,\n          3.7456e+00, 3.9942e+00, 3.9800e+00, 4.0337e+00, 4.2469e+00,\n          4.4195e+00, 4.6912e+00, 5.1273e+00, 5.4278e+00, 6.0498e+00,\n          7.8098e+00, 5.9371e+00, 0.0000e+00, 0.0000e+00, 0.0000e+00,\n          0.0000e+00, 0.0000e+00, 0.0000e+00],\n         [0.0000e+00, 0.0000e+00, 0.0000e+00, 0.0000e+00, 0.0000e+00,\n          0.0000e+00, 0.0000e+00, 2.9638e-01, 1.1652e+00, 1.9318e+00,\n          3.7456e+00, 3.9942e+00, 3.9800e+00, 4.0337e+00, 4.2469e+00,\n          4.4195e+00, 4.6912e+00, 5.1273e+00, 5.4278e+00, 6.0498e+00,\n          7.8098e+00, 5.9371e+00, 0.0000e+00, 0.0000e+00, 0.0000e+00,\n          0.0000e+00, 0.0000e+00, 0.0000e+00],\n         [0.0000e+00, 0.0000e+00, 0.0000e+00, 0.0000e+00, 0.0000e+00,\n          0.0000e+00, 0.0000e+00, 2.9638e-01, 1.1652e+00, 1.9318e+00,\n          3.7456e+00, 3.9942e+00, 3.9800e+00, 4.0337e+00, 4.2469e+00,\n          4.4195e+00, 4.6912e+00, 5.1273e+00, 5.4278e+00, 6.0498e+00,\n          7.8098e+00, 5.9371e+00, 0.0000e+00, 0.0000e+00, 0.0000e+00,\n          0.0000e+00, 0.0000e+00, 0.0000e+00],\n         [0.0000e+00, 0.0000e+00, 0.0000e+00, 0.0000e+00, 0.0000e+00,\n          0.0000e+00, 0.0000e+00, 2.9638e-01, 1.1652e+00, 1.9318e+00,\n          3.7456e+00, 3.9942e+00, 3.9800e+00, 4.0337e+00, 4.2469e+00,\n          4.4195e+00, 4.6912e+00, 5.1273e+00, 5.4278e+00, 6.0498e+00,\n          7.8098e+00, 5.9371e+00, 0.0000e+00, 0.0000e+00, 0.0000e+00,\n          0.0000e+00, 0.0000e+00, 0.0000e+00],\n         [0.0000e+00, 0.0000e+00, 0.0000e+00, 0.0000e+00, 0.0000e+00,\n          0.0000e+00, 0.0000e+00, 2.9638e-01, 1.1652e+00, 1.9318e+00,\n          3.7456e+00, 3.9942e+00, 3.9800e+00, 4.0337e+00, 4.2469e+00,\n          4.4195e+00, 4.6912e+00, 5.1273e+00, 5.4278e+00, 6.0498e+00,\n          7.8098e+00, 5.9371e+00, 0.0000e+00, 0.0000e+00, 0.0000e+00,\n          0.0000e+00, 0.0000e+00, 0.0000e+00],\n         [2.9638e-01, 2.9638e-01, 2.9638e-01, 2.9638e-01, 2.9638e-01,\n          2.9638e-01, 2.9638e-01, 1.9531e-03, 9.5074e-01, 1.8216e+00,\n          3.6419e+00, 3.8953e+00, 3.8743e+00, 3.9242e+00, 4.1424e+00,\n          4.3258e+00, 4.6051e+00, 5.0438e+00, 5.3503e+00, 5.9642e+00,\n          7.7310e+00, 5.8690e+00, 2.9638e-01, 2.9638e-01, 2.9638e-01,\n          2.9638e-01, 2.9638e-01, 2.9638e-01],\n         [1.1652e+00, 1.1652e+00, 1.1652e+00, 1.1652e+00, 1.1652e+00,\n          1.1652e+00, 1.1652e+00, 9.5074e-01, 0.0000e+00, 1.2722e+00,\n          3.3867e+00, 3.6372e+00, 3.5863e+00, 3.6075e+00, 3.8280e+00,\n          4.0399e+00, 4.3397e+00, 4.8145e+00, 5.1196e+00, 5.7134e+00,\n          7.4465e+00, 5.8486e+00, 1.1652e+00, 1.1652e+00, 1.1652e+00,\n          1.1652e+00, 1.1652e+00, 1.1652e+00],\n         [1.9318e+00, 1.9318e+00, 1.9318e+00, 1.9318e+00, 1.9318e+00,\n          1.9318e+00, 1.9318e+00, 1.8216e+00, 1.2722e+00, 2.7621e-03,\n          2.8458e+00, 3.1387e+00, 3.0817e+00, 3.1393e+00, 3.3884e+00,\n          3.6226e+00, 3.9130e+00, 4.4181e+00, 4.7701e+00, 5.2814e+00,\n          6.9829e+00, 5.8722e+00, 1.9318e+00, 1.9318e+00, 1.9318e+00,\n          1.9318e+00, 1.9318e+00, 1.9318e+00],\n         [3.7456e+00, 3.7456e+00, 3.7456e+00, 3.7456e+00, 3.7456e+00,\n          3.7456e+00, 3.7456e+00, 3.6419e+00, 3.3867e+00, 2.8458e+00,\n          0.0000e+00, 7.6910e-01, 1.1211e+00, 1.5074e+00, 1.9506e+00,\n          2.3097e+00, 2.6754e+00, 3.3741e+00, 3.8889e+00, 3.8913e+00,\n          5.5870e+00, 5.3225e+00, 3.7456e+00, 3.7456e+00, 3.7456e+00,\n          3.7456e+00, 3.7456e+00, 3.7456e+00],\n         [3.9942e+00, 3.9942e+00, 3.9942e+00, 3.9942e+00, 3.9942e+00,\n          3.9942e+00, 3.9942e+00, 3.8953e+00, 3.6372e+00, 3.1387e+00,\n          7.6910e-01, 0.0000e+00, 8.9895e-01, 1.4404e+00, 1.8671e+00,\n          2.2203e+00, 2.5556e+00, 3.2968e+00, 3.7992e+00, 3.7663e+00,\n          5.4112e+00, 5.3431e+00, 3.9942e+00, 3.9942e+00, 3.9942e+00,\n          3.9942e+00, 3.9942e+00, 3.9942e+00],\n         [3.9800e+00, 3.9800e+00, 3.9800e+00, 3.9800e+00, 3.9800e+00,\n          3.9800e+00, 3.9800e+00, 3.8743e+00, 3.5863e+00, 3.0817e+00,\n          1.1211e+00, 8.9895e-01, 0.0000e+00, 8.5569e-01, 1.6047e+00,\n          2.0116e+00, 2.3455e+00, 3.1156e+00, 3.6461e+00, 3.6357e+00,\n          5.2582e+00, 5.1532e+00, 3.9800e+00, 3.9800e+00, 3.9800e+00,\n          3.9800e+00, 3.9800e+00, 3.9800e+00],\n         [4.0337e+00, 4.0337e+00, 4.0337e+00, 4.0337e+00, 4.0337e+00,\n          4.0337e+00, 4.0337e+00, 3.9242e+00, 3.6075e+00, 3.1393e+00,\n          1.5074e+00, 1.4404e+00, 8.5569e-01, 0.0000e+00, 1.0788e+00,\n          1.7107e+00, 2.0978e+00, 2.8855e+00, 3.4456e+00, 3.4711e+00,\n          5.0487e+00, 4.8737e+00, 4.0337e+00, 4.0337e+00, 4.0337e+00,\n          4.0337e+00, 4.0337e+00, 4.0337e+00],\n         [4.2469e+00, 4.2469e+00, 4.2469e+00, 4.2469e+00, 4.2469e+00,\n          4.2469e+00, 4.2469e+00, 4.1424e+00, 3.8280e+00, 3.3884e+00,\n          1.9506e+00, 1.8671e+00, 1.6047e+00, 1.0788e+00, 0.0000e+00,\n          1.0767e+00, 1.6939e+00, 2.5150e+00, 3.0761e+00, 3.1788e+00,\n          4.7621e+00, 4.6113e+00, 4.2469e+00, 4.2469e+00, 4.2469e+00,\n          4.2469e+00, 4.2469e+00, 4.2469e+00],\n         [4.4195e+00, 4.4195e+00, 4.4195e+00, 4.4195e+00, 4.4195e+00,\n          4.4195e+00, 4.4195e+00, 4.3258e+00, 4.0399e+00, 3.6226e+00,\n          2.3097e+00, 2.2203e+00, 2.0116e+00, 1.7107e+00, 1.0767e+00,\n          0.0000e+00, 1.2292e+00, 2.2249e+00, 2.7314e+00, 2.9632e+00,\n          4.5939e+00, 4.3860e+00, 4.4195e+00, 4.4195e+00, 4.4195e+00,\n          4.4195e+00, 4.4195e+00, 4.4195e+00],\n         [4.6912e+00, 4.6912e+00, 4.6912e+00, 4.6912e+00, 4.6912e+00,\n          4.6912e+00, 4.6912e+00, 4.6051e+00, 4.3397e+00, 3.9130e+00,\n          2.6754e+00, 2.5556e+00, 2.3455e+00, 2.0978e+00, 1.6939e+00,\n          1.2292e+00, 1.9531e-03, 1.5888e+00, 2.2227e+00, 2.6258e+00,\n          4.2638e+00, 3.9159e+00, 4.6912e+00, 4.6912e+00, 4.6912e+00,\n          4.6912e+00, 4.6912e+00, 4.6912e+00],\n         [5.1273e+00, 5.1273e+00, 5.1273e+00, 5.1273e+00, 5.1273e+00,\n          5.1273e+00, 5.1273e+00, 5.0438e+00, 4.8145e+00, 4.4181e+00,\n          3.3741e+00, 3.2968e+00, 3.1156e+00, 2.8855e+00, 2.5150e+00,\n          2.2249e+00, 1.5888e+00, 0.0000e+00, 1.0783e+00, 1.9987e+00,\n          3.2904e+00, 3.0421e+00, 5.1273e+00, 5.1273e+00, 5.1273e+00,\n          5.1273e+00, 5.1273e+00, 5.1273e+00],\n         [5.4278e+00, 5.4278e+00, 5.4278e+00, 5.4278e+00, 5.4278e+00,\n          5.4278e+00, 5.4278e+00, 5.3503e+00, 5.1196e+00, 4.7701e+00,\n          3.8889e+00, 3.7992e+00, 3.6461e+00, 3.4456e+00, 3.0761e+00,\n          2.7314e+00, 2.2227e+00, 1.0783e+00, 9.7656e-04, 1.5341e+00,\n          2.7245e+00, 3.1127e+00, 5.4278e+00, 5.4278e+00, 5.4278e+00,\n          5.4278e+00, 5.4278e+00, 5.4278e+00],\n         [6.0498e+00, 6.0498e+00, 6.0498e+00, 6.0498e+00, 6.0498e+00,\n          6.0498e+00, 6.0498e+00, 5.9642e+00, 5.7134e+00, 5.2814e+00,\n          3.8913e+00, 3.7663e+00, 3.6357e+00, 3.4711e+00, 3.1788e+00,\n          2.9632e+00, 2.6258e+00, 1.9987e+00, 1.5341e+00, 0.0000e+00,\n          2.2251e+00, 3.9978e+00, 6.0498e+00, 6.0498e+00, 6.0498e+00,\n          6.0498e+00, 6.0498e+00, 6.0498e+00],\n         [7.8098e+00, 7.8098e+00, 7.8098e+00, 7.8098e+00, 7.8098e+00,\n          7.8098e+00, 7.8098e+00, 7.7310e+00, 7.4465e+00, 6.9829e+00,\n          5.5870e+00, 5.4112e+00, 5.2582e+00, 5.0487e+00, 4.7621e+00,\n          4.5939e+00, 4.2638e+00, 3.2904e+00, 2.7245e+00, 2.2251e+00,\n          1.3811e-03, 4.6943e+00, 7.8098e+00, 7.8098e+00, 7.8098e+00,\n          7.8098e+00, 7.8098e+00, 7.8098e+00],\n         [5.9371e+00, 5.9371e+00, 5.9371e+00, 5.9371e+00, 5.9371e+00,\n          5.9371e+00, 5.9371e+00, 5.8690e+00, 5.8486e+00, 5.8722e+00,\n          5.3225e+00, 5.3431e+00, 5.1532e+00, 4.8737e+00, 4.6113e+00,\n          4.3860e+00, 3.9159e+00, 3.0421e+00, 3.1127e+00, 3.9978e+00,\n          4.6943e+00, 1.3811e-03, 5.9371e+00, 5.9371e+00, 5.9371e+00,\n          5.9371e+00, 5.9371e+00, 5.9371e+00],\n         [0.0000e+00, 0.0000e+00, 0.0000e+00, 0.0000e+00, 0.0000e+00,\n          0.0000e+00, 0.0000e+00, 2.9638e-01, 1.1652e+00, 1.9318e+00,\n          3.7456e+00, 3.9942e+00, 3.9800e+00, 4.0337e+00, 4.2469e+00,\n          4.4195e+00, 4.6912e+00, 5.1273e+00, 5.4278e+00, 6.0498e+00,\n          7.8098e+00, 5.9371e+00, 0.0000e+00, 0.0000e+00, 0.0000e+00,\n          0.0000e+00, 0.0000e+00, 0.0000e+00],\n         [0.0000e+00, 0.0000e+00, 0.0000e+00, 0.0000e+00, 0.0000e+00,\n          0.0000e+00, 0.0000e+00, 2.9638e-01, 1.1652e+00, 1.9318e+00,\n          3.7456e+00, 3.9942e+00, 3.9800e+00, 4.0337e+00, 4.2469e+00,\n          4.4195e+00, 4.6912e+00, 5.1273e+00, 5.4278e+00, 6.0498e+00,\n          7.8098e+00, 5.9371e+00, 0.0000e+00, 0.0000e+00, 0.0000e+00,\n          0.0000e+00, 0.0000e+00, 0.0000e+00],\n         [0.0000e+00, 0.0000e+00, 0.0000e+00, 0.0000e+00, 0.0000e+00,\n          0.0000e+00, 0.0000e+00, 2.9638e-01, 1.1652e+00, 1.9318e+00,\n          3.7456e+00, 3.9942e+00, 3.9800e+00, 4.0337e+00, 4.2469e+00,\n          4.4195e+00, 4.6912e+00, 5.1273e+00, 5.4278e+00, 6.0498e+00,\n          7.8098e+00, 5.9371e+00, 0.0000e+00, 0.0000e+00, 0.0000e+00,\n          0.0000e+00, 0.0000e+00, 0.0000e+00],\n         [0.0000e+00, 0.0000e+00, 0.0000e+00, 0.0000e+00, 0.0000e+00,\n          0.0000e+00, 0.0000e+00, 2.9638e-01, 1.1652e+00, 1.9318e+00,\n          3.7456e+00, 3.9942e+00, 3.9800e+00, 4.0337e+00, 4.2469e+00,\n          4.4195e+00, 4.6912e+00, 5.1273e+00, 5.4278e+00, 6.0498e+00,\n          7.8098e+00, 5.9371e+00, 0.0000e+00, 0.0000e+00, 0.0000e+00,\n          0.0000e+00, 0.0000e+00, 0.0000e+00],\n         [0.0000e+00, 0.0000e+00, 0.0000e+00, 0.0000e+00, 0.0000e+00,\n          0.0000e+00, 0.0000e+00, 2.9638e-01, 1.1652e+00, 1.9318e+00,\n          3.7456e+00, 3.9942e+00, 3.9800e+00, 4.0337e+00, 4.2469e+00,\n          4.4195e+00, 4.6912e+00, 5.1273e+00, 5.4278e+00, 6.0498e+00,\n          7.8098e+00, 5.9371e+00, 0.0000e+00, 0.0000e+00, 0.0000e+00,\n          0.0000e+00, 0.0000e+00, 0.0000e+00],\n         [0.0000e+00, 0.0000e+00, 0.0000e+00, 0.0000e+00, 0.0000e+00,\n          0.0000e+00, 0.0000e+00, 2.9638e-01, 1.1652e+00, 1.9318e+00,\n          3.7456e+00, 3.9942e+00, 3.9800e+00, 4.0337e+00, 4.2469e+00,\n          4.4195e+00, 4.6912e+00, 5.1273e+00, 5.4278e+00, 6.0498e+00,\n          7.8098e+00, 5.9371e+00, 0.0000e+00, 0.0000e+00, 0.0000e+00,\n          0.0000e+00, 0.0000e+00, 0.0000e+00]]])"
     },
     "execution_count": 19,
     "metadata": {},
     "output_type": "execute_result"
    }
   ],
   "source": [
    "vdata = next(iter(validation_loader))\n",
    "vinputs, vlabels = vdata\n",
    "d = image_distance(vinputs[0].unsqueeze(0)).unsqueeze(0)\n",
    "d"
   ],
   "metadata": {
    "collapsed": false,
    "ExecuteTime": {
     "end_time": "2024-03-22T07:41:53.982106Z",
     "start_time": "2024-03-22T07:41:49.870210Z"
    }
   },
   "id": "fe37d485c1056ab4"
  },
  {
   "cell_type": "code",
   "execution_count": 7,
   "outputs": [],
   "source": [
    "from gtda.homology import VietorisRipsPersistence\n",
    "from gtda.diagrams import BettiCurve\n",
    "\n",
    "VR = VietorisRipsPersistence(metric='precomputed')\n",
    "Betti = BettiCurve()\n",
    "pi = VR.fit_transform(d)\n",
    "bc = Betti.fit_transform(pi)"
   ],
   "metadata": {
    "collapsed": false,
    "ExecuteTime": {
     "end_time": "2024-03-22T07:30:34.197904Z",
     "start_time": "2024-03-22T07:30:34.190711Z"
    }
   },
   "id": "8ba9db54e6324037"
  },
  {
   "cell_type": "code",
   "execution_count": 11,
   "outputs": [
    {
     "data": {
      "text/plain": "array([[[ 9, 15, 15, 15, 15, 15, 15, 15, 15, 15, 14, 14, 14, 14, 14, 14,\n         14, 14, 14, 14, 14, 14, 14, 14, 14, 14, 13, 13, 12, 12, 11, 10,\n         10, 10, 10, 10,  7,  7,  7,  7,  7,  6,  5,  5,  5,  5,  5,  5,\n          5,  5,  4,  4,  3,  3,  3,  3,  3,  3,  3,  3,  3,  3,  3,  3,\n          3,  3,  3,  3,  3,  3,  3,  3,  3,  2,  2,  2,  2,  2,  2,  2,\n          2,  2,  2,  2,  2,  2,  2,  2,  2,  2,  2,  2,  2,  1,  1,  1,\n          1,  1,  1,  0],\n        [ 0,  0,  0,  0,  0,  0,  0,  0,  0,  0,  0,  0,  0,  0,  0,  0,\n          0,  0,  0,  0,  0,  0,  0,  0,  0,  0,  0,  0,  0,  0,  0,  0,\n          0,  0,  0,  0,  0,  0,  0,  0,  0,  0,  0,  0,  0,  0,  0,  0,\n          0,  0,  0,  0,  0,  0,  0,  0,  0,  0,  0,  0,  0,  0,  0,  0,\n          0,  0,  0,  0,  0,  0,  0,  0,  0,  0,  0,  0,  0,  0,  0,  0,\n          0,  0,  0,  0,  0,  0,  0,  0,  0,  0,  0,  0,  0,  0,  0,  0,\n          0,  0,  0,  0]]])"
     },
     "execution_count": 11,
     "metadata": {},
     "output_type": "execute_result"
    }
   ],
   "source": [
    "bc"
   ],
   "metadata": {
    "collapsed": false,
    "ExecuteTime": {
     "end_time": "2024-03-22T07:30:58.571212Z",
     "start_time": "2024-03-22T07:30:58.564414Z"
    }
   },
   "id": "e3c2ec75526af742"
  },
  {
   "cell_type": "code",
   "execution_count": 20,
   "outputs": [
    {
     "ename": "ValueError",
     "evalue": "array must not contain infs or NaNs",
     "output_type": "error",
     "traceback": [
      "\u001B[0;31m---------------------------------------------------------------------------\u001B[0m",
      "\u001B[0;31mValueError\u001B[0m                                Traceback (most recent call last)",
      "Cell \u001B[0;32mIn[20], line 3\u001B[0m\n\u001B[1;32m      1\u001B[0m \u001B[38;5;28;01mfrom\u001B[39;00m \u001B[38;5;21;01mdadapy\u001B[39;00m \u001B[38;5;28;01mimport\u001B[39;00m data\n\u001B[0;32m----> 3\u001B[0m dim \u001B[38;5;241m=\u001B[39m \u001B[43mdata\u001B[49m\u001B[38;5;241;43m.\u001B[39;49m\u001B[43mData\u001B[49m\u001B[43m(\u001B[49m\u001B[43mdistances\u001B[49m\u001B[38;5;241;43m=\u001B[39;49m\u001B[43md\u001B[49m\u001B[43m[\u001B[49m\u001B[38;5;241;43m0\u001B[39;49m\u001B[43m]\u001B[49m\u001B[38;5;241;43m.\u001B[39;49m\u001B[43mnumpy\u001B[49m\u001B[43m(\u001B[49m\u001B[43m)\u001B[49m\u001B[43m)\u001B[49m\u001B[38;5;241;43m.\u001B[39;49m\u001B[43mcompute_id_2NN\u001B[49m\u001B[43m(\u001B[49m\u001B[43m)\u001B[49m[\u001B[38;5;241m0\u001B[39m]\n",
      "File \u001B[0;32m~/PycharmProjects/tadProject/.venv/lib/python3.9/site-packages/dadapy/id_estimation.py:176\u001B[0m, in \u001B[0;36mIdEstimation.compute_id_2NN\u001B[0;34m(self, algorithm, mu_fraction, data_fraction, n_iter, set_attr)\u001B[0m\n\u001B[1;32m    173\u001B[0m     \u001B[38;5;28mself\u001B[39m\u001B[38;5;241m.\u001B[39mcompute_distances()\n\u001B[1;32m    175\u001B[0m mus \u001B[38;5;241m=\u001B[39m \u001B[38;5;28mself\u001B[39m\u001B[38;5;241m.\u001B[39mdistances[:, \u001B[38;5;241m2\u001B[39m] \u001B[38;5;241m/\u001B[39m \u001B[38;5;28mself\u001B[39m\u001B[38;5;241m.\u001B[39mdistances[:, \u001B[38;5;241m1\u001B[39m]\n\u001B[0;32m--> 176\u001B[0m intrinsic_dim \u001B[38;5;241m=\u001B[39m \u001B[38;5;28;43mself\u001B[39;49m\u001B[38;5;241;43m.\u001B[39;49m\u001B[43m_compute_id_2NN\u001B[49m\u001B[43m(\u001B[49m\u001B[43mmus\u001B[49m\u001B[43m,\u001B[49m\u001B[43m \u001B[49m\u001B[43mmu_fraction\u001B[49m\u001B[43m,\u001B[49m\u001B[43m \u001B[49m\u001B[43malgorithm\u001B[49m\u001B[43m)\u001B[49m\n\u001B[1;32m    177\u001B[0m intrinsic_dim_err \u001B[38;5;241m=\u001B[39m \u001B[38;5;241m0.0\u001B[39m\n\u001B[1;32m    178\u001B[0m intrinsic_dim_scale \u001B[38;5;241m=\u001B[39m np\u001B[38;5;241m.\u001B[39mmean(\u001B[38;5;28mself\u001B[39m\u001B[38;5;241m.\u001B[39mdistances[:, np\u001B[38;5;241m.\u001B[39marray([\u001B[38;5;241m1\u001B[39m, \u001B[38;5;241m2\u001B[39m])])\n",
      "File \u001B[0;32m~/PycharmProjects/tadProject/.venv/lib/python3.9/site-packages/dadapy/id_estimation.py:93\u001B[0m, in \u001B[0;36mIdEstimation._compute_id_2NN\u001B[0;34m(self, mus, mu_fraction, algorithm)\u001B[0m\n\u001B[1;32m     90\u001B[0m \u001B[38;5;28;01mdef\u001B[39;00m \u001B[38;5;21mfunc\u001B[39m(x, m):\n\u001B[1;32m     91\u001B[0m     \u001B[38;5;28;01mreturn\u001B[39;00m m \u001B[38;5;241m*\u001B[39m x\n\u001B[0;32m---> 93\u001B[0m intrinsic_dim, _ \u001B[38;5;241m=\u001B[39m \u001B[43mcurve_fit\u001B[49m\u001B[43m(\u001B[49m\u001B[43mfunc\u001B[49m\u001B[43m,\u001B[49m\u001B[43m \u001B[49m\u001B[43mlog_mus_reduced\u001B[49m\u001B[43m,\u001B[49m\u001B[43m \u001B[49m\u001B[43my\u001B[49m\u001B[43m)\u001B[49m\n\u001B[1;32m     94\u001B[0m \u001B[38;5;66;03m# curve_fit returns a 1-element array\u001B[39;00m\n\u001B[1;32m     95\u001B[0m intrinsic_dim \u001B[38;5;241m=\u001B[39m intrinsic_dim[\u001B[38;5;241m0\u001B[39m]\n",
      "File \u001B[0;32m~/PycharmProjects/tadProject/.venv/lib/python3.9/site-packages/scipy/optimize/_minpack_py.py:910\u001B[0m, in \u001B[0;36mcurve_fit\u001B[0;34m(f, xdata, ydata, p0, sigma, absolute_sigma, check_finite, bounds, method, jac, full_output, nan_policy, **kwargs)\u001B[0m\n\u001B[1;32m    906\u001B[0m \u001B[38;5;28;01mif\u001B[39;00m \u001B[38;5;28misinstance\u001B[39m(xdata, (\u001B[38;5;28mlist\u001B[39m, \u001B[38;5;28mtuple\u001B[39m, np\u001B[38;5;241m.\u001B[39mndarray)):\n\u001B[1;32m    907\u001B[0m     \u001B[38;5;66;03m# `xdata` is passed straight to the user-defined `f`, so allow\u001B[39;00m\n\u001B[1;32m    908\u001B[0m     \u001B[38;5;66;03m# non-array_like `xdata`.\u001B[39;00m\n\u001B[1;32m    909\u001B[0m     \u001B[38;5;28;01mif\u001B[39;00m check_finite:\n\u001B[0;32m--> 910\u001B[0m         xdata \u001B[38;5;241m=\u001B[39m \u001B[43mnp\u001B[49m\u001B[38;5;241;43m.\u001B[39;49m\u001B[43masarray_chkfinite\u001B[49m\u001B[43m(\u001B[49m\u001B[43mxdata\u001B[49m\u001B[43m,\u001B[49m\u001B[43m \u001B[49m\u001B[38;5;28;43mfloat\u001B[39;49m\u001B[43m)\u001B[49m\n\u001B[1;32m    911\u001B[0m     \u001B[38;5;28;01melse\u001B[39;00m:\n\u001B[1;32m    912\u001B[0m         xdata \u001B[38;5;241m=\u001B[39m np\u001B[38;5;241m.\u001B[39masarray(xdata, \u001B[38;5;28mfloat\u001B[39m)\n",
      "File \u001B[0;32m~/PycharmProjects/tadProject/.venv/lib/python3.9/site-packages/numpy/lib/function_base.py:630\u001B[0m, in \u001B[0;36masarray_chkfinite\u001B[0;34m(a, dtype, order)\u001B[0m\n\u001B[1;32m    628\u001B[0m a \u001B[38;5;241m=\u001B[39m asarray(a, dtype\u001B[38;5;241m=\u001B[39mdtype, order\u001B[38;5;241m=\u001B[39morder)\n\u001B[1;32m    629\u001B[0m \u001B[38;5;28;01mif\u001B[39;00m a\u001B[38;5;241m.\u001B[39mdtype\u001B[38;5;241m.\u001B[39mchar \u001B[38;5;129;01min\u001B[39;00m typecodes[\u001B[38;5;124m'\u001B[39m\u001B[38;5;124mAllFloat\u001B[39m\u001B[38;5;124m'\u001B[39m] \u001B[38;5;129;01mand\u001B[39;00m \u001B[38;5;129;01mnot\u001B[39;00m np\u001B[38;5;241m.\u001B[39misfinite(a)\u001B[38;5;241m.\u001B[39mall():\n\u001B[0;32m--> 630\u001B[0m     \u001B[38;5;28;01mraise\u001B[39;00m \u001B[38;5;167;01mValueError\u001B[39;00m(\n\u001B[1;32m    631\u001B[0m         \u001B[38;5;124m\"\u001B[39m\u001B[38;5;124marray must not contain infs or NaNs\u001B[39m\u001B[38;5;124m\"\u001B[39m)\n\u001B[1;32m    632\u001B[0m \u001B[38;5;28;01mreturn\u001B[39;00m a\n",
      "\u001B[0;31mValueError\u001B[0m: array must not contain infs or NaNs"
     ]
    }
   ],
   "source": [
    "from dadapy import data\n",
    "\n",
    "dim = data.Data(distances=d[0].numpy()).compute_id_2NN()[0]"
   ],
   "metadata": {
    "collapsed": false,
    "ExecuteTime": {
     "end_time": "2024-03-22T07:41:59.509605Z",
     "start_time": "2024-03-22T07:41:59.390329Z"
    }
   },
   "id": "c654daeef010be2"
  },
  {
   "cell_type": "code",
   "execution_count": 22,
   "outputs": [
    {
     "data": {
      "text/plain": "array([[0.00e+00, 0.00e+00, 0.00e+00, 0.00e+00, 0.00e+00, 0.00e+00,\n        0.00e+00, 2.96e-01, 1.17e+00, 1.93e+00, 3.75e+00, 3.99e+00,\n        3.98e+00, 4.03e+00, 4.25e+00, 4.42e+00, 4.69e+00, 5.13e+00,\n        5.43e+00, 6.05e+00, 7.81e+00, 5.94e+00, 0.00e+00, 0.00e+00,\n        0.00e+00, 0.00e+00, 0.00e+00, 0.00e+00],\n       [0.00e+00, 0.00e+00, 0.00e+00, 0.00e+00, 0.00e+00, 0.00e+00,\n        0.00e+00, 2.96e-01, 1.17e+00, 1.93e+00, 3.75e+00, 3.99e+00,\n        3.98e+00, 4.03e+00, 4.25e+00, 4.42e+00, 4.69e+00, 5.13e+00,\n        5.43e+00, 6.05e+00, 7.81e+00, 5.94e+00, 0.00e+00, 0.00e+00,\n        0.00e+00, 0.00e+00, 0.00e+00, 0.00e+00],\n       [0.00e+00, 0.00e+00, 0.00e+00, 0.00e+00, 0.00e+00, 0.00e+00,\n        0.00e+00, 2.96e-01, 1.17e+00, 1.93e+00, 3.75e+00, 3.99e+00,\n        3.98e+00, 4.03e+00, 4.25e+00, 4.42e+00, 4.69e+00, 5.13e+00,\n        5.43e+00, 6.05e+00, 7.81e+00, 5.94e+00, 0.00e+00, 0.00e+00,\n        0.00e+00, 0.00e+00, 0.00e+00, 0.00e+00],\n       [0.00e+00, 0.00e+00, 0.00e+00, 0.00e+00, 0.00e+00, 0.00e+00,\n        0.00e+00, 2.96e-01, 1.17e+00, 1.93e+00, 3.75e+00, 3.99e+00,\n        3.98e+00, 4.03e+00, 4.25e+00, 4.42e+00, 4.69e+00, 5.13e+00,\n        5.43e+00, 6.05e+00, 7.81e+00, 5.94e+00, 0.00e+00, 0.00e+00,\n        0.00e+00, 0.00e+00, 0.00e+00, 0.00e+00],\n       [0.00e+00, 0.00e+00, 0.00e+00, 0.00e+00, 0.00e+00, 0.00e+00,\n        0.00e+00, 2.96e-01, 1.17e+00, 1.93e+00, 3.75e+00, 3.99e+00,\n        3.98e+00, 4.03e+00, 4.25e+00, 4.42e+00, 4.69e+00, 5.13e+00,\n        5.43e+00, 6.05e+00, 7.81e+00, 5.94e+00, 0.00e+00, 0.00e+00,\n        0.00e+00, 0.00e+00, 0.00e+00, 0.00e+00],\n       [0.00e+00, 0.00e+00, 0.00e+00, 0.00e+00, 0.00e+00, 0.00e+00,\n        0.00e+00, 2.96e-01, 1.17e+00, 1.93e+00, 3.75e+00, 3.99e+00,\n        3.98e+00, 4.03e+00, 4.25e+00, 4.42e+00, 4.69e+00, 5.13e+00,\n        5.43e+00, 6.05e+00, 7.81e+00, 5.94e+00, 0.00e+00, 0.00e+00,\n        0.00e+00, 0.00e+00, 0.00e+00, 0.00e+00],\n       [0.00e+00, 0.00e+00, 0.00e+00, 0.00e+00, 0.00e+00, 0.00e+00,\n        0.00e+00, 2.96e-01, 1.17e+00, 1.93e+00, 3.75e+00, 3.99e+00,\n        3.98e+00, 4.03e+00, 4.25e+00, 4.42e+00, 4.69e+00, 5.13e+00,\n        5.43e+00, 6.05e+00, 7.81e+00, 5.94e+00, 0.00e+00, 0.00e+00,\n        0.00e+00, 0.00e+00, 0.00e+00, 0.00e+00],\n       [2.96e-01, 2.96e-01, 2.96e-01, 2.96e-01, 2.96e-01, 2.96e-01,\n        2.96e-01, 1.95e-03, 9.51e-01, 1.82e+00, 3.64e+00, 3.90e+00,\n        3.87e+00, 3.92e+00, 4.14e+00, 4.33e+00, 4.61e+00, 5.04e+00,\n        5.35e+00, 5.96e+00, 7.73e+00, 5.87e+00, 2.96e-01, 2.96e-01,\n        2.96e-01, 2.96e-01, 2.96e-01, 2.96e-01],\n       [1.17e+00, 1.17e+00, 1.17e+00, 1.17e+00, 1.17e+00, 1.17e+00,\n        1.17e+00, 9.51e-01, 0.00e+00, 1.27e+00, 3.39e+00, 3.64e+00,\n        3.59e+00, 3.61e+00, 3.83e+00, 4.04e+00, 4.34e+00, 4.81e+00,\n        5.12e+00, 5.71e+00, 7.45e+00, 5.85e+00, 1.17e+00, 1.17e+00,\n        1.17e+00, 1.17e+00, 1.17e+00, 1.17e+00],\n       [1.93e+00, 1.93e+00, 1.93e+00, 1.93e+00, 1.93e+00, 1.93e+00,\n        1.93e+00, 1.82e+00, 1.27e+00, 2.76e-03, 2.85e+00, 3.14e+00,\n        3.08e+00, 3.14e+00, 3.39e+00, 3.62e+00, 3.91e+00, 4.42e+00,\n        4.77e+00, 5.28e+00, 6.98e+00, 5.87e+00, 1.93e+00, 1.93e+00,\n        1.93e+00, 1.93e+00, 1.93e+00, 1.93e+00],\n       [3.75e+00, 3.75e+00, 3.75e+00, 3.75e+00, 3.75e+00, 3.75e+00,\n        3.75e+00, 3.64e+00, 3.39e+00, 2.85e+00, 0.00e+00, 7.69e-01,\n        1.12e+00, 1.51e+00, 1.95e+00, 2.31e+00, 2.68e+00, 3.37e+00,\n        3.89e+00, 3.89e+00, 5.59e+00, 5.32e+00, 3.75e+00, 3.75e+00,\n        3.75e+00, 3.75e+00, 3.75e+00, 3.75e+00],\n       [3.99e+00, 3.99e+00, 3.99e+00, 3.99e+00, 3.99e+00, 3.99e+00,\n        3.99e+00, 3.90e+00, 3.64e+00, 3.14e+00, 7.69e-01, 0.00e+00,\n        8.99e-01, 1.44e+00, 1.87e+00, 2.22e+00, 2.56e+00, 3.30e+00,\n        3.80e+00, 3.77e+00, 5.41e+00, 5.34e+00, 3.99e+00, 3.99e+00,\n        3.99e+00, 3.99e+00, 3.99e+00, 3.99e+00],\n       [3.98e+00, 3.98e+00, 3.98e+00, 3.98e+00, 3.98e+00, 3.98e+00,\n        3.98e+00, 3.87e+00, 3.59e+00, 3.08e+00, 1.12e+00, 8.99e-01,\n        0.00e+00, 8.56e-01, 1.60e+00, 2.01e+00, 2.35e+00, 3.12e+00,\n        3.65e+00, 3.64e+00, 5.26e+00, 5.15e+00, 3.98e+00, 3.98e+00,\n        3.98e+00, 3.98e+00, 3.98e+00, 3.98e+00],\n       [4.03e+00, 4.03e+00, 4.03e+00, 4.03e+00, 4.03e+00, 4.03e+00,\n        4.03e+00, 3.92e+00, 3.61e+00, 3.14e+00, 1.51e+00, 1.44e+00,\n        8.56e-01, 0.00e+00, 1.08e+00, 1.71e+00, 2.10e+00, 2.89e+00,\n        3.45e+00, 3.47e+00, 5.05e+00, 4.87e+00, 4.03e+00, 4.03e+00,\n        4.03e+00, 4.03e+00, 4.03e+00, 4.03e+00],\n       [4.25e+00, 4.25e+00, 4.25e+00, 4.25e+00, 4.25e+00, 4.25e+00,\n        4.25e+00, 4.14e+00, 3.83e+00, 3.39e+00, 1.95e+00, 1.87e+00,\n        1.60e+00, 1.08e+00, 0.00e+00, 1.08e+00, 1.69e+00, 2.52e+00,\n        3.08e+00, 3.18e+00, 4.76e+00, 4.61e+00, 4.25e+00, 4.25e+00,\n        4.25e+00, 4.25e+00, 4.25e+00, 4.25e+00],\n       [4.42e+00, 4.42e+00, 4.42e+00, 4.42e+00, 4.42e+00, 4.42e+00,\n        4.42e+00, 4.33e+00, 4.04e+00, 3.62e+00, 2.31e+00, 2.22e+00,\n        2.01e+00, 1.71e+00, 1.08e+00, 0.00e+00, 1.23e+00, 2.22e+00,\n        2.73e+00, 2.96e+00, 4.59e+00, 4.39e+00, 4.42e+00, 4.42e+00,\n        4.42e+00, 4.42e+00, 4.42e+00, 4.42e+00],\n       [4.69e+00, 4.69e+00, 4.69e+00, 4.69e+00, 4.69e+00, 4.69e+00,\n        4.69e+00, 4.61e+00, 4.34e+00, 3.91e+00, 2.68e+00, 2.56e+00,\n        2.35e+00, 2.10e+00, 1.69e+00, 1.23e+00, 1.95e-03, 1.59e+00,\n        2.22e+00, 2.63e+00, 4.26e+00, 3.92e+00, 4.69e+00, 4.69e+00,\n        4.69e+00, 4.69e+00, 4.69e+00, 4.69e+00],\n       [5.13e+00, 5.13e+00, 5.13e+00, 5.13e+00, 5.13e+00, 5.13e+00,\n        5.13e+00, 5.04e+00, 4.81e+00, 4.42e+00, 3.37e+00, 3.30e+00,\n        3.12e+00, 2.89e+00, 2.52e+00, 2.22e+00, 1.59e+00, 0.00e+00,\n        1.08e+00, 2.00e+00, 3.29e+00, 3.04e+00, 5.13e+00, 5.13e+00,\n        5.13e+00, 5.13e+00, 5.13e+00, 5.13e+00],\n       [5.43e+00, 5.43e+00, 5.43e+00, 5.43e+00, 5.43e+00, 5.43e+00,\n        5.43e+00, 5.35e+00, 5.12e+00, 4.77e+00, 3.89e+00, 3.80e+00,\n        3.65e+00, 3.45e+00, 3.08e+00, 2.73e+00, 2.22e+00, 1.08e+00,\n        9.77e-04, 1.53e+00, 2.72e+00, 3.11e+00, 5.43e+00, 5.43e+00,\n        5.43e+00, 5.43e+00, 5.43e+00, 5.43e+00],\n       [6.05e+00, 6.05e+00, 6.05e+00, 6.05e+00, 6.05e+00, 6.05e+00,\n        6.05e+00, 5.96e+00, 5.71e+00, 5.28e+00, 3.89e+00, 3.77e+00,\n        3.64e+00, 3.47e+00, 3.18e+00, 2.96e+00, 2.63e+00, 2.00e+00,\n        1.53e+00, 0.00e+00, 2.23e+00, 4.00e+00, 6.05e+00, 6.05e+00,\n        6.05e+00, 6.05e+00, 6.05e+00, 6.05e+00],\n       [7.81e+00, 7.81e+00, 7.81e+00, 7.81e+00, 7.81e+00, 7.81e+00,\n        7.81e+00, 7.73e+00, 7.45e+00, 6.98e+00, 5.59e+00, 5.41e+00,\n        5.26e+00, 5.05e+00, 4.76e+00, 4.59e+00, 4.26e+00, 3.29e+00,\n        2.72e+00, 2.23e+00, 1.38e-03, 4.69e+00, 7.81e+00, 7.81e+00,\n        7.81e+00, 7.81e+00, 7.81e+00, 7.81e+00],\n       [5.94e+00, 5.94e+00, 5.94e+00, 5.94e+00, 5.94e+00, 5.94e+00,\n        5.94e+00, 5.87e+00, 5.85e+00, 5.87e+00, 5.32e+00, 5.34e+00,\n        5.15e+00, 4.87e+00, 4.61e+00, 4.39e+00, 3.92e+00, 3.04e+00,\n        3.11e+00, 4.00e+00, 4.69e+00, 1.38e-03, 5.94e+00, 5.94e+00,\n        5.94e+00, 5.94e+00, 5.94e+00, 5.94e+00],\n       [0.00e+00, 0.00e+00, 0.00e+00, 0.00e+00, 0.00e+00, 0.00e+00,\n        0.00e+00, 2.96e-01, 1.17e+00, 1.93e+00, 3.75e+00, 3.99e+00,\n        3.98e+00, 4.03e+00, 4.25e+00, 4.42e+00, 4.69e+00, 5.13e+00,\n        5.43e+00, 6.05e+00, 7.81e+00, 5.94e+00, 0.00e+00, 0.00e+00,\n        0.00e+00, 0.00e+00, 0.00e+00, 0.00e+00],\n       [0.00e+00, 0.00e+00, 0.00e+00, 0.00e+00, 0.00e+00, 0.00e+00,\n        0.00e+00, 2.96e-01, 1.17e+00, 1.93e+00, 3.75e+00, 3.99e+00,\n        3.98e+00, 4.03e+00, 4.25e+00, 4.42e+00, 4.69e+00, 5.13e+00,\n        5.43e+00, 6.05e+00, 7.81e+00, 5.94e+00, 0.00e+00, 0.00e+00,\n        0.00e+00, 0.00e+00, 0.00e+00, 0.00e+00],\n       [0.00e+00, 0.00e+00, 0.00e+00, 0.00e+00, 0.00e+00, 0.00e+00,\n        0.00e+00, 2.96e-01, 1.17e+00, 1.93e+00, 3.75e+00, 3.99e+00,\n        3.98e+00, 4.03e+00, 4.25e+00, 4.42e+00, 4.69e+00, 5.13e+00,\n        5.43e+00, 6.05e+00, 7.81e+00, 5.94e+00, 0.00e+00, 0.00e+00,\n        0.00e+00, 0.00e+00, 0.00e+00, 0.00e+00],\n       [0.00e+00, 0.00e+00, 0.00e+00, 0.00e+00, 0.00e+00, 0.00e+00,\n        0.00e+00, 2.96e-01, 1.17e+00, 1.93e+00, 3.75e+00, 3.99e+00,\n        3.98e+00, 4.03e+00, 4.25e+00, 4.42e+00, 4.69e+00, 5.13e+00,\n        5.43e+00, 6.05e+00, 7.81e+00, 5.94e+00, 0.00e+00, 0.00e+00,\n        0.00e+00, 0.00e+00, 0.00e+00, 0.00e+00],\n       [0.00e+00, 0.00e+00, 0.00e+00, 0.00e+00, 0.00e+00, 0.00e+00,\n        0.00e+00, 2.96e-01, 1.17e+00, 1.93e+00, 3.75e+00, 3.99e+00,\n        3.98e+00, 4.03e+00, 4.25e+00, 4.42e+00, 4.69e+00, 5.13e+00,\n        5.43e+00, 6.05e+00, 7.81e+00, 5.94e+00, 0.00e+00, 0.00e+00,\n        0.00e+00, 0.00e+00, 0.00e+00, 0.00e+00],\n       [0.00e+00, 0.00e+00, 0.00e+00, 0.00e+00, 0.00e+00, 0.00e+00,\n        0.00e+00, 2.96e-01, 1.17e+00, 1.93e+00, 3.75e+00, 3.99e+00,\n        3.98e+00, 4.03e+00, 4.25e+00, 4.42e+00, 4.69e+00, 5.13e+00,\n        5.43e+00, 6.05e+00, 7.81e+00, 5.94e+00, 0.00e+00, 0.00e+00,\n        0.00e+00, 0.00e+00, 0.00e+00, 0.00e+00]], dtype=float32)"
     },
     "execution_count": 22,
     "metadata": {},
     "output_type": "execute_result"
    }
   ],
   "source": [
    "eqv = [list()] * d[0].shape[0]\n"
   ],
   "metadata": {
    "collapsed": false,
    "ExecuteTime": {
     "end_time": "2024-03-22T07:42:22.129322Z",
     "start_time": "2024-03-22T07:42:22.110668Z"
    }
   },
   "id": "105e0d2e46cee303"
  },
  {
   "cell_type": "code",
   "execution_count": 18,
   "outputs": [
    {
     "data": {
      "text/plain": "False"
     },
     "execution_count": 18,
     "metadata": {},
     "output_type": "execute_result"
    }
   ],
   "source": [
    "any(list(d.isinf().flatten()))"
   ],
   "metadata": {
    "collapsed": false,
    "ExecuteTime": {
     "end_time": "2024-03-22T07:41:32.115357Z",
     "start_time": "2024-03-22T07:41:32.106060Z"
    }
   },
   "id": "a90bbe06b595f5b1"
  },
  {
   "cell_type": "code",
   "execution_count": 1,
   "outputs": [
    {
     "name": "stderr",
     "output_type": "stream",
     "text": [
      "/Users/andrew/PycharmProjects/tadProject/.venv/lib/python3.9/site-packages/dadapy/id_estimation.py:175: RuntimeWarning: invalid value encountered in divide\n",
      "  mus = self.distances[:, 2] / self.distances[:, 1]\n"
     ]
    },
    {
     "ename": "ValueError",
     "evalue": "array must not contain infs or NaNs",
     "output_type": "error",
     "traceback": [
      "\u001B[0;31m---------------------------------------------------------------------------\u001B[0m",
      "\u001B[0;31mValueError\u001B[0m                                Traceback (most recent call last)",
      "Cell \u001B[0;32mIn[1], line 5\u001B[0m\n\u001B[1;32m      2\u001B[0m \u001B[38;5;28;01mimport\u001B[39;00m \u001B[38;5;21;01mtorch\u001B[39;00m\n\u001B[1;32m      4\u001B[0m z \u001B[38;5;241m=\u001B[39m torch\u001B[38;5;241m.\u001B[39mzeros((\u001B[38;5;241m3\u001B[39m, \u001B[38;5;241m3\u001B[39m))\n\u001B[0;32m----> 5\u001B[0m \u001B[43mData\u001B[49m\u001B[43m(\u001B[49m\u001B[43mdistances\u001B[49m\u001B[38;5;241;43m=\u001B[39;49m\u001B[43mz\u001B[49m\u001B[38;5;241;43m.\u001B[39;49m\u001B[43mnumpy\u001B[49m\u001B[43m(\u001B[49m\u001B[43m)\u001B[49m\u001B[43m)\u001B[49m\u001B[38;5;241;43m.\u001B[39;49m\u001B[43mcompute_id_2NN\u001B[49m\u001B[43m(\u001B[49m\u001B[43m)\u001B[49m[\u001B[38;5;241m0\u001B[39m]\n",
      "File \u001B[0;32m~/PycharmProjects/tadProject/.venv/lib/python3.9/site-packages/dadapy/id_estimation.py:176\u001B[0m, in \u001B[0;36mIdEstimation.compute_id_2NN\u001B[0;34m(self, algorithm, mu_fraction, data_fraction, n_iter, set_attr)\u001B[0m\n\u001B[1;32m    173\u001B[0m     \u001B[38;5;28mself\u001B[39m\u001B[38;5;241m.\u001B[39mcompute_distances()\n\u001B[1;32m    175\u001B[0m mus \u001B[38;5;241m=\u001B[39m \u001B[38;5;28mself\u001B[39m\u001B[38;5;241m.\u001B[39mdistances[:, \u001B[38;5;241m2\u001B[39m] \u001B[38;5;241m/\u001B[39m \u001B[38;5;28mself\u001B[39m\u001B[38;5;241m.\u001B[39mdistances[:, \u001B[38;5;241m1\u001B[39m]\n\u001B[0;32m--> 176\u001B[0m intrinsic_dim \u001B[38;5;241m=\u001B[39m \u001B[38;5;28;43mself\u001B[39;49m\u001B[38;5;241;43m.\u001B[39;49m\u001B[43m_compute_id_2NN\u001B[49m\u001B[43m(\u001B[49m\u001B[43mmus\u001B[49m\u001B[43m,\u001B[49m\u001B[43m \u001B[49m\u001B[43mmu_fraction\u001B[49m\u001B[43m,\u001B[49m\u001B[43m \u001B[49m\u001B[43malgorithm\u001B[49m\u001B[43m)\u001B[49m\n\u001B[1;32m    177\u001B[0m intrinsic_dim_err \u001B[38;5;241m=\u001B[39m \u001B[38;5;241m0.0\u001B[39m\n\u001B[1;32m    178\u001B[0m intrinsic_dim_scale \u001B[38;5;241m=\u001B[39m np\u001B[38;5;241m.\u001B[39mmean(\u001B[38;5;28mself\u001B[39m\u001B[38;5;241m.\u001B[39mdistances[:, np\u001B[38;5;241m.\u001B[39marray([\u001B[38;5;241m1\u001B[39m, \u001B[38;5;241m2\u001B[39m])])\n",
      "File \u001B[0;32m~/PycharmProjects/tadProject/.venv/lib/python3.9/site-packages/dadapy/id_estimation.py:93\u001B[0m, in \u001B[0;36mIdEstimation._compute_id_2NN\u001B[0;34m(self, mus, mu_fraction, algorithm)\u001B[0m\n\u001B[1;32m     90\u001B[0m \u001B[38;5;28;01mdef\u001B[39;00m \u001B[38;5;21mfunc\u001B[39m(x, m):\n\u001B[1;32m     91\u001B[0m     \u001B[38;5;28;01mreturn\u001B[39;00m m \u001B[38;5;241m*\u001B[39m x\n\u001B[0;32m---> 93\u001B[0m intrinsic_dim, _ \u001B[38;5;241m=\u001B[39m \u001B[43mcurve_fit\u001B[49m\u001B[43m(\u001B[49m\u001B[43mfunc\u001B[49m\u001B[43m,\u001B[49m\u001B[43m \u001B[49m\u001B[43mlog_mus_reduced\u001B[49m\u001B[43m,\u001B[49m\u001B[43m \u001B[49m\u001B[43my\u001B[49m\u001B[43m)\u001B[49m\n\u001B[1;32m     94\u001B[0m \u001B[38;5;66;03m# curve_fit returns a 1-element array\u001B[39;00m\n\u001B[1;32m     95\u001B[0m intrinsic_dim \u001B[38;5;241m=\u001B[39m intrinsic_dim[\u001B[38;5;241m0\u001B[39m]\n",
      "File \u001B[0;32m~/PycharmProjects/tadProject/.venv/lib/python3.9/site-packages/scipy/optimize/_minpack_py.py:910\u001B[0m, in \u001B[0;36mcurve_fit\u001B[0;34m(f, xdata, ydata, p0, sigma, absolute_sigma, check_finite, bounds, method, jac, full_output, nan_policy, **kwargs)\u001B[0m\n\u001B[1;32m    906\u001B[0m \u001B[38;5;28;01mif\u001B[39;00m \u001B[38;5;28misinstance\u001B[39m(xdata, (\u001B[38;5;28mlist\u001B[39m, \u001B[38;5;28mtuple\u001B[39m, np\u001B[38;5;241m.\u001B[39mndarray)):\n\u001B[1;32m    907\u001B[0m     \u001B[38;5;66;03m# `xdata` is passed straight to the user-defined `f`, so allow\u001B[39;00m\n\u001B[1;32m    908\u001B[0m     \u001B[38;5;66;03m# non-array_like `xdata`.\u001B[39;00m\n\u001B[1;32m    909\u001B[0m     \u001B[38;5;28;01mif\u001B[39;00m check_finite:\n\u001B[0;32m--> 910\u001B[0m         xdata \u001B[38;5;241m=\u001B[39m \u001B[43mnp\u001B[49m\u001B[38;5;241;43m.\u001B[39;49m\u001B[43masarray_chkfinite\u001B[49m\u001B[43m(\u001B[49m\u001B[43mxdata\u001B[49m\u001B[43m,\u001B[49m\u001B[43m \u001B[49m\u001B[38;5;28;43mfloat\u001B[39;49m\u001B[43m)\u001B[49m\n\u001B[1;32m    911\u001B[0m     \u001B[38;5;28;01melse\u001B[39;00m:\n\u001B[1;32m    912\u001B[0m         xdata \u001B[38;5;241m=\u001B[39m np\u001B[38;5;241m.\u001B[39masarray(xdata, \u001B[38;5;28mfloat\u001B[39m)\n",
      "File \u001B[0;32m~/PycharmProjects/tadProject/.venv/lib/python3.9/site-packages/numpy/lib/function_base.py:630\u001B[0m, in \u001B[0;36masarray_chkfinite\u001B[0;34m(a, dtype, order)\u001B[0m\n\u001B[1;32m    628\u001B[0m a \u001B[38;5;241m=\u001B[39m asarray(a, dtype\u001B[38;5;241m=\u001B[39mdtype, order\u001B[38;5;241m=\u001B[39morder)\n\u001B[1;32m    629\u001B[0m \u001B[38;5;28;01mif\u001B[39;00m a\u001B[38;5;241m.\u001B[39mdtype\u001B[38;5;241m.\u001B[39mchar \u001B[38;5;129;01min\u001B[39;00m typecodes[\u001B[38;5;124m'\u001B[39m\u001B[38;5;124mAllFloat\u001B[39m\u001B[38;5;124m'\u001B[39m] \u001B[38;5;129;01mand\u001B[39;00m \u001B[38;5;129;01mnot\u001B[39;00m np\u001B[38;5;241m.\u001B[39misfinite(a)\u001B[38;5;241m.\u001B[39mall():\n\u001B[0;32m--> 630\u001B[0m     \u001B[38;5;28;01mraise\u001B[39;00m \u001B[38;5;167;01mValueError\u001B[39;00m(\n\u001B[1;32m    631\u001B[0m         \u001B[38;5;124m\"\u001B[39m\u001B[38;5;124marray must not contain infs or NaNs\u001B[39m\u001B[38;5;124m\"\u001B[39m)\n\u001B[1;32m    632\u001B[0m \u001B[38;5;28;01mreturn\u001B[39;00m a\n",
      "\u001B[0;31mValueError\u001B[0m: array must not contain infs or NaNs"
     ]
    }
   ],
   "source": [
    "from dadapy.data import Data\n",
    "import torch\n",
    "\n",
    "z = torch.zeros((3, 3))\n",
    "Data(distances=z.numpy()).compute_id_2NN()[0]"
   ],
   "metadata": {
    "collapsed": false,
    "ExecuteTime": {
     "end_time": "2024-03-22T15:05:15.073213Z",
     "start_time": "2024-03-22T15:05:10.116563Z"
    }
   },
   "id": "518b280eb83650bf"
  },
  {
   "cell_type": "code",
   "execution_count": null,
   "outputs": [],
   "source": [],
   "metadata": {
    "collapsed": false
   },
   "id": "fc92360315c40485"
  }
 ],
 "metadata": {
  "kernelspec": {
   "display_name": "Python 3",
   "language": "python",
   "name": "python3"
  },
  "language_info": {
   "codemirror_mode": {
    "name": "ipython",
    "version": 2
   },
   "file_extension": ".py",
   "mimetype": "text/x-python",
   "name": "python",
   "nbconvert_exporter": "python",
   "pygments_lexer": "ipython2",
   "version": "2.7.6"
  }
 },
 "nbformat": 4,
 "nbformat_minor": 5
}
