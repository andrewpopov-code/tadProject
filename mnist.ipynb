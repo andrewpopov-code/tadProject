{
 "cells": [
  {
   "cell_type": "code",
   "execution_count": 1,
   "id": "initial_id",
   "metadata": {
    "collapsed": true,
    "ExecuteTime": {
     "end_time": "2024-03-30T06:09:59.646490Z",
     "start_time": "2024-03-30T06:09:53.848595Z"
    }
   },
   "outputs": [],
   "source": [
    "from nn import TopologyMixin, TopologyTrainingObserver\n",
    "\n",
    "# PyTorch model and training necessities\n",
    "import torch\n",
    "import torch.nn as nn\n",
    "import torch.nn.functional as F\n",
    "import torch.optim as optim\n",
    "\n",
    "# Image datasets and image manipulation\n",
    "import torchvision\n",
    "import torchvision.transforms as transforms\n",
    "\n",
    "# Image display\n",
    "import matplotlib.pyplot as plt\n",
    "import numpy as np\n",
    "\n",
    "# PyTorch TensorBoard support\n",
    "from torch.utils.tensorboard import SummaryWriter\n",
    "# from tensorboardX import SummaryWriter"
   ]
  },
  {
   "cell_type": "code",
   "execution_count": 2,
   "outputs": [
    {
     "data": {
      "text/plain": "<Figure size 640x480 with 1 Axes>",
      "image/png": "[encoded data removed]"
     },
     "metadata": {},
     "output_type": "display_data"
    }
   ],
   "source": [
    "# Gather datasets and prepare them for consumption\n",
    "transform = transforms.Compose(\n",
    "    [transforms.ToTensor(),\n",
    "    transforms.Normalize((0.5,), (0.5,))])\n",
    "\n",
    "# Store separate training and validations splits in ./data\n",
    "training_set = torchvision.datasets.FashionMNIST('./data',\n",
    "    download=True,\n",
    "    train=True,\n",
    "    transform=transform)\n",
    "validation_set = torchvision.datasets.FashionMNIST('./data',\n",
    "    download=True,\n",
    "    train=False,\n",
    "    transform=transform)\n",
    "\n",
    "training_loader = torch.utils.data.DataLoader(training_set,\n",
    "                                              batch_size=4,\n",
    "                                              shuffle=True,\n",
    "                                              num_workers=2)\n",
    "\n",
    "\n",
    "validation_loader = torch.utils.data.DataLoader(validation_set,\n",
    "                                                batch_size=4,\n",
    "                                                shuffle=False,\n",
    "                                                num_workers=2)\n",
    "\n",
    "# Class labels\n",
    "classes = ('T-shirt/top', 'Trouser', 'Pullover', 'Dress', 'Coat',\n",
    "        'Sandal', 'Shirt', 'Sneaker', 'Bag', 'Ankle Boot')\n",
    "\n",
    "# Helper function for inline image display\n",
    "def matplotlib_imshow(img, one_channel=False):\n",
    "    if one_channel:\n",
    "        img = img.mean(dim=0)\n",
    "    img = img / 2 + 0.5     # unnormalize\n",
    "    npimg = img.numpy()\n",
    "    if one_channel:\n",
    "        plt.imshow(npimg, cmap=\"Greys\")\n",
    "    else:\n",
    "        plt.imshow(np.transpose(npimg, (1, 2, 0)))\n",
    "\n",
    "# Extract a batch of 4 images\n",
    "dataiter = iter(training_loader)\n",
    "images, labels = next(dataiter)\n",
    "\n",
    "# Create a grid from the images and show them\n",
    "img_grid = torchvision.utils.make_grid(images)\n",
    "matplotlib_imshow(img_grid, one_channel=True)"
   ],
   "metadata": {
    "collapsed": false,
    "ExecuteTime": {
     "end_time": "2024-03-30T06:10:03.675442Z",
     "start_time": "2024-03-30T06:09:59.659549Z"
    }
   },
   "id": "1b3170ae70a9e3a1"
  },
  {
   "cell_type": "code",
   "execution_count": 3,
   "outputs": [],
   "source": [
    "# Default log_dir argument is \"runs\" - but it's good to be specific\n",
    "# torch.utils.tensorboard.SummaryWriter is imported above\n",
    "writer = SummaryWriter('runs/fashion_mnist_experiment_2')\n",
    "\n",
    "# Write image data to TensorBoard log dir\n",
    "writer.add_image('Four Fashion-MNIST Images', img_grid)\n",
    "writer.flush()\n",
    "\n",
    "# To view, start TensorBoard on the command line with:\n",
    "#   tensorboard --logdir=runs\n",
    "# ...and open a browser tab to http://localhost:6006/"
   ],
   "metadata": {
    "collapsed": false,
    "ExecuteTime": {
     "end_time": "2024-03-30T06:10:03.679291Z",
     "start_time": "2024-03-30T06:10:03.667385Z"
    }
   },
   "id": "8580e29bad3914e2"
  },
  {
   "cell_type": "code",
   "execution_count": 4,
   "outputs": [],
   "source": [
    "class Net(nn.Module, TopologyMixin):\n",
    "    def __init__(self):\n",
    "        nn.Module.__init__(self)\n",
    "        TopologyMixin.__init__(self, writer=writer)\n",
    "        \n",
    "        self.conv1 = nn.Conv2d(1, 6, 5)\n",
    "        self.pool = nn.MaxPool2d(2, 2)\n",
    "        self.conv2 = nn.Conv2d(6, 16, 5)\n",
    "        self.fc1 = nn.Linear(16 * 4 * 4, 120)\n",
    "        self.fc2 = nn.Linear(120, 84)\n",
    "        self.fc3 = nn.Linear(84, 10)\n",
    "\n",
    "    def forward(self, x, topology: bool = False):\n",
    "        if topology:\n",
    "            self.Filtration(x.transpose(1, 2).transpose(2, 3), label='Input', distances=False, batches=True)\n",
    "            self.Dimension(x.transpose(1, 2).transpose(2, 3), label='Dimension Analysis', distances=False, batches=True)\n",
    "            self.DeltaHyperbolicity(x.transpose(1, 2).transpose(2, 3), label='Hyperbolicity Analysis', distances=False, batches=True)\n",
    "            \n",
    "            x = self.pool(F.relu(self.conv1(x)))\n",
    "            x = self.pool(F.relu(self.conv2(x)))\n",
    "            self.Filtration(x.transpose(1, 2).transpose(2, 3), label='Hidden', distances=False, batches=True)\n",
    "            self.Dimension(x.transpose(1, 2).transpose(2, 3), label='Dimension Analysis', distances=False, batches=True)\n",
    "            self.DeltaHyperbolicity(x.transpose(1, 2).transpose(2, 3), label='Hyperbolicity Analysis', distances=False, batches=True)\n",
    "            \n",
    "            x = x.view(-1, 16 * 4 * 4)\n",
    "            x = F.relu(self.fc1(x))\n",
    "            x = F.relu(self.fc2(x))\n",
    "            x = self.fc3(x)\n",
    "            \n",
    "            return x\n",
    "        \n",
    "        x = self.pool(F.relu(self.conv1(x)))\n",
    "        x = self.pool(F.relu(self.conv2(x)))\n",
    "        x = x.view(-1, 16 * 4 * 4)\n",
    "        x = F.relu(self.fc1(x))\n",
    "        x = F.relu(self.fc2(x))\n",
    "        x = self.fc3(x)\n",
    "        return x\n",
    "\n",
    "\n",
    "net = Net()\n",
    "criterion = nn.CrossEntropyLoss()\n",
    "optimizer = optim.SGD(net.parameters(), lr=0.001, momentum=0.9)"
   ],
   "metadata": {
    "collapsed": false,
    "ExecuteTime": {
     "end_time": "2024-03-30T06:10:03.727318Z",
     "start_time": "2024-03-30T06:10:03.695808Z"
    }
   },
   "id": "8244d6c68915ddd1"
  },
  {
   "cell_type": "code",
   "execution_count": 5,
   "outputs": [],
   "source": [
    "observer = TopologyTrainingObserver(net, reset=False, log_every_train=1000, log_every_val=1000)"
   ],
   "metadata": {
    "collapsed": false,
    "ExecuteTime": {
     "end_time": "2024-03-30T06:10:03.729915Z",
     "start_time": "2024-03-30T06:10:03.706205Z"
    }
   },
   "id": "bb701b31df137aa"
  },
  {
   "cell_type": "code",
   "execution_count": 6,
   "outputs": [
    {
     "data": {
      "text/plain": "Net(\n  (Filtration): Persistence()\n  (Dimension): IntrinsicDimension()\n  (Entropy): Entropy()\n  (DeltaHyperbolicity): DeltaHyperbolicity()\n  (conv1): Conv2d(1, 6, kernel_size=(5, 5), stride=(1, 1))\n  (pool): MaxPool2d(kernel_size=2, stride=2, padding=0, dilation=1, ceil_mode=False)\n  (conv2): Conv2d(6, 16, kernel_size=(5, 5), stride=(1, 1))\n  (fc1): Linear(in_features=256, out_features=120, bias=True)\n  (fc2): Linear(in_features=120, out_features=84, bias=True)\n  (fc3): Linear(in_features=84, out_features=10, bias=True)\n)"
     },
     "execution_count": 6,
     "metadata": {},
     "output_type": "execute_result"
    }
   ],
   "source": [
    "net.Entropy.parent()"
   ],
   "metadata": {
    "collapsed": false,
    "ExecuteTime": {
     "end_time": "2024-03-30T06:02:00.006074Z",
     "start_time": "2024-03-30T06:01:59.994616Z"
    }
   },
   "id": "68baff361ae001bf"
  },
  {
   "cell_type": "code",
   "execution_count": 4,
   "outputs": [],
   "source": [
    "from topology import DeltaHyperbolicity, IntrinsicDimension\n",
    "from nn import TopologyObserver\n",
    "\n",
    "Dimension = IntrinsicDimension()\n",
    "DH = DeltaHyperbolicity()\n",
    "\n",
    "class Net(nn.Module):\n",
    "    def __init__(self):\n",
    "        super().__init__()\n",
    "        \n",
    "        self.conv1 = nn.Conv2d(1, 6, 5)\n",
    "        self.pool = nn.MaxPool2d(2, 2)\n",
    "        self.conv2 = nn.Conv2d(6, 16, 5)\n",
    "        self.fc1 = nn.Linear(16 * 4 * 4, 120)\n",
    "        self.fc2 = nn.Linear(120, 84)\n",
    "        self.fc3 = nn.Linear(84, 10)\n",
    "\n",
    "    def forward(self, x, topology: bool = False):\n",
    "        if topology:\n",
    "            Dimension(x.transpose(1, 2).transpose(2, 3), label='Dimension Analysis', distances=False, batches=True)\n",
    "            DH(x.transpose(1, 2).transpose(2, 3), label='Hyperbolicity Analysis', distances=False, batches=True)\n",
    "            \n",
    "            x = self.pool(F.relu(self.conv1(x)))\n",
    "            x = self.pool(F.relu(self.conv2(x)))\n",
    "            Dimension(x.transpose(1, 2).transpose(2, 3), label='Dimension Analysis', distances=False, batches=True)\n",
    "            DH(x.transpose(1, 2).transpose(2, 3), label='Hyperbolicity Analysis', distances=False, batches=True)\n",
    "            \n",
    "            x = x.view(-1, 16 * 4 * 4)\n",
    "            x = F.relu(self.fc1(x))\n",
    "            x = F.relu(self.fc2(x))\n",
    "            x = self.fc3(x)\n",
    "            \n",
    "            return x\n",
    "        \n",
    "        x = self.pool(F.relu(self.conv1(x)))\n",
    "        x = self.pool(F.relu(self.conv2(x)))\n",
    "        x = x.view(-1, 16 * 4 * 4)\n",
    "        x = F.relu(self.fc1(x))\n",
    "        x = F.relu(self.fc2(x))\n",
    "        x = self.fc3(x)\n",
    "        return x\n",
    "\n",
    "\n",
    "net = Net()\n",
    "criterion = nn.CrossEntropyLoss()\n",
    "optimizer = optim.SGD(net.parameters(), lr=0.001, momentum=0.9)"
   ],
   "metadata": {
    "collapsed": false,
    "ExecuteTime": {
     "end_time": "2024-03-28T17:40:15.429989Z",
     "start_time": "2024-03-28T17:40:15.403940Z"
    }
   },
   "id": "77811661cfb83108"
  },
  {
   "cell_type": "code",
   "execution_count": 5,
   "outputs": [],
   "source": [
    "observer = TopologyObserver(net, writer, [Dimension, DH])"
   ],
   "metadata": {
    "collapsed": false,
    "ExecuteTime": {
     "end_time": "2024-03-28T17:40:15.431647Z",
     "start_time": "2024-03-28T17:40:15.416545Z"
    }
   },
   "id": "9d310d0e71034b3e"
  },
  {
   "cell_type": "code",
   "execution_count": 24,
   "outputs": [
    {
     "data": {
      "text/plain": "{5827103904: IntrinsicDimension(), 5808434528: DeltaHyperbolicity()}"
     },
     "execution_count": 24,
     "metadata": {},
     "output_type": "execute_result"
    }
   ],
   "source": [
    "observer.topology_modules"
   ],
   "metadata": {
    "collapsed": false,
    "ExecuteTime": {
     "end_time": "2024-03-28T17:34:58.106278Z",
     "start_time": "2024-03-28T17:34:58.083814Z"
    }
   },
   "id": "3327b33f5cbdd8c8"
  },
  {
   "cell_type": "code",
   "execution_count": 6,
   "outputs": [
    {
     "data": {
      "text/plain": "OrderedDict([(7,\n              <function topology.module.TopologyModule.tag_hook(self: 'TopologyModule', args: tuple, kwargs: dict, result)>),\n             (6,\n              <function topology.module.TopologyModule.writer_hook(self: 'TopologyModule', args: tuple, kwargs: dict, result)>),\n             (5,\n              <function topology.dimension.IntrinsicDimension.log(self: 'IntrinsicDimension', args: tuple, kwargs: dict, result)>),\n             (1,\n              <function topology.module.TopologyModule.increment(self: 'TopologyModule', args: tuple, result)>)])"
     },
     "execution_count": 6,
     "metadata": {},
     "output_type": "execute_result"
    }
   ],
   "source": [
    "Dimension._forward_hooks"
   ],
   "metadata": {
    "collapsed": false,
    "ExecuteTime": {
     "end_time": "2024-03-28T17:40:18.127297Z",
     "start_time": "2024-03-28T17:40:18.116230Z"
    }
   },
   "id": "43048c59a307191"
  },
  {
   "cell_type": "code",
   "execution_count": 7,
   "outputs": [],
   "source": [
    "# Log Validation Results\n",
    "net.eval()\n",
    "vdata = next(iter(validation_loader))\n",
    "vinputs, vlabels = vdata\n",
    "voutputs = net(vinputs, topology=True)\n",
    "vloss = criterion(voutputs, vlabels)"
   ],
   "metadata": {
    "collapsed": false,
    "ExecuteTime": {
     "end_time": "2024-03-28T17:40:27.344537Z",
     "start_time": "2024-03-28T17:40:23.634089Z"
    }
   },
   "id": "8d742bcb86ed5712"
  },
  {
   "cell_type": "code",
   "execution_count": 13,
   "outputs": [
    {
     "data": {
      "text/plain": "(tensor([1.8609, 2.0353, 2.1721, 1.8744]), tensor([0., 0., 0., 0.]))"
     },
     "execution_count": 13,
     "metadata": {},
     "output_type": "execute_result"
    }
   ],
   "source": [
    "from topology import IntrinsicDimension\n",
    "Dimension = IntrinsicDimension(writer=writer)\n",
    "Dimension.add_log_hook()\n",
    "x = vinputs\n",
    "Dimension(x.transpose(1, 2).transpose(2, 3), label='Dimension Analysis', distances=False, batches=True)"
   ],
   "metadata": {
    "collapsed": false,
    "ExecuteTime": {
     "end_time": "2024-03-28T17:28:37.903597Z",
     "start_time": "2024-03-28T17:28:37.868388Z"
    }
   },
   "id": "86f3463fcf5c4e95"
  },
  {
   "cell_type": "code",
   "execution_count": 19,
   "outputs": [],
   "source": [
    "Dimension.parent()"
   ],
   "metadata": {
    "collapsed": false,
    "ExecuteTime": {
     "end_time": "2024-03-28T17:34:16.273722Z",
     "start_time": "2024-03-28T17:34:16.261513Z"
    }
   },
   "id": "2aa8563e527cb63a"
  },
  {
   "cell_type": "code",
   "execution_count": 11,
   "outputs": [
    {
     "data": {
      "text/plain": "'ID Profile 5808612736: Dimension Analysis'"
     },
     "execution_count": 11,
     "metadata": {},
     "output_type": "execute_result"
    }
   ],
   "source": [
    "'/'.join(Dimension.get_tags()) + ': ' + 'Dimension Analysis'"
   ],
   "metadata": {
    "collapsed": false,
    "ExecuteTime": {
     "end_time": "2024-03-28T17:25:18.215633Z",
     "start_time": "2024-03-28T17:25:18.201404Z"
    }
   },
   "id": "a35fec81ed8eb03"
  },
  {
   "cell_type": "code",
   "execution_count": 6,
   "outputs": [
    {
     "data": {
      "text/plain": "(tensor([1.8609, 2.0353, 2.1721, 1.8744]), tensor([0., 0., 0., 0.]))"
     },
     "execution_count": 6,
     "metadata": {},
     "output_type": "execute_result"
    }
   ],
   "source": [
    "x = vinputs\n",
    "res = net.Dimension(x.transpose(1, 2).transpose(2, 3), label='Dimension Analysis', distances=False, batches=True)\n",
    "res"
   ],
   "metadata": {
    "collapsed": false,
    "ExecuteTime": {
     "end_time": "2024-03-28T16:55:41.623129Z",
     "start_time": "2024-03-28T16:55:41.594204Z"
    }
   },
   "id": "31c6096c4af159ce"
  },
  {
   "cell_type": "code",
   "execution_count": 7,
   "outputs": [
    {
     "data": {
      "text/plain": "(tensor([6.7247, 5.7119, 2.5959, 3.5795]), tensor([0., 0., 0., 0.]))"
     },
     "execution_count": 7,
     "metadata": {},
     "output_type": "execute_result"
    }
   ],
   "source": [
    "x = net.pool(F.relu(net.conv1(x)))\n",
    "x = net.pool(F.relu(net.conv2(x)))\n",
    "net.Dimension(x.transpose(1, 2).transpose(2, 3), label='Dimension Analysis', distances=False, batches=True)"
   ],
   "metadata": {
    "collapsed": false,
    "ExecuteTime": {
     "end_time": "2024-03-28T16:55:49.665205Z",
     "start_time": "2024-03-28T16:55:49.623263Z"
    }
   },
   "id": "2696c8550699cd5d"
  },
  {
   "cell_type": "code",
   "execution_count": 9,
   "outputs": [
    {
     "data": {
      "text/plain": "torch.Size([4, 16, 4, 4])"
     },
     "execution_count": 9,
     "metadata": {},
     "output_type": "execute_result"
    }
   ],
   "source": [
    "x = net.pool(F.relu(net.conv1(x)))\n",
    "x = net.pool(F.relu(net.conv2(x)))\n",
    "x.shape"
   ],
   "metadata": {
    "collapsed": false,
    "ExecuteTime": {
     "end_time": "2024-03-28T14:40:47.743114Z",
     "start_time": "2024-03-28T14:40:47.706172Z"
    }
   },
   "id": "33d0c62f7ccc0bc"
  },
  {
   "cell_type": "code",
   "execution_count": 10,
   "outputs": [
    {
     "data": {
      "text/plain": "torch.Size([16, 4, 4, 4])"
     },
     "execution_count": 10,
     "metadata": {},
     "output_type": "execute_result"
    }
   ],
   "source": [
    "x.transpose(0, 1).transpose(1, 2).shape"
   ],
   "metadata": {
    "collapsed": false,
    "ExecuteTime": {
     "end_time": "2024-03-28T14:41:16.590151Z",
     "start_time": "2024-03-28T14:41:16.579534Z"
    }
   },
   "id": "53b0a6de87d746d0"
  },
  {
   "cell_type": "code",
   "execution_count": null,
   "outputs": [],
   "source": [],
   "metadata": {
    "collapsed": false
   },
   "id": "e407ccc5eef50697"
  },
  {
   "cell_type": "code",
   "execution_count": 10,
   "outputs": [
    {
     "data": {
      "text/plain": "tensor([[[0.0000],\n         [0.0000],\n         [0.0000],\n         [0.0000],\n         [0.0000],\n         [0.0000],\n         [0.0000],\n         [0.0000],\n         [0.0000],\n         [0.0000],\n         [0.0000],\n         [0.0000],\n         [0.0000],\n         [0.0000],\n         [0.0000],\n         [0.0000],\n         [0.0000],\n         [0.0000],\n         [0.0000],\n         [0.0000],\n         [0.0000],\n         [0.0000],\n         [0.0000],\n         [0.0000],\n         [0.0000],\n         [0.0000],\n         [0.0000],\n         [0.0000]],\n\n        [[0.0000],\n         [0.0000],\n         [0.0000],\n         [0.0000],\n         [0.0000],\n         [0.0000],\n         [0.0000],\n         [0.0000],\n         [0.0000],\n         [0.0000],\n         [0.0000],\n         [0.0000],\n         [0.0000],\n         [0.0000],\n         [0.0000],\n         [0.0000],\n         [0.0000],\n         [0.0000],\n         [0.0000],\n         [0.0000],\n         [0.0000],\n         [0.0000],\n         [0.0000],\n         [0.0000],\n         [0.0000],\n         [0.0000],\n         [0.0000],\n         [0.0000]],\n\n        [[0.0000],\n         [0.0000],\n         [0.0000],\n         [0.0000],\n         [0.0000],\n         [0.0000],\n         [0.0000],\n         [0.0000],\n         [0.0000],\n         [0.0000],\n         [0.0000],\n         [0.0000],\n         [0.0000],\n         [0.0000],\n         [0.0000],\n         [0.0000],\n         [0.0000],\n         [0.0000],\n         [0.0000],\n         [0.0000],\n         [0.0000],\n         [0.0000],\n         [0.0000],\n         [0.0000],\n         [0.0000],\n         [0.0000],\n         [0.0000],\n         [0.0000]],\n\n        [[0.0000],\n         [0.0000],\n         [0.0000],\n         [0.0000],\n         [0.0000],\n         [0.0000],\n         [0.0000],\n         [0.0000],\n         [0.0000],\n         [0.0000],\n         [0.0000],\n         [0.0000],\n         [0.0000],\n         [0.0000],\n         [0.0000],\n         [0.0000],\n         [0.0000],\n         [0.0000],\n         [0.0000],\n         [0.0000],\n         [0.0000],\n         [0.0000],\n         [0.0000],\n         [0.0000],\n         [0.0000],\n         [0.0000],\n         [0.0000],\n         [0.0000]],\n\n        [[0.0000],\n         [0.0000],\n         [0.0000],\n         [0.0000],\n         [0.0000],\n         [0.0000],\n         [0.0000],\n         [0.0000],\n         [0.0000],\n         [0.0000],\n         [0.0000],\n         [0.0000],\n         [0.0000],\n         [0.0000],\n         [0.0000],\n         [0.0000],\n         [0.0000],\n         [0.0000],\n         [0.0000],\n         [0.0000],\n         [0.0000],\n         [0.0000],\n         [0.0000],\n         [0.0000],\n         [0.0000],\n         [0.0000],\n         [0.0000],\n         [0.0000]],\n\n        [[0.0000],\n         [0.0000],\n         [0.0000],\n         [0.0000],\n         [0.0000],\n         [0.0000],\n         [0.0000],\n         [0.0000],\n         [0.0000],\n         [0.0000],\n         [0.0000],\n         [0.0000],\n         [0.0000],\n         [0.0000],\n         [0.0000],\n         [0.0000],\n         [0.0000],\n         [0.0000],\n         [0.0000],\n         [0.0000],\n         [0.0000],\n         [0.0000],\n         [0.0000],\n         [0.0000],\n         [0.0000],\n         [0.0000],\n         [0.0000],\n         [0.0000]],\n\n        [[0.0000],\n         [0.0000],\n         [0.0000],\n         [0.0000],\n         [0.0000],\n         [0.0000],\n         [0.0000],\n         [0.0000],\n         [0.0000],\n         [0.0000],\n         [0.0000],\n         [0.0000],\n         [0.0000],\n         [0.0000],\n         [0.0000],\n         [0.0000],\n         [0.0000],\n         [0.0000],\n         [0.0000],\n         [0.0000],\n         [0.0000],\n         [0.0000],\n         [0.0000],\n         [0.0000],\n         [0.0000],\n         [0.0000],\n         [0.0000],\n         [0.0000]],\n\n        [[0.0000],\n         [0.0000],\n         [0.0000],\n         [0.0000],\n         [0.0000],\n         [0.0000],\n         [0.0000],\n         [0.0000],\n         [0.0000],\n         [0.0000],\n         [0.0000],\n         [0.0000],\n         [0.0000],\n         [0.0000],\n         [0.0000],\n         [0.0000],\n         [0.0000],\n         [0.0000],\n         [0.0000],\n         [0.0118],\n         [0.0039],\n         [0.0000],\n         [0.0000],\n         [0.0275],\n         [0.0000],\n         [0.1451],\n         [0.0000],\n         [0.0000]],\n\n        [[0.0000],\n         [0.0000],\n         [0.0000],\n         [0.0000],\n         [0.0000],\n         [0.0000],\n         [0.0000],\n         [0.0000],\n         [0.0000],\n         [0.0000],\n         [0.0000],\n         [0.0000],\n         [0.0000],\n         [0.0039],\n         [0.0078],\n         [0.0000],\n         [0.1059],\n         [0.3294],\n         [0.0431],\n         [0.0000],\n         [0.0000],\n         [0.0000],\n         [0.0000],\n         [0.0000],\n         [0.0000],\n         [0.4667],\n         [0.0000],\n         [0.0000]],\n\n        [[0.0000],\n         [0.0000],\n         [0.0000],\n         [0.0000],\n         [0.0000],\n         [0.0000],\n         [0.0000],\n         [0.0000],\n         [0.0000],\n         [0.0000],\n         [0.0000],\n         [0.0000],\n         [0.0000],\n         [0.0039],\n         [0.0000],\n         [0.0000],\n         [0.3451],\n         [0.5608],\n         [0.4314],\n         [0.0000],\n         [0.0000],\n         [0.0000],\n         [0.0000],\n         [0.0863],\n         [0.3647],\n         [0.4157],\n         [0.0000],\n         [0.0000]],\n\n        [[0.0000],\n         [0.0000],\n         [0.0000],\n         [0.0000],\n         [0.0000],\n         [0.0000],\n         [0.0000],\n         [0.0000],\n         [0.0000],\n         [0.0000],\n         [0.0000],\n         [0.0000],\n         [0.0000],\n         [0.0157],\n         [0.0000],\n         [0.2078],\n         [0.5059],\n         [0.4706],\n         [0.5765],\n         [0.6863],\n         [0.6157],\n         [0.6510],\n         [0.5294],\n         [0.6039],\n         [0.6588],\n         [0.5490],\n         [0.0000],\n         [0.0000]],\n\n        [[0.0000],\n         [0.0000],\n         [0.0000],\n         [0.0000],\n         [0.0000],\n         [0.0000],\n         [0.0000],\n         [0.0000],\n         [0.0000],\n         [0.0000],\n         [0.0000],\n         [0.0000],\n         [0.0078],\n         [0.0000],\n         [0.0431],\n         [0.5373],\n         [0.5098],\n         [0.5020],\n         [0.6275],\n         [0.6902],\n         [0.6235],\n         [0.6549],\n         [0.6980],\n         [0.5843],\n         [0.5922],\n         [0.5647],\n         [0.0000],\n         [0.0000]],\n\n        [[0.0000],\n         [0.0000],\n         [0.0000],\n         [0.0000],\n         [0.0000],\n         [0.0000],\n         [0.0039],\n         [0.0000],\n         [0.0078],\n         [0.0039],\n         [0.0000],\n         [0.0118],\n         [0.0000],\n         [0.0000],\n         [0.4510],\n         [0.4471],\n         [0.4157],\n         [0.5373],\n         [0.6588],\n         [0.6000],\n         [0.6118],\n         [0.6471],\n         [0.6549],\n         [0.5608],\n         [0.6157],\n         [0.6196],\n         [0.0431],\n         [0.0000]],\n\n        [[0.0000],\n         [0.0000],\n         [0.0000],\n         [0.0000],\n         [0.0039],\n         [0.0000],\n         [0.0000],\n         [0.0000],\n         [0.0000],\n         [0.0000],\n         [0.0118],\n         [0.0000],\n         [0.0000],\n         [0.3490],\n         [0.5451],\n         [0.3529],\n         [0.3686],\n         [0.6000],\n         [0.5843],\n         [0.5137],\n         [0.5922],\n         [0.6627],\n         [0.6745],\n         [0.5608],\n         [0.6235],\n         [0.6627],\n         [0.1882],\n         [0.0000]],\n\n        [[0.0000],\n         [0.0000],\n         [0.0000],\n         [0.0000],\n         [0.0000],\n         [0.0000],\n         [0.0078],\n         [0.0157],\n         [0.0039],\n         [0.0000],\n         [0.0000],\n         [0.0000],\n         [0.3843],\n         [0.5333],\n         [0.4314],\n         [0.4275],\n         [0.4314],\n         [0.6353],\n         [0.5294],\n         [0.5647],\n         [0.5843],\n         [0.6235],\n         [0.6549],\n         [0.5647],\n         [0.6196],\n         [0.6627],\n         [0.4667],\n         [0.0000]],\n\n        [[0.0000],\n         [0.0000],\n         [0.0078],\n         [0.0078],\n         [0.0039],\n         [0.0078],\n         [0.0000],\n         [0.0000],\n         [0.0000],\n         [0.0000],\n         [0.1020],\n         [0.4235],\n         [0.4588],\n         [0.3882],\n         [0.4353],\n         [0.4588],\n         [0.5333],\n         [0.6118],\n         [0.5255],\n         [0.6039],\n         [0.6039],\n         [0.6118],\n         [0.6275],\n         [0.5529],\n         [0.5765],\n         [0.6118],\n         [0.6980],\n         [0.0000]],\n\n        [[0.0118],\n         [0.0000],\n         [0.0000],\n         [0.0000],\n         [0.0000],\n         [0.0000],\n         [0.0000],\n         [0.0824],\n         [0.2078],\n         [0.3608],\n         [0.4588],\n         [0.4353],\n         [0.4039],\n         [0.4510],\n         [0.5059],\n         [0.5255],\n         [0.5608],\n         [0.6039],\n         [0.6471],\n         [0.6667],\n         [0.6039],\n         [0.5922],\n         [0.6039],\n         [0.5608],\n         [0.5412],\n         [0.5882],\n         [0.6471],\n         [0.1686]],\n\n        [[0.0000],\n         [0.0000],\n         [0.0902],\n         [0.2118],\n         [0.2549],\n         [0.2980],\n         [0.3333],\n         [0.4627],\n         [0.5020],\n         [0.4824],\n         [0.4353],\n         [0.4431],\n         [0.4627],\n         [0.4980],\n         [0.4902],\n         [0.5451],\n         [0.5216],\n         [0.5333],\n         [0.6275],\n         [0.5490],\n         [0.6078],\n         [0.6314],\n         [0.5647],\n         [0.6078],\n         [0.6745],\n         [0.6314],\n         [0.7412],\n         [0.2431]],\n\n        [[0.0000],\n         [0.2667],\n         [0.3686],\n         [0.3529],\n         [0.4353],\n         [0.4471],\n         [0.4353],\n         [0.4471],\n         [0.4510],\n         [0.4980],\n         [0.5294],\n         [0.5333],\n         [0.5608],\n         [0.4941],\n         [0.4980],\n         [0.5922],\n         [0.6039],\n         [0.5608],\n         [0.5804],\n         [0.4902],\n         [0.6353],\n         [0.6353],\n         [0.5647],\n         [0.5412],\n         [0.6000],\n         [0.6353],\n         [0.7686],\n         [0.2275]],\n\n        [[0.2745],\n         [0.6627],\n         [0.5059],\n         [0.4078],\n         [0.3843],\n         [0.3922],\n         [0.3686],\n         [0.3804],\n         [0.3843],\n         [0.4000],\n         [0.4235],\n         [0.4157],\n         [0.4667],\n         [0.4706],\n         [0.5059],\n         [0.5843],\n         [0.6118],\n         [0.6549],\n         [0.7451],\n         [0.7451],\n         [0.7686],\n         [0.7765],\n         [0.7765],\n         [0.7333],\n         [0.7725],\n         [0.7412],\n         [0.7216],\n         [0.1412]],\n\n        [[0.0627],\n         [0.4941],\n         [0.6706],\n         [0.7373],\n         [0.7373],\n         [0.7216],\n         [0.6706],\n         [0.6000],\n         [0.5294],\n         [0.4706],\n         [0.4941],\n         [0.4980],\n         [0.5725],\n         [0.7255],\n         [0.7647],\n         [0.8196],\n         [0.8157],\n         [1.0000],\n         [0.8196],\n         [0.6941],\n         [0.9608],\n         [0.9882],\n         [0.9843],\n         [0.9843],\n         [0.9686],\n         [0.8627],\n         [0.8078],\n         [0.1922]],\n\n        [[0.0000],\n         [0.0000],\n         [0.0000],\n         [0.0471],\n         [0.2627],\n         [0.4157],\n         [0.6431],\n         [0.7255],\n         [0.7804],\n         [0.8235],\n         [0.8275],\n         [0.8235],\n         [0.8157],\n         [0.7451],\n         [0.5882],\n         [0.3216],\n         [0.0314],\n         [0.0000],\n         [0.0000],\n         [0.0000],\n         [0.6980],\n         [0.8157],\n         [0.7373],\n         [0.6863],\n         [0.6353],\n         [0.6196],\n         [0.5922],\n         [0.0431]],\n\n        [[0.0000],\n         [0.0000],\n         [0.0000],\n         [0.0000],\n         [0.0000],\n         [0.0000],\n         [0.0000],\n         [0.0000],\n         [0.0000],\n         [0.0000],\n         [0.0000],\n         [0.0000],\n         [0.0000],\n         [0.0000],\n         [0.0000],\n         [0.0000],\n         [0.0000],\n         [0.0000],\n         [0.0000],\n         [0.0000],\n         [0.0000],\n         [0.0000],\n         [0.0000],\n         [0.0000],\n         [0.0000],\n         [0.0000],\n         [0.0000],\n         [0.0000]],\n\n        [[0.0000],\n         [0.0000],\n         [0.0000],\n         [0.0000],\n         [0.0000],\n         [0.0000],\n         [0.0000],\n         [0.0000],\n         [0.0000],\n         [0.0000],\n         [0.0000],\n         [0.0000],\n         [0.0000],\n         [0.0000],\n         [0.0000],\n         [0.0000],\n         [0.0000],\n         [0.0000],\n         [0.0000],\n         [0.0000],\n         [0.0000],\n         [0.0000],\n         [0.0000],\n         [0.0000],\n         [0.0000],\n         [0.0000],\n         [0.0000],\n         [0.0000]],\n\n        [[0.0000],\n         [0.0000],\n         [0.0000],\n         [0.0000],\n         [0.0000],\n         [0.0000],\n         [0.0000],\n         [0.0000],\n         [0.0000],\n         [0.0000],\n         [0.0000],\n         [0.0000],\n         [0.0000],\n         [0.0000],\n         [0.0000],\n         [0.0000],\n         [0.0000],\n         [0.0000],\n         [0.0000],\n         [0.0000],\n         [0.0000],\n         [0.0000],\n         [0.0000],\n         [0.0000],\n         [0.0000],\n         [0.0000],\n         [0.0000],\n         [0.0000]],\n\n        [[0.0000],\n         [0.0000],\n         [0.0000],\n         [0.0000],\n         [0.0000],\n         [0.0000],\n         [0.0000],\n         [0.0000],\n         [0.0000],\n         [0.0000],\n         [0.0000],\n         [0.0000],\n         [0.0000],\n         [0.0000],\n         [0.0000],\n         [0.0000],\n         [0.0000],\n         [0.0000],\n         [0.0000],\n         [0.0000],\n         [0.0000],\n         [0.0000],\n         [0.0000],\n         [0.0000],\n         [0.0000],\n         [0.0000],\n         [0.0000],\n         [0.0000]],\n\n        [[0.0000],\n         [0.0000],\n         [0.0000],\n         [0.0000],\n         [0.0000],\n         [0.0000],\n         [0.0000],\n         [0.0000],\n         [0.0000],\n         [0.0000],\n         [0.0000],\n         [0.0000],\n         [0.0000],\n         [0.0000],\n         [0.0000],\n         [0.0000],\n         [0.0000],\n         [0.0000],\n         [0.0000],\n         [0.0000],\n         [0.0000],\n         [0.0000],\n         [0.0000],\n         [0.0000],\n         [0.0000],\n         [0.0000],\n         [0.0000],\n         [0.0000]],\n\n        [[0.0000],\n         [0.0000],\n         [0.0000],\n         [0.0000],\n         [0.0000],\n         [0.0000],\n         [0.0000],\n         [0.0000],\n         [0.0000],\n         [0.0000],\n         [0.0000],\n         [0.0000],\n         [0.0000],\n         [0.0000],\n         [0.0000],\n         [0.0000],\n         [0.0000],\n         [0.0000],\n         [0.0000],\n         [0.0000],\n         [0.0000],\n         [0.0000],\n         [0.0000],\n         [0.0000],\n         [0.0000],\n         [0.0000],\n         [0.0000],\n         [0.0000]]])"
     },
     "execution_count": 10,
     "metadata": {},
     "output_type": "execute_result"
    }
   ],
   "source": [
    "(vinputs[0] / 2 + 0.5).transpose(0, 1).transpose(1, 2)"
   ],
   "metadata": {
    "collapsed": false,
    "ExecuteTime": {
     "end_time": "2024-03-26T11:16:40.277243Z",
     "start_time": "2024-03-26T11:16:40.249287Z"
    }
   },
   "id": "7997b6edfffcbcf5"
  },
  {
   "cell_type": "code",
   "execution_count": 6,
   "outputs": [
    {
     "name": "stdout",
     "output_type": "stream",
     "text": [
      "2500\n",
      "0\n",
      "Batch 1 Observer step: 0\n",
      "Validation Batch 1 Observer step: 1\n",
      "Validation Batch 1001 Observer step: 1001\n",
      "Validation Batch 2001 Observer step: 2001\n",
      "Batch 1001 Observer step: 0\n",
      "Validation Batch 1 Observer step: 3501\n",
      "Validation Batch 1001 Observer step: 4501\n",
      "Validation Batch 2001 Observer step: 5501\n",
      "Batch 2001 Observer step: 0\n",
      "Validation Batch 1 Observer step: 7001\n",
      "Validation Batch 1001 Observer step: 8001\n",
      "Validation Batch 2001 Observer step: 9001\n",
      "Batch 3001 Observer step: 0\n",
      "Validation Batch 1 Observer step: 10501\n",
      "Validation Batch 1001 Observer step: 11501\n",
      "Validation Batch 2001 Observer step: 12501\n",
      "Batch 4001 Observer step: 0\n",
      "Validation Batch 1 Observer step: 14001\n",
      "Validation Batch 1001 Observer step: 15001\n",
      "Validation Batch 2001 Observer step: 16001\n",
      "Batch 5001 Observer step: 0\n",
      "Validation Batch 1 Observer step: 17501\n",
      "Validation Batch 1001 Observer step: 18501\n",
      "Validation Batch 2001 Observer step: 19501\n",
      "Batch 6001 Observer step: 0\n",
      "Validation Batch 1 Observer step: 21001\n",
      "Validation Batch 1001 Observer step: 22001\n",
      "Validation Batch 2001 Observer step: 23001\n",
      "Batch 7001 Observer step: 0\n",
      "Validation Batch 1 Observer step: 24501\n",
      "Validation Batch 1001 Observer step: 25501\n",
      "Validation Batch 2001 Observer step: 26501\n",
      "Batch 8001 Observer step: 0\n",
      "Validation Batch 1 Observer step: 28001\n",
      "Validation Batch 1001 Observer step: 29001\n",
      "Validation Batch 2001 Observer step: 30001\n",
      "Batch 9001 Observer step: 0\n",
      "Validation Batch 1 Observer step: 31501\n",
      "Validation Batch 1001 Observer step: 32501\n",
      "Validation Batch 2001 Observer step: 33501\n",
      "Batch 10001 Observer step: 0\n",
      "Validation Batch 1 Observer step: 35001\n",
      "Validation Batch 1001 Observer step: 36001\n",
      "Validation Batch 2001 Observer step: 37001\n",
      "Batch 11001 Observer step: 0\n",
      "Validation Batch 1 Observer step: 38501\n",
      "Validation Batch 1001 Observer step: 39501\n",
      "Validation Batch 2001 Observer step: 40501\n",
      "Batch 12001 Observer step: 0\n",
      "Validation Batch 1 Observer step: 42001\n",
      "Validation Batch 1001 Observer step: 43001\n",
      "Validation Batch 2001 Observer step: 44001\n",
      "Batch 13001 Observer step: 0\n",
      "Validation Batch 1 Observer step: 45501\n",
      "Validation Batch 1001 Observer step: 46501\n",
      "Validation Batch 2001 Observer step: 47501\n",
      "Batch 14001 Observer step: 0\n",
      "Validation Batch 1 Observer step: 49001\n",
      "Validation Batch 1001 Observer step: 50001\n",
      "Validation Batch 2001 Observer step: 51001\n",
      "Finished Training\n"
     ]
    }
   ],
   "source": [
    "print(len(validation_loader))\n",
    "observer.flush()\n",
    "net.train(True)\n",
    "\n",
    "for epoch in range(1):  # loop over the dataset multiple times\n",
    "    running_loss = 0.0\n",
    "    print(observer.step)\n",
    "\n",
    "    for i, data in enumerate(training_loader, 0):\n",
    "        # basic training loop\n",
    "        inputs, labels = data\n",
    "        optimizer.zero_grad()\n",
    "        outputs = net(inputs, topology=i % 1000 == 0)\n",
    "        loss = criterion(outputs, labels)\n",
    "        loss.backward()\n",
    "        optimizer.step()\n",
    "\n",
    "        running_loss += loss.item()\n",
    "        \n",
    "        if i % 1000 == 0:    # Every 1000 mini-batches...\n",
    "            print('Batch {}'.format(i + 1), f'Observer step: {observer.step}')\n",
    "            # Check against the validation set\n",
    "            running_vloss = 0.0\n",
    "\n",
    "            # In evaluation mode some model specific operations can be omitted eg. dropout layer\n",
    "            net.train(False) # Switching to evaluation mode, eg. turning off regularisation\n",
    "            \n",
    "            for j, vdata in enumerate(validation_loader, 0):\n",
    "                vinputs, vlabels = vdata\n",
    "                if j % 1000 == 0:\n",
    "                    print('Validation Batch {}'.format(j + 1), f'Observer step: {observer.val_step}')\n",
    "                    voutputs = net(vinputs, topology=True)\n",
    "                else:\n",
    "                    voutputs = net(vinputs)\n",
    "                vloss = criterion(voutputs, vlabels)\n",
    "                running_vloss += vloss.item()\n",
    "            net.train(True) # Switching back to training mode, eg. turning on regularisation\n",
    "\n",
    "            avg_loss = running_loss / 1000\n",
    "            avg_vloss = running_vloss / len(validation_loader)\n",
    "\n",
    "            # Log the running loss averaged per batch\n",
    "            writer.add_scalars('Training vs. Validation Loss',\n",
    "                            { 'Training' : avg_loss, 'Validation' : avg_vloss },\n",
    "                            epoch * len(training_loader) + i)\n",
    "\n",
    "            running_loss = 0.0\n",
    "\n",
    "print('Finished Training')\n",
    "\n",
    "writer.flush()"
   ],
   "metadata": {
    "collapsed": false,
    "ExecuteTime": {
     "end_time": "2024-03-30T06:16:23.409506Z",
     "start_time": "2024-03-30T06:13:13.902494Z"
    }
   },
   "id": "b55605c01813edd3"
  },
  {
   "cell_type": "code",
   "execution_count": 7,
   "outputs": [
    {
     "ename": "RecursionError",
     "evalue": "maximum recursion depth exceeded while getting the repr of an object",
     "output_type": "error",
     "traceback": [
      "\u001B[0;31m---------------------------------------------------------------------------\u001B[0m",
      "\u001B[0;31mRecursionError\u001B[0m                            Traceback (most recent call last)",
      "File \u001B[0;32m~/PycharmProjects/tadProject/.venv/lib/python3.9/site-packages/IPython/core/formatters.py:708\u001B[0m, in \u001B[0;36mPlainTextFormatter.__call__\u001B[0;34m(self, obj)\u001B[0m\n\u001B[1;32m    701\u001B[0m stream \u001B[38;5;241m=\u001B[39m StringIO()\n\u001B[1;32m    702\u001B[0m printer \u001B[38;5;241m=\u001B[39m pretty\u001B[38;5;241m.\u001B[39mRepresentationPrinter(stream, \u001B[38;5;28mself\u001B[39m\u001B[38;5;241m.\u001B[39mverbose,\n\u001B[1;32m    703\u001B[0m     \u001B[38;5;28mself\u001B[39m\u001B[38;5;241m.\u001B[39mmax_width, \u001B[38;5;28mself\u001B[39m\u001B[38;5;241m.\u001B[39mnewline,\n\u001B[1;32m    704\u001B[0m     max_seq_length\u001B[38;5;241m=\u001B[39m\u001B[38;5;28mself\u001B[39m\u001B[38;5;241m.\u001B[39mmax_seq_length,\n\u001B[1;32m    705\u001B[0m     singleton_pprinters\u001B[38;5;241m=\u001B[39m\u001B[38;5;28mself\u001B[39m\u001B[38;5;241m.\u001B[39msingleton_printers,\n\u001B[1;32m    706\u001B[0m     type_pprinters\u001B[38;5;241m=\u001B[39m\u001B[38;5;28mself\u001B[39m\u001B[38;5;241m.\u001B[39mtype_printers,\n\u001B[1;32m    707\u001B[0m     deferred_pprinters\u001B[38;5;241m=\u001B[39m\u001B[38;5;28mself\u001B[39m\u001B[38;5;241m.\u001B[39mdeferred_printers)\n\u001B[0;32m--> 708\u001B[0m \u001B[43mprinter\u001B[49m\u001B[38;5;241;43m.\u001B[39;49m\u001B[43mpretty\u001B[49m\u001B[43m(\u001B[49m\u001B[43mobj\u001B[49m\u001B[43m)\u001B[49m\n\u001B[1;32m    709\u001B[0m printer\u001B[38;5;241m.\u001B[39mflush()\n\u001B[1;32m    710\u001B[0m \u001B[38;5;28;01mreturn\u001B[39;00m stream\u001B[38;5;241m.\u001B[39mgetvalue()\n",
      "File \u001B[0;32m~/PycharmProjects/tadProject/.venv/lib/python3.9/site-packages/IPython/lib/pretty.py:410\u001B[0m, in \u001B[0;36mRepresentationPrinter.pretty\u001B[0;34m(self, obj)\u001B[0m\n\u001B[1;32m    407\u001B[0m                         \u001B[38;5;28;01mreturn\u001B[39;00m meth(obj, \u001B[38;5;28mself\u001B[39m, cycle)\n\u001B[1;32m    408\u001B[0m                 \u001B[38;5;28;01mif\u001B[39;00m \u001B[38;5;28mcls\u001B[39m \u001B[38;5;129;01mis\u001B[39;00m \u001B[38;5;129;01mnot\u001B[39;00m \u001B[38;5;28mobject\u001B[39m \\\n\u001B[1;32m    409\u001B[0m                         \u001B[38;5;129;01mand\u001B[39;00m \u001B[38;5;28mcallable\u001B[39m(\u001B[38;5;28mcls\u001B[39m\u001B[38;5;241m.\u001B[39m\u001B[38;5;18m__dict__\u001B[39m\u001B[38;5;241m.\u001B[39mget(\u001B[38;5;124m'\u001B[39m\u001B[38;5;124m__repr__\u001B[39m\u001B[38;5;124m'\u001B[39m)):\n\u001B[0;32m--> 410\u001B[0m                     \u001B[38;5;28;01mreturn\u001B[39;00m \u001B[43m_repr_pprint\u001B[49m\u001B[43m(\u001B[49m\u001B[43mobj\u001B[49m\u001B[43m,\u001B[49m\u001B[43m \u001B[49m\u001B[38;5;28;43mself\u001B[39;49m\u001B[43m,\u001B[49m\u001B[43m \u001B[49m\u001B[43mcycle\u001B[49m\u001B[43m)\u001B[49m\n\u001B[1;32m    412\u001B[0m     \u001B[38;5;28;01mreturn\u001B[39;00m _default_pprint(obj, \u001B[38;5;28mself\u001B[39m, cycle)\n\u001B[1;32m    413\u001B[0m \u001B[38;5;28;01mfinally\u001B[39;00m:\n",
      "File \u001B[0;32m~/PycharmProjects/tadProject/.venv/lib/python3.9/site-packages/IPython/lib/pretty.py:778\u001B[0m, in \u001B[0;36m_repr_pprint\u001B[0;34m(obj, p, cycle)\u001B[0m\n\u001B[1;32m    776\u001B[0m \u001B[38;5;250m\u001B[39m\u001B[38;5;124;03m\"\"\"A pprint that just redirects to the normal repr function.\"\"\"\u001B[39;00m\n\u001B[1;32m    777\u001B[0m \u001B[38;5;66;03m# Find newlines and replace them with p.break_()\u001B[39;00m\n\u001B[0;32m--> 778\u001B[0m output \u001B[38;5;241m=\u001B[39m \u001B[38;5;28;43mrepr\u001B[39;49m\u001B[43m(\u001B[49m\u001B[43mobj\u001B[49m\u001B[43m)\u001B[49m\n\u001B[1;32m    779\u001B[0m lines \u001B[38;5;241m=\u001B[39m output\u001B[38;5;241m.\u001B[39msplitlines()\n\u001B[1;32m    780\u001B[0m \u001B[38;5;28;01mwith\u001B[39;00m p\u001B[38;5;241m.\u001B[39mgroup():\n",
      "File \u001B[0;32m~/PycharmProjects/tadProject/.venv/lib/python3.9/site-packages/torch/nn/modules/module.py:2490\u001B[0m, in \u001B[0;36mModule.__repr__\u001B[0;34m(self)\u001B[0m\n\u001B[1;32m   2488\u001B[0m child_lines \u001B[38;5;241m=\u001B[39m []\n\u001B[1;32m   2489\u001B[0m \u001B[38;5;28;01mfor\u001B[39;00m key, module \u001B[38;5;129;01min\u001B[39;00m \u001B[38;5;28mself\u001B[39m\u001B[38;5;241m.\u001B[39m_modules\u001B[38;5;241m.\u001B[39mitems():\n\u001B[0;32m-> 2490\u001B[0m     mod_str \u001B[38;5;241m=\u001B[39m \u001B[38;5;28;43mrepr\u001B[39;49m\u001B[43m(\u001B[49m\u001B[43mmodule\u001B[49m\u001B[43m)\u001B[49m\n\u001B[1;32m   2491\u001B[0m     mod_str \u001B[38;5;241m=\u001B[39m _addindent(mod_str, \u001B[38;5;241m2\u001B[39m)\n\u001B[1;32m   2492\u001B[0m     child_lines\u001B[38;5;241m.\u001B[39mappend(\u001B[38;5;124m'\u001B[39m\u001B[38;5;124m(\u001B[39m\u001B[38;5;124m'\u001B[39m \u001B[38;5;241m+\u001B[39m key \u001B[38;5;241m+\u001B[39m \u001B[38;5;124m'\u001B[39m\u001B[38;5;124m): \u001B[39m\u001B[38;5;124m'\u001B[39m \u001B[38;5;241m+\u001B[39m mod_str)\n",
      "File \u001B[0;32m~/PycharmProjects/tadProject/.venv/lib/python3.9/site-packages/torch/nn/modules/module.py:2490\u001B[0m, in \u001B[0;36mModule.__repr__\u001B[0;34m(self)\u001B[0m\n\u001B[1;32m   2488\u001B[0m child_lines \u001B[38;5;241m=\u001B[39m []\n\u001B[1;32m   2489\u001B[0m \u001B[38;5;28;01mfor\u001B[39;00m key, module \u001B[38;5;129;01min\u001B[39;00m \u001B[38;5;28mself\u001B[39m\u001B[38;5;241m.\u001B[39m_modules\u001B[38;5;241m.\u001B[39mitems():\n\u001B[0;32m-> 2490\u001B[0m     mod_str \u001B[38;5;241m=\u001B[39m \u001B[38;5;28;43mrepr\u001B[39;49m\u001B[43m(\u001B[49m\u001B[43mmodule\u001B[49m\u001B[43m)\u001B[49m\n\u001B[1;32m   2491\u001B[0m     mod_str \u001B[38;5;241m=\u001B[39m _addindent(mod_str, \u001B[38;5;241m2\u001B[39m)\n\u001B[1;32m   2492\u001B[0m     child_lines\u001B[38;5;241m.\u001B[39mappend(\u001B[38;5;124m'\u001B[39m\u001B[38;5;124m(\u001B[39m\u001B[38;5;124m'\u001B[39m \u001B[38;5;241m+\u001B[39m key \u001B[38;5;241m+\u001B[39m \u001B[38;5;124m'\u001B[39m\u001B[38;5;124m): \u001B[39m\u001B[38;5;124m'\u001B[39m \u001B[38;5;241m+\u001B[39m mod_str)\n",
      "    \u001B[0;31m[... skipping similar frames: Module.__repr__ at line 2490 (984 times)]\u001B[0m\n",
      "File \u001B[0;32m~/PycharmProjects/tadProject/.venv/lib/python3.9/site-packages/torch/nn/modules/module.py:2490\u001B[0m, in \u001B[0;36mModule.__repr__\u001B[0;34m(self)\u001B[0m\n\u001B[1;32m   2488\u001B[0m child_lines \u001B[38;5;241m=\u001B[39m []\n\u001B[1;32m   2489\u001B[0m \u001B[38;5;28;01mfor\u001B[39;00m key, module \u001B[38;5;129;01min\u001B[39;00m \u001B[38;5;28mself\u001B[39m\u001B[38;5;241m.\u001B[39m_modules\u001B[38;5;241m.\u001B[39mitems():\n\u001B[0;32m-> 2490\u001B[0m     mod_str \u001B[38;5;241m=\u001B[39m \u001B[38;5;28;43mrepr\u001B[39;49m\u001B[43m(\u001B[49m\u001B[43mmodule\u001B[49m\u001B[43m)\u001B[49m\n\u001B[1;32m   2491\u001B[0m     mod_str \u001B[38;5;241m=\u001B[39m _addindent(mod_str, \u001B[38;5;241m2\u001B[39m)\n\u001B[1;32m   2492\u001B[0m     child_lines\u001B[38;5;241m.\u001B[39mappend(\u001B[38;5;124m'\u001B[39m\u001B[38;5;124m(\u001B[39m\u001B[38;5;124m'\u001B[39m \u001B[38;5;241m+\u001B[39m key \u001B[38;5;241m+\u001B[39m \u001B[38;5;124m'\u001B[39m\u001B[38;5;124m): \u001B[39m\u001B[38;5;124m'\u001B[39m \u001B[38;5;241m+\u001B[39m mod_str)\n",
      "\u001B[0;31mRecursionError\u001B[0m: maximum recursion depth exceeded while getting the repr of an object"
     ]
    }
   ],
   "source": [
    "net.Filtration.parent"
   ],
   "metadata": {
    "collapsed": false,
    "ExecuteTime": {
     "end_time": "2024-03-26T11:07:29.231235Z",
     "start_time": "2024-03-26T11:07:29.114732Z"
    }
   },
   "id": "67183400ee64f8c5"
  },
  {
   "cell_type": "code",
   "execution_count": 19,
   "outputs": [
    {
     "data": {
      "text/plain": "tensor([[[0.0000e+00, 0.0000e+00, 0.0000e+00, 0.0000e+00, 0.0000e+00,\n          0.0000e+00, 0.0000e+00, 2.9638e-01, 1.1652e+00, 1.9318e+00,\n          3.7456e+00, 3.9942e+00, 3.9800e+00, 4.0337e+00, 4.2469e+00,\n          4.4195e+00, 4.6912e+00, 5.1273e+00, 5.4278e+00, 6.0498e+00,\n          7.8098e+00, 5.9371e+00, 0.0000e+00, 0.0000e+00, 0.0000e+00,\n          0.0000e+00, 0.0000e+00, 0.0000e+00],\n         [0.0000e+00, 0.0000e+00, 0.0000e+00, 0.0000e+00, 0.0000e+00,\n          0.0000e+00, 0.0000e+00, 2.9638e-01, 1.1652e+00, 1.9318e+00,\n          3.7456e+00, 3.9942e+00, 3.9800e+00, 4.0337e+00, 4.2469e+00,\n          4.4195e+00, 4.6912e+00, 5.1273e+00, 5.4278e+00, 6.0498e+00,\n          7.8098e+00, 5.9371e+00, 0.0000e+00, 0.0000e+00, 0.0000e+00,\n          0.0000e+00, 0.0000e+00, 0.0000e+00],\n         [0.0000e+00, 0.0000e+00, 0.0000e+00, 0.0000e+00, 0.0000e+00,\n          0.0000e+00, 0.0000e+00, 2.9638e-01, 1.1652e+00, 1.9318e+00,\n          3.7456e+00, 3.9942e+00, 3.9800e+00, 4.0337e+00, 4.2469e+00,\n          4.4195e+00, 4.6912e+00, 5.1273e+00, 5.4278e+00, 6.0498e+00,\n          7.8098e+00, 5.9371e+00, 0.0000e+00, 0.0000e+00, 0.0000e+00,\n          0.0000e+00, 0.0000e+00, 0.0000e+00],\n         [0.0000e+00, 0.0000e+00, 0.0000e+00, 0.0000e+00, 0.0000e+00,\n          0.0000e+00, 0.0000e+00, 2.9638e-01, 1.1652e+00, 1.9318e+00,\n          3.7456e+00, 3.9942e+00, 3.9800e+00, 4.0337e+00, 4.2469e+00,\n          4.4195e+00, 4.6912e+00, 5.1273e+00, 5.4278e+00, 6.0498e+00,\n          7.8098e+00, 5.9371e+00, 0.0000e+00, 0.0000e+00, 0.0000e+00,\n          0.0000e+00, 0.0000e+00, 0.0000e+00],\n         [0.0000e+00, 0.0000e+00, 0.0000e+00, 0.0000e+00, 0.0000e+00,\n          0.0000e+00, 0.0000e+00, 2.9638e-01, 1.1652e+00, 1.9318e+00,\n          3.7456e+00, 3.9942e+00, 3.9800e+00, 4.0337e+00, 4.2469e+00,\n          4.4195e+00, 4.6912e+00, 5.1273e+00, 5.4278e+00, 6.0498e+00,\n          7.8098e+00, 5.9371e+00, 0.0000e+00, 0.0000e+00, 0.0000e+00,\n          0.0000e+00, 0.0000e+00, 0.0000e+00],\n         [0.0000e+00, 0.0000e+00, 0.0000e+00, 0.0000e+00, 0.0000e+00,\n          0.0000e+00, 0.0000e+00, 2.9638e-01, 1.1652e+00, 1.9318e+00,\n          3.7456e+00, 3.9942e+00, 3.9800e+00, 4.0337e+00, 4.2469e+00,\n          4.4195e+00, 4.6912e+00, 5.1273e+00, 5.4278e+00, 6.0498e+00,\n          7.8098e+00, 5.9371e+00, 0.0000e+00, 0.0000e+00, 0.0000e+00,\n          0.0000e+00, 0.0000e+00, 0.0000e+00],\n         [0.0000e+00, 0.0000e+00, 0.0000e+00, 0.0000e+00, 0.0000e+00,\n          0.0000e+00, 0.0000e+00, 2.9638e-01, 1.1652e+00, 1.9318e+00,\n          3.7456e+00, 3.9942e+00, 3.9800e+00, 4.0337e+00, 4.2469e+00,\n          4.4195e+00, 4.6912e+00, 5.1273e+00, 5.4278e+00, 6.0498e+00,\n          7.8098e+00, 5.9371e+00, 0.0000e+00, 0.0000e+00, 0.0000e+00,\n          0.0000e+00, 0.0000e+00, 0.0000e+00],\n         [2.9638e-01, 2.9638e-01, 2.9638e-01, 2.9638e-01, 2.9638e-01,\n          2.9638e-01, 2.9638e-01, 1.9531e-03, 9.5074e-01, 1.8216e+00,\n          3.6419e+00, 3.8953e+00, 3.8743e+00, 3.9242e+00, 4.1424e+00,\n          4.3258e+00, 4.6051e+00, 5.0438e+00, 5.3503e+00, 5.9642e+00,\n          7.7310e+00, 5.8690e+00, 2.9638e-01, 2.9638e-01, 2.9638e-01,\n          2.9638e-01, 2.9638e-01, 2.9638e-01],\n         [1.1652e+00, 1.1652e+00, 1.1652e+00, 1.1652e+00, 1.1652e+00,\n          1.1652e+00, 1.1652e+00, 9.5074e-01, 0.0000e+00, 1.2722e+00,\n          3.3867e+00, 3.6372e+00, 3.5863e+00, 3.6075e+00, 3.8280e+00,\n          4.0399e+00, 4.3397e+00, 4.8145e+00, 5.1196e+00, 5.7134e+00,\n          7.4465e+00, 5.8486e+00, 1.1652e+00, 1.1652e+00, 1.1652e+00,\n          1.1652e+00, 1.1652e+00, 1.1652e+00],\n         [1.9318e+00, 1.9318e+00, 1.9318e+00, 1.9318e+00, 1.9318e+00,\n          1.9318e+00, 1.9318e+00, 1.8216e+00, 1.2722e+00, 2.7621e-03,\n          2.8458e+00, 3.1387e+00, 3.0817e+00, 3.1393e+00, 3.3884e+00,\n          3.6226e+00, 3.9130e+00, 4.4181e+00, 4.7701e+00, 5.2814e+00,\n          6.9829e+00, 5.8722e+00, 1.9318e+00, 1.9318e+00, 1.9318e+00,\n          1.9318e+00, 1.9318e+00, 1.9318e+00],\n         [3.7456e+00, 3.7456e+00, 3.7456e+00, 3.7456e+00, 3.7456e+00,\n          3.7456e+00, 3.7456e+00, 3.6419e+00, 3.3867e+00, 2.8458e+00,\n          0.0000e+00, 7.6910e-01, 1.1211e+00, 1.5074e+00, 1.9506e+00,\n          2.3097e+00, 2.6754e+00, 3.3741e+00, 3.8889e+00, 3.8913e+00,\n          5.5870e+00, 5.3225e+00, 3.7456e+00, 3.7456e+00, 3.7456e+00,\n          3.7456e+00, 3.7456e+00, 3.7456e+00],\n         [3.9942e+00, 3.9942e+00, 3.9942e+00, 3.9942e+00, 3.9942e+00,\n          3.9942e+00, 3.9942e+00, 3.8953e+00, 3.6372e+00, 3.1387e+00,\n          7.6910e-01, 0.0000e+00, 8.9895e-01, 1.4404e+00, 1.8671e+00,\n          2.2203e+00, 2.5556e+00, 3.2968e+00, 3.7992e+00, 3.7663e+00,\n          5.4112e+00, 5.3431e+00, 3.9942e+00, 3.9942e+00, 3.9942e+00,\n          3.9942e+00, 3.9942e+00, 3.9942e+00],\n         [3.9800e+00, 3.9800e+00, 3.9800e+00, 3.9800e+00, 3.9800e+00,\n          3.9800e+00, 3.9800e+00, 3.8743e+00, 3.5863e+00, 3.0817e+00,\n          1.1211e+00, 8.9895e-01, 0.0000e+00, 8.5569e-01, 1.6047e+00,\n          2.0116e+00, 2.3455e+00, 3.1156e+00, 3.6461e+00, 3.6357e+00,\n          5.2582e+00, 5.1532e+00, 3.9800e+00, 3.9800e+00, 3.9800e+00,\n          3.9800e+00, 3.9800e+00, 3.9800e+00],\n         [4.0337e+00, 4.0337e+00, 4.0337e+00, 4.0337e+00, 4.0337e+00,\n          4.0337e+00, 4.0337e+00, 3.9242e+00, 3.6075e+00, 3.1393e+00,\n          1.5074e+00, 1.4404e+00, 8.5569e-01, 0.0000e+00, 1.0788e+00,\n          1.7107e+00, 2.0978e+00, 2.8855e+00, 3.4456e+00, 3.4711e+00,\n          5.0487e+00, 4.8737e+00, 4.0337e+00, 4.0337e+00, 4.0337e+00,\n          4.0337e+00, 4.0337e+00, 4.0337e+00],\n         [4.2469e+00, 4.2469e+00, 4.2469e+00, 4.2469e+00, 4.2469e+00,\n          4.2469e+00, 4.2469e+00, 4.1424e+00, 3.8280e+00, 3.3884e+00,\n          1.9506e+00, 1.8671e+00, 1.6047e+00, 1.0788e+00, 0.0000e+00,\n          1.0767e+00, 1.6939e+00, 2.5150e+00, 3.0761e+00, 3.1788e+00,\n          4.7621e+00, 4.6113e+00, 4.2469e+00, 4.2469e+00, 4.2469e+00,\n          4.2469e+00, 4.2469e+00, 4.2469e+00],\n         [4.4195e+00, 4.4195e+00, 4.4195e+00, 4.4195e+00, 4.4195e+00,\n          4.4195e+00, 4.4195e+00, 4.3258e+00, 4.0399e+00, 3.6226e+00,\n          2.3097e+00, 2.2203e+00, 2.0116e+00, 1.7107e+00, 1.0767e+00,\n          0.0000e+00, 1.2292e+00, 2.2249e+00, 2.7314e+00, 2.9632e+00,\n          4.5939e+00, 4.3860e+00, 4.4195e+00, 4.4195e+00, 4.4195e+00,\n          4.4195e+00, 4.4195e+00, 4.4195e+00],\n         [4.6912e+00, 4.6912e+00, 4.6912e+00, 4.6912e+00, 4.6912e+00,\n          4.6912e+00, 4.6912e+00, 4.6051e+00, 4.3397e+00, 3.9130e+00,\n          2.6754e+00, 2.5556e+00, 2.3455e+00, 2.0978e+00, 1.6939e+00,\n          1.2292e+00, 1.9531e-03, 1.5888e+00, 2.2227e+00, 2.6258e+00,\n          4.2638e+00, 3.9159e+00, 4.6912e+00, 4.6912e+00, 4.6912e+00,\n          4.6912e+00, 4.6912e+00, 4.6912e+00],\n         [5.1273e+00, 5.1273e+00, 5.1273e+00, 5.1273e+00, 5.1273e+00,\n          5.1273e+00, 5.1273e+00, 5.0438e+00, 4.8145e+00, 4.4181e+00,\n          3.3741e+00, 3.2968e+00, 3.1156e+00, 2.8855e+00, 2.5150e+00,\n          2.2249e+00, 1.5888e+00, 0.0000e+00, 1.0783e+00, 1.9987e+00,\n          3.2904e+00, 3.0421e+00, 5.1273e+00, 5.1273e+00, 5.1273e+00,\n          5.1273e+00, 5.1273e+00, 5.1273e+00],\n         [5.4278e+00, 5.4278e+00, 5.4278e+00, 5.4278e+00, 5.4278e+00,\n          5.4278e+00, 5.4278e+00, 5.3503e+00, 5.1196e+00, 4.7701e+00,\n          3.8889e+00, 3.7992e+00, 3.6461e+00, 3.4456e+00, 3.0761e+00,\n          2.7314e+00, 2.2227e+00, 1.0783e+00, 9.7656e-04, 1.5341e+00,\n          2.7245e+00, 3.1127e+00, 5.4278e+00, 5.4278e+00, 5.4278e+00,\n          5.4278e+00, 5.4278e+00, 5.4278e+00],\n         [6.0498e+00, 6.0498e+00, 6.0498e+00, 6.0498e+00, 6.0498e+00,\n          6.0498e+00, 6.0498e+00, 5.9642e+00, 5.7134e+00, 5.2814e+00,\n          3.8913e+00, 3.7663e+00, 3.6357e+00, 3.4711e+00, 3.1788e+00,\n          2.9632e+00, 2.6258e+00, 1.9987e+00, 1.5341e+00, 0.0000e+00,\n          2.2251e+00, 3.9978e+00, 6.0498e+00, 6.0498e+00, 6.0498e+00,\n          6.0498e+00, 6.0498e+00, 6.0498e+00],\n         [7.8098e+00, 7.8098e+00, 7.8098e+00, 7.8098e+00, 7.8098e+00,\n          7.8098e+00, 7.8098e+00, 7.7310e+00, 7.4465e+00, 6.9829e+00,\n          5.5870e+00, 5.4112e+00, 5.2582e+00, 5.0487e+00, 4.7621e+00,\n          4.5939e+00, 4.2638e+00, 3.2904e+00, 2.7245e+00, 2.2251e+00,\n          1.3811e-03, 4.6943e+00, 7.8098e+00, 7.8098e+00, 7.8098e+00,\n          7.8098e+00, 7.8098e+00, 7.8098e+00],\n         [5.9371e+00, 5.9371e+00, 5.9371e+00, 5.9371e+00, 5.9371e+00,\n          5.9371e+00, 5.9371e+00, 5.8690e+00, 5.8486e+00, 5.8722e+00,\n          5.3225e+00, 5.3431e+00, 5.1532e+00, 4.8737e+00, 4.6113e+00,\n          4.3860e+00, 3.9159e+00, 3.0421e+00, 3.1127e+00, 3.9978e+00,\n          4.6943e+00, 1.3811e-03, 5.9371e+00, 5.9371e+00, 5.9371e+00,\n          5.9371e+00, 5.9371e+00, 5.9371e+00],\n         [0.0000e+00, 0.0000e+00, 0.0000e+00, 0.0000e+00, 0.0000e+00,\n          0.0000e+00, 0.0000e+00, 2.9638e-01, 1.1652e+00, 1.9318e+00,\n          3.7456e+00, 3.9942e+00, 3.9800e+00, 4.0337e+00, 4.2469e+00,\n          4.4195e+00, 4.6912e+00, 5.1273e+00, 5.4278e+00, 6.0498e+00,\n          7.8098e+00, 5.9371e+00, 0.0000e+00, 0.0000e+00, 0.0000e+00,\n          0.0000e+00, 0.0000e+00, 0.0000e+00],\n         [0.0000e+00, 0.0000e+00, 0.0000e+00, 0.0000e+00, 0.0000e+00,\n          0.0000e+00, 0.0000e+00, 2.9638e-01, 1.1652e+00, 1.9318e+00,\n          3.7456e+00, 3.9942e+00, 3.9800e+00, 4.0337e+00, 4.2469e+00,\n          4.4195e+00, 4.6912e+00, 5.1273e+00, 5.4278e+00, 6.0498e+00,\n          7.8098e+00, 5.9371e+00, 0.0000e+00, 0.0000e+00, 0.0000e+00,\n          0.0000e+00, 0.0000e+00, 0.0000e+00],\n         [0.0000e+00, 0.0000e+00, 0.0000e+00, 0.0000e+00, 0.0000e+00,\n          0.0000e+00, 0.0000e+00, 2.9638e-01, 1.1652e+00, 1.9318e+00,\n          3.7456e+00, 3.9942e+00, 3.9800e+00, 4.0337e+00, 4.2469e+00,\n          4.4195e+00, 4.6912e+00, 5.1273e+00, 5.4278e+00, 6.0498e+00,\n          7.8098e+00, 5.9371e+00, 0.0000e+00, 0.0000e+00, 0.0000e+00,\n          0.0000e+00, 0.0000e+00, 0.0000e+00],\n         [0.0000e+00, 0.0000e+00, 0.0000e+00, 0.0000e+00, 0.0000e+00,\n          0.0000e+00, 0.0000e+00, 2.9638e-01, 1.1652e+00, 1.9318e+00,\n          3.7456e+00, 3.9942e+00, 3.9800e+00, 4.0337e+00, 4.2469e+00,\n          4.4195e+00, 4.6912e+00, 5.1273e+00, 5.4278e+00, 6.0498e+00,\n          7.8098e+00, 5.9371e+00, 0.0000e+00, 0.0000e+00, 0.0000e+00,\n          0.0000e+00, 0.0000e+00, 0.0000e+00],\n         [0.0000e+00, 0.0000e+00, 0.0000e+00, 0.0000e+00, 0.0000e+00,\n          0.0000e+00, 0.0000e+00, 2.9638e-01, 1.1652e+00, 1.9318e+00,\n          3.7456e+00, 3.9942e+00, 3.9800e+00, 4.0337e+00, 4.2469e+00,\n          4.4195e+00, 4.6912e+00, 5.1273e+00, 5.4278e+00, 6.0498e+00,\n          7.8098e+00, 5.9371e+00, 0.0000e+00, 0.0000e+00, 0.0000e+00,\n          0.0000e+00, 0.0000e+00, 0.0000e+00],\n         [0.0000e+00, 0.0000e+00, 0.0000e+00, 0.0000e+00, 0.0000e+00,\n          0.0000e+00, 0.0000e+00, 2.9638e-01, 1.1652e+00, 1.9318e+00,\n          3.7456e+00, 3.9942e+00, 3.9800e+00, 4.0337e+00, 4.2469e+00,\n          4.4195e+00, 4.6912e+00, 5.1273e+00, 5.4278e+00, 6.0498e+00,\n          7.8098e+00, 5.9371e+00, 0.0000e+00, 0.0000e+00, 0.0000e+00,\n          0.0000e+00, 0.0000e+00, 0.0000e+00]]])"
     },
     "execution_count": 19,
     "metadata": {},
     "output_type": "execute_result"
    }
   ],
   "source": [
    "vdata = next(iter(validation_loader))\n",
    "vinputs, vlabels = vdata\n",
    "d = image_distance(vinputs[0].unsqueeze(0)).unsqueeze(0)\n",
    "d"
   ],
   "metadata": {
    "collapsed": false,
    "ExecuteTime": {
     "end_time": "2024-03-22T07:41:53.982106Z",
     "start_time": "2024-03-22T07:41:49.870210Z"
    }
   },
   "id": "fe37d485c1056ab4"
  },
  {
   "cell_type": "code",
   "execution_count": 7,
   "outputs": [],
   "source": [
    "from gtda.homology import VietorisRipsPersistence\n",
    "from gtda.diagrams import BettiCurve\n",
    "\n",
    "VR = VietorisRipsPersistence(metric='precomputed')\n",
    "Betti = BettiCurve()\n",
    "pi = VR.fit_transform(d)\n",
    "bc = Betti.fit_transform(pi)"
   ],
   "metadata": {
    "collapsed": false,
    "ExecuteTime": {
     "end_time": "2024-03-22T07:30:34.197904Z",
     "start_time": "2024-03-22T07:30:34.190711Z"
    }
   },
   "id": "8ba9db54e6324037"
  },
  {
   "cell_type": "code",
   "execution_count": 11,
   "outputs": [
    {
     "data": {
      "text/plain": "array([[[ 9, 15, 15, 15, 15, 15, 15, 15, 15, 15, 14, 14, 14, 14, 14, 14,\n         14, 14, 14, 14, 14, 14, 14, 14, 14, 14, 13, 13, 12, 12, 11, 10,\n         10, 10, 10, 10,  7,  7,  7,  7,  7,  6,  5,  5,  5,  5,  5,  5,\n          5,  5,  4,  4,  3,  3,  3,  3,  3,  3,  3,  3,  3,  3,  3,  3,\n          3,  3,  3,  3,  3,  3,  3,  3,  3,  2,  2,  2,  2,  2,  2,  2,\n          2,  2,  2,  2,  2,  2,  2,  2,  2,  2,  2,  2,  2,  1,  1,  1,\n          1,  1,  1,  0],\n        [ 0,  0,  0,  0,  0,  0,  0,  0,  0,  0,  0,  0,  0,  0,  0,  0,\n          0,  0,  0,  0,  0,  0,  0,  0,  0,  0,  0,  0,  0,  0,  0,  0,\n          0,  0,  0,  0,  0,  0,  0,  0,  0,  0,  0,  0,  0,  0,  0,  0,\n          0,  0,  0,  0,  0,  0,  0,  0,  0,  0,  0,  0,  0,  0,  0,  0,\n          0,  0,  0,  0,  0,  0,  0,  0,  0,  0,  0,  0,  0,  0,  0,  0,\n          0,  0,  0,  0,  0,  0,  0,  0,  0,  0,  0,  0,  0,  0,  0,  0,\n          0,  0,  0,  0]]])"
     },
     "execution_count": 11,
     "metadata": {},
     "output_type": "execute_result"
    }
   ],
   "source": [
    "bc"
   ],
   "metadata": {
    "collapsed": false,
    "ExecuteTime": {
     "end_time": "2024-03-22T07:30:58.571212Z",
     "start_time": "2024-03-22T07:30:58.564414Z"
    }
   },
   "id": "e3c2ec75526af742"
  },
  {
   "cell_type": "code",
   "execution_count": 20,
   "outputs": [
    {
     "ename": "ValueError",
     "evalue": "array must not contain infs or NaNs",
     "output_type": "error",
     "traceback": [
      "\u001B[0;31m---------------------------------------------------------------------------\u001B[0m",
      "\u001B[0;31mValueError\u001B[0m                                Traceback (most recent call last)",
      "Cell \u001B[0;32mIn[20], line 3\u001B[0m\n\u001B[1;32m      1\u001B[0m \u001B[38;5;28;01mfrom\u001B[39;00m \u001B[38;5;21;01mdadapy\u001B[39;00m \u001B[38;5;28;01mimport\u001B[39;00m data\n\u001B[0;32m----> 3\u001B[0m dim \u001B[38;5;241m=\u001B[39m \u001B[43mdata\u001B[49m\u001B[38;5;241;43m.\u001B[39;49m\u001B[43mData\u001B[49m\u001B[43m(\u001B[49m\u001B[43mdistances\u001B[49m\u001B[38;5;241;43m=\u001B[39;49m\u001B[43md\u001B[49m\u001B[43m[\u001B[49m\u001B[38;5;241;43m0\u001B[39;49m\u001B[43m]\u001B[49m\u001B[38;5;241;43m.\u001B[39;49m\u001B[43mnumpy\u001B[49m\u001B[43m(\u001B[49m\u001B[43m)\u001B[49m\u001B[43m)\u001B[49m\u001B[38;5;241;43m.\u001B[39;49m\u001B[43mcompute_id_2NN\u001B[49m\u001B[43m(\u001B[49m\u001B[43m)\u001B[49m[\u001B[38;5;241m0\u001B[39m]\n",
      "File \u001B[0;32m~/PycharmProjects/tadProject/.venv/lib/python3.9/site-packages/dadapy/id_estimation.py:176\u001B[0m, in \u001B[0;36mIdEstimation.compute_id_2NN\u001B[0;34m(self, algorithm, mu_fraction, data_fraction, n_iter, set_attr)\u001B[0m\n\u001B[1;32m    173\u001B[0m     \u001B[38;5;28mself\u001B[39m\u001B[38;5;241m.\u001B[39mcompute_distances()\n\u001B[1;32m    175\u001B[0m mus \u001B[38;5;241m=\u001B[39m \u001B[38;5;28mself\u001B[39m\u001B[38;5;241m.\u001B[39mdistances[:, \u001B[38;5;241m2\u001B[39m] \u001B[38;5;241m/\u001B[39m \u001B[38;5;28mself\u001B[39m\u001B[38;5;241m.\u001B[39mdistances[:, \u001B[38;5;241m1\u001B[39m]\n\u001B[0;32m--> 176\u001B[0m intrinsic_dim \u001B[38;5;241m=\u001B[39m \u001B[38;5;28;43mself\u001B[39;49m\u001B[38;5;241;43m.\u001B[39;49m\u001B[43m_compute_id_2NN\u001B[49m\u001B[43m(\u001B[49m\u001B[43mmus\u001B[49m\u001B[43m,\u001B[49m\u001B[43m \u001B[49m\u001B[43mmu_fraction\u001B[49m\u001B[43m,\u001B[49m\u001B[43m \u001B[49m\u001B[43malgorithm\u001B[49m\u001B[43m)\u001B[49m\n\u001B[1;32m    177\u001B[0m intrinsic_dim_err \u001B[38;5;241m=\u001B[39m \u001B[38;5;241m0.0\u001B[39m\n\u001B[1;32m    178\u001B[0m intrinsic_dim_scale \u001B[38;5;241m=\u001B[39m np\u001B[38;5;241m.\u001B[39mmean(\u001B[38;5;28mself\u001B[39m\u001B[38;5;241m.\u001B[39mdistances[:, np\u001B[38;5;241m.\u001B[39marray([\u001B[38;5;241m1\u001B[39m, \u001B[38;5;241m2\u001B[39m])])\n",
      "File \u001B[0;32m~/PycharmProjects/tadProject/.venv/lib/python3.9/site-packages/dadapy/id_estimation.py:93\u001B[0m, in \u001B[0;36mIdEstimation._compute_id_2NN\u001B[0;34m(self, mus, mu_fraction, algorithm)\u001B[0m\n\u001B[1;32m     90\u001B[0m \u001B[38;5;28;01mdef\u001B[39;00m \u001B[38;5;21mfunc\u001B[39m(x, m):\n\u001B[1;32m     91\u001B[0m     \u001B[38;5;28;01mreturn\u001B[39;00m m \u001B[38;5;241m*\u001B[39m x\n\u001B[0;32m---> 93\u001B[0m intrinsic_dim, _ \u001B[38;5;241m=\u001B[39m \u001B[43mcurve_fit\u001B[49m\u001B[43m(\u001B[49m\u001B[43mfunc\u001B[49m\u001B[43m,\u001B[49m\u001B[43m \u001B[49m\u001B[43mlog_mus_reduced\u001B[49m\u001B[43m,\u001B[49m\u001B[43m \u001B[49m\u001B[43my\u001B[49m\u001B[43m)\u001B[49m\n\u001B[1;32m     94\u001B[0m \u001B[38;5;66;03m# curve_fit returns a 1-element array\u001B[39;00m\n\u001B[1;32m     95\u001B[0m intrinsic_dim \u001B[38;5;241m=\u001B[39m intrinsic_dim[\u001B[38;5;241m0\u001B[39m]\n",
      "File \u001B[0;32m~/PycharmProjects/tadProject/.venv/lib/python3.9/site-packages/scipy/optimize/_minpack_py.py:910\u001B[0m, in \u001B[0;36mcurve_fit\u001B[0;34m(f, xdata, ydata, p0, sigma, absolute_sigma, check_finite, bounds, method, jac, full_output, nan_policy, **kwargs)\u001B[0m\n\u001B[1;32m    906\u001B[0m \u001B[38;5;28;01mif\u001B[39;00m \u001B[38;5;28misinstance\u001B[39m(xdata, (\u001B[38;5;28mlist\u001B[39m, \u001B[38;5;28mtuple\u001B[39m, np\u001B[38;5;241m.\u001B[39mndarray)):\n\u001B[1;32m    907\u001B[0m     \u001B[38;5;66;03m# `xdata` is passed straight to the user-defined `f`, so allow\u001B[39;00m\n\u001B[1;32m    908\u001B[0m     \u001B[38;5;66;03m# non-array_like `xdata`.\u001B[39;00m\n\u001B[1;32m    909\u001B[0m     \u001B[38;5;28;01mif\u001B[39;00m check_finite:\n\u001B[0;32m--> 910\u001B[0m         xdata \u001B[38;5;241m=\u001B[39m \u001B[43mnp\u001B[49m\u001B[38;5;241;43m.\u001B[39;49m\u001B[43masarray_chkfinite\u001B[49m\u001B[43m(\u001B[49m\u001B[43mxdata\u001B[49m\u001B[43m,\u001B[49m\u001B[43m \u001B[49m\u001B[38;5;28;43mfloat\u001B[39;49m\u001B[43m)\u001B[49m\n\u001B[1;32m    911\u001B[0m     \u001B[38;5;28;01melse\u001B[39;00m:\n\u001B[1;32m    912\u001B[0m         xdata \u001B[38;5;241m=\u001B[39m np\u001B[38;5;241m.\u001B[39masarray(xdata, \u001B[38;5;28mfloat\u001B[39m)\n",
      "File \u001B[0;32m~/PycharmProjects/tadProject/.venv/lib/python3.9/site-packages/numpy/lib/function_base.py:630\u001B[0m, in \u001B[0;36masarray_chkfinite\u001B[0;34m(a, dtype, order)\u001B[0m\n\u001B[1;32m    628\u001B[0m a \u001B[38;5;241m=\u001B[39m asarray(a, dtype\u001B[38;5;241m=\u001B[39mdtype, order\u001B[38;5;241m=\u001B[39morder)\n\u001B[1;32m    629\u001B[0m \u001B[38;5;28;01mif\u001B[39;00m a\u001B[38;5;241m.\u001B[39mdtype\u001B[38;5;241m.\u001B[39mchar \u001B[38;5;129;01min\u001B[39;00m typecodes[\u001B[38;5;124m'\u001B[39m\u001B[38;5;124mAllFloat\u001B[39m\u001B[38;5;124m'\u001B[39m] \u001B[38;5;129;01mand\u001B[39;00m \u001B[38;5;129;01mnot\u001B[39;00m np\u001B[38;5;241m.\u001B[39misfinite(a)\u001B[38;5;241m.\u001B[39mall():\n\u001B[0;32m--> 630\u001B[0m     \u001B[38;5;28;01mraise\u001B[39;00m \u001B[38;5;167;01mValueError\u001B[39;00m(\n\u001B[1;32m    631\u001B[0m         \u001B[38;5;124m\"\u001B[39m\u001B[38;5;124marray must not contain infs or NaNs\u001B[39m\u001B[38;5;124m\"\u001B[39m)\n\u001B[1;32m    632\u001B[0m \u001B[38;5;28;01mreturn\u001B[39;00m a\n",
      "\u001B[0;31mValueError\u001B[0m: array must not contain infs or NaNs"
     ]
    }
   ],
   "source": [
    "from dadapy import data\n",
    "\n",
    "dim = data.Data(distances=d[0].numpy()).compute_id_2NN()[0]"
   ],
   "metadata": {
    "collapsed": false,
    "ExecuteTime": {
     "end_time": "2024-03-22T07:41:59.509605Z",
     "start_time": "2024-03-22T07:41:59.390329Z"
    }
   },
   "id": "c654daeef010be2"
  },
  {
   "cell_type": "code",
   "execution_count": 22,
   "outputs": [
    {
     "data": {
      "text/plain": "array([[0.00e+00, 0.00e+00, 0.00e+00, 0.00e+00, 0.00e+00, 0.00e+00,\n        0.00e+00, 2.96e-01, 1.17e+00, 1.93e+00, 3.75e+00, 3.99e+00,\n        3.98e+00, 4.03e+00, 4.25e+00, 4.42e+00, 4.69e+00, 5.13e+00,\n        5.43e+00, 6.05e+00, 7.81e+00, 5.94e+00, 0.00e+00, 0.00e+00,\n        0.00e+00, 0.00e+00, 0.00e+00, 0.00e+00],\n       [0.00e+00, 0.00e+00, 0.00e+00, 0.00e+00, 0.00e+00, 0.00e+00,\n        0.00e+00, 2.96e-01, 1.17e+00, 1.93e+00, 3.75e+00, 3.99e+00,\n        3.98e+00, 4.03e+00, 4.25e+00, 4.42e+00, 4.69e+00, 5.13e+00,\n        5.43e+00, 6.05e+00, 7.81e+00, 5.94e+00, 0.00e+00, 0.00e+00,\n        0.00e+00, 0.00e+00, 0.00e+00, 0.00e+00],\n       [0.00e+00, 0.00e+00, 0.00e+00, 0.00e+00, 0.00e+00, 0.00e+00,\n        0.00e+00, 2.96e-01, 1.17e+00, 1.93e+00, 3.75e+00, 3.99e+00,\n        3.98e+00, 4.03e+00, 4.25e+00, 4.42e+00, 4.69e+00, 5.13e+00,\n        5.43e+00, 6.05e+00, 7.81e+00, 5.94e+00, 0.00e+00, 0.00e+00,\n        0.00e+00, 0.00e+00, 0.00e+00, 0.00e+00],\n       [0.00e+00, 0.00e+00, 0.00e+00, 0.00e+00, 0.00e+00, 0.00e+00,\n        0.00e+00, 2.96e-01, 1.17e+00, 1.93e+00, 3.75e+00, 3.99e+00,\n        3.98e+00, 4.03e+00, 4.25e+00, 4.42e+00, 4.69e+00, 5.13e+00,\n        5.43e+00, 6.05e+00, 7.81e+00, 5.94e+00, 0.00e+00, 0.00e+00,\n        0.00e+00, 0.00e+00, 0.00e+00, 0.00e+00],\n       [0.00e+00, 0.00e+00, 0.00e+00, 0.00e+00, 0.00e+00, 0.00e+00,\n        0.00e+00, 2.96e-01, 1.17e+00, 1.93e+00, 3.75e+00, 3.99e+00,\n        3.98e+00, 4.03e+00, 4.25e+00, 4.42e+00, 4.69e+00, 5.13e+00,\n        5.43e+00, 6.05e+00, 7.81e+00, 5.94e+00, 0.00e+00, 0.00e+00,\n        0.00e+00, 0.00e+00, 0.00e+00, 0.00e+00],\n       [0.00e+00, 0.00e+00, 0.00e+00, 0.00e+00, 0.00e+00, 0.00e+00,\n        0.00e+00, 2.96e-01, 1.17e+00, 1.93e+00, 3.75e+00, 3.99e+00,\n        3.98e+00, 4.03e+00, 4.25e+00, 4.42e+00, 4.69e+00, 5.13e+00,\n        5.43e+00, 6.05e+00, 7.81e+00, 5.94e+00, 0.00e+00, 0.00e+00,\n        0.00e+00, 0.00e+00, 0.00e+00, 0.00e+00],\n       [0.00e+00, 0.00e+00, 0.00e+00, 0.00e+00, 0.00e+00, 0.00e+00,\n        0.00e+00, 2.96e-01, 1.17e+00, 1.93e+00, 3.75e+00, 3.99e+00,\n        3.98e+00, 4.03e+00, 4.25e+00, 4.42e+00, 4.69e+00, 5.13e+00,\n        5.43e+00, 6.05e+00, 7.81e+00, 5.94e+00, 0.00e+00, 0.00e+00,\n        0.00e+00, 0.00e+00, 0.00e+00, 0.00e+00],\n       [2.96e-01, 2.96e-01, 2.96e-01, 2.96e-01, 2.96e-01, 2.96e-01,\n        2.96e-01, 1.95e-03, 9.51e-01, 1.82e+00, 3.64e+00, 3.90e+00,\n        3.87e+00, 3.92e+00, 4.14e+00, 4.33e+00, 4.61e+00, 5.04e+00,\n        5.35e+00, 5.96e+00, 7.73e+00, 5.87e+00, 2.96e-01, 2.96e-01,\n        2.96e-01, 2.96e-01, 2.96e-01, 2.96e-01],\n       [1.17e+00, 1.17e+00, 1.17e+00, 1.17e+00, 1.17e+00, 1.17e+00,\n        1.17e+00, 9.51e-01, 0.00e+00, 1.27e+00, 3.39e+00, 3.64e+00,\n        3.59e+00, 3.61e+00, 3.83e+00, 4.04e+00, 4.34e+00, 4.81e+00,\n        5.12e+00, 5.71e+00, 7.45e+00, 5.85e+00, 1.17e+00, 1.17e+00,\n        1.17e+00, 1.17e+00, 1.17e+00, 1.17e+00],\n       [1.93e+00, 1.93e+00, 1.93e+00, 1.93e+00, 1.93e+00, 1.93e+00,\n        1.93e+00, 1.82e+00, 1.27e+00, 2.76e-03, 2.85e+00, 3.14e+00,\n        3.08e+00, 3.14e+00, 3.39e+00, 3.62e+00, 3.91e+00, 4.42e+00,\n        4.77e+00, 5.28e+00, 6.98e+00, 5.87e+00, 1.93e+00, 1.93e+00,\n        1.93e+00, 1.93e+00, 1.93e+00, 1.93e+00],\n       [3.75e+00, 3.75e+00, 3.75e+00, 3.75e+00, 3.75e+00, 3.75e+00,\n        3.75e+00, 3.64e+00, 3.39e+00, 2.85e+00, 0.00e+00, 7.69e-01,\n        1.12e+00, 1.51e+00, 1.95e+00, 2.31e+00, 2.68e+00, 3.37e+00,\n        3.89e+00, 3.89e+00, 5.59e+00, 5.32e+00, 3.75e+00, 3.75e+00,\n        3.75e+00, 3.75e+00, 3.75e+00, 3.75e+00],\n       [3.99e+00, 3.99e+00, 3.99e+00, 3.99e+00, 3.99e+00, 3.99e+00,\n        3.99e+00, 3.90e+00, 3.64e+00, 3.14e+00, 7.69e-01, 0.00e+00,\n        8.99e-01, 1.44e+00, 1.87e+00, 2.22e+00, 2.56e+00, 3.30e+00,\n        3.80e+00, 3.77e+00, 5.41e+00, 5.34e+00, 3.99e+00, 3.99e+00,\n        3.99e+00, 3.99e+00, 3.99e+00, 3.99e+00],\n       [3.98e+00, 3.98e+00, 3.98e+00, 3.98e+00, 3.98e+00, 3.98e+00,\n        3.98e+00, 3.87e+00, 3.59e+00, 3.08e+00, 1.12e+00, 8.99e-01,\n        0.00e+00, 8.56e-01, 1.60e+00, 2.01e+00, 2.35e+00, 3.12e+00,\n        3.65e+00, 3.64e+00, 5.26e+00, 5.15e+00, 3.98e+00, 3.98e+00,\n        3.98e+00, 3.98e+00, 3.98e+00, 3.98e+00],\n       [4.03e+00, 4.03e+00, 4.03e+00, 4.03e+00, 4.03e+00, 4.03e+00,\n        4.03e+00, 3.92e+00, 3.61e+00, 3.14e+00, 1.51e+00, 1.44e+00,\n        8.56e-01, 0.00e+00, 1.08e+00, 1.71e+00, 2.10e+00, 2.89e+00,\n        3.45e+00, 3.47e+00, 5.05e+00, 4.87e+00, 4.03e+00, 4.03e+00,\n        4.03e+00, 4.03e+00, 4.03e+00, 4.03e+00],\n       [4.25e+00, 4.25e+00, 4.25e+00, 4.25e+00, 4.25e+00, 4.25e+00,\n        4.25e+00, 4.14e+00, 3.83e+00, 3.39e+00, 1.95e+00, 1.87e+00,\n        1.60e+00, 1.08e+00, 0.00e+00, 1.08e+00, 1.69e+00, 2.52e+00,\n        3.08e+00, 3.18e+00, 4.76e+00, 4.61e+00, 4.25e+00, 4.25e+00,\n        4.25e+00, 4.25e+00, 4.25e+00, 4.25e+00],\n       [4.42e+00, 4.42e+00, 4.42e+00, 4.42e+00, 4.42e+00, 4.42e+00,\n        4.42e+00, 4.33e+00, 4.04e+00, 3.62e+00, 2.31e+00, 2.22e+00,\n        2.01e+00, 1.71e+00, 1.08e+00, 0.00e+00, 1.23e+00, 2.22e+00,\n        2.73e+00, 2.96e+00, 4.59e+00, 4.39e+00, 4.42e+00, 4.42e+00,\n        4.42e+00, 4.42e+00, 4.42e+00, 4.42e+00],\n       [4.69e+00, 4.69e+00, 4.69e+00, 4.69e+00, 4.69e+00, 4.69e+00,\n        4.69e+00, 4.61e+00, 4.34e+00, 3.91e+00, 2.68e+00, 2.56e+00,\n        2.35e+00, 2.10e+00, 1.69e+00, 1.23e+00, 1.95e-03, 1.59e+00,\n        2.22e+00, 2.63e+00, 4.26e+00, 3.92e+00, 4.69e+00, 4.69e+00,\n        4.69e+00, 4.69e+00, 4.69e+00, 4.69e+00],\n       [5.13e+00, 5.13e+00, 5.13e+00, 5.13e+00, 5.13e+00, 5.13e+00,\n        5.13e+00, 5.04e+00, 4.81e+00, 4.42e+00, 3.37e+00, 3.30e+00,\n        3.12e+00, 2.89e+00, 2.52e+00, 2.22e+00, 1.59e+00, 0.00e+00,\n        1.08e+00, 2.00e+00, 3.29e+00, 3.04e+00, 5.13e+00, 5.13e+00,\n        5.13e+00, 5.13e+00, 5.13e+00, 5.13e+00],\n       [5.43e+00, 5.43e+00, 5.43e+00, 5.43e+00, 5.43e+00, 5.43e+00,\n        5.43e+00, 5.35e+00, 5.12e+00, 4.77e+00, 3.89e+00, 3.80e+00,\n        3.65e+00, 3.45e+00, 3.08e+00, 2.73e+00, 2.22e+00, 1.08e+00,\n        9.77e-04, 1.53e+00, 2.72e+00, 3.11e+00, 5.43e+00, 5.43e+00,\n        5.43e+00, 5.43e+00, 5.43e+00, 5.43e+00],\n       [6.05e+00, 6.05e+00, 6.05e+00, 6.05e+00, 6.05e+00, 6.05e+00,\n        6.05e+00, 5.96e+00, 5.71e+00, 5.28e+00, 3.89e+00, 3.77e+00,\n        3.64e+00, 3.47e+00, 3.18e+00, 2.96e+00, 2.63e+00, 2.00e+00,\n        1.53e+00, 0.00e+00, 2.23e+00, 4.00e+00, 6.05e+00, 6.05e+00,\n        6.05e+00, 6.05e+00, 6.05e+00, 6.05e+00],\n       [7.81e+00, 7.81e+00, 7.81e+00, 7.81e+00, 7.81e+00, 7.81e+00,\n        7.81e+00, 7.73e+00, 7.45e+00, 6.98e+00, 5.59e+00, 5.41e+00,\n        5.26e+00, 5.05e+00, 4.76e+00, 4.59e+00, 4.26e+00, 3.29e+00,\n        2.72e+00, 2.23e+00, 1.38e-03, 4.69e+00, 7.81e+00, 7.81e+00,\n        7.81e+00, 7.81e+00, 7.81e+00, 7.81e+00],\n       [5.94e+00, 5.94e+00, 5.94e+00, 5.94e+00, 5.94e+00, 5.94e+00,\n        5.94e+00, 5.87e+00, 5.85e+00, 5.87e+00, 5.32e+00, 5.34e+00,\n        5.15e+00, 4.87e+00, 4.61e+00, 4.39e+00, 3.92e+00, 3.04e+00,\n        3.11e+00, 4.00e+00, 4.69e+00, 1.38e-03, 5.94e+00, 5.94e+00,\n        5.94e+00, 5.94e+00, 5.94e+00, 5.94e+00],\n       [0.00e+00, 0.00e+00, 0.00e+00, 0.00e+00, 0.00e+00, 0.00e+00,\n        0.00e+00, 2.96e-01, 1.17e+00, 1.93e+00, 3.75e+00, 3.99e+00,\n        3.98e+00, 4.03e+00, 4.25e+00, 4.42e+00, 4.69e+00, 5.13e+00,\n        5.43e+00, 6.05e+00, 7.81e+00, 5.94e+00, 0.00e+00, 0.00e+00,\n        0.00e+00, 0.00e+00, 0.00e+00, 0.00e+00],\n       [0.00e+00, 0.00e+00, 0.00e+00, 0.00e+00, 0.00e+00, 0.00e+00,\n        0.00e+00, 2.96e-01, 1.17e+00, 1.93e+00, 3.75e+00, 3.99e+00,\n        3.98e+00, 4.03e+00, 4.25e+00, 4.42e+00, 4.69e+00, 5.13e+00,\n        5.43e+00, 6.05e+00, 7.81e+00, 5.94e+00, 0.00e+00, 0.00e+00,\n        0.00e+00, 0.00e+00, 0.00e+00, 0.00e+00],\n       [0.00e+00, 0.00e+00, 0.00e+00, 0.00e+00, 0.00e+00, 0.00e+00,\n        0.00e+00, 2.96e-01, 1.17e+00, 1.93e+00, 3.75e+00, 3.99e+00,\n        3.98e+00, 4.03e+00, 4.25e+00, 4.42e+00, 4.69e+00, 5.13e+00,\n        5.43e+00, 6.05e+00, 7.81e+00, 5.94e+00, 0.00e+00, 0.00e+00,\n        0.00e+00, 0.00e+00, 0.00e+00, 0.00e+00],\n       [0.00e+00, 0.00e+00, 0.00e+00, 0.00e+00, 0.00e+00, 0.00e+00,\n        0.00e+00, 2.96e-01, 1.17e+00, 1.93e+00, 3.75e+00, 3.99e+00,\n        3.98e+00, 4.03e+00, 4.25e+00, 4.42e+00, 4.69e+00, 5.13e+00,\n        5.43e+00, 6.05e+00, 7.81e+00, 5.94e+00, 0.00e+00, 0.00e+00,\n        0.00e+00, 0.00e+00, 0.00e+00, 0.00e+00],\n       [0.00e+00, 0.00e+00, 0.00e+00, 0.00e+00, 0.00e+00, 0.00e+00,\n        0.00e+00, 2.96e-01, 1.17e+00, 1.93e+00, 3.75e+00, 3.99e+00,\n        3.98e+00, 4.03e+00, 4.25e+00, 4.42e+00, 4.69e+00, 5.13e+00,\n        5.43e+00, 6.05e+00, 7.81e+00, 5.94e+00, 0.00e+00, 0.00e+00,\n        0.00e+00, 0.00e+00, 0.00e+00, 0.00e+00],\n       [0.00e+00, 0.00e+00, 0.00e+00, 0.00e+00, 0.00e+00, 0.00e+00,\n        0.00e+00, 2.96e-01, 1.17e+00, 1.93e+00, 3.75e+00, 3.99e+00,\n        3.98e+00, 4.03e+00, 4.25e+00, 4.42e+00, 4.69e+00, 5.13e+00,\n        5.43e+00, 6.05e+00, 7.81e+00, 5.94e+00, 0.00e+00, 0.00e+00,\n        0.00e+00, 0.00e+00, 0.00e+00, 0.00e+00]], dtype=float32)"
     },
     "execution_count": 22,
     "metadata": {},
     "output_type": "execute_result"
    }
   ],
   "source": [
    "eqv = [list()] * d[0].shape[0]\n"
   ],
   "metadata": {
    "collapsed": false,
    "ExecuteTime": {
     "end_time": "2024-03-22T07:42:22.129322Z",
     "start_time": "2024-03-22T07:42:22.110668Z"
    }
   },
   "id": "105e0d2e46cee303"
  },
  {
   "cell_type": "code",
   "execution_count": 18,
   "outputs": [
    {
     "data": {
      "text/plain": "False"
     },
     "execution_count": 18,
     "metadata": {},
     "output_type": "execute_result"
    }
   ],
   "source": [
    "any(list(d.isinf().flatten()))"
   ],
   "metadata": {
    "collapsed": false,
    "ExecuteTime": {
     "end_time": "2024-03-22T07:41:32.115357Z",
     "start_time": "2024-03-22T07:41:32.106060Z"
    }
   },
   "id": "a90bbe06b595f5b1"
  },
  {
   "cell_type": "code",
   "execution_count": 1,
   "outputs": [
    {
     "name": "stderr",
     "output_type": "stream",
     "text": [
      "/Users/andrew/PycharmProjects/tadProject/.venv/lib/python3.9/site-packages/dadapy/id_estimation.py:175: RuntimeWarning: invalid value encountered in divide\n",
      "  mus = self.distances[:, 2] / self.distances[:, 1]\n"
     ]
    },
    {
     "ename": "ValueError",
     "evalue": "array must not contain infs or NaNs",
     "output_type": "error",
     "traceback": [
      "\u001B[0;31m---------------------------------------------------------------------------\u001B[0m",
      "\u001B[0;31mValueError\u001B[0m                                Traceback (most recent call last)",
      "Cell \u001B[0;32mIn[1], line 5\u001B[0m\n\u001B[1;32m      2\u001B[0m \u001B[38;5;28;01mimport\u001B[39;00m \u001B[38;5;21;01mtorch\u001B[39;00m\n\u001B[1;32m      4\u001B[0m z \u001B[38;5;241m=\u001B[39m torch\u001B[38;5;241m.\u001B[39mzeros((\u001B[38;5;241m3\u001B[39m, \u001B[38;5;241m3\u001B[39m))\n\u001B[0;32m----> 5\u001B[0m \u001B[43mData\u001B[49m\u001B[43m(\u001B[49m\u001B[43mdistances\u001B[49m\u001B[38;5;241;43m=\u001B[39;49m\u001B[43mz\u001B[49m\u001B[38;5;241;43m.\u001B[39;49m\u001B[43mnumpy\u001B[49m\u001B[43m(\u001B[49m\u001B[43m)\u001B[49m\u001B[43m)\u001B[49m\u001B[38;5;241;43m.\u001B[39;49m\u001B[43mcompute_id_2NN\u001B[49m\u001B[43m(\u001B[49m\u001B[43m)\u001B[49m[\u001B[38;5;241m0\u001B[39m]\n",
      "File \u001B[0;32m~/PycharmProjects/tadProject/.venv/lib/python3.9/site-packages/dadapy/id_estimation.py:176\u001B[0m, in \u001B[0;36mIdEstimation.compute_id_2NN\u001B[0;34m(self, algorithm, mu_fraction, data_fraction, n_iter, set_attr)\u001B[0m\n\u001B[1;32m    173\u001B[0m     \u001B[38;5;28mself\u001B[39m\u001B[38;5;241m.\u001B[39mcompute_distances()\n\u001B[1;32m    175\u001B[0m mus \u001B[38;5;241m=\u001B[39m \u001B[38;5;28mself\u001B[39m\u001B[38;5;241m.\u001B[39mdistances[:, \u001B[38;5;241m2\u001B[39m] \u001B[38;5;241m/\u001B[39m \u001B[38;5;28mself\u001B[39m\u001B[38;5;241m.\u001B[39mdistances[:, \u001B[38;5;241m1\u001B[39m]\n\u001B[0;32m--> 176\u001B[0m intrinsic_dim \u001B[38;5;241m=\u001B[39m \u001B[38;5;28;43mself\u001B[39;49m\u001B[38;5;241;43m.\u001B[39;49m\u001B[43m_compute_id_2NN\u001B[49m\u001B[43m(\u001B[49m\u001B[43mmus\u001B[49m\u001B[43m,\u001B[49m\u001B[43m \u001B[49m\u001B[43mmu_fraction\u001B[49m\u001B[43m,\u001B[49m\u001B[43m \u001B[49m\u001B[43malgorithm\u001B[49m\u001B[43m)\u001B[49m\n\u001B[1;32m    177\u001B[0m intrinsic_dim_err \u001B[38;5;241m=\u001B[39m \u001B[38;5;241m0.0\u001B[39m\n\u001B[1;32m    178\u001B[0m intrinsic_dim_scale \u001B[38;5;241m=\u001B[39m np\u001B[38;5;241m.\u001B[39mmean(\u001B[38;5;28mself\u001B[39m\u001B[38;5;241m.\u001B[39mdistances[:, np\u001B[38;5;241m.\u001B[39marray([\u001B[38;5;241m1\u001B[39m, \u001B[38;5;241m2\u001B[39m])])\n",
      "File \u001B[0;32m~/PycharmProjects/tadProject/.venv/lib/python3.9/site-packages/dadapy/id_estimation.py:93\u001B[0m, in \u001B[0;36mIdEstimation._compute_id_2NN\u001B[0;34m(self, mus, mu_fraction, algorithm)\u001B[0m\n\u001B[1;32m     90\u001B[0m \u001B[38;5;28;01mdef\u001B[39;00m \u001B[38;5;21mfunc\u001B[39m(x, m):\n\u001B[1;32m     91\u001B[0m     \u001B[38;5;28;01mreturn\u001B[39;00m m \u001B[38;5;241m*\u001B[39m x\n\u001B[0;32m---> 93\u001B[0m intrinsic_dim, _ \u001B[38;5;241m=\u001B[39m \u001B[43mcurve_fit\u001B[49m\u001B[43m(\u001B[49m\u001B[43mfunc\u001B[49m\u001B[43m,\u001B[49m\u001B[43m \u001B[49m\u001B[43mlog_mus_reduced\u001B[49m\u001B[43m,\u001B[49m\u001B[43m \u001B[49m\u001B[43my\u001B[49m\u001B[43m)\u001B[49m\n\u001B[1;32m     94\u001B[0m \u001B[38;5;66;03m# curve_fit returns a 1-element array\u001B[39;00m\n\u001B[1;32m     95\u001B[0m intrinsic_dim \u001B[38;5;241m=\u001B[39m intrinsic_dim[\u001B[38;5;241m0\u001B[39m]\n",
      "File \u001B[0;32m~/PycharmProjects/tadProject/.venv/lib/python3.9/site-packages/scipy/optimize/_minpack_py.py:910\u001B[0m, in \u001B[0;36mcurve_fit\u001B[0;34m(f, xdata, ydata, p0, sigma, absolute_sigma, check_finite, bounds, method, jac, full_output, nan_policy, **kwargs)\u001B[0m\n\u001B[1;32m    906\u001B[0m \u001B[38;5;28;01mif\u001B[39;00m \u001B[38;5;28misinstance\u001B[39m(xdata, (\u001B[38;5;28mlist\u001B[39m, \u001B[38;5;28mtuple\u001B[39m, np\u001B[38;5;241m.\u001B[39mndarray)):\n\u001B[1;32m    907\u001B[0m     \u001B[38;5;66;03m# `xdata` is passed straight to the user-defined `f`, so allow\u001B[39;00m\n\u001B[1;32m    908\u001B[0m     \u001B[38;5;66;03m# non-array_like `xdata`.\u001B[39;00m\n\u001B[1;32m    909\u001B[0m     \u001B[38;5;28;01mif\u001B[39;00m check_finite:\n\u001B[0;32m--> 910\u001B[0m         xdata \u001B[38;5;241m=\u001B[39m \u001B[43mnp\u001B[49m\u001B[38;5;241;43m.\u001B[39;49m\u001B[43masarray_chkfinite\u001B[49m\u001B[43m(\u001B[49m\u001B[43mxdata\u001B[49m\u001B[43m,\u001B[49m\u001B[43m \u001B[49m\u001B[38;5;28;43mfloat\u001B[39;49m\u001B[43m)\u001B[49m\n\u001B[1;32m    911\u001B[0m     \u001B[38;5;28;01melse\u001B[39;00m:\n\u001B[1;32m    912\u001B[0m         xdata \u001B[38;5;241m=\u001B[39m np\u001B[38;5;241m.\u001B[39masarray(xdata, \u001B[38;5;28mfloat\u001B[39m)\n",
      "File \u001B[0;32m~/PycharmProjects/tadProject/.venv/lib/python3.9/site-packages/numpy/lib/function_base.py:630\u001B[0m, in \u001B[0;36masarray_chkfinite\u001B[0;34m(a, dtype, order)\u001B[0m\n\u001B[1;32m    628\u001B[0m a \u001B[38;5;241m=\u001B[39m asarray(a, dtype\u001B[38;5;241m=\u001B[39mdtype, order\u001B[38;5;241m=\u001B[39morder)\n\u001B[1;32m    629\u001B[0m \u001B[38;5;28;01mif\u001B[39;00m a\u001B[38;5;241m.\u001B[39mdtype\u001B[38;5;241m.\u001B[39mchar \u001B[38;5;129;01min\u001B[39;00m typecodes[\u001B[38;5;124m'\u001B[39m\u001B[38;5;124mAllFloat\u001B[39m\u001B[38;5;124m'\u001B[39m] \u001B[38;5;129;01mand\u001B[39;00m \u001B[38;5;129;01mnot\u001B[39;00m np\u001B[38;5;241m.\u001B[39misfinite(a)\u001B[38;5;241m.\u001B[39mall():\n\u001B[0;32m--> 630\u001B[0m     \u001B[38;5;28;01mraise\u001B[39;00m \u001B[38;5;167;01mValueError\u001B[39;00m(\n\u001B[1;32m    631\u001B[0m         \u001B[38;5;124m\"\u001B[39m\u001B[38;5;124marray must not contain infs or NaNs\u001B[39m\u001B[38;5;124m\"\u001B[39m)\n\u001B[1;32m    632\u001B[0m \u001B[38;5;28;01mreturn\u001B[39;00m a\n",
      "\u001B[0;31mValueError\u001B[0m: array must not contain infs or NaNs"
     ]
    }
   ],
   "source": [
    "from dadapy.data import Data\n",
    "import torch\n",
    "\n",
    "z = torch.zeros((3, 3))\n",
    "Data(distances=z.numpy()).compute_id_2NN()[0]"
   ],
   "metadata": {
    "collapsed": false,
    "ExecuteTime": {
     "end_time": "2024-03-22T15:05:15.073213Z",
     "start_time": "2024-03-22T15:05:10.116563Z"
    }
   },
   "id": "518b280eb83650bf"
  },
  {
   "cell_type": "code",
   "execution_count": null,
   "outputs": [],
   "source": [],
   "metadata": {
    "collapsed": false
   },
   "id": "fc92360315c40485"
  }
 ],
 "metadata": {
  "kernelspec": {
   "display_name": "Python 3",
   "language": "python",
   "name": "python3"
  },
  "language_info": {
   "codemirror_mode": {
    "name": "ipython",
    "version": 2
   },
   "file_extension": ".py",
   "mimetype": "text/x-python",
   "name": "python",
   "nbconvert_exporter": "python",
   "pygments_lexer": "ipython2",
   "version": "2.7.6"
  }
 },
 "nbformat": 4,
 "nbformat_minor": 5
}
