{
 "cells": [
  {
   "cell_type": "code",
   "execution_count": 1,
   "id": "initial_id",
   "metadata": {
    "collapsed": true,
    "ExecuteTime": {
     "end_time": "2024-03-28T16:39:20.773217Z",
     "start_time": "2024-03-28T16:39:18.310697Z"
    }
   },
   "outputs": [],
   "source": [
    "from torch.utils.tensorboard import SummaryWriter\n",
    "\n",
    "writer = SummaryWriter('runs/fashion_mnist_experiment_5')"
   ]
  },
  {
   "cell_type": "code",
   "execution_count": 2,
   "outputs": [],
   "source": [
    "for i in range(5):\n",
    "    writer.add_scalar('LC1/loss blah', i, i)\n",
    "    writer.add_scalar('LC1/blah_loss', 2*i, i)\n",
    "    writer.add_scalar('LC1/kasjdd/blah_blah', i, i)\n",
    "    writer.add_scalar('LC1/kasjdd/blah blah', -i, i)\n",
    "    writer.add_scalar('LC1/kasjdd/none_blah', 2*i, i)"
   ],
   "metadata": {
    "collapsed": false,
    "ExecuteTime": {
     "end_time": "2024-03-28T16:41:22.737619Z",
     "start_time": "2024-03-28T16:41:22.724615Z"
    }
   },
   "id": "70e5871eeddd69ab"
  },
  {
   "cell_type": "code",
   "execution_count": null,
   "outputs": [],
   "source": [],
   "metadata": {
    "collapsed": false
   },
   "id": "eb4a5c584db27703"
  }
 ],
 "metadata": {
  "kernelspec": {
   "display_name": "Python 3",
   "language": "python",
   "name": "python3"
  },
  "language_info": {
   "codemirror_mode": {
    "name": "ipython",
    "version": 2
   },
   "file_extension": ".py",
   "mimetype": "text/x-python",
   "name": "python",
   "nbconvert_exporter": "python",
   "pygments_lexer": "ipython2",
   "version": "2.7.6"
  }
 },
 "nbformat": 4,
 "nbformat_minor": 5
}
