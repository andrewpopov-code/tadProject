{
 "cells": [
  {
   "cell_type": "markdown",
   "id": "438d3c04",
   "metadata": {},
   "source": [
    "## RegExp in Python\n",
    "\n",
    "### Basic patterns\n",
    "\n",
    ">   * **`.`**  - any single symbol except new line `\\n`\n",
    ">   * **`[]`** - range of symbols, such as `[0-9]`; `[A-Za-z]`. **`[^...]`** - range of excepted symbols\n",
    ">   * **`\\d`** - any digit, identical to `[0-9]`\n",
    ">   * **`\\D`** - every symbol except digit, ~ `[^0-9]`\n",
    ">   * **`\\w`** - any letter, digit or _\n",
    ">   * **`\\W`** - everything except letters, digits & _\n",
    ">   * **`\\s`** - any space symbol (incl. tab, `\\n`, etc.)\n",
    ">   * **`\\S`** - everything except space symbols\n",
    ">   * **`\\\\`** - escaping, for referencing special comman symbols of regexp\n",
    ">   * **`\\b`** - start or end of the word\n",
    ">   * **`\\B`** - neither the start or end of the word\n",
    "\n",
    "### RE package\n",
    "\n",
    ">   * **`re.search(pattern, string)`** - finding the first appearance of pattern in the string\n",
    ">```python\n",
    "re.search(r'\\d\\d\\D\\d\\d', r'Телефон 123-12-12') == '23-12'\n",
    ">```\n",
    ">   * **`re.fullmatch(pattern, string)`** - check for a total match between string & pattern\n",
    ">```python\n",
    "re.fullmatch(r'\\d\\d\\D\\d\\d', r'12-12') == True\n",
    ">```\n",
    ">   * **`re.split(pattern, string, maxsplit=0)`** - division across the substrings, identical to the pattern\n",
    ">```python\n",
    "re.split(r'\\W+', 'Hey, where is my wallet?!') == ['Hey', 'where', 'is', 'my', 'wallet']\n",
    ">```\n",
    ">   * **`re.findall(pattern, string)`** - find all non-intersecting patterns\n",
    ">```python\n",
    "re.findall(r'\\d\\d\\.\\d\\d\\.\\d{4}', \n",
    "                 r'I sent this email on 01.19.2018, and it was delivered only today, 09.01.2023') \n",
    "                     == ['01.19.2018', '09.01.2023']\n",
    ">```\n",
    ">   * **`re.sub(pattern, replacer, string, count=0)`** - change all patterns within the string to replacer\n",
    ">```python\n",
    "re.sub('\\d', 'x', 'It cost us 322 rubles') == 'It cost us xxx rubles'\n",
    ">```\n",
    ">   * **`re.compile(pattern)`** - transform a string into class `Pattern` of re package\n",
    ">   * **Pattern methods**:\n",
    ">     * **`pattern.sub`** - replace\n",
    ">     * **`.search`** - find first occurence\n",
    ">     * **`.match`** - find occurence at the beginning of the string\n",
    ">     * **`.split`** - split\n",
    ">     * **`Match.group(i)`** - i-th subgroup of the match\n",
    ">```python\n",
    "m = re.match(r\"(\\w+) (\\w+)\", \"Isaac Newton, physicist\")\n",
    "m.group(0) == Isaac Newton'\n",
    "m.group(1) == 'Isaac'\n",
    "m.group(2) == 'Newton'\n",
    "m.group(1, 2) == ('Isaac', 'Newton')\n",
    ">```\n",
    "\n",
    "#### Flags\n",
    ">   * **`re.IGNORECASE`** (**re.I**) - take both upper and lower cases\n",
    ">   * **`re.MULTILINE`** (**re.M**) - can work with several lines of text"
   ]
  },
  {
   "cell_type": "markdown",
   "id": "17bdbc17",
   "metadata": {},
   "source": [
    "#### Task №1: introduction\n",
    "\n",
    "1. Replace all occurrences of `5` with `five` for the given string.\n",
    "\n",
    "2. Replace only the first occurrence of `5` with `five` for the given string.\n",
    "\n",
    "3. For the given list, filter all elements that do not contain `e`.\n",
    "\n",
    "4. Replace all occurrences of `note` irrespective of case with `X`.\n",
    "\n",
    "5. For the given input string, display all lines not containing `start` irrespective of case."
   ]
  },
  {
   "cell_type": "code",
   "execution_count": 2,
   "id": "72ea04a0",
   "metadata": {
    "ExecuteTime": {
     "end_time": "2024-04-10T10:38:52.398864Z",
     "start_time": "2024-04-10T10:38:52.373835Z"
    }
   },
   "source": [
    "import re\n",
    "pat = re.compile(r'5')\n",
    "pat.sub(r'five', 'xxx')"
   ],
   "outputs": []
  },
  {
   "cell_type": "code",
   "execution_count": 3,
   "id": "76fb59f9",
   "metadata": {
    "ExecuteTime": {
     "end_time": "2024-04-10T10:38:54.200871Z",
     "start_time": "2024-04-10T10:38:54.188050Z"
    }
   },
   "source": [
    "pat.sub(r'five', 'xxx', 1)"
   ],
   "outputs": []
  },
  {
   "cell_type": "code",
   "execution_count": 14,
   "id": "33e99949",
   "metadata": {
    "ExecuteTime": {
     "end_time": "2024-04-10T10:47:52.342926Z",
     "start_time": "2024-04-10T10:47:52.328676Z"
    }
   },
   "source": [
    "arr = ['june', 'july', 'august', 'september', 'october']\n",
    "list(filter(lambda x: re.fullmatch(r'[^e]*', x), arr))"
   ],
   "outputs": []
  },
  {
   "cell_type": "code",
   "execution_count": 15,
   "id": "7d37b2a6",
   "metadata": {
    "ExecuteTime": {
     "end_time": "2024-04-10T10:48:31.031049Z",
     "start_time": "2024-04-10T10:48:31.023472Z"
    }
   },
   "source": [
    "re.sub(r'note', r'X', 'xxx note NOTE nOtE', flags=re.IGNORECASE)"
   ],
   "outputs": []
  },
  {
   "cell_type": "code",
   "execution_count": 30,
   "id": "02cda15f",
   "metadata": {
    "ExecuteTime": {
     "end_time": "2024-04-10T12:09:44.795261Z",
     "start_time": "2024-04-10T12:09:44.779330Z"
    }
   },
   "source": [
    "# 5 задача\n",
    "\n",
    "input_txt = '''\n",
    "First Line\n",
    "Second start Line\n",
    "Third not to start\n",
    "And here is the end\n",
    "'''\n",
    "\n",
    "re.findall(r'.*start.*\\n', input_txt)"
   ],
   "outputs": []
  },
  {
   "cell_type": "markdown",
   "id": "36428570",
   "metadata": {},
   "source": [
    "#### Task №2: Next\n",
    "\n",
    "1.  Check if the given strings start with `be`\n",
    "\n",
    "2. For the given input list, filter all elements that contain `42` surrounded by word characters.\n",
    "\n",
    "3.  For the given input list, filter all elements that start with `den` or end with `ly`\n",
    "\n",
    "4. For the given input list, replace `hand` with `X` for all elements that start with `hand` followed by at least one word character."
   ]
  },
  {
   "cell_type": "code",
   "execution_count": 19,
   "id": "5a720dad",
   "metadata": {
    "ExecuteTime": {
     "end_time": "2024-04-10T10:52:40.301660Z",
     "start_time": "2024-04-10T10:52:40.255531Z"
    }
   },
   "source": [
    "m = re.match(r'^be', 'askdjhsbefdjhk')\n",
    "f = [w for w in ['july', 'de42nkjdnf', 'sdfkjly', 'hjgd42enly', 'denly'] if re.match(r'\\w*42\\w*', w)]\n",
    "s = [w for w in ['july', 'denkjdnf', 'sdfkjly', 'hjgdenly', 'denly'] if re.match(r'^den\\.*ly$', w)]\n",
    "f, s"
   ],
   "outputs": []
  },
  {
   "cell_type": "code",
   "execution_count": 21,
   "source": [
    "[re.sub(r'hand', r'X', w, 1) for w in ['juhandly', 'handdenkjdnf', 'handsdfkjly', 'hjgdenly', 'denly'] if re.match(r'^hand\\w+', w)]"
   ],
   "metadata": {
    "collapsed": false,
    "ExecuteTime": {
     "end_time": "2024-04-10T10:53:55.365929Z",
     "start_time": "2024-04-10T10:53:55.348192Z"
    }
   },
   "id": "c5dc1aa128baf783",
   "outputs": []
  },
  {
   "cell_type": "markdown",
   "id": "63c554a8",
   "metadata": {},
   "source": [
    "#### Task №3: Escaping\n",
    "\n",
    "1.  Replace `(4)\\|` with `2` only at the start or end of the given input strings\n",
    "\n",
    "2. Replace the backspace character `\\b` with a single space character for the given input string."
   ]
  },
  {
   "cell_type": "code",
   "execution_count": 23,
   "id": "b5aa50ad",
   "metadata": {
    "ExecuteTime": {
     "end_time": "2024-04-10T10:57:19.975142Z",
     "start_time": "2024-04-10T10:57:19.958696Z"
    }
   },
   "source": [
    "re.sub(r'\\|{4}$', r'||', re.sub(r'^\\|{4}', r'||', '||||sajfhasfdjh||||asd||||'))\n",
    "re.sub(r'\\b', ' ', 'sfgdfg')"
   ],
   "outputs": []
  },
  {
   "cell_type": "markdown",
   "id": "0d45bec0",
   "metadata": {},
   "source": [
    "### Alternation & Grouping\n",
    "\n",
    ">   * **`|`** - alternative for match, `A|B`\n",
    ">   * **`[...]`** - described above, range of accepted symbols\n",
    ">   * **`(?:...){}`** - pattern that can be repeated several times according to the following quantifier\n",
    "\n",
    "### Quantifiers\n",
    "\n",
    ">   * **`{n}`** - exactly n times the expression was identified consequently\n",
    ">   * **`{m, n}`** - from m to n times\n",
    ">   * **`{m,}`** - from m times\n",
    ">   * **`{,n}`** - no more than n times\n",
    ">   * **`?`** - zero or one match\n",
    ">   * **`*`** - zero or more matches\n",
    ">   * **`+`** - one or more matches\n",
    ">   * **`{quantifier}?`** - non-greedy quantifier "
   ]
  },
  {
   "cell_type": "markdown",
   "id": "ae4c07ba",
   "metadata": {},
   "source": [
    "#### Task №4: Grouping & Alternative\n",
    "\n",
    "1. For the given list, filter all elements that start with `den` or end with `ly`\n",
    "\n",
    "2. For the given strings, replace all occurrences of `removed` or `reed` or `received` or `refused` with `X`.\n",
    "\n",
    "3. For the given strings, replace all matches from the list `words` with `A`"
   ]
  },
  {
   "cell_type": "code",
   "execution_count": null,
   "id": "e49f3e6f",
   "metadata": {},
   "source": [
    "[re.sub(r'refused', r'X', re.sub(r'reed', r'X', re.sub(r'removed', r'X', w))) for w in arr]"
   ],
   "outputs": []
  },
  {
   "cell_type": "markdown",
   "id": "0db76a42",
   "metadata": {},
   "source": [
    "#### Task №5: Quantifying\n",
    "\n",
    "1. Replace `42//5` or `42/5` with `8` for the given input.\n",
    "\n",
    "2. For the given input strings, remove everything from the first occurrence of `i` till the end of the string\n",
    "\n",
    "3. For the given input strings, remove everything from the first occurrence of `test` (irrespective of case) till the end of the string, provided test isn't at the end of the string\n",
    "\n",
    "4. For the input list `words`, filter all elements starting with `s` and containing `e` and `t` in any order.\n",
    "\n",
    "5. For the input list `words`, remove all elements having less than 6 characters"
   ]
  },
  {
   "cell_type": "code",
   "execution_count": null,
   "id": "0152ad55",
   "metadata": {},
   "source": [],
   "outputs": []
  },
  {
   "attachments": {
    "image-2.png": {
     "image/png": "[encoded data removed]"
    },
    "image.png": {
     "image/png": "[encoded data removed]"
    }
   },
   "cell_type": "markdown",
   "id": "c9af8012",
   "metadata": {},
   "source": [
    "### Position patterns\n",
    "\n",
    ">   * **`^`** - start of text / line\n",
    ">   * **`$`** - end of text / line\n",
    ">   * **`\\A`** - start of the text\n",
    ">   * **`\\Z`** - end of the text\n",
    ">   * **`\\b`**; **`\\B`** - already described, start & end of word VS vice versa\n",
    ">   * **`(?=...)`** - lookahead, all positions with pattern after \n",
    ">   * **`(?!...)`** - negative lookahead, vice versa\n",
    ">   * **`(?<=...)`** - lookbehind, all positions with pattern going before\n",
    ">   * **`(?<!...)`** - negative lookbehind, vice versa\n",
    "\n",
    "![image.png](attachment:image.png)\n",
    "\n",
    "### Match\n",
    "\n",
    "![image-2.png](attachment:image-2.png)\n",
    "\n",
    "### Backregerence\n",
    "\n",
    ">   * **`g<0>`** - entire captured group\n",
    ">```python\n",
    "re.sub(r'[a-z]+', r'{\\g<0>}', '[52] apples and [31] mangoes')\n",
    "'[52] {apples} {and} [31] {mangoes}'\n",
    ">```\n",
    ">   * **`g<i>`** - i-th captured portion\n",
    ">   * **`\\i`** - i-th captured portion\n",
    ">```python\n",
    "re.sub(r'(\\w+),(\\w+)', r'\\2,\\1', 'good,bad 42,24')\n",
    "'bad,good 24,42'\n",
    ">```"
   ]
  },
  {
   "cell_type": "markdown",
   "id": "77f038e8",
   "metadata": {},
   "source": [
    "#### Task 6: Move on\n",
    "\n",
    "1. Find the starting index of the first occurrence of `is` or `the` or `was` or `to` for the given input strings\n",
    "\n",
    "2. The given input strings contains some text followed by `-` followed by a number. Replace that number with its `log` value.\n",
    "\n",
    "3. Extract all words between `(` and `)` from the given input string as a list. Assume that the input will not contain any broken parentheses.\n",
    "\n",
    "4. Replace all whole words `reed` or `read` or `red` with `X`."
   ]
  },
  {
   "cell_type": "code",
   "execution_count": null,
   "id": "15d9ed08",
   "metadata": {},
   "source": [],
   "outputs": []
  },
  {
   "cell_type": "markdown",
   "id": "5af972d8",
   "metadata": {},
   "source": [
    "#### Task №7: Look around\n",
    "\n",
    "1. Replace all whole words with X unless it is preceded by a ( character.\n",
    "\n",
    "2. Replace all whole words with X unless it is preceded by ( or followed by ) characters.\n",
    "\n",
    "3. Extract all whole words that do not end with e or n.\n",
    "\n",
    "4. For the given input strings, extract all overlapping two character sequences."
   ]
  },
  {
   "cell_type": "code",
   "execution_count": null,
   "id": "59e84780",
   "metadata": {},
   "source": [],
   "outputs": []
  },
  {
   "cell_type": "markdown",
   "id": "580beff5",
   "metadata": {},
   "source": [
    "#### Task №8: Backref\n",
    "\n",
    "1. Replace the space character that occurs after a word ending with `a` or `r` with a `newline` character.\n",
    "\n",
    "2. Add `[]` around words starting with `s` and containing `e` and `t` in any order\n",
    "\n",
    "3. Replace all whole words with `X` that start and end with the same word character (irrespective of case). Single character word should get replaced with `X` too, as it satisfies the stated condition."
   ]
  },
  {
   "cell_type": "code",
   "execution_count": null,
   "id": "db4759c9",
   "metadata": {},
   "source": [],
   "outputs": []
  }
 ],
 "metadata": {
  "kernelspec": {
   "display_name": "Python 3 (ipykernel)",
   "language": "python",
   "name": "python3"
  },
  "language_info": {
   "codemirror_mode": {
    "name": "ipython",
    "version": 3
   },
   "file_extension": ".py",
   "mimetype": "text/x-python",
   "name": "python",
   "nbconvert_exporter": "python",
   "pygments_lexer": "ipython3",
   "version": "3.9.15"
  }
 },
 "nbformat": 4,
 "nbformat_minor": 5
}
