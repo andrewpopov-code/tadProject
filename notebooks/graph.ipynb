{
 "cells": [
  {
   "cell_type": "code",
   "execution_count": 1,
   "id": "initial_id",
   "metadata": {
    "collapsed": true,
    "ExecuteTime": {
     "end_time": "2024-04-29T08:19:40.514319Z",
     "start_time": "2024-04-29T08:19:33.358004Z"
    }
   },
   "source": [
    "import networkx as nx\n",
    "import numpy as np\n",
    "import math\n",
    "import importlib\n",
    "\n",
    "# matplotlib setting\n",
    "%matplotlib inline\n",
    "import matplotlib.pyplot as plt\n",
    "\n",
    "# to print logs in jupyter notebook\n",
    "import logging\n",
    "logging.basicConfig(format='%(levelname)s:%(message)s', level=logging.ERROR)\n",
    "\n",
    "# load GraphRicciCuravture package\n",
    "from GraphRicciCurvature.OllivierRicci import OllivierRicci\n",
    "\n",
    "# load python-louvain for modularity computation\n",
    "import community as community_louvain\n",
    "\n",
    "# for ARI computation\n",
    "from sklearn import preprocessing, metrics"
   ],
   "outputs": []
  },
  {
   "cell_type": "code",
   "execution_count": 2,
   "source": [
    "G = nx.karate_club_graph()"
   ],
   "metadata": {
    "collapsed": false,
    "ExecuteTime": {
     "end_time": "2024-04-29T08:19:40.520863Z",
     "start_time": "2024-04-29T08:19:40.515671Z"
    }
   },
   "id": "51ab563d805a83dc",
   "outputs": []
  },
  {
   "cell_type": "code",
   "execution_count": 3,
   "source": [
    "orc = OllivierRicci(G, alpha=0.5, verbose=\"TRACE\")\n",
    "orc.compute_ricci_curvature()\n",
    "G_orc = orc.G.copy()\n",
    "\n",
    "def show_results(G):\n",
    "    # Print the first five results\n",
    "    print(\"Karate Club Graph, first 5 edges: \")\n",
    "    for n1,n2 in list(G.edges())[:5]:\n",
    "        print(\"Ollivier-Ricci curvature of edge (%s,%s) is %f\" % (n1 ,n2, G[n1][n2][\"ricciCurvature\"]))\n",
    "\n",
    "    # Plot the histogram of Ricci curvatures\n",
    "    plt.subplot(2, 1, 1)\n",
    "    ricci_curvtures = nx.get_edge_attributes(G, \"ricciCurvature\").values()\n",
    "    plt.hist(ricci_curvtures,bins=20)\n",
    "    plt.xlabel('Ricci curvature')\n",
    "    plt.title(\"Histogram of Ricci Curvatures (Karate Club)\")\n",
    "\n",
    "    # Plot the histogram of edge weights\n",
    "    plt.subplot(2, 1, 2)\n",
    "    weights = nx.get_edge_attributes(G, \"weight\").values()\n",
    "    plt.hist(weights,bins=20)\n",
    "    plt.xlabel('Edge weight')\n",
    "    plt.title(\"Histogram of Edge weights (Karate Club)\")\n",
    "\n",
    "    plt.tight_layout()\n",
    "\n",
    "show_results(G_orc)"
   ],
   "metadata": {
    "collapsed": false,
    "ExecuteTime": {
     "end_time": "2024-04-29T08:19:43.578174Z",
     "start_time": "2024-04-29T08:19:41.979009Z"
    }
   },
   "id": "5ccb7ca61f6a230f",
   "outputs": []
  },
  {
   "cell_type": "code",
   "execution_count": 4,
   "source": [
    "# Start a Ricci flow with Lin-Yau's probability distribution setting with 4 process.\n",
    "orf = OllivierRicci(G, alpha=0.5, base=1, exp_power=0, proc=4, verbose=\"INFO\")\n",
    "\n",
    "# Do Ricci flow for 2 iterations\n",
    "orf.compute_ricci_flow(iterations=2)"
   ],
   "metadata": {
    "collapsed": false,
    "ExecuteTime": {
     "end_time": "2024-04-29T08:19:49.156091Z",
     "start_time": "2024-04-29T08:19:48.633084Z"
    }
   },
   "id": "8b51fdaf1a0a9a98",
   "outputs": []
  },
  {
   "cell_type": "code",
   "execution_count": 5,
   "source": [
    "orf.set_verbose(\"ERROR\") # mute logs\n",
    "orf.compute_ricci_flow(iterations=50)\n",
    "G_rf = orf.G.copy()\n",
    "show_results(G_rf)"
   ],
   "metadata": {
    "collapsed": false,
    "ExecuteTime": {
     "end_time": "2024-04-29T08:19:58.741002Z",
     "start_time": "2024-04-29T08:19:52.339255Z"
    }
   },
   "id": "85bfa02afe818844",
   "outputs": []
  },
  {
   "cell_type": "code",
   "execution_count": 6,
   "source": [
    "def draw_graph(G, clustering_label=\"club\"):\n",
    "    \"\"\"\n",
    "    A helper function to draw a nx graph with community.\n",
    "    \"\"\"\n",
    "    complex_list = nx.get_node_attributes(G, clustering_label)\n",
    "\n",
    "    le = preprocessing.LabelEncoder()\n",
    "    node_color = le.fit_transform(list(complex_list.values()))\n",
    "\n",
    "    nx.draw_spring(G, nodelist=G.nodes(),\n",
    "                   node_color=node_color,\n",
    "                   cmap=plt.cm.rainbow,\n",
    "                   alpha=0.8)\n",
    "\n",
    "draw_graph(G_rf)"
   ],
   "metadata": {
    "collapsed": false,
    "ExecuteTime": {
     "end_time": "2024-04-29T08:20:00.060140Z",
     "start_time": "2024-04-29T08:19:59.845711Z"
    }
   },
   "id": "a6346388ea00ff5c",
   "outputs": []
  },
  {
   "cell_type": "code",
   "execution_count": 7,
   "source": [
    "def ARI(G, clustering, clustering_label=\"club\"):\n",
    "    \"\"\"\n",
    "    Computer the Adjust Rand Index (clustering accuracy) of \"clustering\" with \"clustering_label\" as ground truth.\n",
    "\n",
    "    Parameters\n",
    "    ----------\n",
    "    G : NetworkX graph\n",
    "        A given NetworkX graph with node attribute \"clustering_label\" as ground truth.\n",
    "    clustering : dict or list or list of set\n",
    "        Predicted community clustering.\n",
    "    clustering_label : str\n",
    "        Node attribute name for ground truth.\n",
    "\n",
    "    Returns\n",
    "    -------\n",
    "    ari : float\n",
    "        Adjust Rand Index for predicted community.\n",
    "    \"\"\"\n",
    "\n",
    "    complex_list = nx.get_node_attributes(G, clustering_label)\n",
    "\n",
    "    le = preprocessing.LabelEncoder()\n",
    "    y_true = le.fit_transform(list(complex_list.values()))\n",
    "\n",
    "    if isinstance(clustering, dict):\n",
    "        # python-louvain partition format\n",
    "        y_pred = np.array([clustering[v] for v in complex_list.keys()])\n",
    "    elif isinstance(clustering[0], set):\n",
    "        # networkx partition format\n",
    "        predict_dict = {c: idx for idx, comp in enumerate(clustering) for c in comp}\n",
    "        y_pred = np.array([predict_dict[v] for v in complex_list.keys()])\n",
    "    elif isinstance(clustering, list):\n",
    "        # sklearn partition format\n",
    "        y_pred = clustering\n",
    "    else:\n",
    "        return -1\n",
    "\n",
    "    return metrics.adjusted_rand_score(y_true, y_pred)\n",
    "\n",
    "\n",
    "\n",
    "def my_surgery(G_origin: nx.Graph(), weight=\"weight\", cut=0):\n",
    "    \"\"\"A simple surgery function that remove the edges with weight above a threshold\n",
    "\n",
    "    Parameters\n",
    "    ----------\n",
    "    G_origin : NetworkX graph\n",
    "        A graph with ``weight`` as Ricci flow metric to cut.\n",
    "    weight: str\n",
    "        The edge weight used as Ricci flow metric. (Default value = \"weight\")\n",
    "    cut: float\n",
    "        Manually assigned cutoff point.\n",
    "\n",
    "    Returns\n",
    "    -------\n",
    "    G : NetworkX graph\n",
    "        A graph after surgery.\n",
    "    \"\"\"\n",
    "    G = G_origin.copy()\n",
    "    w = nx.get_edge_attributes(G, weight)\n",
    "\n",
    "    assert cut >= 0, \"Cut value should be greater than 0.\"\n",
    "    if not cut:\n",
    "        cut = (max(w.values()) - 1.0) * 0.6 + 1.0  # Guess a cut point as default\n",
    "\n",
    "    to_cut = []\n",
    "    for n1, n2 in G.edges():\n",
    "        if G[n1][n2][weight] > cut:\n",
    "            to_cut.append((n1, n2))\n",
    "    print(\"*************** Surgery time ****************\")\n",
    "    print(\"* Cut %d edges.\" % len(to_cut))\n",
    "    G.remove_edges_from(to_cut)\n",
    "    print(\"* Number of nodes now: %d\" % G.number_of_nodes())\n",
    "    print(\"* Number of edges now: %d\" % G.number_of_edges())\n",
    "    cc = list(nx.connected_components(G))\n",
    "    print(\"* Modularity now: %f \" % nx.algorithms.community.quality.modularity(G, cc))\n",
    "    print(\"* ARI now: %f \" % ARI(G, cc))\n",
    "    print(\"*********************************************\")\n",
    "\n",
    "    return G"
   ],
   "metadata": {
    "collapsed": false,
    "ExecuteTime": {
     "end_time": "2024-04-29T08:20:07.834734Z",
     "start_time": "2024-04-29T08:20:07.808859Z"
    }
   },
   "id": "91b8f34d5ca51b35",
   "outputs": []
  },
  {
   "cell_type": "code",
   "execution_count": 8,
   "source": [
    "draw_graph(my_surgery(G_rf, cut=1.5))"
   ],
   "metadata": {
    "collapsed": false,
    "ExecuteTime": {
     "end_time": "2024-04-29T08:20:08.799515Z",
     "start_time": "2024-04-29T08:20:08.616817Z"
    }
   },
   "id": "b842dcf633acf78f",
   "outputs": []
  },
  {
   "cell_type": "code",
   "execution_count": 9,
   "source": [
    "draw_graph(my_surgery(G_rf, cut=1.0))"
   ],
   "metadata": {
    "collapsed": false,
    "ExecuteTime": {
     "end_time": "2024-04-29T08:20:11.834530Z",
     "start_time": "2024-04-29T08:20:11.650167Z"
    }
   },
   "id": "6df28395b0a769d3",
   "outputs": []
  },
  {
   "cell_type": "code",
   "execution_count": 10,
   "source": [
    "def check_accuracy(G_origin, weight=\"weight\", clustering_label=\"value\", plot_cut=True):\n",
    "    \"\"\"To check the clustering quality while cut the edges with weight using different threshold\n",
    "\n",
    "    Parameters\n",
    "    ----------\n",
    "    G_origin : NetworkX graph\n",
    "        A graph with ``weight`` as Ricci flow metric to cut.\n",
    "    weight: float\n",
    "        The edge weight used as Ricci flow metric. (Default value = \"weight\")\n",
    "    clustering_label : str\n",
    "        Node attribute name for ground truth.\n",
    "    plot_cut: bool\n",
    "        To plot the good guessed cut or not.\n",
    "\n",
    "    \"\"\"\n",
    "    G = G_origin.copy()\n",
    "    modularity, ari = [], []\n",
    "    maxw = max(nx.get_edge_attributes(G, weight).values())\n",
    "    cutoff_range = np.arange(maxw, 1, -0.025)\n",
    "\n",
    "    for cutoff in cutoff_range:\n",
    "        edge_trim_list = []\n",
    "        for n1, n2 in G.edges():\n",
    "            if G[n1][n2][weight] > cutoff:\n",
    "                edge_trim_list.append((n1, n2))\n",
    "        G.remove_edges_from(edge_trim_list)\n",
    "\n",
    "        # Get connected component after cut as clustering\n",
    "        clustering = {c: idx for idx, comp in enumerate(nx.connected_components(G)) for c in comp}\n",
    "\n",
    "        # Compute modularity and ari\n",
    "        modularity.append(community_louvain.modularity(clustering, G, weight))\n",
    "        ari.append(ARI(G, clustering, clustering_label=clustering_label))\n",
    "\n",
    "    plt.xlim(maxw, 0)\n",
    "    plt.xlabel(\"Edge weight cutoff\")\n",
    "    plt.plot(cutoff_range, modularity, alpha=0.8)\n",
    "    plt.plot(cutoff_range, ari, alpha=0.8)\n",
    "\n",
    "    if plot_cut:\n",
    "        good_cut = -1\n",
    "        mod_last = modularity[-1]\n",
    "        drop_threshold = 0.01  # at least drop this much to considered as a drop for good_cut\n",
    "\n",
    "        # check drop from 1 -> maxw\n",
    "        for i in range(len(modularity) - 1, 0, -1):\n",
    "            mod_now = modularity[i]\n",
    "            if mod_last > mod_now > 1e-4 and abs(mod_last - mod_now) / mod_last > drop_threshold:\n",
    "                if good_cut != -1:\n",
    "                    print(\"Other cut:%f, diff:%f, mod_now:%f, mod_last:%f, ari:%f\" % (\n",
    "                        cutoff_range[i + 1], mod_last - mod_now, mod_now, mod_last, ari[i + 1]))\n",
    "                else:\n",
    "                    good_cut = cutoff_range[i + 1]\n",
    "                    print(\"*Good Cut:%f, diff:%f, mod_now:%f, mod_last:%f, ari:%f\" % (\n",
    "                        good_cut, mod_last - mod_now, mod_now, mod_last, ari[i + 1]))\n",
    "            mod_last = mod_now\n",
    "\n",
    "        plt.axvline(x=good_cut, color=\"red\")\n",
    "        plt.legend(['Modularity', 'Adjust Rand Index', 'Good cut'])\n",
    "    else:\n",
    "        plt.legend(['Modularity', 'Adjust Rand Index'])\n",
    "        \n",
    "check_accuracy(G_rf,clustering_label=\"club\",plot_cut=False)"
   ],
   "metadata": {
    "collapsed": false,
    "ExecuteTime": {
     "end_time": "2024-04-29T08:20:14.418686Z",
     "start_time": "2024-04-29T08:20:13.870241Z"
    }
   },
   "id": "cb88be3d934387ae",
   "outputs": []
  },
  {
   "cell_type": "code",
   "execution_count": 11,
   "source": [
    "draw_graph(my_surgery(G_rf, cut=1.05))"
   ],
   "metadata": {
    "collapsed": false,
    "ExecuteTime": {
     "end_time": "2024-04-29T08:20:16.650080Z",
     "start_time": "2024-04-29T08:20:16.473240Z"
    }
   },
   "id": "337a32bff07319c0",
   "outputs": []
  },
  {
   "cell_type": "code",
   "execution_count": 12,
   "source": [
    "orf2 = OllivierRicci(G, alpha=0.5, base=math.e, exp_power=1, verbose=\"ERROR\")\n",
    "orf2.compute_ricci_flow(iterations=50)\n",
    "G_rf2 = orf2.G.copy()"
   ],
   "metadata": {
    "collapsed": false,
    "ExecuteTime": {
     "end_time": "2024-04-29T08:20:36.429344Z",
     "start_time": "2024-04-29T08:20:20.253627Z"
    }
   },
   "id": "e480535883ec74eb",
   "outputs": []
  },
  {
   "cell_type": "code",
   "execution_count": 13,
   "source": [
    "show_results(G_rf2)"
   ],
   "metadata": {
    "collapsed": false,
    "ExecuteTime": {
     "end_time": "2024-04-29T08:20:37.254409Z",
     "start_time": "2024-04-29T08:20:36.441968Z"
    }
   },
   "id": "33edd0f337913f7b",
   "outputs": []
  },
  {
   "cell_type": "code",
   "execution_count": 14,
   "source": [
    "check_accuracy(G_rf2, clustering_label=\"club\")"
   ],
   "metadata": {
    "collapsed": false,
    "ExecuteTime": {
     "end_time": "2024-04-29T08:20:37.922024Z",
     "start_time": "2024-04-29T08:20:37.259628Z"
    }
   },
   "id": "77195108ea4f63d2",
   "outputs": []
  },
  {
   "cell_type": "code",
   "execution_count": 15,
   "source": [
    "draw_graph(my_surgery(G_rf2, cut=3.88))"
   ],
   "metadata": {
    "collapsed": false,
    "ExecuteTime": {
     "end_time": "2024-04-29T08:20:38.135647Z",
     "start_time": "2024-04-29T08:20:37.929282Z"
    }
   },
   "id": "fd48d0f9e01409a8",
   "outputs": []
  },
  {
   "cell_type": "code",
   "execution_count": 16,
   "source": [
    "draw_graph(my_surgery(G_rf2, cut=1.11))"
   ],
   "metadata": {
    "collapsed": false,
    "ExecuteTime": {
     "end_time": "2024-04-29T08:20:38.333375Z",
     "start_time": "2024-04-29T08:20:38.132629Z"
    }
   },
   "id": "84b966268dc56e30",
   "outputs": []
  },
  {
   "cell_type": "code",
   "execution_count": 2,
   "source": [
    "import networkx as nx\n",
    "G = nx.karate_club_graph()\n",
    "G.nodes"
   ],
   "metadata": {
    "collapsed": false,
    "ExecuteTime": {
     "end_time": "2024-03-20T10:18:54.151900Z",
     "start_time": "2024-03-20T10:18:53.842706Z"
    }
   },
   "id": "e2d97e808b2f3cf",
   "outputs": []
  },
  {
   "cell_type": "code",
   "execution_count": 49,
   "source": [
    "import torch\n",
    "import networkx as nx\n",
    "\n",
    "d0 = torch.load('distance/distance_2.pt')\n",
    "d0"
   ],
   "metadata": {
    "collapsed": false,
    "ExecuteTime": {
     "end_time": "2024-04-29T08:29:48.497266Z",
     "start_time": "2024-04-29T08:29:48.391578Z"
    }
   },
   "id": "29cff2ea9f5d5578",
   "outputs": []
  },
  {
   "cell_type": "code",
   "execution_count": 18,
   "source": [
    "d0.flatten().quantile(0.25)"
   ],
   "metadata": {
    "collapsed": false,
    "ExecuteTime": {
     "end_time": "2024-04-29T08:20:50.137094Z",
     "start_time": "2024-04-29T08:20:50.061473Z"
    }
   },
   "id": "f9fe9fda55d23013",
   "outputs": []
  },
  {
   "cell_type": "code",
   "execution_count": 50,
   "source": [
    "import networkx as nx\n",
    "\n",
    "G = nx.Graph()\n",
    "e = []\n",
    "s = set()\n",
    "for i in range(d0.shape[0]):\n",
    "    for j in range(i + 1, d0.shape[0]):\n",
    "        e.append((i, j))\n",
    "        s.add(i)\n",
    "        s.add(j)\n",
    "s = list(s)\n",
    "ee = []\n",
    "for i, j in e:\n",
    "    ee.append((s.index(i), s.index(j), d0[i][j]))\n",
    "G.add_weighted_edges_from(ee)\n",
    "G.nodes"
   ],
   "metadata": {
    "collapsed": false,
    "ExecuteTime": {
     "end_time": "2024-04-29T08:29:51.735169Z",
     "start_time": "2024-04-29T08:29:51.700594Z"
    }
   },
   "id": "492a7c3eecb62857",
   "outputs": []
  },
  {
   "cell_type": "code",
   "execution_count": 20,
   "source": [
    "# import networkx as nx\n",
    "import numpy as np\n",
    "import math\n",
    "import importlib\n",
    "\n",
    "# matplotlib setting\n",
    "%matplotlib inline\n",
    "import matplotlib.pyplot as plt\n",
    "\n",
    "# to print logs in jupyter notebook\n",
    "import logging\n",
    "logging.basicConfig(format='%(levelname)s:%(message)s', level=logging.ERROR)\n",
    "\n",
    "# load GraphRicciCuravture package\n",
    "from GraphRicciCurvature.OllivierRicci import OllivierRicci\n",
    "\n",
    "# load python-louvain for modularity computation\n",
    "import community as community_louvain\n",
    "\n",
    "# for ARI computation\n",
    "from sklearn import preprocessing, metrics"
   ],
   "metadata": {
    "collapsed": false,
    "ExecuteTime": {
     "end_time": "2024-04-29T08:20:54.709428Z",
     "start_time": "2024-04-29T08:20:54.678244Z"
    }
   },
   "id": "e7882e8304d21310",
   "outputs": []
  },
  {
   "cell_type": "code",
   "execution_count": 21,
   "source": [
    "def show_results(G):\n",
    "    # Print the first five results\n",
    "    print(\"Karate Club Graph, first 5 edges: \")\n",
    "    for n1,n2 in list(G.edges())[:5]:\n",
    "        print(\"Ollivier-Ricci curvature of edge (%s,%s) is %f\" % (n1 ,n2, G[n1][n2][\"ricciCurvature\"]))\n",
    "\n",
    "    # Plot the histogram of Ricci curvatures\n",
    "    plt.subplot(2, 1, 1)\n",
    "    ricci_curvtures = nx.get_edge_attributes(G, \"ricciCurvature\").values()\n",
    "    plt.hist(ricci_curvtures,bins=20)\n",
    "    plt.xlabel('Ricci curvature')\n",
    "    plt.title(\"Histogram of Ricci Curvatures (Karate Club)\")\n",
    "\n",
    "    # Plot the histogram of edge weights\n",
    "    plt.subplot(2, 1, 2)\n",
    "    weights = nx.get_edge_attributes(G, \"weight\").values()\n",
    "    plt.hist(weights,bins=20)\n",
    "    plt.xlabel('Edge weight')\n",
    "    plt.title(\"Histogram of Edge weights (Karate Club)\")\n",
    "\n",
    "    plt.tight_layout()"
   ],
   "metadata": {
    "collapsed": false,
    "ExecuteTime": {
     "end_time": "2024-04-29T08:20:56.798979Z",
     "start_time": "2024-04-29T08:20:56.772014Z"
    }
   },
   "id": "cc1b6034035b383b",
   "outputs": []
  },
  {
   "cell_type": "code",
   "execution_count": 68,
   "source": [
    "from GraphRicciCurvature.OllivierRicci import OllivierRicci\n",
    "# Start a Ricci flow with Lin-Yau's probability distribution setting with 4 process.\n",
    "orf = OllivierRicci(G, alpha=0.5, verbose=\"INFO\", proc=1)\n",
    "\n",
    "# Do Ricci flow for 2 iterations\n",
    "orf.compute_ricci_flow(iterations=10)"
   ],
   "metadata": {
    "collapsed": false,
    "ExecuteTime": {
     "end_time": "2024-04-29T08:31:31.343653Z",
     "start_time": "2024-04-29T08:31:30.426057Z"
    }
   },
   "id": "f070d699f61591c4",
   "outputs": []
  },
  {
   "cell_type": "code",
   "execution_count": 69,
   "source": [
    "def show_results(G):\n",
    "    # Plot the histogram of edge weights\n",
    "    weights = nx.get_edge_attributes(G, \"weight\").values()\n",
    "    plt.hist(weights,bins=20)\n",
    "    plt.xlabel('Edge weight')\n",
    "    plt.title(\"Histogram of Edge weights (Attention Graph)\")\n",
    "\n",
    "    plt.tight_layout()\n",
    "\n",
    "show_results(G)"
   ],
   "metadata": {
    "collapsed": false,
    "ExecuteTime": {
     "end_time": "2024-04-29T08:31:33.423340Z",
     "start_time": "2024-04-29T08:31:32.913519Z"
    }
   },
   "id": "2f47e7a9c24916ab",
   "outputs": []
  },
  {
   "cell_type": "code",
   "execution_count": 66,
   "source": [
    "w = nx.get_edge_attributes(G, \"weight\")\n",
    "# cut = (max(w.values()) - 1.0) * 0.6 + 1.0  # Guess a cut point as default\n",
    "cut = 0.3\n",
    "\n",
    "to_cut = []\n",
    "for n1, n2 in G.edges():\n",
    "    if G[n1][n2][\"weight\"] > cut:\n",
    "        to_cut.append((n1, n2))\n",
    "G.remove_edges_from(to_cut)"
   ],
   "metadata": {
    "collapsed": false,
    "ExecuteTime": {
     "end_time": "2024-04-29T08:31:12.665010Z",
     "start_time": "2024-04-29T08:31:12.527931Z"
    }
   },
   "id": "d3cb09e714973ca8",
   "outputs": []
  },
  {
   "cell_type": "code",
   "execution_count": 70,
   "source": [
    "orf.compute_ricci_curvature()\n",
    "G_orf = orf.G.copy()  # save an intermediate result"
   ],
   "metadata": {
    "collapsed": false,
    "ExecuteTime": {
     "end_time": "2024-04-29T08:31:38.134274Z",
     "start_time": "2024-04-29T08:31:38.046781Z"
    }
   },
   "id": "95c46b9bdeea6103",
   "outputs": []
  },
  {
   "cell_type": "code",
   "execution_count": 71,
   "source": [
    "G_orf.edges"
   ],
   "metadata": {
    "collapsed": false,
    "ExecuteTime": {
     "end_time": "2024-04-29T08:31:39.982379Z",
     "start_time": "2024-04-29T08:31:39.946466Z"
    }
   },
   "id": "6c54883470303ddd",
   "outputs": []
  },
  {
   "cell_type": "code",
   "execution_count": 72,
   "source": [
    "def show_results(G):\n",
    "    # Print the first five results\n",
    "    print(\"Attention Graph, first 5 edges: \")\n",
    "    for n1,n2 in list(G.edges())[:5]:\n",
    "        print(\"Ollivier-Ricci curvature of edge (%s,%s) is %f\" % (n1 ,n2, G[n1][n2][\"ricciCurvature\"]))\n",
    "\n",
    "    # Plot the histogram of Ricci curvatures\n",
    "    plt.subplot(2, 1, 1)\n",
    "    ricci_curvtures = nx.get_edge_attributes(G, \"ricciCurvature\").values()\n",
    "    plt.hist(ricci_curvtures,bins=20)\n",
    "    plt.xlabel('Ricci curvature')\n",
    "    plt.title(\"Histogram of Ricci Curvatures (Attention Graph)\")\n",
    "\n",
    "    # Plot the histogram of edge weights\n",
    "    plt.subplot(2, 1, 2)\n",
    "    weights = nx.get_edge_attributes(G, \"weight\").values()\n",
    "    plt.hist(weights,bins=20)\n",
    "    plt.xlabel('Edge weight')\n",
    "    plt.title(\"Histogram of Edge weights (Attention Graph)\")\n",
    "\n",
    "    plt.tight_layout()\n",
    "\n",
    "show_results(G_orf)"
   ],
   "metadata": {
    "collapsed": false,
    "ExecuteTime": {
     "end_time": "2024-04-29T08:31:43.283691Z",
     "start_time": "2024-04-29T08:31:41.948332Z"
    }
   },
   "id": "9dc8e98c2fc3e6ac",
   "outputs": []
  },
  {
   "cell_type": "code",
   "execution_count": 73,
   "source": [
    "nx.draw(G_orf)"
   ],
   "metadata": {
    "collapsed": false,
    "ExecuteTime": {
     "end_time": "2024-04-29T08:31:45.687674Z",
     "start_time": "2024-04-29T08:31:45.494101Z"
    }
   },
   "id": "8486beb3eed29fa5",
   "outputs": []
  },
  {
   "cell_type": "code",
   "execution_count": 74,
   "source": [
    "cc = orf.ricci_community()\n",
    "print(\"The detected community label of node 0: %s\" % cc[1][0])"
   ],
   "metadata": {
    "collapsed": false,
    "ExecuteTime": {
     "end_time": "2024-04-29T08:31:49.117609Z",
     "start_time": "2024-04-29T08:31:47.918485Z"
    }
   },
   "id": "b1e1a59897cac8ab",
   "outputs": []
  },
  {
   "cell_type": "code",
   "execution_count": 180,
   "source": [
    "nx.set_node_attributes(G_orf, cc[1], \"club\")   "
   ],
   "metadata": {
    "collapsed": false,
    "ExecuteTime": {
     "end_time": "2024-04-08T13:51:42.750124Z",
     "start_time": "2024-04-08T13:51:42.605610Z"
    }
   },
   "id": "1b7ea8fe0df8c7a2",
   "outputs": []
  },
  {
   "cell_type": "code",
   "execution_count": 181,
   "source": [
    "draw_graph(G_orf)"
   ],
   "metadata": {
    "collapsed": false,
    "ExecuteTime": {
     "end_time": "2024-04-08T13:51:42.961241Z",
     "start_time": "2024-04-08T13:51:42.772052Z"
    }
   },
   "id": "cb2e24156eb342f6",
   "outputs": []
  },
  {
   "cell_type": "code",
   "source": [
    "import torch\n",
    "from GraphRicciCurvature.OllivierRicci import OllivierRicci\n",
    "d0 = torch.load('distance/distance_3.pt')\n",
    "\n",
    "import networkx as nx\n",
    "\n",
    "G = nx.Graph()\n",
    "e = []\n",
    "s = set()\n",
    "for i in range(d0.shape[0]):\n",
    "    for j in range(i + 1, d0.shape[0]):\n",
    "        e.append((i, j))\n",
    "        s.add(i)\n",
    "        s.add(j)\n",
    "s = list(s)\n",
    "ee = []\n",
    "for i, j in e:\n",
    "    ee.append((s.index(i), s.index(j), d0[i][j]))\n",
    "G.add_weighted_edges_from(ee)"
   ],
   "metadata": {
    "collapsed": false,
    "ExecuteTime": {
     "end_time": "2024-05-04T10:27:48.804643Z",
     "start_time": "2024-05-04T10:27:44.145154Z"
    }
   },
   "id": "98f2f7ceaee3c00b",
   "execution_count": 1,
   "outputs": []
  },
  {
   "metadata": {
    "ExecuteTime": {
     "end_time": "2024-05-04T10:27:49.074047Z",
     "start_time": "2024-05-04T10:27:48.807111Z"
    }
   },
   "cell_type": "code",
   "source": "nx.draw(G)",
   "id": "e4bc9d8500a8bec5",
   "execution_count": 2,
   "outputs": []
  },
  {
   "metadata": {
    "ExecuteTime": {
     "end_time": "2024-05-04T10:25:50.370065Z",
     "start_time": "2024-05-04T10:25:50.089134Z"
    }
   },
   "cell_type": "code",
   "source": [
    "cut = 0.3  # 19\n",
    "\n",
    "to_cut = []\n",
    "for n1, n2 in G.edges():\n",
    "    if G[n1][n2][\"weight\"] > cut:\n",
    "        to_cut.append((n1, n2))\n",
    "G.remove_edges_from(to_cut)\n",
    "nx.draw(G) "
   ],
   "id": "95ecb00dc8029775",
   "execution_count": 4,
   "outputs": []
  },
  {
   "metadata": {
    "ExecuteTime": {
     "start_time": "2024-05-04T10:27:52.449149Z"
    }
   },
   "cell_type": "code",
   "source": [
    "orf = OllivierRicci(G, alpha=0.5, verbose=\"INFO\", proc=1)\n",
    "\n",
    "# Do Ricci flow for 2 iterations\n",
    "orf.compute_ricci_flow(iterations=10)"
   ],
   "id": "96ca3a491ec653aa",
   "execution_count": null,
   "outputs": []
  },
  {
   "metadata": {},
   "cell_type": "code",
   "execution_count": null,
   "source": [
    "cc = orc.ricci_community()\n",
    "G_orc = orc.G.copy()\n",
    "nx.set_node_attributes(G_orc, cc[1], \"club\")\n",
    "draw_graph(G_orc)"
   ],
   "id": "3821e44a4fce7efe",
   "outputs": []
  },
  {
   "metadata": {
    "ExecuteTime": {
     "end_time": "2024-05-04T10:33:39.973395Z",
     "start_time": "2024-05-04T10:33:39.361970Z"
    }
   },
   "cell_type": "code",
   "source": [
    "import community as community_louvain\n",
    "community_louvain.__version__"
   ],
   "id": "809b125fcf3381a9",
   "execution_count": 1,
   "outputs": []
  },
  {
   "metadata": {
    "ExecuteTime": {
     "end_time": "2024-05-04T10:43:10.488888Z",
     "start_time": "2024-05-04T10:43:10.483619Z"
    }
   },
   "cell_type": "code",
   "source": [
    "import networkx as nx\n",
    "nx.__version__"
   ],
   "id": "d8d9329161fbe16d",
   "execution_count": 3,
   "outputs": []
  }
 ],
 "metadata": {
  "kernelspec": {
   "display_name": "Python 3",
   "language": "python",
   "name": "python3"
  },
  "language_info": {
   "codemirror_mode": {
    "name": "ipython",
    "version": 2
   },
   "file_extension": ".py",
   "mimetype": "text/x-python",
   "name": "python",
   "nbconvert_exporter": "python",
   "pygments_lexer": "ipython2",
   "version": "2.7.6"
  }
 },
 "nbformat": 4,
 "nbformat_minor": 5
}
