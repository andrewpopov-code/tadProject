{
 "cells": [
  {
   "cell_type": "code",
   "id": "initial_id",
   "metadata": {
    "collapsed": true,
    "ExecuteTime": {
     "end_time": "2024-05-02T07:43:28.233995Z",
     "start_time": "2024-05-02T07:43:26.863997Z"
    }
   },
   "source": [
    "import gudhi\n",
    "import numpy as np\n",
    "import torch"
   ],
   "outputs": [],
   "execution_count": 1
  },
  {
   "metadata": {
    "ExecuteTime": {
     "end_time": "2024-05-02T07:43:36.892219Z",
     "start_time": "2024-05-02T07:43:36.887985Z"
    }
   },
   "cell_type": "code",
   "source": "X = np.random.rand(30, 4)",
   "id": "87cdd125d1ebe85e",
   "outputs": [],
   "execution_count": 2
  },
  {
   "metadata": {
    "ExecuteTime": {
     "end_time": "2024-05-02T07:44:21.561164Z",
     "start_time": "2024-05-02T07:44:21.557078Z"
    }
   },
   "cell_type": "code",
   "source": "landmarks = gudhi.pick_n_random_points(points=X, nb_points=10)",
   "id": "8c0ea67847b9582",
   "outputs": [],
   "execution_count": 3
  },
  {
   "metadata": {
    "ExecuteTime": {
     "end_time": "2024-05-02T07:49:05.387547Z",
     "start_time": "2024-05-02T07:49:05.296999Z"
    }
   },
   "cell_type": "code",
   "source": [
    "witness_complex = gudhi.EuclideanWitnessComplex(witnesses=X, landmarks=landmarks)\n",
    "simplex_tree = witness_complex.create_simplex_tree(3)"
   ],
   "id": "dc34f2a2e6cffde",
   "outputs": [],
   "execution_count": 5
  },
  {
   "metadata": {
    "ExecuteTime": {
     "end_time": "2024-05-02T07:49:37.112674Z",
     "start_time": "2024-05-02T07:49:37.108714Z"
    }
   },
   "cell_type": "code",
   "source": "simplex_tree.compute_persistence()",
   "id": "3ab5bb5e86c9f712",
   "outputs": [],
   "execution_count": 8
  },
  {
   "metadata": {
    "ExecuteTime": {
     "end_time": "2024-05-02T07:49:43.322465Z",
     "start_time": "2024-05-02T07:49:43.316576Z"
    }
   },
   "cell_type": "code",
   "source": "simplex_tree.betti_numbers()",
   "id": "b989010ecc8b10f6",
   "outputs": [
    {
     "data": {
      "text/plain": [
       "[1, 0, 0, 0, 0, 0, 0, 0, 0]"
      ]
     },
     "execution_count": 9,
     "metadata": {},
     "output_type": "execute_result"
    }
   ],
   "execution_count": 9
  },
  {
   "metadata": {
    "ExecuteTime": {
     "end_time": "2024-05-02T07:50:12.750667Z",
     "start_time": "2024-05-02T07:50:12.744183Z"
    }
   },
   "cell_type": "code",
   "source": "simplex_tree.persistence_pairs()",
   "id": "ede42c21a97fb4df",
   "outputs": [
    {
     "data": {
      "text/plain": [
       "[([8, 4], [8, 4, 2]),\n",
       " ([7, 5], [8, 7, 1]),\n",
       " ([7, 6], [8, 7, 2]),\n",
       " ([7, 6, 5], [8, 7, 5, 2]),\n",
       " ([9, 7, 6], [9, 7, 6, 1]),\n",
       " ([3], [])]"
      ]
     },
     "execution_count": 10,
     "metadata": {},
     "output_type": "execute_result"
    }
   ],
   "execution_count": 10
  },
  {
   "metadata": {
    "ExecuteTime": {
     "end_time": "2024-05-02T07:52:45.831572Z",
     "start_time": "2024-05-02T07:52:45.825646Z"
    }
   },
   "cell_type": "code",
   "source": "simplex_tree.persistent_betti_numbers(0, np.inf)",
   "id": "42e42bf7990ee298",
   "outputs": [
    {
     "data": {
      "text/plain": [
       "[1, 0, 0, 0, 0, 0, 0, 0, 0]"
      ]
     },
     "execution_count": 12,
     "metadata": {},
     "output_type": "execute_result"
    }
   ],
   "execution_count": 12
  },
  {
   "metadata": {
    "ExecuteTime": {
     "end_time": "2024-05-02T07:54:31.104470Z",
     "start_time": "2024-05-02T07:54:31.097840Z"
    }
   },
   "cell_type": "code",
   "source": "simplex_tree.persistence()",
   "id": "ad2abadee02ba3b5",
   "outputs": [
    {
     "data": {
      "text/plain": [
       "[(2, (0.09901224753495519, 0.1185795162562594)),\n",
       " (2, (0.2384204237953934, 0.2570642980317541)),\n",
       " (1, (0.0, 0.02578041406333309)),\n",
       " (1, (0.0, 0.021656426719765642)),\n",
       " (1, (0.004660972440652278, 0.016511804229204785)),\n",
       " (0, (0.0, inf))]"
      ]
     },
     "execution_count": 15,
     "metadata": {},
     "output_type": "execute_result"
    }
   ],
   "execution_count": 15
  },
  {
   "metadata": {
    "ExecuteTime": {
     "end_time": "2024-05-02T08:01:55.526871Z",
     "start_time": "2024-05-02T08:01:55.519844Z"
    }
   },
   "cell_type": "code",
   "source": [
    "from scipy.spatial import distance_matrix\n",
    "np.sum(distance_matrix(X, X) == 0)"
   ],
   "id": "8ef732b02fac46e9",
   "outputs": [
    {
     "data": {
      "text/plain": [
       "30"
      ]
     },
     "execution_count": 17,
     "metadata": {},
     "output_type": "execute_result"
    }
   ],
   "execution_count": 17
  },
  {
   "metadata": {
    "ExecuteTime": {
     "end_time": "2024-05-02T08:18:52.356938Z",
     "start_time": "2024-05-02T08:18:52.339477Z"
    }
   },
   "cell_type": "code",
   "source": [
    "from gudhi.wasserstein.barycenter import lagrangian_barycenter\n",
    "from functional.homology import drop_inf\n",
    "X, Y, Z = np.random.rand(20, 3), np.random.rand(20, 3), np.random.rand(20, 3)\n",
    "from gph import ripser_parallel\n",
    "dX, dY, dZ = drop_inf(ripser_parallel(X)['dgms']), drop_inf(ripser_parallel(Y)['dgms']), drop_inf(ripser_parallel(Z)['dgms'])"
   ],
   "id": "fd470eab461e6185",
   "outputs": [],
   "execution_count": 19
  },
  {
   "metadata": {
    "ExecuteTime": {
     "end_time": "2024-05-02T08:19:39.044882Z",
     "start_time": "2024-05-02T08:19:39.034239Z"
    }
   },
   "cell_type": "code",
   "source": [
    "ret = lagrangian_barycenter([dX[1], dY[1], dZ[1]])\n",
    "ret"
   ],
   "id": "2a31641a646b892a",
   "outputs": [
    {
     "data": {
      "text/plain": [
       "array([[0.57148115, 0.6056848 ],\n",
       "       [0.48694547, 0.52946866],\n",
       "       [0.52784425, 0.65355211],\n",
       "       [0.34950409, 0.36539868],\n",
       "       [0.43965062, 0.46321133],\n",
       "       [0.43726616, 0.46354111],\n",
       "       [0.62383872, 0.63134642],\n",
       "       [0.59096758, 0.59415181]])"
      ]
     },
     "execution_count": 22,
     "metadata": {},
     "output_type": "execute_result"
    }
   ],
   "execution_count": 22
  },
  {
   "metadata": {
    "ExecuteTime": {
     "end_time": "2024-05-02T11:30:55.262787Z",
     "start_time": "2024-05-02T11:30:55.256180Z"
    }
   },
   "cell_type": "code",
   "source": [
    "ret = ripser_parallel(X, return_generators=True, maxdim=4)\n",
    "dX, gensX = ret['dgms'], ret['gens']"
   ],
   "id": "c52ab0f7150852e4",
   "outputs": [],
   "execution_count": 27
  },
  {
   "metadata": {
    "ExecuteTime": {
     "end_time": "2024-05-02T12:04:03.068590Z",
     "start_time": "2024-05-02T12:04:03.062281Z"
    }
   },
   "cell_type": "code",
   "source": "np.repeat(gensX[0][:, :-2], 2, axis=-1)",
   "id": "104c3de3522ea182",
   "outputs": [
    {
     "data": {
      "text/plain": [
       "array([[ 9,  9],\n",
       "       [10, 10],\n",
       "       [16, 16],\n",
       "       [18, 18],\n",
       "       [ 7,  7],\n",
       "       [11, 11],\n",
       "       [13, 13],\n",
       "       [17, 17],\n",
       "       [15, 15],\n",
       "       [12, 12],\n",
       "       [ 8,  8],\n",
       "       [ 0,  0],\n",
       "       [14, 14],\n",
       "       [ 4,  4],\n",
       "       [ 6,  6],\n",
       "       [19, 19],\n",
       "       [ 3,  3],\n",
       "       [ 1,  1],\n",
       "       [ 5,  5]])"
      ]
     },
     "execution_count": 36,
     "metadata": {},
     "output_type": "execute_result"
    }
   ],
   "execution_count": 36
  },
  {
   "metadata": {
    "ExecuteTime": {
     "end_time": "2024-05-02T12:16:12.578555Z",
     "start_time": "2024-05-02T12:16:12.571674Z"
    }
   },
   "cell_type": "code",
   "source": [
    "from torch.nn.functional import normalize\n",
    "import torch\n",
    "\n",
    "normalize(torch.tensor(X)).norm(dim=-1)"
   ],
   "id": "7f99123dbaca854c",
   "outputs": [
    {
     "data": {
      "text/plain": [
       "tensor([1.0000, 1.0000, 1.0000, 1.0000, 1.0000, 1.0000, 1.0000, 1.0000, 1.0000,\n",
       "        1.0000, 1.0000, 1.0000, 1.0000, 1.0000, 1.0000, 1.0000, 1.0000, 1.0000,\n",
       "        1.0000, 1.0000], dtype=torch.float64)"
      ]
     },
     "execution_count": 41,
     "metadata": {},
     "output_type": "execute_result"
    }
   ],
   "execution_count": 41
  },
  {
   "metadata": {
    "ExecuteTime": {
     "end_time": "2024-05-02T12:16:22.056561Z",
     "start_time": "2024-05-02T12:16:22.049777Z"
    }
   },
   "cell_type": "code",
   "source": "torch.tensor(X).norm(dim=-1)",
   "id": "2d36e34a8e7ca8dc",
   "outputs": [
    {
     "data": {
      "text/plain": [
       "tensor([0.8645, 1.0396, 1.1524, 0.3843, 0.8170, 1.3034, 0.6862, 0.8164, 1.0135,\n",
       "        1.2617, 0.8001, 0.9600, 1.4056, 1.0706, 0.5348, 0.4182, 0.7274, 0.7393,\n",
       "        0.8543, 1.1643], dtype=torch.float64)"
      ]
     },
     "execution_count": 42,
     "metadata": {},
     "output_type": "execute_result"
    }
   ],
   "execution_count": 42
  },
  {
   "metadata": {
    "ExecuteTime": {
     "end_time": "2024-05-02T12:17:50.290467Z",
     "start_time": "2024-05-02T12:17:50.281690Z"
    }
   },
   "cell_type": "code",
   "source": [
    "from functional.homology import diagrams\n",
    "\n",
    "dgms, gens = diagrams(X, gens=True)\n",
    "dgms, gens"
   ],
   "id": "a90efe1bcb455f43",
   "outputs": [
    {
     "data": {
      "text/plain": [
       "([array([[0.        , 0.11235537],\n",
       "         [0.        , 0.13567343],\n",
       "         [0.        , 0.16028726],\n",
       "         [0.        , 0.16489358],\n",
       "         [0.        , 0.17940228],\n",
       "         [0.        , 0.2145982 ],\n",
       "         [0.        , 0.25935212],\n",
       "         [0.        , 0.26767468],\n",
       "         [0.        , 0.2840579 ],\n",
       "         [0.        , 0.2978334 ],\n",
       "         [0.        , 0.30338418],\n",
       "         [0.        , 0.30443987],\n",
       "         [0.        , 0.33023775],\n",
       "         [0.        , 0.35590068],\n",
       "         [0.        , 0.37971938],\n",
       "         [0.        , 0.39152566],\n",
       "         [0.        , 0.39631605],\n",
       "         [0.        , 0.41448182],\n",
       "         [0.        , 0.49552026],\n",
       "         [0.        ,        inf]], dtype=float32),\n",
       "  array([[0.47915885, 0.5152166 ],\n",
       "         [0.41608992, 0.48677203],\n",
       "         [0.41099122, 0.48981607]], dtype=float32)],\n",
       " (array([[ 9,  9,  5],\n",
       "         [10, 10,  6],\n",
       "         [16, 16,  6],\n",
       "         [18, 18,  7],\n",
       "         [ 7, 18,  0],\n",
       "         [11, 11,  1],\n",
       "         [13, 13,  7],\n",
       "         [17, 17,  4],\n",
       "         [15, 15, 14],\n",
       "         [12, 12,  2],\n",
       "         [ 8,  8,  1],\n",
       "         [ 0, 13,  1],\n",
       "         [14, 14,  3],\n",
       "         [ 4, 17, 16],\n",
       "         [ 6,  4,  0],\n",
       "         [19, 19,  0],\n",
       "         [ 3, 14,  7],\n",
       "         [ 1, 18,  2],\n",
       "         [ 5,  9,  4]]),\n",
       "  [array([[19, 12, 19,  2],\n",
       "          [17,  3, 14,  0],\n",
       "          [18, 10, 17, 10]])],\n",
       "  array([2]),\n",
       "  [array([], shape=(0, 2), dtype=int64)]))"
      ]
     },
     "execution_count": 43,
     "metadata": {},
     "output_type": "execute_result"
    }
   ],
   "execution_count": 43
  },
  {
   "metadata": {
    "ExecuteTime": {
     "end_time": "2024-05-02T12:37:24.230819Z",
     "start_time": "2024-05-02T12:37:24.219506Z"
    }
   },
   "cell_type": "code",
   "source": [
    "def diagrams_to_tensor(dgms: [list[np.ndarray], list[list[np.ndarray]]], fill_value=np.nan, requires_grad: bool = False) -> torch.Tensor:\n",
    "    if isinstance(dgms[0], list):\n",
    "        m_dgm = max((d for b in dgms for d in b), key=lambda x: x.shape[0]).shape[0]\n",
    "        return torch.tensor(np.stack(\n",
    "            [\n",
    "                np.stack(\n",
    "                    [\n",
    "                        np.pad(dgms[b][dim], ((0, m_dgm - dgms[b][dim].shape[0]), (0, 0)), constant_values=fill_value) for dim in range(len(dgms[b]))\n",
    "                    ]\n",
    "                ) for b in range(len(dgms))\n",
    "            ]\n",
    "        ), requires_grad=requires_grad)\n",
    "\n",
    "    m_dgm = max(dgms, key=lambda x: x.shape[0]).shape[0]\n",
    "    return torch.tensor(\n",
    "        np.stack(\n",
    "            [\n",
    "                np.pad(dgms[dim], ((0, m_dgm - dgms[dim].shape[0]), (0, 0)), constant_values=fill_value) for dim in range(len(dgms))\n",
    "            ]\n",
    "        ), requires_grad=requires_grad\n",
    "    )\n",
    "\n",
    "\n",
    "def gens_to_tensor(gens: [list[np.ndarray], list[list[np.ndarray]]], fill_value: int = -1):\n",
    "    if isinstance(gens[0], list):\n",
    "        for b in range(len(gens)):\n",
    "            gens[b][0] = np.repeat(gens[b][0], [2, 1, 1], axis=-1)\n",
    "        return diagrams_to_tensor(gens, fill_value=fill_value)\n",
    "    gens[0] = np.repeat(gens[0], [2, 1, 1], axis=-1)\n",
    "    return diagrams_to_tensor(gens, fill_value=fill_value)"
   ],
   "id": "8f14b8235feee672",
   "outputs": [],
   "execution_count": 51
  },
  {
   "metadata": {
    "ExecuteTime": {
     "end_time": "2024-05-02T12:37:27.557831Z",
     "start_time": "2024-05-02T12:37:27.544507Z"
    }
   },
   "cell_type": "code",
   "source": [
    "dgms_tensor, gens_tensor = diagrams_to_tensor(dgms), gens_to_tensor([gens[0], *gens[1]], 0)\n",
    "dgms_tensor, gens_tensor"
   ],
   "id": "d3897271af8f42f5",
   "outputs": [
    {
     "data": {
      "text/plain": [
       "(tensor([[[0.0000, 0.1124],\n",
       "          [0.0000, 0.1357],\n",
       "          [0.0000, 0.1603],\n",
       "          [0.0000, 0.1649],\n",
       "          [0.0000, 0.1794],\n",
       "          [0.0000, 0.2146],\n",
       "          [0.0000, 0.2594],\n",
       "          [0.0000, 0.2677],\n",
       "          [0.0000, 0.2841],\n",
       "          [0.0000, 0.2978],\n",
       "          [0.0000, 0.3034],\n",
       "          [0.0000, 0.3044],\n",
       "          [0.0000, 0.3302],\n",
       "          [0.0000, 0.3559],\n",
       "          [0.0000, 0.3797],\n",
       "          [0.0000, 0.3915],\n",
       "          [0.0000, 0.3963],\n",
       "          [0.0000, 0.4145],\n",
       "          [0.0000, 0.4955],\n",
       "          [0.0000,    inf]],\n",
       " \n",
       "         [[0.4792, 0.5152],\n",
       "          [0.4161, 0.4868],\n",
       "          [0.4110, 0.4898],\n",
       "          [   nan,    nan],\n",
       "          [   nan,    nan],\n",
       "          [   nan,    nan],\n",
       "          [   nan,    nan],\n",
       "          [   nan,    nan],\n",
       "          [   nan,    nan],\n",
       "          [   nan,    nan],\n",
       "          [   nan,    nan],\n",
       "          [   nan,    nan],\n",
       "          [   nan,    nan],\n",
       "          [   nan,    nan],\n",
       "          [   nan,    nan],\n",
       "          [   nan,    nan],\n",
       "          [   nan,    nan],\n",
       "          [   nan,    nan],\n",
       "          [   nan,    nan],\n",
       "          [   nan,    nan]]]),\n",
       " tensor([[[ 9,  9,  9,  5],\n",
       "          [10, 10, 10,  6],\n",
       "          [16, 16, 16,  6],\n",
       "          [18, 18, 18,  7],\n",
       "          [ 7,  7, 18,  0],\n",
       "          [11, 11, 11,  1],\n",
       "          [13, 13, 13,  7],\n",
       "          [17, 17, 17,  4],\n",
       "          [15, 15, 15, 14],\n",
       "          [12, 12, 12,  2],\n",
       "          [ 8,  8,  8,  1],\n",
       "          [ 0,  0, 13,  1],\n",
       "          [14, 14, 14,  3],\n",
       "          [ 4,  4, 17, 16],\n",
       "          [ 6,  6,  4,  0],\n",
       "          [19, 19, 19,  0],\n",
       "          [ 3,  3, 14,  7],\n",
       "          [ 1,  1, 18,  2],\n",
       "          [ 5,  5,  9,  4]],\n",
       " \n",
       "         [[19, 12, 19,  2],\n",
       "          [17,  3, 14,  0],\n",
       "          [18, 10, 17, 10],\n",
       "          [ 0,  0,  0,  0],\n",
       "          [ 0,  0,  0,  0],\n",
       "          [ 0,  0,  0,  0],\n",
       "          [ 0,  0,  0,  0],\n",
       "          [ 0,  0,  0,  0],\n",
       "          [ 0,  0,  0,  0],\n",
       "          [ 0,  0,  0,  0],\n",
       "          [ 0,  0,  0,  0],\n",
       "          [ 0,  0,  0,  0],\n",
       "          [ 0,  0,  0,  0],\n",
       "          [ 0,  0,  0,  0],\n",
       "          [ 0,  0,  0,  0],\n",
       "          [ 0,  0,  0,  0],\n",
       "          [ 0,  0,  0,  0],\n",
       "          [ 0,  0,  0,  0],\n",
       "          [ 0,  0,  0,  0]]]))"
      ]
     },
     "execution_count": 52,
     "metadata": {},
     "output_type": "execute_result"
    }
   ],
   "execution_count": 52
  },
  {
   "metadata": {
    "ExecuteTime": {
     "end_time": "2024-05-02T12:38:34.393230Z",
     "start_time": "2024-05-02T12:38:34.386159Z"
    }
   },
   "cell_type": "code",
   "source": "gens_birth, gens_death = gens_tensor[:, :, :-2], gens_tensor[:, :, -2:]",
   "id": "ba5ff31c1189074b",
   "outputs": [],
   "execution_count": 54
  },
  {
   "metadata": {
    "ExecuteTime": {
     "end_time": "2024-05-02T12:39:51.069078Z",
     "start_time": "2024-05-02T12:39:51.062576Z"
    }
   },
   "cell_type": "code",
   "source": [
    "X_tensor = torch.tensor(X)\n",
    "X_tensor[gens_birth[:, :, 1]]"
   ],
   "id": "4db682e3cfce3549",
   "outputs": [
    {
     "data": {
      "text/plain": [
       "tensor([[[0.7026, 0.0507, 0.3794],\n",
       "         [0.7026, 0.0507, 0.3794]],\n",
       "\n",
       "        [[0.5945, 0.4304, 0.0894],\n",
       "         [0.1970, 0.3294, 0.0188]]], dtype=torch.float64)"
      ]
     },
     "execution_count": 58,
     "metadata": {},
     "output_type": "execute_result"
    }
   ],
   "execution_count": 58
  },
  {
   "metadata": {
    "ExecuteTime": {
     "end_time": "2024-05-02T12:42:09.509434Z",
     "start_time": "2024-05-02T12:42:09.503175Z"
    }
   },
   "cell_type": "code",
   "source": "normalize(X_tensor[gens_birth[:, :, 1]] - X_tensor[gens_birth[:, :, 0]]).shape",
   "id": "97b9a05356d87d32",
   "outputs": [
    {
     "data": {
      "text/plain": [
       "torch.Size([2, 19, 3])"
      ]
     },
     "execution_count": 65,
     "metadata": {},
     "output_type": "execute_result"
    }
   ],
   "execution_count": 65
  },
  {
   "metadata": {
    "ExecuteTime": {
     "end_time": "2024-05-02T14:59:57.205807Z",
     "start_time": "2024-05-02T14:59:57.201080Z"
    }
   },
   "cell_type": "code",
   "source": [
    "def boundary_matrix(gens: np.ndarray, x: np.ndarray):\n",
    "    return np.logical_or.reduce(gens.reshape(*gens.shape, 1) == x.reshape(1, -1), axis=-2).astype(int)"
   ],
   "id": "91bdd115d8aa5c58",
   "outputs": [],
   "execution_count": 99
  },
  {
   "metadata": {
    "ExecuteTime": {
     "end_time": "2024-05-02T12:46:55.299923Z",
     "start_time": "2024-05-02T12:46:55.293951Z"
    }
   },
   "cell_type": "code",
   "source": "(gens_birth.numpy().reshape(*gens_birth.shape, 1) == x.reshape(1, -1)).shape",
   "id": "f2c998f19f6e7529",
   "outputs": [
    {
     "data": {
      "text/plain": [
       "(2, 19, 2, 20)"
      ]
     },
     "execution_count": 77,
     "metadata": {},
     "output_type": "execute_result"
    }
   ],
   "execution_count": 77
  },
  {
   "metadata": {
    "ExecuteTime": {
     "end_time": "2024-05-02T12:49:25.025721Z",
     "start_time": "2024-05-02T12:49:25.018545Z"
    }
   },
   "cell_type": "code",
   "source": [
    "x = np.arange(X.shape[0])\n",
    "Jb = boundary_matrix(gens_birth.numpy(), x)\n",
    "gb = normalize(X_tensor[gens_birth[:, :, 1]] - X_tensor[gens_birth[:, :, 0]])\n",
    "\n",
    "Jb.shape, gb.shape"
   ],
   "id": "13f2552ea59d3a2c",
   "outputs": [
    {
     "data": {
      "text/plain": [
       "((2, 19, 20), torch.Size([2, 19, 3]))"
      ]
     },
     "execution_count": 80,
     "metadata": {},
     "output_type": "execute_result"
    }
   ],
   "execution_count": 80
  },
  {
   "metadata": {
    "ExecuteTime": {
     "end_time": "2024-05-02T12:51:23.739457Z",
     "start_time": "2024-05-02T12:51:23.732090Z"
    }
   },
   "cell_type": "code",
   "source": "(gb.unsqueeze(-2) * torch.tensor(Jb).unsqueeze(-1)).sum(dim=-3).sum(dim=-3)",
   "id": "8b3f87042572e479",
   "outputs": [
    {
     "data": {
      "text/plain": [
       "tensor([[ 0.0000,  0.0000,  0.0000],\n",
       "        [ 0.0000,  0.0000,  0.0000],\n",
       "        [ 0.0000,  0.0000,  0.0000],\n",
       "        [-0.8890, -0.2856, -0.1421],\n",
       "        [ 0.0000,  0.0000,  0.0000],\n",
       "        [ 0.0000,  0.0000,  0.0000],\n",
       "        [ 0.0000,  0.0000,  0.0000],\n",
       "        [ 0.0000,  0.0000,  0.0000],\n",
       "        [ 0.0000,  0.0000,  0.0000],\n",
       "        [ 0.0000,  0.0000,  0.0000],\n",
       "        [ 0.4410, -0.8024, -0.4482],\n",
       "        [ 0.0000,  0.0000,  0.0000],\n",
       "        [ 0.1229, -0.5240,  0.8826],\n",
       "        [ 0.0000,  0.0000,  0.0000],\n",
       "        [ 0.0000,  0.0000,  0.0000],\n",
       "        [ 0.0000,  0.0000,  0.0000],\n",
       "        [ 0.0000,  0.0000,  0.0000],\n",
       "        [-0.8890, -0.2856, -0.1421],\n",
       "        [ 0.4410, -0.8024, -0.4482],\n",
       "        [ 0.1229, -0.5240,  0.8826]], dtype=torch.float64)"
      ]
     },
     "execution_count": 85,
     "metadata": {},
     "output_type": "execute_result"
    }
   ],
   "execution_count": 85
  },
  {
   "metadata": {
    "ExecuteTime": {
     "end_time": "2024-05-02T14:51:06.657488Z",
     "start_time": "2024-05-02T14:51:06.631291Z"
    }
   },
   "cell_type": "code",
   "source": [
    "def batch_select(X: torch.Tensor, gens: torch.Tensor) -> torch.Tensor:\n",
    "    ix = torch.tensor(gens)\n",
    "    dummy = ix.unsqueeze(-1).expand(*ix.shape, X.shape[-1]).squeeze(-2)\n",
    "    return torch.gather(X.detach().repeat(1, 2, 1, 1), 2, dummy)\n",
    "\n",
    "\n",
    "def grad_subroutine(X: torch.Tensor, gens: torch.Tensor) -> torch.Tensor:\n",
    "    boundary1 = boundary_matrix(gens[:, :, :, :1].numpy(force=True), np.arange(X.shape[1]))\n",
    "    boundary0 = boundary_matrix(gens[:, :, :, 1:].numpy(force=True), np.arange(X.shape[1]))\n",
    "    J0 = -normalize(batch_select(X, gens[:, :, :, 1]) - batch_select(X, gens[:, :, :, 0])).unsqueeze(-2) * boundary0.unsqueeze(-1)\n",
    "    J1 = normalize(batch_select(X, gens[:, :, :, 1]) - batch_select(X, gens[:, :, :, 0])).unsqueeze(-2) * boundary1.unsqueeze(-1)\n",
    "    return J0 + J1"
   ],
   "id": "140f1574dcc1d89c",
   "outputs": [],
   "execution_count": 86
  },
  {
   "metadata": {
    "ExecuteTime": {
     "end_time": "2024-05-02T14:54:23.717049Z",
     "start_time": "2024-05-02T14:54:23.710106Z"
    }
   },
   "cell_type": "code",
   "source": [
    "X = torch.rand((1, 20, 4))\n",
    "gens = [diagrams(X[0].numpy(), gens=True)[1]]\n",
    "gens_tensor = gens_to_tensor([[gens[0][0], *gens[0][1]]], fill_value=0)\n",
    "gens_birth, gens_death = gens_tensor[:, :, :, :-2], gens_tensor[:, :, :, -2:]"
   ],
   "id": "3fa8b4679b6e8431",
   "outputs": [],
   "execution_count": 90
  },
  {
   "metadata": {
    "ExecuteTime": {
     "end_time": "2024-05-02T14:54:24.918664Z",
     "start_time": "2024-05-02T14:54:24.910801Z"
    }
   },
   "cell_type": "code",
   "source": "gens_birth",
   "id": "46d8a5bb02a2cf7c",
   "outputs": [
    {
     "data": {
      "text/plain": [
       "tensor([[[[18, 18],\n",
       "          [13, 13],\n",
       "          [14, 14],\n",
       "          [15, 15],\n",
       "          [ 6,  6],\n",
       "          [ 2,  2],\n",
       "          [16, 16],\n",
       "          [ 1,  1],\n",
       "          [ 5,  5],\n",
       "          [ 8,  8],\n",
       "          [ 7,  7],\n",
       "          [ 3,  3],\n",
       "          [11, 11],\n",
       "          [ 9,  9],\n",
       "          [12, 12],\n",
       "          [ 0,  0],\n",
       "          [10, 10],\n",
       "          [17, 17],\n",
       "          [19, 19]],\n",
       "\n",
       "         [[10,  3],\n",
       "          [10,  6],\n",
       "          [ 9,  1],\n",
       "          [19,  8],\n",
       "          [ 8,  4],\n",
       "          [16, 11],\n",
       "          [14,  8],\n",
       "          [ 0,  0],\n",
       "          [ 0,  0],\n",
       "          [ 0,  0],\n",
       "          [ 0,  0],\n",
       "          [ 0,  0],\n",
       "          [ 0,  0],\n",
       "          [ 0,  0],\n",
       "          [ 0,  0],\n",
       "          [ 0,  0],\n",
       "          [ 0,  0],\n",
       "          [ 0,  0],\n",
       "          [ 0,  0]]]])"
      ]
     },
     "execution_count": 91,
     "metadata": {},
     "output_type": "execute_result"
    }
   ],
   "execution_count": 91
  },
  {
   "metadata": {
    "ExecuteTime": {
     "end_time": "2024-05-02T15:00:29.143176Z",
     "start_time": "2024-05-02T15:00:29.138226Z"
    }
   },
   "cell_type": "code",
   "source": [
    "boundary1 = boundary_matrix(gens_birth[:, :, :, :1].numpy(force=True), np.arange(X.shape[1]))\n",
    "boundary0 = boundary_matrix(gens_birth[:, :, :, 1:].numpy(force=True), np.arange(X.shape[1]))"
   ],
   "id": "c669411eb52fe8a2",
   "outputs": [],
   "execution_count": 102
  },
  {
   "metadata": {
    "ExecuteTime": {
     "end_time": "2024-05-02T15:01:38.429155Z",
     "start_time": "2024-05-02T15:01:38.423847Z"
    }
   },
   "cell_type": "code",
   "source": "boundary0.shape",
   "id": "f556075f96c9fe30",
   "outputs": [
    {
     "data": {
      "text/plain": [
       "(1, 2, 19, 20)"
      ]
     },
     "execution_count": 105,
     "metadata": {},
     "output_type": "execute_result"
    }
   ],
   "execution_count": 105
  },
  {
   "metadata": {
    "ExecuteTime": {
     "end_time": "2024-05-02T15:10:00.921148Z",
     "start_time": "2024-05-02T15:10:00.914727Z"
    }
   },
   "cell_type": "code",
   "source": [
    "norm = normalize(batch_select(X, gens_birth[:, :, :, 1]) - batch_select(X, gens_birth[:, :, :, 0]), dim=-1).unsqueeze(-2)\n",
    "J0 = -norm * torch.tensor(boundary0).unsqueeze(-1)\n",
    "J1 = norm * torch.tensor(boundary1).unsqueeze(-1)"
   ],
   "id": "bd1f3b59fb8aa500",
   "outputs": [
    {
     "name": "stderr",
     "output_type": "stream",
     "text": [
      "/var/folders/gj/6k0s5jts7dv8ygp7t_n5nch80000gn/T/ipykernel_35019/3734665028.py:2: UserWarning: To copy construct from a tensor, it is recommended to use sourceTensor.clone().detach() or sourceTensor.clone().detach().requires_grad_(True), rather than torch.tensor(sourceTensor).\n",
      "  ix = torch.tensor(gens)\n"
     ]
    }
   ],
   "execution_count": 129
  },
  {
   "metadata": {
    "ExecuteTime": {
     "end_time": "2024-05-02T15:10:02.753378Z",
     "start_time": "2024-05-02T15:10:02.748236Z"
    }
   },
   "cell_type": "code",
   "source": "J0.shape",
   "id": "3b4004e46698a0be",
   "outputs": [
    {
     "data": {
      "text/plain": [
       "torch.Size([1, 2, 19, 20, 4])"
      ]
     },
     "execution_count": 130,
     "metadata": {},
     "output_type": "execute_result"
    }
   ],
   "execution_count": 130
  },
  {
   "metadata": {
    "ExecuteTime": {
     "end_time": "2024-05-02T15:04:59.724993Z",
     "start_time": "2024-05-02T15:04:59.719087Z"
    }
   },
   "cell_type": "code",
   "source": "gens_birth[:, :, :, 1]",
   "id": "8890020bc92ff78d",
   "outputs": [
    {
     "data": {
      "text/plain": [
       "tensor([[[18, 13, 14, 15,  6,  2, 16,  1,  5,  8,  7,  3, 11,  9, 12,  0, 10,\n",
       "          17, 19],\n",
       "         [ 3,  6,  1,  8,  4, 11,  8,  0,  0,  0,  0,  0,  0,  0,  0,  0,  0,\n",
       "           0,  0]]])"
      ]
     },
     "execution_count": 115,
     "metadata": {},
     "output_type": "execute_result"
    }
   ],
   "execution_count": 115
  },
  {
   "metadata": {
    "ExecuteTime": {
     "end_time": "2024-05-02T15:11:38.384004Z",
     "start_time": "2024-05-02T15:11:38.376858Z"
    }
   },
   "cell_type": "code",
   "source": [
    "J = J0 + J1\n",
    "J[0, 1, 0]"
   ],
   "id": "f040f157f75dafff",
   "outputs": [
    {
     "data": {
      "text/plain": [
       "tensor([[ 0.0000,  0.0000,  0.0000,  0.0000],\n",
       "        [ 0.0000,  0.0000,  0.0000,  0.0000],\n",
       "        [ 0.0000,  0.0000,  0.0000,  0.0000],\n",
       "        [ 0.9141, -0.0181, -0.4040, -0.0284],\n",
       "        [ 0.0000,  0.0000,  0.0000,  0.0000],\n",
       "        [ 0.0000,  0.0000,  0.0000,  0.0000],\n",
       "        [ 0.0000,  0.0000,  0.0000,  0.0000],\n",
       "        [ 0.0000,  0.0000,  0.0000,  0.0000],\n",
       "        [ 0.0000,  0.0000,  0.0000,  0.0000],\n",
       "        [ 0.0000,  0.0000,  0.0000,  0.0000],\n",
       "        [-0.9141,  0.0181,  0.4040,  0.0284],\n",
       "        [ 0.0000,  0.0000,  0.0000,  0.0000],\n",
       "        [ 0.0000,  0.0000,  0.0000,  0.0000],\n",
       "        [ 0.0000,  0.0000,  0.0000,  0.0000],\n",
       "        [ 0.0000,  0.0000,  0.0000,  0.0000],\n",
       "        [ 0.0000,  0.0000,  0.0000,  0.0000],\n",
       "        [ 0.0000,  0.0000,  0.0000,  0.0000],\n",
       "        [ 0.0000,  0.0000,  0.0000,  0.0000],\n",
       "        [ 0.0000,  0.0000,  0.0000,  0.0000],\n",
       "        [ 0.0000,  0.0000,  0.0000,  0.0000]])"
      ]
     },
     "execution_count": 137,
     "metadata": {},
     "output_type": "execute_result"
    }
   ],
   "execution_count": 137
  },
  {
   "metadata": {
    "ExecuteTime": {
     "end_time": "2024-05-02T15:11:55.338410Z",
     "start_time": "2024-05-02T15:11:55.332759Z"
    }
   },
   "cell_type": "code",
   "source": "gens_birth[0, 1, 0]",
   "id": "a96f575f54b652b",
   "outputs": [
    {
     "data": {
      "text/plain": [
       "tensor([10,  3])"
      ]
     },
     "execution_count": 138,
     "metadata": {},
     "output_type": "execute_result"
    }
   ],
   "execution_count": 138
  },
  {
   "metadata": {
    "ExecuteTime": {
     "end_time": "2024-05-02T15:17:42.192021Z",
     "start_time": "2024-05-02T15:17:42.183637Z"
    }
   },
   "cell_type": "code",
   "source": [
    "Jb = J0 + J1\n",
    "\n",
    "boundary1 = boundary_matrix(gens_death[:, :, :, :1].numpy(force=True), np.arange(X.shape[1]))\n",
    "boundary0 = boundary_matrix(gens_death[:, :, :, 1:].numpy(force=True), np.arange(X.shape[1]))\n",
    "norm = normalize(batch_select(X, gens_death[:, :, :, 1]) - batch_select(X, gens_death[:, :, :, 0]), dim=-1).unsqueeze(-2)\n",
    "J0 = -norm * torch.tensor(boundary0).unsqueeze(-1)\n",
    "J1 = norm * torch.tensor(boundary1).unsqueeze(-1)\n",
    "Jd = J0 + J1"
   ],
   "id": "8b44477406422c1a",
   "outputs": [
    {
     "name": "stderr",
     "output_type": "stream",
     "text": [
      "/var/folders/gj/6k0s5jts7dv8ygp7t_n5nch80000gn/T/ipykernel_35019/3734665028.py:2: UserWarning: To copy construct from a tensor, it is recommended to use sourceTensor.clone().detach() or sourceTensor.clone().detach().requires_grad_(True), rather than torch.tensor(sourceTensor).\n",
      "  ix = torch.tensor(gens)\n"
     ]
    }
   ],
   "execution_count": 139
  },
  {
   "metadata": {
    "ExecuteTime": {
     "end_time": "2024-05-02T15:18:24.349666Z",
     "start_time": "2024-05-02T15:18:24.342616Z"
    }
   },
   "cell_type": "code",
   "source": "(Jd + Jb).sum(dim=1).sum(dim=1)",
   "id": "739b18bb1b00f6ce",
   "outputs": [
    {
     "data": {
      "text/plain": [
       "tensor([[[-0.5928,  0.2714, -0.2291,  0.5668],\n",
       "         [ 0.4789, -0.3300, -1.3250, -0.8911],\n",
       "         [ 0.1905,  0.5321, -1.0395,  0.0204],\n",
       "         [ 1.0429, -0.9780, -0.1956,  0.1075],\n",
       "         [ 0.4544,  2.0590,  1.4427,  0.1114],\n",
       "         [-0.7757,  0.9341, -2.2087, -1.3429],\n",
       "         [-0.4709, -1.2034,  0.8175,  0.4446],\n",
       "         [-0.1849,  0.0341, -0.7461,  0.6387],\n",
       "         [-2.2058,  1.3499,  0.6283,  0.8157],\n",
       "         [ 1.1856,  0.0553,  0.1972,  1.5439],\n",
       "         [-2.0584, -2.4611, -0.4054,  1.4035],\n",
       "         [-0.4308,  0.0433, -0.8031, -0.5025],\n",
       "         [ 1.9227, -1.6619,  0.4221, -0.7756],\n",
       "         [-1.3274,  0.3054,  0.4503,  0.6140],\n",
       "         [ 2.0767,  0.3900,  0.0884, -0.5182],\n",
       "         [ 0.4866, -0.2445,  0.4898, -0.1932],\n",
       "         [ 0.1782, -0.5841,  1.2706, -0.8757],\n",
       "         [ 0.2364,  0.8226, -0.1044,  0.5064],\n",
       "         [-0.4245, -0.3247,  0.7378, -0.4122],\n",
       "         [ 0.2187,  0.9904,  0.5122, -1.2614]]])"
      ]
     },
     "execution_count": 144,
     "metadata": {},
     "output_type": "execute_result"
    }
   ],
   "execution_count": 144
  },
  {
   "metadata": {
    "ExecuteTime": {
     "end_time": "2024-05-03T10:52:50.533059Z",
     "start_time": "2024-05-03T10:52:50.472820Z"
    }
   },
   "cell_type": "code",
   "source": [
    "import numpy as np\n",
    "import torch\n",
    "from functional.homology import diagrams\n",
    "\n",
    "X, Y = torch.rand((2, 10, 3)), torch.rand((2, 10, 3))\n",
    "XX, YY = torch.cdist(X, X), torch.cdist(Y, Y)\n",
    "inf_block = torch.triu(torch.full_like(XX, torch.inf), 1) + XX\n",
    "M = torch.cat([\n",
    "    torch.cat([XX, inf_block.transpose(1, 2), torch.zeros((XX.shape[0], XX.shape[1], 1))], dim=-1),\n",
    "    torch.cat([inf_block, torch.minimum(XX, YY), torch.full((XX.shape[0], XX.shape[1], 1), torch.inf)], dim=-1),\n",
    "    torch.cat([torch.zeros((XX.shape[0], 1, XX.shape[1])), torch.full((XX.shape[0], 1, XX.shape[1]), torch.inf), torch.zeros((XX.shape[0], 1, 1))], dim=-1)\n",
    "], dim=1)\n",
    "ret = [diagrams(M[b].numpy(force=True), distances=True, gens=True) for b in range(X.shape[0])]"
   ],
   "id": "6bba399b3a47f3d",
   "outputs": [],
   "execution_count": 145
  },
  {
   "metadata": {
    "ExecuteTime": {
     "end_time": "2024-05-03T10:52:52.820607Z",
     "start_time": "2024-05-03T10:52:52.807597Z"
    }
   },
   "cell_type": "code",
   "source": "M",
   "id": "9cce63306e3225a4",
   "outputs": [
    {
     "data": {
      "text/plain": [
       "tensor([[[0.0000, 0.8475, 0.8059, 1.2511, 0.4667, 0.5052, 0.6020, 1.0950,\n",
       "          0.6059, 0.5152, 0.0000, 0.8475, 0.8059, 1.2511, 0.4667, 0.5052,\n",
       "          0.6020, 1.0950, 0.6059, 0.5152, 0.0000],\n",
       "         [0.8475, 0.0000, 0.7298, 0.4177, 0.4651, 0.3820, 0.4628, 0.2770,\n",
       "          0.6245, 0.7773,    inf, 0.0000, 0.7298, 0.4177, 0.4651, 0.3820,\n",
       "          0.4628, 0.2770, 0.6245, 0.7773, 0.0000],\n",
       "         [0.8059, 0.7298, 0.0000, 0.9066, 0.4571, 0.6158, 0.6094, 0.8212,\n",
       "          0.2420, 0.6923,    inf,    inf, 0.0000, 0.9066, 0.4571, 0.6158,\n",
       "          0.6094, 0.8212, 0.2420, 0.6923, 0.0000],\n",
       "         [1.2511, 0.4177, 0.9066, 0.0000, 0.8233, 0.7708, 0.7954, 0.2072,\n",
       "          0.8943, 1.1122,    inf,    inf,    inf, 0.0000, 0.8233, 0.7708,\n",
       "          0.7954, 0.2072, 0.8943, 1.1122, 0.0000],\n",
       "         [0.4667, 0.4651, 0.4571, 0.8233, 0.0000, 0.2382, 0.2798, 0.6732,\n",
       "          0.2527, 0.4360,    inf,    inf,    inf,    inf, 0.0000, 0.2382,\n",
       "          0.2798, 0.6732, 0.2527, 0.4360, 0.0000],\n",
       "         [0.5052, 0.3820, 0.6158, 0.7708, 0.2382, 0.0000, 0.4311, 0.6458,\n",
       "          0.4657, 0.6312,    inf,    inf,    inf,    inf,    inf, 0.0000,\n",
       "          0.4311, 0.6458, 0.4657, 0.6312, 0.0000],\n",
       "         [0.6020, 0.4628, 0.6094, 0.7954, 0.2798, 0.4311, 0.0000, 0.6038,\n",
       "          0.3952, 0.3225,    inf,    inf,    inf,    inf,    inf,    inf,\n",
       "          0.0000, 0.6038, 0.3952, 0.3225, 0.0000],\n",
       "         [1.0950, 0.2770, 0.8212, 0.2072, 0.6732, 0.6458, 0.6038, 0.0000,\n",
       "          0.7621, 0.9224,    inf,    inf,    inf,    inf,    inf,    inf,\n",
       "             inf, 0.0000, 0.7621, 0.9224, 0.0000],\n",
       "         [0.6059, 0.6245, 0.2420, 0.8943, 0.2527, 0.4657, 0.3952, 0.7621,\n",
       "          0.0000, 0.4633,    inf,    inf,    inf,    inf,    inf,    inf,\n",
       "             inf,    inf, 0.0000, 0.4633, 0.0000],\n",
       "         [0.5152, 0.7773, 0.6923, 1.1122, 0.4360, 0.6312, 0.3225, 0.9224,\n",
       "          0.4633, 0.0000,    inf,    inf,    inf,    inf,    inf,    inf,\n",
       "             inf,    inf,    inf, 0.0000, 0.0000],\n",
       "         [0.0000,    inf,    inf,    inf,    inf,    inf,    inf,    inf,\n",
       "             inf,    inf, 0.0000, 0.8475, 0.5872, 0.8107, 0.4667, 0.5052,\n",
       "          0.6020, 0.3628, 0.6059, 0.5152,    inf],\n",
       "         [0.8475, 0.0000,    inf,    inf,    inf,    inf,    inf,    inf,\n",
       "             inf,    inf, 0.8475, 0.0000, 0.7298, 0.4177, 0.4651, 0.3528,\n",
       "          0.3540, 0.2770, 0.5541, 0.3885,    inf],\n",
       "         [0.8059, 0.7298, 0.0000,    inf,    inf,    inf,    inf,    inf,\n",
       "             inf,    inf, 0.5872, 0.7298, 0.0000, 0.9066, 0.4571, 0.6158,\n",
       "          0.6094, 0.4118, 0.2420, 0.6923,    inf],\n",
       "         [1.2511, 0.4177, 0.9066, 0.0000,    inf,    inf,    inf,    inf,\n",
       "             inf,    inf, 0.8107, 0.4177, 0.9066, 0.0000, 0.5542, 0.2907,\n",
       "          0.7664, 0.2072, 0.5312, 0.5349,    inf],\n",
       "         [0.4667, 0.4651, 0.4571, 0.8233, 0.0000,    inf,    inf,    inf,\n",
       "             inf,    inf, 0.4667, 0.4651, 0.4571, 0.5542, 0.0000, 0.2382,\n",
       "          0.2798, 0.5751, 0.2527, 0.4360,    inf],\n",
       "         [0.5052, 0.3820, 0.6158, 0.7708, 0.2382, 0.0000,    inf,    inf,\n",
       "             inf,    inf, 0.5052, 0.3528, 0.6158, 0.2907, 0.2382, 0.0000,\n",
       "          0.4311, 0.5650, 0.3405, 0.2888,    inf],\n",
       "         [0.6020, 0.4628, 0.6094, 0.7954, 0.2798, 0.4311, 0.0000,    inf,\n",
       "             inf,    inf, 0.6020, 0.3540, 0.6094, 0.7664, 0.2798, 0.4311,\n",
       "          0.0000, 0.6038, 0.3952, 0.3225,    inf],\n",
       "         [1.0950, 0.2770, 0.8212, 0.2072, 0.6732, 0.6458, 0.6038, 0.0000,\n",
       "             inf,    inf, 0.3628, 0.2770, 0.4118, 0.2072, 0.5751, 0.5650,\n",
       "          0.6038, 0.0000, 0.4192, 0.5175,    inf],\n",
       "         [0.6059, 0.6245, 0.2420, 0.8943, 0.2527, 0.4657, 0.3952, 0.7621,\n",
       "          0.0000,    inf, 0.6059, 0.5541, 0.2420, 0.5312, 0.2527, 0.3405,\n",
       "          0.3952, 0.4192, 0.0000, 0.1831,    inf],\n",
       "         [0.5152, 0.7773, 0.6923, 1.1122, 0.4360, 0.6312, 0.3225, 0.9224,\n",
       "          0.4633, 0.0000, 0.5152, 0.3885, 0.6923, 0.5349, 0.4360, 0.2888,\n",
       "          0.3225, 0.5175, 0.1831, 0.0000,    inf],\n",
       "         [0.0000, 0.0000, 0.0000, 0.0000, 0.0000, 0.0000, 0.0000, 0.0000,\n",
       "          0.0000, 0.0000,    inf,    inf,    inf,    inf,    inf,    inf,\n",
       "             inf,    inf,    inf,    inf, 0.0000]],\n",
       "\n",
       "        [[0.0000, 1.0515, 1.2872, 0.2139, 0.8404, 0.7913, 0.8458, 0.6491,\n",
       "          0.9120, 0.6605, 0.0000, 1.0515, 1.2872, 0.2139, 0.8404, 0.7913,\n",
       "          0.8458, 0.6491, 0.9120, 0.6605, 0.0000],\n",
       "         [1.0515, 0.0000, 0.7254, 0.9397, 0.4707, 0.5835, 0.3488, 0.6966,\n",
       "          0.1731, 0.8692,    inf, 0.0000, 0.7254, 0.9397, 0.4707, 0.5835,\n",
       "          0.3488, 0.6966, 0.1731, 0.8692, 0.0000],\n",
       "         [1.2872, 0.7254, 0.0000, 1.1611, 0.6526, 0.7178, 0.7546, 0.7318,\n",
       "          0.7954, 1.2156,    inf,    inf, 0.0000, 1.1611, 0.6526, 0.7178,\n",
       "          0.7546, 0.7318, 0.7954, 1.2156, 0.0000],\n",
       "         [0.2139, 0.9397, 1.1611, 0.0000, 0.7914, 0.7680, 0.7918, 0.6187,\n",
       "          0.7910, 0.4788,    inf,    inf,    inf, 0.0000, 0.7914, 0.7680,\n",
       "          0.7918, 0.6187, 0.7910, 0.4788, 0.0000],\n",
       "         [0.8404, 0.4707, 0.6526, 0.7914, 0.0000, 0.1185, 0.1822, 0.2859,\n",
       "          0.4855, 0.9689,    inf,    inf,    inf,    inf, 0.0000, 0.1185,\n",
       "          0.1822, 0.2859, 0.4855, 0.9689, 0.0000],\n",
       "         [0.7913, 0.5835, 0.7178, 0.7680, 0.1185, 0.0000, 0.2657, 0.2162,\n",
       "          0.5836, 1.0034,    inf,    inf,    inf,    inf,    inf, 0.0000,\n",
       "          0.2657, 0.2162, 0.5836, 1.0034, 0.0000],\n",
       "         [0.8458, 0.3488, 0.7546, 0.7918, 0.1822, 0.2657, 0.0000, 0.4193,\n",
       "          0.3556, 0.9052,    inf,    inf,    inf,    inf,    inf,    inf,\n",
       "          0.0000, 0.4193, 0.3556, 0.9052, 0.0000],\n",
       "         [0.6491, 0.6966, 0.7318, 0.6187, 0.2859, 0.2162, 0.4193, 0.0000,\n",
       "          0.6550, 0.9140,    inf,    inf,    inf,    inf,    inf,    inf,\n",
       "             inf, 0.0000, 0.6550, 0.9140, 0.0000],\n",
       "         [0.9120, 0.1731, 0.7954, 0.7910, 0.4855, 0.5836, 0.3556, 0.6550,\n",
       "          0.0000, 0.7010,    inf,    inf,    inf,    inf,    inf,    inf,\n",
       "             inf,    inf, 0.0000, 0.7010, 0.0000],\n",
       "         [0.6605, 0.8692, 1.2156, 0.4788, 0.9689, 1.0034, 0.9052, 0.9140,\n",
       "          0.7010, 0.0000,    inf,    inf,    inf,    inf,    inf,    inf,\n",
       "             inf,    inf,    inf, 0.0000, 0.0000],\n",
       "         [0.0000,    inf,    inf,    inf,    inf,    inf,    inf,    inf,\n",
       "             inf,    inf, 0.0000, 0.5702, 0.8313, 0.2139, 0.8404, 0.7913,\n",
       "          0.8458, 0.6340, 0.4086, 0.6605,    inf],\n",
       "         [1.0515, 0.0000,    inf,    inf,    inf,    inf,    inf,    inf,\n",
       "             inf,    inf, 0.5702, 0.0000, 0.4478, 0.8585, 0.4707, 0.5835,\n",
       "          0.3488, 0.5607, 0.1731, 0.3528,    inf],\n",
       "         [1.2872, 0.7254, 0.0000,    inf,    inf,    inf,    inf,    inf,\n",
       "             inf,    inf, 0.8313, 0.4478, 0.0000, 0.7143, 0.4789, 0.7178,\n",
       "          0.7546, 0.7318, 0.4604, 0.6570,    inf],\n",
       "         [0.2139, 0.9397, 1.1611, 0.0000,    inf,    inf,    inf,    inf,\n",
       "             inf,    inf, 0.2139, 0.8585, 0.7143, 0.0000, 0.6081, 0.5501,\n",
       "          0.4222, 0.6187, 0.7615, 0.4788,    inf],\n",
       "         [0.8404, 0.4707, 0.6526, 0.7914, 0.0000,    inf,    inf,    inf,\n",
       "             inf,    inf, 0.8404, 0.4707, 0.4789, 0.6081, 0.0000, 0.1185,\n",
       "          0.1822, 0.2859, 0.4855, 0.9650,    inf],\n",
       "         [0.7913, 0.5835, 0.7178, 0.7680, 0.1185, 0.0000,    inf,    inf,\n",
       "             inf,    inf, 0.7913, 0.5835, 0.7178, 0.5501, 0.1185, 0.0000,\n",
       "          0.2480, 0.2162, 0.5836, 0.9981,    inf],\n",
       "         [0.8458, 0.3488, 0.7546, 0.7918, 0.1822, 0.2657, 0.0000,    inf,\n",
       "             inf,    inf, 0.8458, 0.3488, 0.7546, 0.4222, 0.1822, 0.2480,\n",
       "          0.0000, 0.4193, 0.3556, 0.8721,    inf],\n",
       "         [0.6491, 0.6966, 0.7318, 0.6187, 0.2859, 0.2162, 0.4193, 0.0000,\n",
       "             inf,    inf, 0.6340, 0.5607, 0.7318, 0.6187, 0.2859, 0.2162,\n",
       "          0.4193, 0.0000, 0.5341, 0.5016,    inf],\n",
       "         [0.9120, 0.1731, 0.7954, 0.7910, 0.4855, 0.5836, 0.3556, 0.6550,\n",
       "          0.0000,    inf, 0.4086, 0.1731, 0.4604, 0.7615, 0.4855, 0.5836,\n",
       "          0.3556, 0.5341, 0.0000, 0.5700,    inf],\n",
       "         [0.6605, 0.8692, 1.2156, 0.4788, 0.9689, 1.0034, 0.9052, 0.9140,\n",
       "          0.7010, 0.0000, 0.6605, 0.3528, 0.6570, 0.4788, 0.9650, 0.9981,\n",
       "          0.8721, 0.5016, 0.5700, 0.0000,    inf],\n",
       "         [0.0000, 0.0000, 0.0000, 0.0000, 0.0000, 0.0000, 0.0000, 0.0000,\n",
       "          0.0000, 0.0000,    inf,    inf,    inf,    inf,    inf,    inf,\n",
       "             inf,    inf,    inf,    inf, 0.0000]]])"
      ]
     },
     "execution_count": 146,
     "metadata": {},
     "output_type": "execute_result"
    }
   ],
   "execution_count": 146
  },
  {
   "metadata": {
    "ExecuteTime": {
     "end_time": "2024-05-03T10:53:48.503882Z",
     "start_time": "2024-05-03T10:53:48.481243Z"
    }
   },
   "cell_type": "code",
   "source": [
    "dgms, gens = [drop_inf(r[0]) for r in ret], [[r[1][0], *r[1][1]] for r in ret]\n",
    "gens_tensor = gens_to_tensor(gens, fill_value=0)\n",
    "\n",
    "gens_birth, gens_death = gens_tensor[:, :, :, :-2], gens_tensor[:, :, :, -2:]\n",
    "gens"
   ],
   "id": "4f2decd205efc2b",
   "outputs": [
    {
     "data": {
      "text/plain": [
       "[[array([], shape=(0, 4), dtype=int64),\n",
       "  array([[17, 12, 19, 17],\n",
       "         [17, 10, 19, 17],\n",
       "         [16, 11, 19, 11],\n",
       "         [15, 11,  5,  1],\n",
       "         [15, 13, 13, 11],\n",
       "         [19, 15, 18, 15],\n",
       "         [19, 18, 18, 16]])],\n",
       " [array([], shape=(0, 4), dtype=int64),\n",
       "  array([[19, 17, 17, 11],\n",
       "         [12, 11,  4,  2],\n",
       "         [16, 13, 17, 13],\n",
       "         [18, 10, 17, 10],\n",
       "         [19, 11,  7,  3]])]]"
      ]
     },
     "execution_count": 147,
     "metadata": {},
     "output_type": "execute_result"
    }
   ],
   "execution_count": 147
  },
  {
   "metadata": {
    "ExecuteTime": {
     "end_time": "2024-05-03T10:56:14.034876Z",
     "start_time": "2024-05-03T10:56:14.029590Z"
    }
   },
   "cell_type": "code",
   "source": "gens_tensor.shape",
   "id": "646b574791c8f89f",
   "outputs": [
    {
     "data": {
      "text/plain": [
       "torch.Size([2, 2, 7, 4])"
      ]
     },
     "execution_count": 151,
     "metadata": {},
     "output_type": "execute_result"
    }
   ],
   "execution_count": 151
  },
  {
   "metadata": {
    "ExecuteTime": {
     "end_time": "2024-05-03T10:55:47.642458Z",
     "start_time": "2024-05-03T10:55:47.636017Z"
    }
   },
   "cell_type": "code",
   "source": [
    "gens = gens_birth\n",
    "J = torch.zeros((X.shape[0], gens.shape[1], X.shape[1] + Y.shape[1] + 1, gens.shape[2]))\n",
    "J.shape"
   ],
   "id": "181318a0606c0f18",
   "outputs": [
    {
     "data": {
      "text/plain": [
       "torch.Size([2, 2, 21, 7])"
      ]
     },
     "execution_count": 150,
     "metadata": {},
     "output_type": "execute_result"
    }
   ],
   "execution_count": 150
  },
  {
   "metadata": {
    "ExecuteTime": {
     "end_time": "2024-05-03T10:56:42.630882Z",
     "start_time": "2024-05-03T10:56:42.623827Z"
    }
   },
   "cell_type": "code",
   "source": [
    "def grad_subroutine(X: torch.Tensor, gens: torch.Tensor) -> torch.Tensor:\n",
    "    boundary1 = boundary_matrix(gens[:, :, :, :1].numpy(force=True), np.arange(X.shape[1]))\n",
    "    boundary0 = boundary_matrix(gens[:, :, :, 1:].numpy(force=True), np.arange(X.shape[1]))\n",
    "    norm = normalize(batch_select(X, gens[:, :, :, 1]) - batch_select(X, gens[:, :, :, 0]), dim=-1).unsqueeze(-2)\n",
    "    J0 = -norm * torch.tensor(boundary0).unsqueeze(-1)\n",
    "    J1 = norm * torch.tensor(boundary1).unsqueeze(-1)\n",
    "    return J0 + J1"
   ],
   "id": "f8baf14372a7bf5c",
   "outputs": [],
   "execution_count": 152
  },
  {
   "metadata": {
    "ExecuteTime": {
     "end_time": "2024-05-03T11:06:49.298014Z",
     "start_time": "2024-05-03T11:06:49.293962Z"
    }
   },
   "cell_type": "code",
   "source": "Z = torch.cat((X, Y), dim=-2)",
   "id": "d6a589f68896a066",
   "outputs": [],
   "execution_count": 177
  },
  {
   "metadata": {
    "ExecuteTime": {
     "end_time": "2024-05-03T11:10:26.324936Z",
     "start_time": "2024-05-03T11:10:26.319842Z"
    }
   },
   "cell_type": "code",
   "source": "Z.shape",
   "id": "39cae58bcfc6db5c",
   "outputs": [
    {
     "data": {
      "text/plain": [
       "torch.Size([2, 20, 3])"
      ]
     },
     "execution_count": 179,
     "metadata": {},
     "output_type": "execute_result"
    }
   ],
   "execution_count": 179
  },
  {
   "metadata": {
    "ExecuteTime": {
     "end_time": "2024-05-03T11:16:20.599857Z",
     "start_time": "2024-05-03T11:16:20.595029Z"
    }
   },
   "cell_type": "code",
   "source": [
    "def batch_select(X: torch.Tensor, ix: torch.Tensor) -> torch.Tensor:\n",
    "    dummy = ix.unsqueeze(-1).expand(*ix.shape, X.shape[-1]).squeeze(-2)\n",
    "    return torch.gather(X.detach().unsqueeze(1).repeat(1, ix.shape[1], 1, 1), 2, dummy)"
   ],
   "id": "ba253fc3e6203e99",
   "outputs": [],
   "execution_count": 190
  },
  {
   "metadata": {
    "ExecuteTime": {
     "end_time": "2024-05-03T11:15:39.065351Z",
     "start_time": "2024-05-03T11:15:39.059247Z"
    }
   },
   "cell_type": "code",
   "source": "Z.detach().unsqueeze(-3).repeat(1, gens.shape[1], 1, 1).shape",
   "id": "fc2fb13a8e053a9d",
   "outputs": [
    {
     "data": {
      "text/plain": [
       "torch.Size([2, 2, 20, 3])"
      ]
     },
     "execution_count": 189,
     "metadata": {},
     "output_type": "execute_result"
    }
   ],
   "execution_count": 189
  },
  {
   "metadata": {
    "ExecuteTime": {
     "end_time": "2024-05-03T11:17:28.617612Z",
     "start_time": "2024-05-03T11:17:28.611713Z"
    }
   },
   "cell_type": "code",
   "source": "XX[:, :, :, 1]",
   "id": "cbd35209f2fa96f8",
   "outputs": [
    {
     "data": {
      "text/plain": [
       "tensor([[[0, 0, 0, 0, 0, 0, 0],\n",
       "         [0, 0, 1, 1, 1, 1, 0]],\n",
       "\n",
       "        [[0, 0, 0, 0, 0, 0, 0],\n",
       "         [1, 1, 1, 0, 1, 0, 0]]])"
      ]
     },
     "execution_count": 196,
     "metadata": {},
     "output_type": "execute_result"
    }
   ],
   "execution_count": 196
  },
  {
   "metadata": {
    "ExecuteTime": {
     "end_time": "2024-05-03T12:04:28.025687Z",
     "start_time": "2024-05-03T12:04:28.018610Z"
    }
   },
   "cell_type": "code",
   "source": [
    "XX = gens % X.shape[0]\n",
    "# torch.all(gens < X.shape[0], dim=-1).unsqueeze(-1).repeat(1, 1, 1, 2)\n",
    "X_normed = normalize(batch_select(Z, XX[:, :, :, 1]) - batch_select(Z, XX[:, :, :, 0]), dim=-1)\n",
    "X_normed.shape"
   ],
   "id": "d49317f3281934e2",
   "outputs": [
    {
     "data": {
      "text/plain": [
       "torch.Size([2, 2, 7, 3])"
      ]
     },
     "execution_count": 203,
     "metadata": {},
     "output_type": "execute_result"
    }
   ],
   "execution_count": 203
  },
  {
   "metadata": {
    "ExecuteTime": {
     "end_time": "2024-05-03T12:04:32.823934Z",
     "start_time": "2024-05-03T12:04:32.817007Z"
    }
   },
   "cell_type": "code",
   "source": [
    "YY = gens % X.shape[0] + X.shape[0]\n",
    "Y_normed = normalize(batch_select(Z, YY[:, :, :, 1]) - batch_select(Z, YY[:, :, :, 0]), dim=-1)\n",
    "Y_normed.shape"
   ],
   "id": "afe9d5274752dcb4",
   "outputs": [
    {
     "data": {
      "text/plain": [
       "torch.Size([2, 2, 7, 3])"
      ]
     },
     "execution_count": 204,
     "metadata": {},
     "output_type": "execute_result"
    }
   ],
   "execution_count": 204
  },
  {
   "metadata": {
    "ExecuteTime": {
     "end_time": "2024-05-03T12:06:03.048042Z",
     "start_time": "2024-05-03T12:06:03.042245Z"
    }
   },
   "cell_type": "code",
   "source": [
    "# gensXY = gens[(gens[:, :, :, 0] < X.shape[0]) & (gens[:, :, :, 1] < 2 * X.shape[0])]\n",
    "# JXY = grad_subroutine(X, torch.cat((gensXY[:, :, :, 0], gensXY[:, :, :, 1] - X.shape[0]), dim=-1))\n",
    "# J += torch.scatter(J, 0, gensXY, JXY)\n",
    "Xnorm = torch.norm(batch_select(Z, XX[:, :, :, 1]) - batch_select(Z, XX[:, :, :, 0]))\n",
    "Ynorm = torch.norm(batch_select(Z, YY[:, :, :, 1]) - batch_select(Z, YY[:, :, :, 0]))\n",
    "# gensYYX, gensYYY = gensYY[Xnorm <= Ynorm], gensYY[Xnorm > Ynorm]"
   ],
   "id": "be0d28b67010a964",
   "outputs": [],
   "execution_count": 205
  },
  {
   "metadata": {
    "ExecuteTime": {
     "end_time": "2024-05-03T12:09:11.503979Z",
     "start_time": "2024-05-03T12:09:11.497419Z"
    }
   },
   "cell_type": "code",
   "source": "torch.all((X.shape[1] <= gens) & (gens < 2 * X.shape[1]), dim=-1)",
   "id": "6325ea8be929b437",
   "outputs": [
    {
     "data": {
      "text/plain": [
       "tensor([[[False, False, False, False, False, False, False],\n",
       "         [ True,  True,  True,  True,  True,  True,  True]],\n",
       "\n",
       "        [[False, False, False, False, False, False, False],\n",
       "         [ True,  True,  True,  True,  True, False, False]]])"
      ]
     },
     "execution_count": 212,
     "metadata": {},
     "output_type": "execute_result"
    }
   ],
   "execution_count": 212
  },
  {
   "metadata": {
    "ExecuteTime": {
     "end_time": "2024-05-03T12:10:21.799627Z",
     "start_time": "2024-05-03T12:10:21.791819Z"
    }
   },
   "cell_type": "code",
   "source": "((Xnorm <= Ynorm) * X_normed + (X_normed > Y_normed) * Y_normed) * (torch.all((X.shape[1] <= gens) & (gens < 2 * X.shape[1]), dim=-1).unsqueeze(-1))",
   "id": "c7d851b25d88465a",
   "outputs": [
    {
     "data": {
      "text/plain": [
       "tensor([[[[ 0.0000,  0.0000,  0.0000],\n",
       "          [ 0.0000,  0.0000,  0.0000],\n",
       "          [ 0.0000,  0.0000,  0.0000],\n",
       "          [ 0.0000,  0.0000,  0.0000],\n",
       "          [ 0.0000,  0.0000,  0.0000],\n",
       "          [ 0.0000,  0.0000,  0.0000],\n",
       "          [ 0.0000,  0.0000,  0.0000]],\n",
       "\n",
       "         [[-0.5500, -1.4965, -0.5871],\n",
       "          [-0.5500, -1.4965, -0.5871],\n",
       "          [ 0.6307,  0.5940,  1.0102],\n",
       "          [ 0.0000,  0.0000,  0.0000],\n",
       "          [ 0.0000,  0.0000,  0.0000],\n",
       "          [ 0.0000,  0.0000,  0.0000],\n",
       "          [-0.5500, -1.4965, -0.5871]]],\n",
       "\n",
       "\n",
       "        [[[ 0.0000,  0.0000,  0.0000],\n",
       "          [ 0.0000,  0.0000,  0.0000],\n",
       "          [ 0.0000,  0.0000,  0.0000],\n",
       "          [ 0.0000,  0.0000,  0.0000],\n",
       "          [ 0.0000,  0.0000,  0.0000],\n",
       "          [ 0.0000,  0.0000,  0.0000],\n",
       "          [ 0.0000,  0.0000,  0.0000]],\n",
       "\n",
       "         [[ 0.0000,  0.0000,  0.0000],\n",
       "          [ 0.0776, -0.8682, -0.5811],\n",
       "          [ 0.0776, -0.8682, -0.5811],\n",
       "          [ 0.0000,  0.0000,  0.0000],\n",
       "          [ 0.0000,  0.0000,  0.0000],\n",
       "          [ 0.0000,  0.0000,  0.0000],\n",
       "          [ 0.0000,  0.0000,  0.0000]]]])"
      ]
     },
     "execution_count": 216,
     "metadata": {},
     "output_type": "execute_result"
    }
   ],
   "execution_count": 216
  },
  {
   "metadata": {
    "ExecuteTime": {
     "end_time": "2024-05-03T12:12:39.806734Z",
     "start_time": "2024-05-03T12:12:39.798699Z"
    }
   },
   "cell_type": "code",
   "source": "torch.all((X.shape[1] > gens[:, :, :, :1]) & (X.shape[1] <= gens[:, :, :, 1:]) & (gens[:, :, :, 1:] < 2 * X.shape[1]), dim=-1).unsqueeze(-1)",
   "id": "23f442a6394b99c3",
   "outputs": [
    {
     "data": {
      "text/plain": [
       "tensor([[[[False],\n",
       "          [False],\n",
       "          [False],\n",
       "          [False],\n",
       "          [False],\n",
       "          [False],\n",
       "          [False]],\n",
       "\n",
       "         [[False],\n",
       "          [False],\n",
       "          [False],\n",
       "          [False],\n",
       "          [False],\n",
       "          [False],\n",
       "          [False]]],\n",
       "\n",
       "\n",
       "        [[[False],\n",
       "          [False],\n",
       "          [False],\n",
       "          [False],\n",
       "          [False],\n",
       "          [False],\n",
       "          [False]],\n",
       "\n",
       "         [[False],\n",
       "          [False],\n",
       "          [False],\n",
       "          [False],\n",
       "          [False],\n",
       "          [False],\n",
       "          [False]]]])"
      ]
     },
     "execution_count": 222,
     "metadata": {},
     "output_type": "execute_result"
    }
   ],
   "execution_count": 222
  },
  {
   "metadata": {
    "ExecuteTime": {
     "end_time": "2024-05-03T12:13:57.443998Z",
     "start_time": "2024-05-03T12:13:57.436554Z"
    }
   },
   "cell_type": "code",
   "source": "X_normed * (torch.all((X.shape[1] > gens[:, :, :, :1]) & (gens[:, :, :, 1:] < 2 * X.shape[1]), dim=-1).unsqueeze(-1))",
   "id": "ed6453eeb5bff0df",
   "outputs": [
    {
     "data": {
      "text/plain": [
       "tensor([[[[0., 0., 0.],\n",
       "          [0., 0., 0.],\n",
       "          [0., 0., 0.],\n",
       "          [0., 0., 0.],\n",
       "          [0., 0., 0.],\n",
       "          [0., 0., 0.],\n",
       "          [0., 0., 0.]],\n",
       "\n",
       "         [[-0., -0., -0.],\n",
       "          [-0., -0., -0.],\n",
       "          [0., 0., 0.],\n",
       "          [0., 0., 0.],\n",
       "          [0., 0., 0.],\n",
       "          [0., 0., 0.],\n",
       "          [-0., -0., -0.]]],\n",
       "\n",
       "\n",
       "        [[[0., 0., 0.],\n",
       "          [0., 0., 0.],\n",
       "          [0., 0., 0.],\n",
       "          [0., 0., 0.],\n",
       "          [0., 0., 0.],\n",
       "          [0., 0., 0.],\n",
       "          [0., 0., 0.]],\n",
       "\n",
       "         [[0., 0., 0.],\n",
       "          [0., -0., 0.],\n",
       "          [0., -0., 0.],\n",
       "          [0., 0., 0.],\n",
       "          [0., 0., 0.],\n",
       "          [0., 0., 0.],\n",
       "          [0., 0., 0.]]]])"
      ]
     },
     "execution_count": 224,
     "metadata": {},
     "output_type": "execute_result"
    }
   ],
   "execution_count": 224
  },
  {
   "metadata": {},
   "cell_type": "code",
   "outputs": [],
   "execution_count": null,
   "source": "",
   "id": "6ce752466089f3db"
  },
  {
   "metadata": {
    "ExecuteTime": {
     "end_time": "2024-05-03T11:06:12.904632Z",
     "start_time": "2024-05-03T11:06:12.894077Z"
    }
   },
   "cell_type": "code",
   "source": "torch.nn.functional.normalize(torch.full((1, 3), torch.inf))",
   "id": "dbfee68d68d34d96",
   "outputs": [
    {
     "data": {
      "text/plain": [
       "tensor([[nan, nan, nan]])"
      ]
     },
     "execution_count": 175,
     "metadata": {},
     "output_type": "execute_result"
    }
   ],
   "execution_count": 175
  },
  {
   "metadata": {
    "ExecuteTime": {
     "end_time": "2024-05-03T10:57:17.709686Z",
     "start_time": "2024-05-03T10:57:17.692754Z"
    }
   },
   "cell_type": "code",
   "source": "gens[torch.all(gens < X.shape[0], dim=-1)]",
   "id": "322b47636a19b607",
   "outputs": [
    {
     "data": {
      "text/plain": [
       "tensor([[0, 0],\n",
       "        [0, 0],\n",
       "        [0, 0],\n",
       "        [0, 0],\n",
       "        [0, 0],\n",
       "        [0, 0],\n",
       "        [0, 0],\n",
       "        [0, 0],\n",
       "        [0, 0],\n",
       "        [0, 0],\n",
       "        [0, 0],\n",
       "        [0, 0],\n",
       "        [0, 0],\n",
       "        [0, 0],\n",
       "        [0, 0],\n",
       "        [0, 0]])"
      ]
     },
     "execution_count": 153,
     "metadata": {},
     "output_type": "execute_result"
    }
   ],
   "execution_count": 153
  },
  {
   "metadata": {
    "ExecuteTime": {
     "end_time": "2024-05-03T10:57:50.981664Z",
     "start_time": "2024-05-03T10:57:50.862989Z"
    }
   },
   "cell_type": "code",
   "source": [
    "gensXX = gens[torch.all(gens < X.shape[0], dim=-1)]\n",
    "JXX = grad_subroutine(X, gensXX)\n",
    "JXX"
   ],
   "id": "48e2092e56199a32",
   "outputs": [
    {
     "ename": "IndexError",
     "evalue": "too many indices for tensor of dimension 2",
     "output_type": "error",
     "traceback": [
      "\u001B[0;31m---------------------------------------------------------------------------\u001B[0m",
      "\u001B[0;31mIndexError\u001B[0m                                Traceback (most recent call last)",
      "Cell \u001B[0;32mIn[155], line 2\u001B[0m\n\u001B[1;32m      1\u001B[0m gensXX \u001B[38;5;241m=\u001B[39m gens[torch\u001B[38;5;241m.\u001B[39mall(gens \u001B[38;5;241m<\u001B[39m X\u001B[38;5;241m.\u001B[39mshape[\u001B[38;5;241m0\u001B[39m], dim\u001B[38;5;241m=\u001B[39m\u001B[38;5;241m-\u001B[39m\u001B[38;5;241m1\u001B[39m)]\n\u001B[0;32m----> 2\u001B[0m JXX \u001B[38;5;241m=\u001B[39m \u001B[43mgrad_subroutine\u001B[49m\u001B[43m(\u001B[49m\u001B[43mX\u001B[49m\u001B[43m,\u001B[49m\u001B[43m \u001B[49m\u001B[43mgensXX\u001B[49m\u001B[43m)\u001B[49m\n\u001B[1;32m      3\u001B[0m JXX\n",
      "Cell \u001B[0;32mIn[152], line 2\u001B[0m, in \u001B[0;36mgrad_subroutine\u001B[0;34m(X, gens)\u001B[0m\n\u001B[1;32m      1\u001B[0m \u001B[38;5;28;01mdef\u001B[39;00m \u001B[38;5;21mgrad_subroutine\u001B[39m(X: torch\u001B[38;5;241m.\u001B[39mTensor, gens: torch\u001B[38;5;241m.\u001B[39mTensor) \u001B[38;5;241m-\u001B[39m\u001B[38;5;241m>\u001B[39m torch\u001B[38;5;241m.\u001B[39mTensor:\n\u001B[0;32m----> 2\u001B[0m     boundary1 \u001B[38;5;241m=\u001B[39m boundary_matrix(\u001B[43mgens\u001B[49m\u001B[43m[\u001B[49m\u001B[43m:\u001B[49m\u001B[43m,\u001B[49m\u001B[43m \u001B[49m\u001B[43m:\u001B[49m\u001B[43m,\u001B[49m\u001B[43m \u001B[49m\u001B[43m:\u001B[49m\u001B[43m,\u001B[49m\u001B[43m \u001B[49m\u001B[43m:\u001B[49m\u001B[38;5;241;43m1\u001B[39;49m\u001B[43m]\u001B[49m\u001B[38;5;241m.\u001B[39mnumpy(force\u001B[38;5;241m=\u001B[39m\u001B[38;5;28;01mTrue\u001B[39;00m), np\u001B[38;5;241m.\u001B[39marange(X\u001B[38;5;241m.\u001B[39mshape[\u001B[38;5;241m1\u001B[39m]))\n\u001B[1;32m      3\u001B[0m     boundary0 \u001B[38;5;241m=\u001B[39m boundary_matrix(gens[:, :, :, \u001B[38;5;241m1\u001B[39m:]\u001B[38;5;241m.\u001B[39mnumpy(force\u001B[38;5;241m=\u001B[39m\u001B[38;5;28;01mTrue\u001B[39;00m), np\u001B[38;5;241m.\u001B[39marange(X\u001B[38;5;241m.\u001B[39mshape[\u001B[38;5;241m1\u001B[39m]))\n\u001B[1;32m      4\u001B[0m     norm \u001B[38;5;241m=\u001B[39m normalize(batch_select(X, gens[:, :, :, \u001B[38;5;241m1\u001B[39m]) \u001B[38;5;241m-\u001B[39m batch_select(X, gens[:, :, :, \u001B[38;5;241m0\u001B[39m]), dim\u001B[38;5;241m=\u001B[39m\u001B[38;5;241m-\u001B[39m\u001B[38;5;241m1\u001B[39m)\u001B[38;5;241m.\u001B[39munsqueeze(\u001B[38;5;241m-\u001B[39m\u001B[38;5;241m2\u001B[39m)\n",
      "\u001B[0;31mIndexError\u001B[0m: too many indices for tensor of dimension 2"
     ]
    }
   ],
   "execution_count": 155
  },
  {
   "metadata": {},
   "cell_type": "code",
   "outputs": [],
   "execution_count": null,
   "source": "J += torch.scatter(J, 0, gensXX, JXX)",
   "id": "da1230df3144af81"
  },
  {
   "metadata": {
    "ExecuteTime": {
     "end_time": "2024-05-03T12:28:13.066233Z",
     "start_time": "2024-05-03T12:28:13.053687Z"
    }
   },
   "cell_type": "code",
   "source": [
    "def cross_grad_subroutine(X: torch.Tensor, Y: torch.Tensor, gens: torch.Tensor) -> torch.Tensor:\n",
    "    Z = torch.cat((X, Y), dim=-2)\n",
    "    boundary1 = boundary_matrix(gens[:, :, :, :1].numpy(force=True), np.arange(Z.shape[1] + 1))\n",
    "    boundary0 = boundary_matrix(gens[:, :, :, 1:].numpy(force=True), np.arange(Z.shape[1] + 1))\n",
    "\n",
    "    XX = gens % X.shape[0]\n",
    "    X_normed = normalize(batch_select(Z, XX[:, :, :, 1]) - batch_select(Z, XX[:, :, :, 0]), dim=-1)\n",
    "    YY = gens % X.shape[0] + X.shape[0]\n",
    "    Y_normed = normalize(batch_select(Z, YY[:, :, :, 1]) - batch_select(Z, YY[:, :, :, 0]), dim=-1)\n",
    "    Xnorm = torch.norm(batch_select(Z, XX[:, :, :, 1]) - batch_select(Z, XX[:, :, :, 0]))\n",
    "    Ynorm = torch.norm(batch_select(Z, YY[:, :, :, 1]) - batch_select(Z, YY[:, :, :, 0]))\n",
    "    JYY = ((Xnorm <= Ynorm) * X_normed + (X_normed > Y_normed) * Y_normed) * torch.all((X.shape[1] <= gens) & (gens < 2 * X.shape[1]), dim=-1).unsqueeze(-1)\n",
    "    JXXY = X_normed * torch.all((X.shape[1] > gens[:, :, :, :1]) & (gens[:, :, :, 1:] < 2 * X.shape[1]), dim=-1).unsqueeze(-1)\n",
    "\n",
    "    J0 = -(JYY + JXXY).unsqueeze(-2) * torch.tensor(boundary0).unsqueeze(-1)\n",
    "    J1 = (JYY + JXXY).unsqueeze(-2) * torch.tensor(boundary1).unsqueeze(-1)\n",
    "    return J0 + J1"
   ],
   "id": "ffa752d5915e7351",
   "outputs": [],
   "execution_count": 236
  },
  {
   "metadata": {
    "ExecuteTime": {
     "end_time": "2024-05-03T12:24:49.350498Z",
     "start_time": "2024-05-03T12:24:49.340285Z"
    }
   },
   "cell_type": "code",
   "source": "X",
   "id": "67058c666707b716",
   "outputs": [
    {
     "data": {
      "text/plain": [
       "tensor([[[2.6840e-02, 2.5122e-01, 1.7465e-01],\n",
       "         [4.9297e-01, 7.5462e-01, 6.7228e-01],\n",
       "         [7.3086e-01, 8.0014e-02, 5.2756e-01],\n",
       "         [8.0408e-01, 8.9828e-01, 9.1109e-01],\n",
       "         [3.6583e-01, 3.5090e-01, 4.7961e-01],\n",
       "         [3.7979e-01, 5.5890e-01, 3.6436e-01],\n",
       "         [2.3528e-01, 3.7398e-01, 7.2595e-01],\n",
       "         [6.2327e-01, 7.9709e-01, 9.1305e-01],\n",
       "         [4.9785e-01, 1.4424e-01, 5.4041e-01],\n",
       "         [5.4199e-02, 1.1296e-01, 6.7022e-01]],\n",
       "\n",
       "        [[2.4599e-01, 9.9228e-01, 2.0872e-01],\n",
       "         [7.6543e-01, 7.9373e-02, 2.5754e-01],\n",
       "         [6.4467e-01, 3.5094e-02, 9.7140e-01],\n",
       "         [1.6117e-01, 7.9888e-01, 2.4277e-01],\n",
       "         [8.2537e-01, 4.6742e-01, 5.1712e-01],\n",
       "         [8.3253e-01, 5.8205e-01, 5.4622e-01],\n",
       "         [8.4203e-01, 4.0801e-01, 3.4573e-01],\n",
       "         [6.4442e-01, 6.6971e-01, 6.0695e-01],\n",
       "         [6.3397e-01, 1.6715e-01, 1.8709e-01],\n",
       "         [8.1015e-04, 4.1153e-01, 1.1509e-02]]])"
      ]
     },
     "execution_count": 226,
     "metadata": {},
     "output_type": "execute_result"
    }
   ],
   "execution_count": 226
  },
  {
   "metadata": {
    "ExecuteTime": {
     "end_time": "2024-05-03T12:25:00.292684Z",
     "start_time": "2024-05-03T12:25:00.280753Z"
    }
   },
   "cell_type": "code",
   "source": [
    "XX, YY = torch.cdist(X, X), torch.cdist(Y, Y)\n",
    "inf_block = torch.triu(torch.full_like(XX, torch.inf), 1) + XX\n",
    "M = torch.cat([\n",
    "    torch.cat([XX, inf_block.transpose(1, 2), torch.zeros((XX.shape[0], XX.shape[1], 1))], dim=-1),\n",
    "    torch.cat([inf_block, torch.minimum(XX, YY), torch.full((XX.shape[0], XX.shape[1], 1), torch.inf)], dim=-1),\n",
    "    torch.cat([torch.zeros((XX.shape[0], 1, XX.shape[1])), torch.full((XX.shape[0], 1, XX.shape[1]), torch.inf), torch.zeros((XX.shape[0], 1, 1))], dim=-1)\n",
    "], dim=1)\n",
    "ret = [diagrams(M[b].numpy(force=True), distances=True, gens=True) for b in range(X.shape[0])]"
   ],
   "id": "dd2fc8f7339b4d5b",
   "outputs": [],
   "execution_count": 227
  },
  {
   "metadata": {
    "ExecuteTime": {
     "end_time": "2024-05-03T12:28:17.032611Z",
     "start_time": "2024-05-03T12:28:17.026402Z"
    }
   },
   "cell_type": "code",
   "source": [
    "dgms, gens = [drop_inf(r[0]) for r in ret], [[r[1][0], *r[1][1]] for r in ret]\n",
    "dgms_tensor, gens_tensor = diagrams_to_tensor(dgms, requires_grad=False), gens_to_tensor(gens, fill_value=0)\n",
    "\n",
    "gens_birth, gens_death = gens_tensor[:, :, :, :-2], gens_tensor[:, :, :, -2:]"
   ],
   "id": "5a09b651813cc674",
   "outputs": [],
   "execution_count": 237
  },
  {
   "metadata": {
    "ExecuteTime": {
     "end_time": "2024-05-03T12:26:40.848856Z",
     "start_time": "2024-05-03T12:26:40.836889Z"
    }
   },
   "cell_type": "code",
   "source": "gens_birth.sort()",
   "id": "e9428b29b008f38b",
   "outputs": [
    {
     "data": {
      "text/plain": [
       "torch.return_types.sort(\n",
       "values=tensor([[[[ 0,  0],\n",
       "          [ 0,  0],\n",
       "          [ 0,  0],\n",
       "          [ 0,  0],\n",
       "          [ 0,  0],\n",
       "          [ 0,  0],\n",
       "          [ 0,  0]],\n",
       "\n",
       "         [[12, 17],\n",
       "          [10, 17],\n",
       "          [11, 16],\n",
       "          [11, 15],\n",
       "          [13, 15],\n",
       "          [15, 19],\n",
       "          [18, 19]]],\n",
       "\n",
       "\n",
       "        [[[ 0,  0],\n",
       "          [ 0,  0],\n",
       "          [ 0,  0],\n",
       "          [ 0,  0],\n",
       "          [ 0,  0],\n",
       "          [ 0,  0],\n",
       "          [ 0,  0]],\n",
       "\n",
       "         [[17, 19],\n",
       "          [11, 12],\n",
       "          [13, 16],\n",
       "          [10, 18],\n",
       "          [11, 19],\n",
       "          [ 0,  0],\n",
       "          [ 0,  0]]]]),\n",
       "indices=tensor([[[[0, 1],\n",
       "          [0, 1],\n",
       "          [0, 1],\n",
       "          [0, 1],\n",
       "          [0, 1],\n",
       "          [0, 1],\n",
       "          [0, 1]],\n",
       "\n",
       "         [[1, 0],\n",
       "          [1, 0],\n",
       "          [1, 0],\n",
       "          [1, 0],\n",
       "          [1, 0],\n",
       "          [1, 0],\n",
       "          [1, 0]]],\n",
       "\n",
       "\n",
       "        [[[0, 1],\n",
       "          [0, 1],\n",
       "          [0, 1],\n",
       "          [0, 1],\n",
       "          [0, 1],\n",
       "          [0, 1],\n",
       "          [0, 1]],\n",
       "\n",
       "         [[1, 0],\n",
       "          [1, 0],\n",
       "          [1, 0],\n",
       "          [1, 0],\n",
       "          [1, 0],\n",
       "          [0, 1],\n",
       "          [0, 1]]]]))"
      ]
     },
     "execution_count": 232,
     "metadata": {},
     "output_type": "execute_result"
    }
   ],
   "execution_count": 232
  },
  {
   "metadata": {
    "ExecuteTime": {
     "end_time": "2024-05-03T12:28:19.881818Z",
     "start_time": "2024-05-03T12:28:19.873929Z"
    }
   },
   "cell_type": "code",
   "source": [
    "gens_birth.sort()\n",
    "gens_death.sort()\n",
    "Jb = cross_grad_subroutine(X, Y, gens_birth)\n",
    "Jd = cross_grad_subroutine(X, Y, gens_death)"
   ],
   "id": "7cdf36d2399f0338",
   "outputs": [
    {
     "name": "stdout",
     "output_type": "stream",
     "text": [
      "torch.Size([2, 2, 7, 3]) torch.Size([2, 2, 7, 3]) (2, 2, 7, 21) (2, 2, 7, 21)\n",
      "torch.Size([2, 2, 7, 3]) torch.Size([2, 2, 7, 3]) (2, 2, 7, 21) (2, 2, 7, 21)\n"
     ]
    }
   ],
   "execution_count": 238
  },
  {
   "metadata": {
    "ExecuteTime": {
     "end_time": "2024-05-03T12:33:44.639998Z",
     "start_time": "2024-05-03T12:33:44.631869Z"
    }
   },
   "cell_type": "code",
   "source": [
    "J = (Jd + Jb).sum(dim=1).sum(dim=1)\n",
    "J[:, :X.shape[0]], J[:, X.shape[0]:-1]"
   ],
   "id": "d6afbf002630e7f7",
   "outputs": [
    {
     "data": {
      "text/plain": [
       "(tensor([[[0., 0., 0.],\n",
       "          [0., 0., 0.]],\n",
       " \n",
       "         [[0., 0., 0.],\n",
       "          [0., 0., 0.]]]),\n",
       " tensor([[[ 0.0000,  0.0000,  0.0000],\n",
       "          [ 0.0000,  0.0000,  0.0000],\n",
       "          [ 0.0000,  0.0000,  0.0000],\n",
       "          [ 0.0000,  0.0000,  0.0000],\n",
       "          [ 0.0000,  0.0000,  0.0000],\n",
       "          [ 0.0000,  0.0000,  0.0000],\n",
       "          [ 0.0000,  0.0000,  0.0000],\n",
       "          [ 0.0000,  0.0000,  0.0000],\n",
       "          [ 0.5500,  1.4965,  0.5871],\n",
       "          [-0.6307, -0.5940, -1.0102],\n",
       "          [ 0.5500,  1.4965,  0.5871],\n",
       "          [ 0.0000,  0.0000,  0.0000],\n",
       "          [ 0.0000,  0.0000,  0.0000],\n",
       "          [-0.6307, -0.5940, -1.0102],\n",
       "          [ 0.6307,  0.5940,  1.0102],\n",
       "          [-1.1000, -2.9929, -1.1743],\n",
       "          [ 1.1807,  2.0904,  1.5973],\n",
       "          [-0.5500, -1.4965, -0.5871]],\n",
       " \n",
       "         [[ 0.0000,  0.0000,  0.0000],\n",
       "          [ 0.0000,  0.0000,  0.0000],\n",
       "          [ 0.0000,  0.0000,  0.0000],\n",
       "          [ 0.0000,  0.0000,  0.0000],\n",
       "          [ 0.0000,  0.0000,  0.0000],\n",
       "          [ 0.0000,  0.0000,  0.0000],\n",
       "          [ 0.0000,  0.0000,  0.0000],\n",
       "          [ 0.0000,  0.0000,  0.0000],\n",
       "          [ 0.4940, -0.2104,  0.0464],\n",
       "          [-0.0776,  0.8682,  0.5811],\n",
       "          [ 0.0776, -0.8682, -0.5811],\n",
       "          [-0.0776,  0.8682,  0.5811],\n",
       "          [ 0.0000,  0.0000,  0.0000],\n",
       "          [ 0.0000,  0.0000,  0.0000],\n",
       "          [ 0.0776, -0.8682, -0.5811],\n",
       "          [-0.4940,  0.2104, -0.0464],\n",
       "          [ 0.0000,  0.0000,  0.0000],\n",
       "          [ 0.0000,  0.0000,  0.0000]]]))"
      ]
     },
     "execution_count": 243,
     "metadata": {},
     "output_type": "execute_result"
    }
   ],
   "execution_count": 243
  },
  {
   "metadata": {
    "ExecuteTime": {
     "end_time": "2024-05-04T07:03:32.536597Z",
     "start_time": "2024-05-04T07:03:30.740460Z"
    }
   },
   "cell_type": "code",
   "source": [
    "import numpy as np\n",
    "import gudhi as gd\n",
    "\n",
    "image = np.random.randn(3, 4, 5)"
   ],
   "id": "9ee8834a0c8c822a",
   "outputs": [],
   "execution_count": 1
  },
  {
   "metadata": {
    "ExecuteTime": {
     "end_time": "2024-05-04T07:08:59.132634Z",
     "start_time": "2024-05-04T07:08:59.123806Z"
    }
   },
   "cell_type": "code",
   "source": "image",
   "id": "e03b94a350bb94cc",
   "outputs": [
    {
     "data": {
      "text/plain": [
       "array([[[-1.09339157, -0.05570947, -1.09945945, -0.13949959,\n",
       "          0.76180344],\n",
       "        [-0.71850734,  1.41897674, -0.04368329,  0.04951572,\n",
       "         -0.23245784],\n",
       "        [ 0.52294593, -1.66958524,  0.21220995,  0.63077788,\n",
       "         -1.20341585],\n",
       "        [-0.36083429,  1.12797683, -0.75196499, -0.67847315,\n",
       "         -0.46731045]],\n",
       "\n",
       "       [[ 1.24797946, -0.10136017, -0.68942729, -0.4709564 ,\n",
       "          0.43289292],\n",
       "        [ 0.1641202 ,  0.17778304,  0.2825157 , -0.1605319 ,\n",
       "          0.77389963],\n",
       "        [-0.2211865 , -1.05962684, -0.15067392,  0.53626729,\n",
       "          0.62235003],\n",
       "        [-1.49650804,  0.74228548, -0.42473942,  0.11401305,\n",
       "         -1.04786836]],\n",
       "\n",
       "       [[ 1.37585486,  0.04120063, -1.3921501 ,  0.40755423,\n",
       "          0.80592876],\n",
       "        [-0.19594017,  0.20166782, -0.97877864, -1.99817797,\n",
       "         -0.51531589],\n",
       "        [-0.78746784,  0.43480311,  0.59210004, -1.8561321 ,\n",
       "         -0.32893349],\n",
       "        [-0.23711509,  0.86996393, -0.90367346, -1.49067626,\n",
       "          0.01602316]]])"
      ]
     },
     "execution_count": 2,
     "metadata": {},
     "output_type": "execute_result"
    }
   ],
   "execution_count": 2
  },
  {
   "metadata": {
    "ExecuteTime": {
     "end_time": "2024-05-04T07:11:28.702766Z",
     "start_time": "2024-05-04T07:11:28.697857Z"
    }
   },
   "cell_type": "code",
   "source": "c = gd.CubicalComplex(vertices=image)",
   "id": "f1891b9ddb0b5698",
   "outputs": [],
   "execution_count": 3
  },
  {
   "metadata": {
    "ExecuteTime": {
     "end_time": "2024-05-04T07:11:58.443577Z",
     "start_time": "2024-05-04T07:11:58.436174Z"
    }
   },
   "cell_type": "code",
   "source": [
    "ret = c.persistence()\n",
    "ret"
   ],
   "id": "c43fd9fb71ba94b9",
   "outputs": [
    {
     "data": {
      "text/plain": [
       "[(1, (0.1641201970555368, 1.247979464467818)),\n",
       " (1, (0.049515722352663875, 0.6307778805565699)),\n",
       " (1, (-0.16053190382509688, 0.2825157028778877)),\n",
       " (1, (0.1777830392065117, 0.5362672890498609)),\n",
       " (1, (0.016023161562854434, 0.114013054474488)),\n",
       " (1, (0.2122099494344993, 0.2825157028778877)),\n",
       " (0, (-1.9981779667589703, inf)),\n",
       " (0, (-1.6695852359560355, -0.15067392113281913)),\n",
       " (0, (-1.496508038843792, -0.22118649918292627)),\n",
       " (0, (-1.0933915735773376, -0.055709469338955035)),\n",
       " (0, (-1.203415848379495, -0.4247394235440138)),\n",
       " (0, (-1.0478683607102353, -0.46731044713307884)),\n",
       " (0, (-0.7874678448783485, -0.23711508863981806)),\n",
       " (0, (-1.3921500957668813, -0.9787786357441106)),\n",
       " (0, (-1.099459454899001, -0.6894272859580431)),\n",
       " (0, (-0.7519649902038066, -0.46731044713307884))]"
      ]
     },
     "execution_count": 4,
     "metadata": {},
     "output_type": "execute_result"
    }
   ],
   "execution_count": 4
  },
  {
   "metadata": {
    "ExecuteTime": {
     "end_time": "2024-05-04T07:12:32.078906Z",
     "start_time": "2024-05-04T07:12:32.071297Z"
    }
   },
   "cell_type": "code",
   "source": "c.vertices()",
   "id": "7d850e14b28614de",
   "outputs": [
    {
     "data": {
      "text/plain": [
       "array([[[-1.09339157, -0.05570947, -1.09945945, -0.13949959,\n",
       "          0.76180344],\n",
       "        [-0.71850734,  1.41897674, -0.04368329,  0.04951572,\n",
       "         -0.23245784],\n",
       "        [ 0.52294593, -1.66958524,  0.21220995,  0.63077788,\n",
       "         -1.20341585],\n",
       "        [-0.36083429,  1.12797683, -0.75196499, -0.67847315,\n",
       "         -0.46731045]],\n",
       "\n",
       "       [[ 1.24797946, -0.10136017, -0.68942729, -0.4709564 ,\n",
       "          0.43289292],\n",
       "        [ 0.1641202 ,  0.17778304,  0.2825157 , -0.1605319 ,\n",
       "          0.77389963],\n",
       "        [-0.2211865 , -1.05962684, -0.15067392,  0.53626729,\n",
       "          0.62235003],\n",
       "        [-1.49650804,  0.74228548, -0.42473942,  0.11401305,\n",
       "         -1.04786836]],\n",
       "\n",
       "       [[ 1.37585486,  0.04120063, -1.3921501 ,  0.40755423,\n",
       "          0.80592876],\n",
       "        [-0.19594017,  0.20166782, -0.97877864, -1.99817797,\n",
       "         -0.51531589],\n",
       "        [-0.78746784,  0.43480311,  0.59210004, -1.8561321 ,\n",
       "         -0.32893349],\n",
       "        [-0.23711509,  0.86996393, -0.90367346, -1.49067626,\n",
       "          0.01602316]]])"
      ]
     },
     "execution_count": 5,
     "metadata": {},
     "output_type": "execute_result"
    }
   ],
   "execution_count": 5
  },
  {
   "metadata": {
    "ExecuteTime": {
     "end_time": "2024-05-04T07:13:02.189369Z",
     "start_time": "2024-05-04T07:13:02.183047Z"
    }
   },
   "cell_type": "code",
   "source": "c.betti_numbers()",
   "id": "12b0b50166aff68c",
   "outputs": [
    {
     "data": {
      "text/plain": [
       "[1, 0, 0, 0]"
      ]
     },
     "execution_count": 6,
     "metadata": {},
     "output_type": "execute_result"
    }
   ],
   "execution_count": 6
  },
  {
   "metadata": {
    "ExecuteTime": {
     "end_time": "2024-05-04T08:19:05.823768Z",
     "start_time": "2024-05-04T08:18:58.867978Z"
    }
   },
   "cell_type": "code",
   "source": [
    "# Example from README\n",
    "from nn.loss.ph import PQLoss\n",
    "import torch, numpy as np, matplotlib.pyplot as plt\n",
    "\n",
    "# random pointcloud\n",
    "np.random.seed(0)\n",
    "data = np.random.rand(1, 100, 2)\n",
    "\n",
    "# optimization to increase size of holes\n",
    "x = torch.autograd.Variable(torch.tensor(data).type(torch.float), requires_grad=True)\n",
    "f1 = PQLoss(2, 0)\n",
    "optimizer = torch.optim.Adam([x], lr=1e-2)\n",
    "for i in range(100):\n",
    "    optimizer.zero_grad()\n",
    "    loss = -f1(x)\n",
    "    loss.backward()\n",
    "    optimizer.step()"
   ],
   "id": "f5ae09125fca0170",
   "outputs": [],
   "execution_count": 1
  },
  {
   "metadata": {
    "ExecuteTime": {
     "end_time": "2024-05-04T08:19:37.326188Z",
     "start_time": "2024-05-04T08:19:36.970143Z"
    }
   },
   "cell_type": "code",
   "source": [
    "# save figure\n",
    "import matplotlib as mpl\n",
    "mpl.rcParams.update(mpl.rcParamsDefault)\n",
    "\n",
    "y = x[0].detach().numpy()\n",
    "fig, ax = plt.subplots(ncols=2, figsize=(10,5))\n",
    "ax[0].scatter(data[0, :,0], data[0, :,1])\n",
    "ax[0].set_title(\"Before\")\n",
    "ax[1].scatter(y[:,0], y[:,1])\n",
    "ax[1].set_title(\"After\")\n",
    "for i in range(2):\n",
    "    ax[i].set_yticklabels([])\n",
    "    ax[i].set_xticklabels([])\n",
    "    ax[i].tick_params(bottom=False, left=False)\n",
    "plt.savefig('holes.png')"
   ],
   "id": "a1ffd991c0745ad7",
   "outputs": [],
   "execution_count": 3
  },
  {
   "metadata": {
    "ExecuteTime": {
     "end_time": "2024-05-04T08:23:09.234949Z",
     "start_time": "2024-05-04T08:23:07.861693Z"
    }
   },
   "cell_type": "code",
   "source": [
    "# Example from README\n",
    "from nn.loss.ph import PQLoss\n",
    "import torch, numpy as np, matplotlib.pyplot as plt\n",
    "\n",
    "# random pointcloud\n",
    "np.random.seed(0)\n",
    "data = np.random.rand(1, 100, 2)\n",
    "\n",
    "# optimization to increase size of holes\n",
    "x = torch.autograd.Variable(torch.tensor(data).type(torch.float), requires_grad=True)\n",
    "f1 = PQLoss(2, 1)\n",
    "optimizer = torch.optim.Adam([x], lr=1e-2)\n",
    "for i in range(100):\n",
    "    optimizer.zero_grad()\n",
    "    loss = -f1(x)\n",
    "    loss.backward()\n",
    "    optimizer.step()\n",
    "    \n",
    "y = x[0].detach().numpy()\n",
    "fig, ax = plt.subplots(ncols=2, figsize=(10,5))\n",
    "ax[0].scatter(data[0, :,0], data[0, :,1])\n",
    "ax[0].set_title(\"Before\")\n",
    "ax[1].scatter(y[:,0], y[:,1])\n",
    "ax[1].set_title(\"After\")\n",
    "for i in range(2):\n",
    "    ax[i].set_yticklabels([])\n",
    "    ax[i].set_xticklabels([])\n",
    "    ax[i].tick_params(bottom=False, left=False)\n",
    "plt.savefig('holes1.png')"
   ],
   "id": "aa342521b2e89946",
   "outputs": [],
   "execution_count": 4
  },
  {
   "metadata": {
    "ExecuteTime": {
     "end_time": "2024-05-04T08:23:34.339067Z",
     "start_time": "2024-05-04T08:23:33.040622Z"
    }
   },
   "cell_type": "code",
   "source": [
    "# Example from README\n",
    "from nn.loss.ph import PQLoss\n",
    "import torch, numpy as np, matplotlib.pyplot as plt\n",
    "\n",
    "# random pointcloud\n",
    "np.random.seed(0)\n",
    "data = np.random.rand(1, 100, 2)\n",
    "\n",
    "# optimization to increase size of holes\n",
    "x = torch.autograd.Variable(torch.tensor(data).type(torch.float), requires_grad=True)\n",
    "f1 = PQLoss(4, 2)\n",
    "optimizer = torch.optim.Adam([x], lr=1e-2)\n",
    "for i in range(100):\n",
    "    optimizer.zero_grad()\n",
    "    loss = -f1(x)\n",
    "    loss.backward()\n",
    "    optimizer.step()\n",
    "    \n",
    "y = x[0].detach().numpy()\n",
    "fig, ax = plt.subplots(ncols=2, figsize=(10,5))\n",
    "ax[0].scatter(data[0, :,0], data[0, :,1])\n",
    "ax[0].set_title(\"Before\")\n",
    "ax[1].scatter(y[:,0], y[:,1])\n",
    "ax[1].set_title(\"After\")\n",
    "for i in range(2):\n",
    "    ax[i].set_yticklabels([])\n",
    "    ax[i].set_xticklabels([])\n",
    "    ax[i].tick_params(bottom=False, left=False)\n",
    "plt.savefig('holes2.png')"
   ],
   "id": "113c02ba4b8585d8",
   "outputs": [],
   "execution_count": 5
  },
  {
   "metadata": {
    "ExecuteTime": {
     "end_time": "2024-05-04T08:24:09.592318Z",
     "start_time": "2024-05-04T08:24:08.368588Z"
    }
   },
   "cell_type": "code",
   "source": [
    "# Example from README\n",
    "from nn.loss.ph import PQLoss\n",
    "import torch, numpy as np, matplotlib.pyplot as plt\n",
    "\n",
    "# random pointcloud\n",
    "np.random.seed(0)\n",
    "data = np.random.rand(1, 100, 2)\n",
    "\n",
    "# optimization to increase size of holes\n",
    "x = torch.autograd.Variable(torch.tensor(data).type(torch.float), requires_grad=True)\n",
    "f1 = PQLoss(0, 2)\n",
    "optimizer = torch.optim.Adam([x], lr=1e-2)\n",
    "for i in range(100):\n",
    "    optimizer.zero_grad()\n",
    "    loss = -f1(x)\n",
    "    loss.backward()\n",
    "    optimizer.step()\n",
    "    \n",
    "y = x[0].detach().numpy()\n",
    "fig, ax = plt.subplots(ncols=2, figsize=(10,5))\n",
    "ax[0].scatter(data[0, :,0], data[0, :,1])\n",
    "ax[0].set_title(\"Before\")\n",
    "ax[1].scatter(y[:,0], y[:,1])\n",
    "ax[1].set_title(\"After\")\n",
    "for i in range(2):\n",
    "    ax[i].set_yticklabels([])\n",
    "    ax[i].set_xticklabels([])\n",
    "    ax[i].tick_params(bottom=False, left=False)\n",
    "plt.savefig('holes3.png')"
   ],
   "id": "1ce3ef8d46c35cdf",
   "outputs": [],
   "execution_count": 6
  },
  {
   "metadata": {
    "ExecuteTime": {
     "end_time": "2024-05-04T08:30:45.357833Z",
     "start_time": "2024-05-04T08:30:44.211078Z"
    }
   },
   "cell_type": "code",
   "source": [
    "ax = fig.add_subplot(projection='3d')\n",
    "\n",
    "# Example from README\n",
    "from nn.loss.ph import PQLoss\n",
    "import torch, numpy as np, matplotlib.pyplot as plt\n",
    "\n",
    "# random pointcloud\n",
    "np.random.seed(0)\n",
    "data = np.random.randn(1, 100, 3)\n",
    "\n",
    "# optimization to increase size of holes\n",
    "x = torch.autograd.Variable(torch.tensor(data).type(torch.float), requires_grad=True)\n",
    "f1 = PQLoss(2, 0)\n",
    "optimizer = torch.optim.Adam([x], lr=1e-2)\n",
    "for i in range(100):\n",
    "    optimizer.zero_grad()\n",
    "    loss = -f1(x)\n",
    "    loss.backward()\n",
    "    optimizer.step()"
   ],
   "id": "815aaed4ca2b075e",
   "outputs": [],
   "execution_count": 10
  },
  {
   "metadata": {
    "ExecuteTime": {
     "end_time": "2024-05-04T08:30:50.382429Z",
     "start_time": "2024-05-04T08:30:50.041577Z"
    }
   },
   "cell_type": "code",
   "source": [
    "y = x[0].detach().numpy()\n",
    "fig = plt.figure(figsize=(10,5))\n",
    "\n",
    "ax = fig.add_subplot(1, 2, 1, projection='3d')\n",
    "ax.scatter(data[0, :,0], data[0, :,1])\n",
    "ax.set_title(\"Before\")\n",
    "ax.set_yticklabels([])\n",
    "ax.set_xticklabels([])\n",
    "ax.tick_params(bottom=False, left=False)\n",
    "\n",
    "ax = fig.add_subplot(1, 2, 2, projection='3d')\n",
    "ax.scatter(y[:,0], y[:,1])\n",
    "ax.set_title(\"After\")\n",
    "ax.set_yticklabels([])\n",
    "ax.set_xticklabels([])\n",
    "ax.tick_params(bottom=False, left=False)\n",
    "\n",
    "plt.savefig('holes5.png')"
   ],
   "id": "8530a9b29015803b",
   "outputs": [],
   "execution_count": 11
  },
  {
   "metadata": {
    "ExecuteTime": {
     "end_time": "2024-05-04T08:33:54.815319Z",
     "start_time": "2024-05-04T08:33:54.810125Z"
    }
   },
   "cell_type": "code",
   "source": "f1.right",
   "id": "2b938e4e32e973ef",
   "outputs": [
    {
     "data": {
      "text/plain": [
       "0"
      ]
     },
     "execution_count": 13,
     "metadata": {},
     "output_type": "execute_result"
    }
   ],
   "execution_count": 13
  }
 ],
 "metadata": {
  "kernelspec": {
   "display_name": "Python 3",
   "language": "python",
   "name": "python3"
  },
  "language_info": {
   "codemirror_mode": {
    "name": "ipython",
    "version": 2
   },
   "file_extension": ".py",
   "mimetype": "text/x-python",
   "name": "python",
   "nbconvert_exporter": "python",
   "pygments_lexer": "ipython2",
   "version": "2.7.6"
  }
 },
 "nbformat": 4,
 "nbformat_minor": 5
}
