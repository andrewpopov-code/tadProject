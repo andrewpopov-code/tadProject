{
 "cells": [
  {
   "cell_type": "code",
   "execution_count": 1,
   "id": "initial_id",
   "metadata": {
    "collapsed": true,
    "ExecuteTime": {
     "end_time": "2024-04-13T06:28:46.439525Z",
     "start_time": "2024-04-13T06:28:41.204857Z"
    }
   },
   "source": [
    "import matplotlib.pyplot as plt\n",
    "import numpy as np\n",
    "from ripser import ripser\n",
    "from persim import plot_diagrams\n",
    "\n",
    "data = np.random.random((100,2))\n",
    "diagrams = ripser(data)['dgms']\n",
    "plot_diagrams(diagrams, show=True)"
   ],
   "outputs": []
  },
  {
   "cell_type": "code",
   "execution_count": 3,
   "source": [
    "ripser(data)"
   ],
   "metadata": {
    "collapsed": false,
    "ExecuteTime": {
     "end_time": "2024-04-13T06:31:35.117367Z",
     "start_time": "2024-04-13T06:31:35.099379Z"
    }
   },
   "id": "4ea358ad0fa9ee9b",
   "outputs": []
  },
  {
   "cell_type": "code",
   "execution_count": 4,
   "source": [
    "import numpy as np\n",
    "from ripser import Rips\n",
    "\n",
    "rips = Rips()\n",
    "data = np.random.random((100,2))\n",
    "diagrams = rips.fit_transform(data)\n",
    "rips.plot(diagrams)"
   ],
   "metadata": {
    "collapsed": false,
    "ExecuteTime": {
     "end_time": "2024-04-13T06:33:58.094081Z",
     "start_time": "2024-04-13T06:33:57.571253Z"
    }
   },
   "id": "75bbab02c17d9038",
   "outputs": []
  },
  {
   "cell_type": "code",
   "execution_count": 5,
   "source": [
    "import matplotlib.pyplot as plt\n",
    "fig = plt.figure()\n",
    "plot_diagrams(diagrams)"
   ],
   "metadata": {
    "collapsed": false,
    "ExecuteTime": {
     "end_time": "2024-04-13T06:41:02.573032Z",
     "start_time": "2024-04-13T06:41:02.286469Z"
    }
   },
   "id": "794d637a245ae145",
   "outputs": []
  },
  {
   "cell_type": "code",
   "execution_count": 6,
   "source": [
    "fig"
   ],
   "metadata": {
    "collapsed": false,
    "ExecuteTime": {
     "end_time": "2024-04-13T06:41:05.559119Z",
     "start_time": "2024-04-13T06:41:05.359834Z"
    }
   },
   "id": "e182f07412d6e0ee",
   "outputs": []
  }
 ],
 "metadata": {
  "kernelspec": {
   "display_name": "Python 3",
   "language": "python",
   "name": "python3"
  },
  "language_info": {
   "codemirror_mode": {
    "name": "ipython",
    "version": 2
   },
   "file_extension": ".py",
   "mimetype": "text/x-python",
   "name": "python",
   "nbconvert_exporter": "python",
   "pygments_lexer": "ipython2",
   "version": "2.7.6"
  }
 },
 "nbformat": 4,
 "nbformat_minor": 5
}
